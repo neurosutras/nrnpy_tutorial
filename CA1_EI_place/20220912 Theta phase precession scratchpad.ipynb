{
 "cells": [
  {
   "cell_type": "code",
   "execution_count": null,
   "id": "dbc806b6",
   "metadata": {},
   "outputs": [],
   "source": [
    "%matplotlib notebook\n",
    "import numpy as np\n",
    "import matplotlib.pyplot as plt\n",
    "import scipy.signal"
   ]
  },
  {
   "cell_type": "markdown",
   "id": "efdb786c",
   "metadata": {},
   "source": [
    "We want to be able to take a noisy LFP or intracellular Vm trace, band-pass filter it in the theta band (4 - 10 Hz),<br>\n",
    "and analyze the phase and amplitude of theta at each time point.<br>\n",
    "<br>\n",
    "Eventually, we want to take the intracellular Vm of a hippocampal place cell, and assign theta phase to spikes.<br>\n",
    "We can also do this with the peaks of the theta-filtered intracellular Vm.<br>\n",
    "If the phase of these spikes or Vm peaks changes with time or spatial position - this is phase precession!"
   ]
  },
  {
   "cell_type": "code",
   "execution_count": null,
   "id": "73160791",
   "metadata": {},
   "outputs": [],
   "source": [
    "duration = 10000. # ms\n",
    "dt = 1  # ms\n",
    "t = np.arange(0., duration, dt)\n",
    "\n",
    "freq = 7 # Hz"
   ]
  },
  {
   "cell_type": "markdown",
   "id": "cc43033f",
   "metadata": {},
   "source": [
    "For a given input signal (e.g. an oscillating CA3 input or local PV inhibitory interneuron), we want to be able to <br>\n",
    "independently control:<br>\n",
    "i) the peak amplitude (e.g. firing rate)<br>\n",
    "ii) the \"depth\" of the oscillation, or (peak - trough) / peak<br>\n",
    "iii) the phase of the oscillation peak relative to some reference oscillation"
   ]
  },
  {
   "cell_type": "code",
   "execution_count": null,
   "id": "53554770",
   "metadata": {},
   "outputs": [],
   "source": [
    "amplitude = 10.\n",
    "theta_depth = 0.8\n",
    "phase_offset = 0\n",
    "\n",
    "trace = amplitude * (theta_depth * (np.cos(2. * np.pi * freq * t / 1000. + phase_offset) + 1.) / 2. + (1 - theta_depth))"
   ]
  },
  {
   "cell_type": "code",
   "execution_count": null,
   "id": "01ee3a0e",
   "metadata": {},
   "outputs": [],
   "source": [
    "plt.figure()\n",
    "plt.plot(t, trace)\n",
    "ylim = plt.ylim()\n",
    "plt.ylim(0., ylim[1])\n",
    "plt.ylabel('Firing rate (Hz)')\n",
    "plt.xlabel('Time (ms)')"
   ]
  },
  {
   "cell_type": "markdown",
   "id": "e8b5b968",
   "metadata": {},
   "source": [
    "Here is the syntax for constructing a bandpass filter, using a sliding window of 2 second duration:"
   ]
  },
  {
   "cell_type": "code",
   "execution_count": null,
   "id": "2ce63ca9",
   "metadata": {},
   "outputs": [],
   "source": [
    "window_dur = 2. # sec\n",
    "window_len = int(window_dur * 1000 / dt)\n",
    "theta_filter = scipy.signal.firwin(window_len, [4., 10.], nyq=1000./2./dt, pass_zero=False)"
   ]
  },
  {
   "cell_type": "markdown",
   "id": "0e4c7fa3",
   "metadata": {},
   "source": [
    "We will attempt to filter the signal in three ways. First we will try the naive way, with no signal padding:"
   ]
  },
  {
   "cell_type": "code",
   "execution_count": null,
   "id": "7d43cf5c",
   "metadata": {},
   "outputs": [],
   "source": [
    "un_padded_filtered_trace = scipy.signal.filtfilt(theta_filter, [1.], trace, padtype=None)"
   ]
  },
  {
   "cell_type": "markdown",
   "id": "33eb798b",
   "metadata": {},
   "source": [
    "Band-pass filtered traces are returned with zero mean, so we need to subtract the mean from our<br> \n",
    "original trace to superimpose them."
   ]
  },
  {
   "cell_type": "code",
   "execution_count": null,
   "id": "7ec10268",
   "metadata": {
    "scrolled": false
   },
   "outputs": [],
   "source": [
    "mean_subtracted_trace = trace - np.mean(trace)\n",
    "\n",
    "plt.figure()\n",
    "plt.plot(t, mean_subtracted_trace)\n",
    "plt.plot(t, un_padded_filtered_trace)\n",
    "plt.ylabel('Amplitude')\n",
    "plt.xlabel('Time (ms)')"
   ]
  },
  {
   "cell_type": "markdown",
   "id": "090958fc",
   "metadata": {},
   "source": [
    "This produces a bad edge artifact, as the window slides past the end of the trace.<br>\n",
    "<br>\n",
    "Now let's try three alternative methods to \"pad\" the start and ends of the trace.<br>\n",
    "The 'odd' method is a 180 degree \"rotation\" of the trace around start (and end) point. This is the scipy default.<br>\n",
    "The 'even' method is to \"mirror\" the trace on both ends (reflect about the y-axis).<br>\n",
    "The 'gust' method attemps to find edge padding that makes the forward and backwards filters return the same result."
   ]
  },
  {
   "cell_type": "code",
   "execution_count": null,
   "id": "78bd847e",
   "metadata": {},
   "outputs": [],
   "source": [
    "pad_len = int(window_len)\n",
    "even_padded_filtered_trace = scipy.signal.filtfilt(theta_filter, [1.], trace, padtype='even', padlen=pad_len)\n",
    "\n",
    "plt.figure()\n",
    "plt.plot(t, mean_subtracted_trace, '--', label='original', zorder=1)\n",
    "plt.plot(t, even_padded_filtered_trace, label='even filtered', zorder=0)\n",
    "plt.ylabel('Amplitude')\n",
    "plt.xlabel('Time (ms)')\n",
    "plt.legend(frameon=False, bbox_to_anchor=(1.05, 1), loc='upper left')\n",
    "plt.tight_layout()"
   ]
  },
  {
   "cell_type": "code",
   "execution_count": null,
   "id": "6a016125",
   "metadata": {},
   "outputs": [],
   "source": [
    "odd_padded_filtered_trace = scipy.signal.filtfilt(theta_filter, [1.], trace, padtype='odd', padlen=pad_len)\n",
    "gust_method_filtered_trace = scipy.signal.filtfilt(theta_filter, [1.], trace, method='gust')"
   ]
  },
  {
   "cell_type": "code",
   "execution_count": null,
   "id": "974cdcd2",
   "metadata": {},
   "outputs": [],
   "source": [
    "plt.figure()\n",
    "plt.plot(t, mean_subtracted_trace, '--', label='original', zorder=1)\n",
    "plt.plot(t, odd_padded_filtered_trace, label='odd filtered', zorder=0)\n",
    "plt.plot(t, even_padded_filtered_trace, label='even filtered', zorder=0)\n",
    "plt.plot(t, gust_method_filtered_trace, label='gust filtered', zorder=0)\n",
    "plt.ylabel('Amplitude')\n",
    "plt.xlabel('Time (ms)')\n",
    "plt.legend(frameon=False, bbox_to_anchor=(1.05, 1), loc='upper left')\n",
    "plt.tight_layout()"
   ]
  },
  {
   "cell_type": "markdown",
   "id": "ffd442fd",
   "metadata": {},
   "source": [
    "We can also analyze the residual error between the filtered traces and the original trace."
   ]
  },
  {
   "cell_type": "code",
   "execution_count": null,
   "id": "40976be7",
   "metadata": {},
   "outputs": [],
   "source": [
    "plt.figure()\n",
    "plt.plot(t, np.subtract(odd_padded_filtered_trace, mean_subtracted_trace), label='odd filtered')\n",
    "plt.plot(t, np.subtract(even_padded_filtered_trace, mean_subtracted_trace), label='even filtered')\n",
    "plt.plot(t, np.subtract(gust_method_filtered_trace, mean_subtracted_trace), label='gust filtered')\n",
    "plt.ylabel('Residual error')\n",
    "plt.xlabel('Time (ms)')\n",
    "plt.legend(frameon=False, bbox_to_anchor=(1.05, 1), loc='upper left')\n",
    "plt.tight_layout()"
   ]
  },
  {
   "cell_type": "code",
   "execution_count": null,
   "id": "048c2ab6",
   "metadata": {},
   "outputs": [],
   "source": [
    "print('odd filtered:', np.sum(np.abs(np.subtract(odd_padded_filtered_trace, mean_subtracted_trace))))\n",
    "print('even filtered:', np.sum(np.abs(np.subtract(even_padded_filtered_trace, mean_subtracted_trace))))\n",
    "print('gust filtered:', np.sum(np.abs(np.subtract(gust_method_filtered_trace, mean_subtracted_trace))))"
   ]
  },
  {
   "cell_type": "markdown",
   "id": "d71000fb",
   "metadata": {},
   "source": [
    "It appears that mirror-padding ('even' padtype) produces the smallest amplitude edge artifact."
   ]
  },
  {
   "cell_type": "markdown",
   "id": "481b8a7c",
   "metadata": {},
   "source": [
    "Now we want to take an oscillating band-pass filtered signal as a reference (like an LFP), and assign an<br>\n",
    "oscillation phase (or angle) to each time point. We can use the Hilbert transformation for this.<br>\n",
    "The input to the Hilbert transformation should be a mean subtracted signal. Our filter output<br>\n",
    "should already meet this criterion:"
   ]
  },
  {
   "cell_type": "code",
   "execution_count": null,
   "id": "865114ac",
   "metadata": {
    "scrolled": false
   },
   "outputs": [],
   "source": [
    "reference = even_padded_filtered_trace\n",
    "signal = scipy.signal.hilbert(reference)\n",
    "envelope = np.abs(signal)\n",
    "phase = np.angle(signal)\n",
    "\n",
    "plt.figure()\n",
    "plt.plot(t, signal, label='signal')\n",
    "plt.plot(t, envelope, label='envelope')        \n",
    "plt.xlabel('Time (ms)')\n",
    "plt.ylabel('Amplitude')\n",
    "\n",
    "plt.figure()\n",
    "plt.plot(t, phase)\n",
    "plt.ylabel('Angle (rads)')\n",
    "plt.xlabel('Time (ms)')"
   ]
  },
  {
   "cell_type": "markdown",
   "id": "518f9034",
   "metadata": {},
   "source": [
    "This phase ranges from -pi to +pi. We could also convert it to be between 0 and 360 degrees:"
   ]
  },
  {
   "cell_type": "code",
   "execution_count": null,
   "id": "589bb5c9",
   "metadata": {},
   "outputs": [],
   "source": [
    "phase_degrees = 360. / 2. / np.pi * (phase + np.pi)\n",
    "\n",
    "plt.figure()\n",
    "plt.plot(t, phase_degrees)\n",
    "plt.ylabel('Angle (degrees)')\n",
    "plt.xlabel('Time (ms)')"
   ]
  },
  {
   "cell_type": "markdown",
   "id": "89f2795d",
   "metadata": {},
   "source": [
    "Now let's consider the above phase vs. time to be our reference (like an LFP).<br>\n",
    "Now let's consider a recording of intracellular Vm - we want to take the peaks of the oscillation and determine<br>\n",
    "their phase with respect to the reference (LFP) oscillation."
   ]
  },
  {
   "cell_type": "code",
   "execution_count": null,
   "id": "37b9b419",
   "metadata": {},
   "outputs": [],
   "source": [
    "def get_osc(t, freq, depth, phase_offset):\n",
    "    return depth * (np.cos(2. * np.pi * freq * t / 1000. - phase_offset) + 1.) / 2. + (1 - depth)"
   ]
  },
  {
   "cell_type": "code",
   "execution_count": null,
   "id": "36d964e1",
   "metadata": {},
   "outputs": [],
   "source": [
    "theta_Vm = get_osc(t, 7., 1., np.pi / 2)\n",
    "\n",
    "plt.figure()\n",
    "plt.plot(t, theta_Vm)\n",
    "plt.ylabel('Amplitude')\n",
    "plt.xlabel('Time (ms)')"
   ]
  },
  {
   "cell_type": "markdown",
   "id": "ffae8307",
   "metadata": {},
   "source": [
    "We can use the scipy method find_peaks to find the locations of relative local peaks in our trace."
   ]
  },
  {
   "cell_type": "code",
   "execution_count": null,
   "id": "33165159",
   "metadata": {},
   "outputs": [],
   "source": [
    "peak_indexes = scipy.signal.find_peaks(theta_Vm)"
   ]
  },
  {
   "cell_type": "code",
   "execution_count": null,
   "id": "e65e8c91",
   "metadata": {},
   "outputs": [],
   "source": [
    "type(peak_indexes), len(peak_indexes[0])"
   ]
  },
  {
   "cell_type": "markdown",
   "id": "3a631be9",
   "metadata": {},
   "source": [
    "Each element in this returned tuple corresponds to 1 axis. The first (and only) axis here contained 70 peaks."
   ]
  },
  {
   "cell_type": "code",
   "execution_count": null,
   "id": "50c832ba",
   "metadata": {},
   "outputs": [],
   "source": [
    "plt.figure()\n",
    "plt.plot(t, theta_Vm)\n",
    "plt.plot(t[peak_indexes[0]], theta_Vm[peak_indexes[0]], '.')\n",
    "plt.ylabel('Amplitude')\n",
    "plt.xlabel('Time (ms)')"
   ]
  },
  {
   "cell_type": "markdown",
   "id": "64d5b478",
   "metadata": {},
   "source": [
    "Now we can look up the reference theta phase of these intracellular Vm peaks:"
   ]
  },
  {
   "cell_type": "code",
   "execution_count": null,
   "id": "f5e2c9d3",
   "metadata": {},
   "outputs": [],
   "source": [
    "plt.figure()\n",
    "plt.plot(t[peak_indexes[0]], phase_degrees[peak_indexes[0]], '.')\n",
    "plt.ylabel('Theta phase (degrees)')\n",
    "plt.xlabel('Time (ms)')\n",
    "plt.ylim(0., 360.)"
   ]
  },
  {
   "cell_type": "markdown",
   "id": "0eb46dd7",
   "metadata": {},
   "source": [
    "This shows that our method can correctly report the offset phase of a signal that is a constant oscillation<br>\n",
    "at the same frequency as the reference.<br>\n",
    "<br>\n",
    "What about a signal that is oscillating slightly faster than the reference?"
   ]
  },
  {
   "cell_type": "code",
   "execution_count": null,
   "id": "82c2cfe0",
   "metadata": {},
   "outputs": [],
   "source": [
    "theta_Vm = get_osc(t, 7.2, 1., 0.)\n",
    "peak_indexes = scipy.signal.find_peaks(theta_Vm)\n",
    "\n",
    "plt.figure()\n",
    "plt.plot(t[peak_indexes[0]], phase_degrees[peak_indexes[0]], '.')\n",
    "plt.ylabel('Theta phase (degrees)')\n",
    "plt.xlabel('Time (ms)')\n",
    "plt.ylim(0., 360.)"
   ]
  },
  {
   "cell_type": "markdown",
   "id": "8daedd5d",
   "metadata": {},
   "source": [
    "That looks like phase precession! Except this is for a non-place cell that has a constant mean rate."
   ]
  },
  {
   "cell_type": "markdown",
   "id": "d2d733be",
   "metadata": {},
   "source": [
    "What about a place cell with intracellular Vm that has both a slow spatial ramp depolarization and a theta oscillation?"
   ]
  },
  {
   "cell_type": "code",
   "execution_count": null,
   "id": "3abfcda7",
   "metadata": {},
   "outputs": [],
   "source": [
    "velocity = 20.  # cm / s\n",
    "position = t / 1000. * velocity\n",
    "\n",
    "def get_gaussian_rate(x, peak_loc, width, wrap=False):\n",
    "    if wrap:\n",
    "        dx = x[1] - x[0]\n",
    "        length = dx * len(x)\n",
    "        extended_x = np.concatenate([x - length, x, x + length])\n",
    "    else:\n",
    "        extended_x = x\n",
    "    sigma = width / 3. / np.sqrt(2.)\n",
    "    extended_rate = np.exp(-((extended_x - peak_loc) / sigma) ** 2)\n",
    "    if wrap:\n",
    "        rate = np.maximum(extended_rate[:len(x)], extended_rate[len(x):-len(x)])\n",
    "        rate = np.maximum(rate, extended_rate[-len(x):])\n",
    "    else:\n",
    "        rate = extended_rate\n",
    "    return rate"
   ]
  },
  {
   "cell_type": "code",
   "execution_count": null,
   "id": "0c6b96b4",
   "metadata": {},
   "outputs": [],
   "source": [
    "place_field = get_gaussian_rate(position, 100., 60.)\n",
    "\n",
    "plt.figure()\n",
    "plt.plot(position, place_field)\n",
    "plt.ylabel('Amplitude')\n",
    "plt.xlabel('Position (cm)')"
   ]
  },
  {
   "cell_type": "markdown",
   "id": "5b9751dc",
   "metadata": {},
   "source": [
    "Now we can multiply this spatial rate by a temporal theta modulation factor:"
   ]
  },
  {
   "cell_type": "code",
   "execution_count": null,
   "id": "bb359abb",
   "metadata": {},
   "outputs": [],
   "source": [
    "place_cell_theta = get_osc(t, 7., 0.7, 0.)\n",
    "\n",
    "place_cell_rate = place_cell_theta * place_field\n",
    "\n",
    "theta_filtered_trace = scipy.signal.filtfilt(theta_filter, [1.], place_cell_rate, padtype='even', padlen=pad_len)\n",
    "\n",
    "peak_indexes = scipy.signal.find_peaks(theta_filtered_trace, height=0.001)\n",
    "\n",
    "normalized_reference = 0.5 * reference / np.max(reference) + 0.5\n",
    "\n",
    "plt.figure()\n",
    "plt.plot(t, normalized_reference, label='reference')\n",
    "plt.plot(t, place_cell_rate, label='Vm')\n",
    "plt.plot(t, theta_filtered_trace, label='theta Vm')\n",
    "ylim = plt.ylim()\n",
    "plt.vlines(t[peak_indexes[0]], ymin=ylim[0], ymax=ylim[1], color='grey', linestyle='dashed', alpha=0.5)\n",
    "plt.ylim(ylim)\n",
    "plt.ylabel('Amplitude')\n",
    "plt.xlabel('Time (ms)')\n",
    "plt.legend(frameon=False, bbox_to_anchor=(1.05, 1), loc='upper left')\n",
    "plt.tight_layout()"
   ]
  },
  {
   "cell_type": "markdown",
   "id": "bab9414a",
   "metadata": {},
   "source": [
    "It appears that every one of the peaks of the theta-filtered Vm is aligned to the peaks of the reference."
   ]
  },
  {
   "cell_type": "code",
   "execution_count": null,
   "id": "221adab5",
   "metadata": {
    "scrolled": false
   },
   "outputs": [],
   "source": [
    "plt.figure()\n",
    "plt.plot(t[peak_indexes[0]], phase_degrees[peak_indexes[0]], '.')\n",
    "plt.ylabel('Theta phase (degrees)')\n",
    "plt.xlabel('Time (ms)')\n",
    "plt.ylim(0., 360.)\n",
    "plt.xlim(0., duration)"
   ]
  },
  {
   "cell_type": "markdown",
   "id": "e2fbb284",
   "metadata": {},
   "source": [
    "There is very little phase precession, mostly due to a slight warping of the oscillation by the spatial ramp.<br>\n",
    "<br>\n",
    "What if the Vm was oscillating slightly faster than the reference?"
   ]
  },
  {
   "cell_type": "code",
   "execution_count": null,
   "id": "aa2b38b6",
   "metadata": {},
   "outputs": [],
   "source": [
    "place_cell_theta = get_osc(t, 7.2, 0.7, 0.)\n",
    "\n",
    "place_cell_rate = place_cell_theta * place_field\n",
    "\n",
    "theta_filtered_trace = scipy.signal.filtfilt(theta_filter, [1.], place_cell_rate, padtype='even', padlen=pad_len)\n",
    "\n",
    "peak_indexes = scipy.signal.find_peaks(theta_filtered_trace, height=0.001)\n",
    "\n",
    "normalized_reference = 0.5 * reference / np.max(reference) + 0.5\n",
    "\n",
    "plt.figure()\n",
    "plt.plot(t, normalized_reference, label='reference')\n",
    "plt.plot(t, place_cell_rate, label='Vm')\n",
    "plt.plot(t, theta_filtered_trace, label='theta Vm')\n",
    "ylim = plt.ylim()\n",
    "plt.vlines(t[peak_indexes[0]], ymin=ylim[0], ymax=ylim[1], color='grey', linestyle='dashed', alpha=0.5)\n",
    "plt.ylim(ylim)\n",
    "plt.ylabel('Amplitude')\n",
    "plt.xlabel('Time (ms)')\n",
    "plt.legend(frameon=False, bbox_to_anchor=(1.05, 1), loc='upper left')\n",
    "plt.tight_layout()"
   ]
  },
  {
   "cell_type": "code",
   "execution_count": null,
   "id": "f20cdab9",
   "metadata": {},
   "outputs": [],
   "source": [
    "plt.figure()\n",
    "plt.plot(t[peak_indexes[0]], phase_degrees[peak_indexes[0]], '.')\n",
    "plt.ylabel('Theta phase (degrees)')\n",
    "plt.xlabel('Time (ms)')\n",
    "plt.ylim(0., 360.)\n",
    "plt.xlim(0., duration)"
   ]
  },
  {
   "cell_type": "code",
   "execution_count": null,
   "id": "1f2c63a7",
   "metadata": {},
   "outputs": [],
   "source": [
    "pop_size = 200\n",
    "track_length = duration / 1000. * velocity\n",
    "field_width = 60.  # cm\n",
    "\n",
    "peak_locs = np.linspace(-track_length/2., track_length + track_length / 2., pop_size)\n",
    "\n",
    "input_spatial_rates = np.empty((pop_size, len(position)))\n",
    "for i, peak_loc in enumerate(peak_locs):\n",
    "    input_spatial_rates[i,:] = get_gaussian_rate(position, peak_loc, field_width)"
   ]
  },
  {
   "cell_type": "code",
   "execution_count": null,
   "id": "909a61b1",
   "metadata": {},
   "outputs": [],
   "source": [
    "plt.figure()\n",
    "plt.imshow(input_spatial_rates, aspect='auto', extent=(0., track_length, pop_size, 0))\n",
    "plt.xlabel('Position (cm)')\n",
    "plt.ylabel('Input cell ID')"
   ]
  },
  {
   "cell_type": "code",
   "execution_count": null,
   "id": "655cb104",
   "metadata": {},
   "outputs": [],
   "source": [
    "L = field_width / velocity\n",
    "intra_freq = freq + 1. / L\n",
    "c = 1. / (L * intra_freq)\n",
    "tau_offsets = c * peak_locs / velocity\n",
    "\n",
    "phase_offsets = 2. * np.pi * intra_freq * tau_offsets\n",
    "\n",
    "# phase_offsets = peak_locs / velocity * 2. * np.pi * freq / (field_width / velocity) / intra_freq\n",
    "\n",
    "plt.figure()\n",
    "plt.plot(peak_locs / velocity, phase_offsets)"
   ]
  },
  {
   "cell_type": "code",
   "execution_count": null,
   "id": "07552aaf",
   "metadata": {},
   "outputs": [],
   "source": [
    "print(T)\n",
    "print(intra_freq)\n",
    "print(c)"
   ]
  },
  {
   "cell_type": "code",
   "execution_count": null,
   "id": "7b0108b2",
   "metadata": {},
   "outputs": [],
   "source": [
    "input_rates = np.empty((pop_size, len(position)))\n",
    "for i, peak_loc in enumerate(peak_locs):\n",
    "    this_intra_theta = get_osc(t, intra_freq, 1., phase_offsets[i])\n",
    "    input_rates[i,:] = input_spatial_rates[i,:] * this_intra_theta"
   ]
  },
  {
   "cell_type": "code",
   "execution_count": null,
   "id": "18be926a",
   "metadata": {},
   "outputs": [],
   "source": [
    "place_cell_rate = input_rates[100]\n",
    "\n",
    "theta_filtered_trace = scipy.signal.filtfilt(theta_filter, [1.], place_cell_rate, padtype='even', padlen=pad_len)\n",
    "\n",
    "peak_indexes = scipy.signal.find_peaks(theta_filtered_trace, height=0.001)\n",
    "\n",
    "normalized_reference = 0.5 * reference / np.max(reference) + 0.5\n",
    "\n",
    "plt.figure()\n",
    "plt.plot(t, normalized_reference, label='reference')\n",
    "plt.plot(t, place_cell_rate, label='Vm')\n",
    "plt.plot(t, theta_filtered_trace, label='theta Vm')\n",
    "ylim = plt.ylim()\n",
    "plt.vlines(t[peak_indexes[0]], ymin=ylim[0], ymax=ylim[1], color='grey', linestyle='dashed', alpha=0.5)\n",
    "plt.ylim(ylim)\n",
    "plt.ylabel('Amplitude')\n",
    "plt.xlabel('Time (ms)')\n",
    "plt.legend(frameon=False, bbox_to_anchor=(1.05, 1), loc='upper left')\n",
    "plt.tight_layout()"
   ]
  },
  {
   "cell_type": "code",
   "execution_count": null,
   "id": "813252bf",
   "metadata": {},
   "outputs": [],
   "source": [
    "plt.figure()\n",
    "plt.plot(t[peak_indexes[0]], phase_degrees[peak_indexes[0]], '.')\n",
    "plt.ylabel('Theta phase (degrees)')\n",
    "plt.xlabel('Time (ms)')\n",
    "plt.ylim(0., 360.)\n",
    "plt.xlim(0., duration)"
   ]
  },
  {
   "cell_type": "code",
   "execution_count": null,
   "id": "ec7be5bc",
   "metadata": {},
   "outputs": [],
   "source": [
    "plt.figure()\n",
    "for i in range(0, pop_size, 5):\n",
    "    place_cell_rate = input_rates[i]\n",
    "    theta_filtered_trace = scipy.signal.filtfilt(theta_filter, [1.], place_cell_rate, padtype='even', padlen=pad_len)\n",
    "    peak_indexes = scipy.signal.find_peaks(theta_filtered_trace, height=0.001)\n",
    "    plt.plot(t[peak_indexes[0]], phase_degrees[peak_indexes[0]], '.')\n",
    "plt.ylabel('Theta phase (degrees)')\n",
    "plt.xlabel('Time (ms)')\n",
    "plt.ylim(0., 360.)\n",
    "plt.xlim(0., duration)"
   ]
  },
  {
   "cell_type": "code",
   "execution_count": null,
   "id": "c7d61bfe",
   "metadata": {},
   "outputs": [],
   "source": [
    "pop_rate_sum = np.sum(input_rates, axis=0)\n",
    "plt.figure()\n",
    "for i in range(0, pop_size, 5):\n",
    "    place_cell_rate = input_rates[i]\n",
    "    plt.plot(t, place_cell_rate)\n",
    "plt.plot(t, pop_rate_sum / np.max(pop_rate_sum))"
   ]
  },
  {
   "cell_type": "code",
   "execution_count": null,
   "id": "05fb65cc",
   "metadata": {},
   "outputs": [],
   "source": [
    "normalized_pop_rate_sum = pop_rate_sum - np.min(pop_rate_sum)\n",
    "normalized_pop_rate_sum /= np.max(normalized_pop_rate_sum)\n",
    "\n",
    "plt.figure()\n",
    "plt.plot(t, normalized_reference)\n",
    "plt.plot(t, normalized_pop_rate_sum, '--')"
   ]
  },
  {
   "cell_type": "code",
   "execution_count": null,
   "id": "c79a2809",
   "metadata": {},
   "outputs": [],
   "source": [
    "theta_filtered_pop_rate_sum = scipy.signal.filtfilt(theta_filter, [1.], pop_rate_sum, padtype='even', padlen=pad_len)\n",
    "\n",
    "peak_indexes = scipy.signal.find_peaks(pop_rate_sum, height=0.001)\n",
    "\n",
    "plt.figure()\n",
    "plt.plot(t[peak_indexes[0]], phase_degrees[peak_indexes[0]], '.')\n",
    "plt.ylabel('Theta phase (degrees)')\n",
    "plt.xlabel('Time (ms)')\n",
    "plt.ylim(0., 360.)\n",
    "plt.xlim(0., duration)"
   ]
  },
  {
   "cell_type": "code",
   "execution_count": null,
   "id": "49687594",
   "metadata": {},
   "outputs": [],
   "source": [
    "# building a place field in a CA1 cell by weighting the population of inputs from CA3\n",
    "target_peak_loc = 100  # cm\n",
    "weight = get_gaussian_rate(peak_locs, target_peak_loc, field_width)\n",
    "\n",
    "plt.figure()\n",
    "plt.scatter(peak_locs, weight)\n",
    "\n",
    "intra_Vm = weight.dot(input_rates)\n",
    "plt.figure()\n",
    "plt.plot(t, intra_Vm)\n",
    "\n",
    "theta_filtered_trace = scipy.signal.filtfilt(theta_filter, [1.], intra_Vm, padtype='even', padlen=pad_len)\n",
    "\n",
    "peak_indexes = scipy.signal.find_peaks(theta_filtered_trace, height=0.001)\n",
    "\n",
    "normalized_reference = 0.5 * reference / np.max(reference) + 0.5\n",
    "\n",
    "normalized_intra_Vm = intra_Vm / np.max(intra_Vm)\n",
    "\n",
    "plt.figure()\n",
    "plt.plot(t, normalized_reference, label='reference')\n",
    "plt.plot(t, normalized_intra_Vm, label='Vm')\n",
    "plt.plot(t, theta_filtered_trace, label='theta Vm')\n",
    "ylim = plt.ylim()\n",
    "plt.vlines(t[peak_indexes[0]], ymin=ylim[0], ymax=ylim[1], color='grey', linestyle='dashed', alpha=0.5)\n",
    "plt.ylim(ylim)\n",
    "plt.ylabel('Amplitude')\n",
    "plt.xlabel('Time (ms)')\n",
    "plt.legend(frameon=False, bbox_to_anchor=(1.05, 1), loc='upper left')\n",
    "plt.tight_layout()\n",
    "\n",
    "plt.figure()\n",
    "plt.plot(t[peak_indexes[0]], phase_degrees[peak_indexes[0]], '.')\n",
    "plt.ylabel('Theta phase (degrees)')\n",
    "plt.xlabel('Time (ms)')\n",
    "plt.ylim(0., 360.)\n",
    "plt.xlim(0., duration)"
   ]
  },
  {
   "cell_type": "code",
   "execution_count": null,
   "id": "bd285442",
   "metadata": {},
   "outputs": [],
   "source": []
  },
  {
   "cell_type": "code",
   "execution_count": null,
   "id": "5e069a6a",
   "metadata": {
    "scrolled": false
   },
   "outputs": [],
   "source": [
    "# building a place field in a CA1 cell by weighting the population of inputs from CA3\n",
    "target_peak_loc = 100  # cm\n",
    "weight = get_gaussian_rate(peak_locs, target_peak_loc, field_width) + 1\n",
    "\n",
    "plt.figure()\n",
    "plt.scatter(peak_locs, weight)\n",
    "\n",
    "intra_Vm = weight.dot(input_rates)\n",
    "\n",
    "no_inh_intra_Vm = intra_Vm\n",
    "plt.figure()\n",
    "plt.plot(t, intra_Vm)\n",
    "\n",
    "theta_filtered_trace = scipy.signal.filtfilt(theta_filter, [1.], intra_Vm, padtype='even', padlen=pad_len)\n",
    "\n",
    "peak_indexes = scipy.signal.find_peaks(theta_filtered_trace, height=0.001)\n",
    "\n",
    "normalized_reference = 0.5 * reference / np.max(reference) + 0.5\n",
    "\n",
    "normalized_intra_Vm = intra_Vm / np.max(intra_Vm)\n",
    "\n",
    "plt.figure()\n",
    "plt.plot(t, normalized_reference, label='reference')\n",
    "plt.plot(t, normalized_intra_Vm, label='Vm')\n",
    "plt.plot(t, theta_filtered_trace, label='theta Vm')\n",
    "ylim = plt.ylim()\n",
    "plt.vlines(t[peak_indexes[0]], ymin=ylim[0], ymax=ylim[1], color='grey', linestyle='dashed', alpha=0.5)\n",
    "plt.ylim(ylim)\n",
    "plt.ylabel('Amplitude')\n",
    "plt.xlabel('Time (ms)')\n",
    "plt.legend(frameon=False, bbox_to_anchor=(1.05, 1), loc='upper left')\n",
    "plt.tight_layout()\n",
    "\n",
    "no_inh_peak_indexes = peak_indexes\n",
    "\n",
    "plt.figure()\n",
    "plt.plot(t[peak_indexes[0]], phase_degrees[peak_indexes[0]], '.')\n",
    "plt.ylabel('Theta phase (degrees)')\n",
    "plt.xlabel('Time (ms)')\n",
    "plt.ylim(0., 360.)\n",
    "plt.xlim(0., duration)"
   ]
  },
  {
   "cell_type": "code",
   "execution_count": null,
   "id": "f6da617c",
   "metadata": {},
   "outputs": [],
   "source": [
    "population_phases = np.empty((pop_size, ))\n",
    "\n",
    "plt.figure()\n",
    "for i in range(0, pop_size, 5):\n",
    "    place_cell_rate = input_rates[i]\n",
    "    theta_filtered_trace = scipy.signal.filtfilt(theta_filter, [1.], place_cell_rate, padtype='even', padlen=pad_len)\n",
    "    peak_indexes = scipy.signal.find_peaks(theta_filtered_trace, height=0.001)\n",
    "    plt.plot(t[peak_indexes[0]], phase_degrees[peak_indexes[0]], '.')\n",
    "plt.ylabel('Theta phase (degrees)')\n",
    "plt.xlabel('Time (ms)')\n",
    "plt.ylim(0., 360.)\n",
    "plt.xlim(0., duration)"
   ]
  },
  {
   "cell_type": "code",
   "execution_count": null,
   "id": "83d59941",
   "metadata": {},
   "outputs": [],
   "source": [
    "phase_offset = 0.\n",
    "uniform_inh = get_osc(t, freq, 0.5, phase_offset)\n",
    "\n",
    "plt.figure()\n",
    "plt.plot(t, uniform_inh)"
   ]
  },
  {
   "cell_type": "code",
   "execution_count": null,
   "id": "0d09608e",
   "metadata": {},
   "outputs": [],
   "source": [
    "CA3_weights = weight\n",
    "CA3_input_rates = input_rates\n",
    "inh_weight = -10.\n",
    "\n",
    "phase_offset = 0. # np.pi / 4\n",
    "uniform_inh = get_osc(t, freq, 0.65, phase_offset)\n",
    "\n",
    "intra_Vm = CA3_weights.dot(CA3_input_rates) + inh_weight * uniform_inh\n",
    "plt.figure()\n",
    "plt.plot(t, intra_Vm)\n",
    "plt.plot(t, no_inh_intra_Vm)\n",
    "\n",
    "theta_filtered_trace = scipy.signal.filtfilt(theta_filter, [1.], intra_Vm, padtype='even', padlen=pad_len)\n",
    "\n",
    "peak_indexes = scipy.signal.find_peaks(theta_filtered_trace, height=0.001)\n",
    "\n",
    "normalized_reference = 0.5 * reference / np.max(reference) + 0.5\n",
    "\n",
    "normalized_intra_Vm = intra_Vm / np.max(intra_Vm)\n",
    "\n",
    "plt.figure()\n",
    "plt.plot(t, normalized_reference, label='reference')\n",
    "plt.plot(t, normalized_intra_Vm, label='Vm')\n",
    "plt.plot(t, theta_filtered_trace, label='theta Vm')\n",
    "ylim = plt.ylim()\n",
    "plt.vlines(t[peak_indexes[0]], ymin=ylim[0], ymax=ylim[1], color='grey', linestyle='dashed', alpha=0.5)\n",
    "plt.ylim(ylim)\n",
    "plt.ylabel('Amplitude')\n",
    "plt.xlabel('Time (ms)')\n",
    "plt.legend(frameon=False, bbox_to_anchor=(1.05, 1), loc='upper left')\n",
    "plt.tight_layout()\n",
    "\n",
    "plt.figure()\n",
    "plt.plot(t[peak_indexes[0]], phase_degrees[peak_indexes[0]], '.', label='With inh')\n",
    "plt.plot(t[no_inh_peak_indexes[0]], phase_degrees[no_inh_peak_indexes[0]], '.', label='No inh')\n",
    "plt.ylabel('Theta phase (degrees)')\n",
    "plt.xlabel('Time (ms)')\n",
    "plt.ylim(0., 360.)\n",
    "plt.xlim(0., duration)\n",
    "plt.legend(loc='best', frameon=False)"
   ]
  },
  {
   "cell_type": "markdown",
   "id": "3db27a4d",
   "metadata": {},
   "source": [
    "1. In-field_Vm - Out-of-field_Vm (w/ inhibition) = ramp = 6 - 8 mV w/ Inh\n",
    "2. Block inh -> Both In-field_Vm and Out-of-field_Vm -> increase ~ 3 mV\n",
    "3. In-field_theta_amp_Vm > Out-of-field_theta_amp_Vm (w / inhibition)\n",
    "4. Block inh -> Increase both In-field_theta_amp_Vm and Out-of-field_theta_amp_Vm\n",
    "5. ~180-360 phase precession w/ Inhibition\n",
    "6. Block inh -> decrease phase precession\n",
    "\n",
    "\n",
    "TODO:\n",
    " - Make synapses conductance-based \n",
    " - Compare uniform inh to decreasing inh-in-field to increasing inh-in-field\n",
    " - Add NMDARs"
   ]
  }
 ],
 "metadata": {
  "kernelspec": {
   "display_name": "Python 3 (ipykernel)",
   "language": "python",
   "name": "python3"
  },
  "language_info": {
   "codemirror_mode": {
    "name": "ipython",
    "version": 3
   },
   "file_extension": ".py",
   "mimetype": "text/x-python",
   "name": "python",
   "nbconvert_exporter": "python",
   "pygments_lexer": "ipython3",
   "version": "3.9.13"
  }
 },
 "nbformat": 4,
 "nbformat_minor": 5
}
