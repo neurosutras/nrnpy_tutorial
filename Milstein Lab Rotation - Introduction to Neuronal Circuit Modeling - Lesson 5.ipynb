{
 "cells": [
  {
   "cell_type": "markdown",
   "metadata": {},
   "source": [
    "# Lesson 5: Excitatory synaptic integration"
   ]
  },
  {
   "cell_type": "markdown",
   "metadata": {},
   "source": [
    "## Lesson goals:"
   ]
  },
  {
   "cell_type": "markdown",
   "metadata": {},
   "source": [
    "1. Discuss papers from last week focusing on the role of NMDA-type glutamate receptors in spatial and temporal input summation\n",
    "2. Discuss challenge from last week: what happens to spike backpropagation in the distal dendrite if an EPSP precedes the spike by ~5 ms?\n",
    "3. What happened to somatic excitability after manually tuning a dendritic compartment?\n",
    "4. How to activate postsynaptic currents with presynaptic spikes in NEURON: NetCon and VecStim\n",
    "5. Emulate glutamate uncaging experiment and quantify synaptic integration.\n",
    "6. Adding NMDA-type glutamate receptors to acheive supralinear input summation.\n",
    "7. Papers for next week focusing on heterogeneity of interneuron cell types and their impact on dendritic integration."
   ]
  },
  {
   "cell_type": "markdown",
   "metadata": {},
   "source": [
    "## 1. Discuss papers from last week focusing on the role of NMDA-type glutamate receptors in spatial and temporal input summation"
   ]
  },
  {
   "cell_type": "markdown",
   "metadata": {},
   "source": [
    "- Losonczy, A., Magee, J. (2006). Integrative Properties of Radial Oblique Dendrites in Hippocampal CA1 Pyramidal Neurons Neuron  50(2), 291-307. https://dx.doi.org/10.1016/j.neuron.2006.03.016\n",
    "- Popescu, G., Robert, A., Howe, J., Auerbach, A. (2004). Reaction mechanism determines NMDA receptor response to repetitive stimulation Nature  430(7001), 790-793. https://dx.doi.org/10.1038/nature02775"
   ]
  },
  {
   "cell_type": "markdown",
   "metadata": {},
   "source": [
    "## 2. Discuss challenge from last week: what happens to spike backpropagation in the distal dendrite if an EPSP precedes the spike by ~5 ms?"
   ]
  },
  {
   "cell_type": "markdown",
   "metadata": {},
   "source": [
    "## 3. What happened to somatic excitability after manually tuning a dendritic compartment?"
   ]
  },
  {
   "cell_type": "code",
   "execution_count": null,
   "metadata": {},
   "outputs": [],
   "source": [
    "%matplotlib notebook\n",
    "import numpy as np\n",
    "import matplotlib.pyplot as plt\n",
    "from collections import defaultdict\n",
    "from scipy.stats import linregress\n",
    "import math\n",
    "from neuron import h\n",
    "h.load_file('stdrun.hoc')"
   ]
  },
  {
   "cell_type": "markdown",
   "metadata": {},
   "source": [
    "### Let's start with our multi-compartment neuron model from last week:"
   ]
  },
  {
   "cell_type": "code",
   "execution_count": null,
   "metadata": {},
   "outputs": [],
   "source": [
    "# We're starting to accumulate a lot of helper functions necessary to specify, simulate, and analyze our simulations.\n",
    "# Soon it will be sensible to organize our code into a proper python module with classes and functions that can be conveniently imported\n",
    "\n",
    "\n",
    "def lambda_f(sec, f=100.):\n",
    "    \"\"\"\n",
    "    Calculates the AC length constant for the given section at the frequency f.\n",
    "    :param sec: :class:'h.Section'\n",
    "    :param f: float (Hz)\n",
    "    :return: float (um)\n",
    "    \"\"\"\n",
    "    diam = np.mean([seg.diam for seg in sec])\n",
    "    Ra = sec.Ra\n",
    "    cm = np.mean([seg.cm for seg in sec])\n",
    "    return 1e5 * math.sqrt(diam / (4. * math.pi * f * Ra * cm))\n",
    "\n",
    "\n",
    "def get_lambda_nseg(sec, lam=0.1, f=100.):\n",
    "    \"\"\"\n",
    "    Used to determine the number of segments per hoc section to achieve the desired spatial and temporal resolution.\n",
    "    Calculates the AC length constant for the given section at the frequency f.\n",
    "    Assures that no segment will be larger than a fraction of the length_constant, specified by the proportion lam.\n",
    "    :param sec : :class:'h.Section'\n",
    "    :param lam : float: no segment will be larger than lam, a fraction of the section's length constant \n",
    "    :param f: float (Hz)\n",
    "    :return : int\n",
    "    \"\"\"\n",
    "    length_constant = lambda_f(sec, f)\n",
    "    return int(((sec.L / (lam * length_constant)) + 0.9) / 2) * 2 + 1\n",
    "\n",
    "\n",
    "def get_event_peak_amp(t, v, baseline_window=(195., 200.),  measurement_window=(200., 205.), direction=1.):\n",
    "    baseline_indexes = np.where((baseline_window[0] <= t) & (t < baseline_window[1]))\n",
    "    measurement_indexes = np.where((measurement_window[0] <= t) & (t < measurement_window[1]))\n",
    "    baseline_v = np.mean(v[baseline_indexes])\n",
    "    if direction > 0.:\n",
    "        measurement_v = np.max(v[measurement_indexes])\n",
    "    else:\n",
    "        measurement_v = np.min(v[measurement_indexes])\n",
    "    delta_v = measurement_v - baseline_v\n",
    "    return delta_v\n",
    "\n",
    "\n",
    "def update_model(x):\n",
    "    # parse the input parameters\n",
    "    gnabar, gkdrbar, gkabar, gl = x\n",
    "    \n",
    "    soma(0.5).nax.gbar = gnabar\n",
    "    soma(0.5).kdr.gkdrbar = gkdrbar\n",
    "    soma(0.5).kap.gkabar = gkabar\n",
    "    soma(0.5).pas.g = gl"
   ]
  },
  {
   "cell_type": "code",
   "execution_count": null,
   "metadata": {},
   "outputs": [],
   "source": [
    "soma = h.Section()\n",
    "\n",
    "# Set Ra to a physiological value\n",
    "Ra0 = 150.  # Ohm-cm\n",
    "soma.Ra = Ra0\n",
    "soma.L = 20.\n",
    "soma.diam = 20.\n",
    "soma.insert('pas')  # leak\n",
    "soma.insert('kdr')  # delayed-rectifier K+ channel\n",
    "soma.insert('kap')  # A-type K+ channel\n",
    "soma.insert('nax')  # Na+ channel\n",
    "\n",
    "soma(0.5).pas.e = -65.\n",
    "gl0 = soma(0.5).pas.g\n",
    "gkdrbar0 = soma(0.5).kdr.gkdrbar\n",
    "gkabar0 = soma(0.5).kap.gkabar\n",
    "gnabar0 = soma(0.5).nax.gbar\n",
    "\n",
    "# obtained via coarse search with basinhopping followed by local polishing with simplex\n",
    "best_x = soma_gnabar, soma_gkdrbar, soma_gkabar, soma_gl = [0.09389553, 0.02495658, 0.0331321,  0.00052055]\n",
    "\n",
    "update_model(best_x)\n",
    "\n",
    "dend = h.Section()\n",
    "dend.L = 300.\n",
    "dend.diam = 2.\n",
    "# Set Ra to the same value as the soma, it's a property of the cytoplasm\n",
    "dend.Ra = Ra0\n",
    "dend.nseg = get_lambda_nseg(dend)\n",
    "# parent section, parent location, child location\n",
    "dend.connect(soma, 1., 0.)\n",
    "\n",
    "dend.insert('pas')\n",
    "dend.insert('nax')\n",
    "dend.insert('kdr')\n",
    "dend.insert('kap')\n",
    "\n",
    "ka_gradient = lambda distance, slope: soma_gkabar + slope * distance\n",
    "ka_slope = 1.5 * soma_gkabar / 100.  # increase the somatic conductance density by 1.5 * the somatic value every 100 um\n",
    "\n",
    "# Last week, we manually determined:\n",
    "# 1. A value for dendritic leak conductance that produced realistic soma-dendrite attenutation.\n",
    "# 2. Values for dendritic Na+, DR-type K+, and A-type K+ conductance that produced realistic AP backpropagation\n",
    "# 3. The slope of a linear gradient of A-type K+ conductance in dendrites that increases with distance from the soma\n",
    "for seg in dend:\n",
    "    seg.pas.e = -65.\n",
    "    seg.pas.g = 1.5 * soma_gl\n",
    "    seg.nax.gbar = 0.1 * soma_gnabar\n",
    "    seg.kdr.gkdrbar = soma_gkdrbar\n",
    "    distance = seg.x * dend.L\n",
    "    seg.kap.gkabar = ka_gradient(distance, ka_slope)\n",
    "\n",
    "h.celsius = 35.  # These mechanisms are meant to work at (closer to) physiological temperature\n",
    "h.tstop = 600.\n",
    "v_init = -65.\n",
    "h.v_init = v_init\n",
    "\n",
    "t = h.Vector()\n",
    "soma_voltage = h.Vector()\n",
    "t.record(h._ref_t, h.dt)  # record the time base\n",
    "soma_voltage.record(soma(0.5)._ref_v, h.dt)  # record the voltage across the membrane in a segment\n",
    "\n",
    "step_current_stim = h.IClamp(soma(0.5))\n",
    "f_I_stim_dur = 200.\n",
    "f_I_stim_delay = 200.\n",
    "f_I_stim_amp_list = [0.05 * i for i in range(10)]\n",
    "\n",
    "R_inp_stim_dur = 200.\n",
    "R_inp_stim_delay = 200.\n",
    "R_inp_stim_amp = -0.1\n",
    "\n",
    "stim_params = {\n",
    "    'f_I': {'delay': f_I_stim_delay, 'dur': f_I_stim_dur, 'amp_list': f_I_stim_amp_list},\n",
    "    'R_inp': {'delay': R_inp_stim_delay, 'dur': R_inp_stim_dur, 'amp': R_inp_stim_amp}\n",
    "              }\n",
    "\n",
    "spike_times = h.Vector()\n",
    "spike_detector = h.NetCon(soma(0.5)._ref_v, None, sec=soma)\n",
    "spike_detector.delay = 0.  # ms\n",
    "spike_detector.threshold = -10.  # mV\n",
    "spike_detector.record(spike_times)"
   ]
  },
  {
   "cell_type": "markdown",
   "metadata": {},
   "source": [
    "### How did adding the dendrite compartment affect excitability at the soma?"
   ]
  },
  {
   "cell_type": "code",
   "execution_count": null,
   "metadata": {},
   "outputs": [],
   "source": [
    "sim_history = defaultdict(lambda: defaultdict(dict))\n",
    "\n",
    "bounds = [(0.1*xi, 10.*xi) for xi in best_x]\n",
    "\n",
    "target = {}\n",
    "target['f_I_slope'] = 200.  # Hz / nA\n",
    "target['soma_R_inp'] = 150.  # MOhm\n",
    "\n",
    "\n",
    "fit_line = lambda x, slope, intercept: x * slope + intercept\n",
    "\n",
    "\n",
    "def simulate_f_I(stim_params):\n",
    "    sim_summary_list = []\n",
    "    step_current_stim.delay = stim_params['f_I']['delay']  # start time of current injection\n",
    "    step_current_stim.dur = stim_params['f_I']['dur']  # duration in milliseconds\n",
    "    for stim_amp in stim_params['f_I']['amp_list']:\n",
    "        this_sim_summary = {}\n",
    "        step_current_stim.amp = stim_amp\n",
    "        this_sim_summary['stim_amp'] = stim_amp\n",
    "        this_sim_summary['stim_delay'] = stim_params['f_I']['delay']\n",
    "        this_sim_summary['stim_dur'] = stim_params['f_I']['dur']\n",
    "        h.run()\n",
    "        this_sim_summary['t'] = np.array(t)\n",
    "        this_sim_summary['soma_voltage'] = np.array(soma_voltage)\n",
    "        this_spike_times = np.array(spike_times)\n",
    "        this_sim_summary['spike_times'] = this_spike_times\n",
    "        \n",
    "        # take only spike times occurring inside the current injection\n",
    "        valid_spike_indexes = np.where((this_spike_times > f_I_stim_delay) & (this_spike_times <= f_I_stim_delay + f_I_stim_dur))[0]\n",
    "        this_sim_summary['spike_count'] = len(valid_spike_indexes)\n",
    "        this_sim_summary['spike_rate'] = len(valid_spike_indexes) / (f_I_stim_dur / 1000.)  # convert ms to s\n",
    "        sim_summary_list.append(this_sim_summary)\n",
    "    step_current_stim.amp = 0.\n",
    "    \n",
    "    return sim_summary_list\n",
    "\n",
    "\n",
    "def fit_f_I_curve(stim_amp, spike_rate):\n",
    "    stim_amp_array = np.array(stim_amp)\n",
    "    spike_rate_array = np.array(spike_rate)\n",
    "    valid_stim_indexes = np.where(spike_rate_array > 0.)[0]\n",
    "    if len(valid_stim_indexes) < 2:\n",
    "        return 0., 0.\n",
    "    slope, intercept, r_value, p_value, std_err = linregress(stim_amp_array[valid_stim_indexes], spike_rate_array[valid_stim_indexes])\n",
    "    \n",
    "    return slope, intercept\n",
    "\n",
    "\n",
    "def get_f_I_slope_error(x, target, bounds, sim_history, stim_params):\n",
    "    # enforce bounds:\n",
    "    for xi, bi in zip(x, bounds):\n",
    "        if not bi[0] <= xi <= bi[1]:\n",
    "            return 1e9\n",
    "    \n",
    "    update_model(x)\n",
    "    \n",
    "    # simulate f_I and retrieve the data\n",
    "    this_f_I_sim_summary_list = simulate_f_I(stim_params)\n",
    "    \n",
    "    # calculate the f_I slope\n",
    "    this_spike_rate_list = [this_f_I_sim_summary['spike_rate'] for this_f_I_sim_summary in this_f_I_sim_summary_list]\n",
    "    this_stim_amp_list = stim_params['f_I']['amp_list']\n",
    "    this_f_I_slope, this_f_I_intercept = fit_f_I_curve(this_stim_amp_list, this_spike_rate_list)\n",
    "    \n",
    "    # calculate the squared error\n",
    "    this_f_I_error = (this_f_I_slope - target['f_I_slope']) ** 2.\n",
    "    \n",
    "    sim_history[tuple(x)]['f_I']['data'] = this_f_I_sim_summary_list\n",
    "    sim_history[tuple(x)]['f_I']['slope'] = this_f_I_slope\n",
    "    sim_history[tuple(x)]['f_I']['intercept'] = this_f_I_intercept\n",
    "    sim_history[tuple(x)]['f_I']['error'] = this_f_I_error\n",
    "    \n",
    "    return this_f_I_error\n",
    "\n",
    "\n",
    "def calculate_R_inp(t, v, i_amp, baseline_window=(195., 200.),  measurement_window=(395., 400.)):\n",
    "    baseline_indexes = np.where((baseline_window[0] <= t) & (t < baseline_window[1]))\n",
    "    measurement_indexes = np.where((measurement_window[0] <= t) & (t < measurement_window[1]))\n",
    "    baseline_v = np.mean(v[baseline_indexes])\n",
    "    measurement_v = np.mean(v[measurement_indexes])\n",
    "    delta_v = abs(baseline_v - measurement_v)\n",
    "    R_inp = (delta_v / 1000.) / (abs(i_amp) / 1e9) / 1e6 # convert mV to V, nA to A, and Ohm to MegaOhm\n",
    "    return R_inp\n",
    "\n",
    "\n",
    "def simulate_soma_R_inp(stim_params):\n",
    "    step_current_stim.delay = stim_params['R_inp']['delay']\n",
    "    step_current_stim.dur = stim_params['R_inp']['dur']\n",
    "    step_current_stim.amp = stim_params['R_inp']['amp']\n",
    "    this_sim_summary = {}\n",
    "    this_sim_summary['stim_delay'] = stim_params['R_inp']['delay']\n",
    "    this_sim_summary['stim_dur'] = stim_params['R_inp']['dur']\n",
    "    this_sim_summary['stim_amp'] = stim_params['R_inp']['amp']\n",
    "    \n",
    "    h.run()\n",
    "    t_array = np.array(t)\n",
    "    v_array = np.array(soma_voltage)\n",
    "    soma_R_inp = calculate_R_inp(t_array, v_array, stim_params['R_inp']['amp'])\n",
    "    \n",
    "    this_sim_summary['t'] = t_array\n",
    "    this_sim_summary['soma_voltage'] = v_array\n",
    "    this_sim_summary['soma_R_inp'] = soma_R_inp\n",
    "    step_current_stim.amp = 0.\n",
    "    \n",
    "    return [this_sim_summary]  # for consistency with f_I functions, return a list of simulation summary dictionaries\n",
    "\n",
    "\n",
    "def get_soma_R_inp_error(x, target, bounds, sim_history, stim_params):\n",
    "    # enforce bounds\n",
    "    for xi, bi in zip(x, bounds):\n",
    "        if not bi[0] <= xi <= bi[1]:\n",
    "            return 1e9\n",
    "        \n",
    "    update_model(x)\n",
    "    \n",
    "    this_R_inp_sim_summary_list = simulate_soma_R_inp(stim_params)\n",
    "    this_soma_R_inp = this_R_inp_sim_summary_list[0]['soma_R_inp']\n",
    "    \n",
    "    # calculate the squared error\n",
    "    this_R_inp_error = (this_soma_R_inp - target['soma_R_inp']) ** 2.\n",
    "    \n",
    "    sim_history[tuple(x)]['R_inp']['data'] = this_R_inp_sim_summary_list\n",
    "    sim_history[tuple(x)]['R_inp']['soma_R_inp'] = this_soma_R_inp\n",
    "    sim_history[tuple(x)]['R_inp']['error'] = this_R_inp_error\n",
    "    \n",
    "    return this_R_inp_error\n",
    "\n",
    "\n",
    "def get_excitability_error(x, target, bounds, sim_history, stim_params):\n",
    "    this_R_inp_error = get_soma_R_inp_error(x, target, bounds, sim_history, stim_params)\n",
    "    this_f_I_slope_error = get_f_I_slope_error(x, target, bounds, sim_history, stim_params)\n",
    "    \n",
    "    return this_R_inp_error + this_f_I_slope_error"
   ]
  },
  {
   "cell_type": "code",
   "execution_count": null,
   "metadata": {},
   "outputs": [],
   "source": [
    "error = get_excitability_error(best_x, target, bounds, sim_history, stim_params)\n",
    "print('x:', best_x, 'error:', error)"
   ]
  },
  {
   "cell_type": "code",
   "execution_count": null,
   "metadata": {
    "scrolled": false
   },
   "outputs": [],
   "source": [
    "fig, axis = plt.subplots()\n",
    "for i, sim_summary in enumerate(sim_history[tuple(best_x)]['R_inp']['data']):\n",
    "    axis.plot(sim_summary['t'], sim_summary['soma_voltage'])\n",
    "    axis.set_ylabel('Voltage (mV)')\n",
    "    axis.set_xlabel('Time (ms)')\n",
    "fig.tight_layout()\n",
    "\n",
    "print('soma_R_inp:', sim_history[tuple(best_x)]['R_inp']['soma_R_inp'], 'Error:', sim_history[tuple(best_x)]['R_inp']['error'])\n",
    "\n",
    "fig, axes = plt.subplots(3, 4, figsize=(12., 8.))\n",
    "for i, sim_summary in enumerate(sim_history[tuple(best_x)]['f_I']['data']):\n",
    "    axes.flat[i].plot(sim_summary['t'], sim_summary['soma_voltage'])\n",
    "    axes.flat[i].set_ylabel('Voltage (mV)')\n",
    "    axes.flat[i].set_xlabel('Time (ms)')\n",
    "fig.tight_layout()\n",
    "\n",
    "this_slope = sim_history[tuple(best_x)]['f_I']['slope']\n",
    "this_intercept = sim_history[tuple(best_x)]['f_I']['intercept']\n",
    "stim_amp_array = np.array([sim_summary['stim_amp'] for sim_summary in sim_history[tuple(best_x)]['f_I']['data']])\n",
    "spike_rate_array = np.array([sim_summary['spike_rate'] for sim_summary in sim_history[tuple(best_x)]['f_I']['data']])\n",
    "valid_stim_indexes = np.where(spike_rate_array > 0.)[0]\n",
    "\n",
    "plt.figure()\n",
    "plt.scatter(stim_amp_array, spike_rate_array)\n",
    "plt.plot(stim_amp_array[valid_stim_indexes], fit_line(stim_amp_array[valid_stim_indexes], this_slope, this_intercept))\n",
    "plt.ylabel('Firing rate (Hz)')\n",
    "plt.xlabel('Current amplitude (nA)')\n",
    "plt.show()\n",
    "\n",
    "print('f-I slope:', sim_history[tuple(best_x)]['f_I']['slope'], 'Error:', sim_history[tuple(best_x)]['f_I']['error'])"
   ]
  },
  {
   "cell_type": "markdown",
   "metadata": {},
   "source": [
    "### So we would have to simultaneously optimize both the somatic and dendritic parameters to get that right."
   ]
  },
  {
   "cell_type": "markdown",
   "metadata": {
    "scrolled": false
   },
   "source": [
    "## 4. How to activate postsynaptic currents with presynaptic spikes in NEURON: NetCon and VecStim"
   ]
  },
  {
   "cell_type": "markdown",
   "metadata": {},
   "source": [
    "Last week we manually constructed an EPSC-shaped current waveform to inject into the dendrite. What if we want to be able to trigger EPSCs with spikes?"
   ]
  },
  {
   "cell_type": "markdown",
   "metadata": {},
   "source": [
    "Let's use a synaptic point process that generates a current with exponential rise and decay whenever it is triggered by a spike source: <br>\n",
    "Take a look at the source code in exp2EPSC.mod, and don't forget to complile this new mechanism with `nrnivmodl`"
   ]
  },
  {
   "cell_type": "code",
   "execution_count": null,
   "metadata": {},
   "outputs": [],
   "source": [
    "# Let's insert a synapse in the dendrite ~150 um from the soma:\n",
    "syn = h.EPSC(dend(0.75))"
   ]
  },
  {
   "cell_type": "code",
   "execution_count": null,
   "metadata": {},
   "outputs": [],
   "source": [
    "# tab to complete to explore attributes of the synaptic point process object:\n",
    "syn."
   ]
  },
  {
   "cell_type": "markdown",
   "metadata": {},
   "source": [
    "We can control the kinetics of this current with the `tau_rise` and `tau_decay` attributes:"
   ]
  },
  {
   "cell_type": "code",
   "execution_count": null,
   "metadata": {},
   "outputs": [],
   "source": [
    "syn.tau_rise = 0.5\n",
    "syn.tau_decay = 10."
   ]
  },
  {
   "cell_type": "markdown",
   "metadata": {},
   "source": [
    "The `h.NetCon` object is used to deliver spikes detected in a presynaptic spike detector to a postsynaptic target point process. <br>\n",
    "But in this case we don't have a presynaptic cell, we just want to manually define a vector of spike times. <br>\n",
    "For this we need a special \"Artificial Cell\" called a `VecStim`"
   ]
  },
  {
   "cell_type": "code",
   "execution_count": null,
   "metadata": {},
   "outputs": [],
   "source": [
    "vs = h.VecStim()"
   ]
  },
  {
   "cell_type": "code",
   "execution_count": null,
   "metadata": {},
   "outputs": [],
   "source": [
    "# tab to complete to explore attributes of the VecStim object:\n",
    "vs.\n",
    "\n",
    "# The play() method can be used to load a vector of spike times"
   ]
  },
  {
   "cell_type": "markdown",
   "metadata": {},
   "source": [
    "Now we can connect the VecStim to our synaptic point process using a `NetCon`:"
   ]
  },
  {
   "cell_type": "code",
   "execution_count": null,
   "metadata": {},
   "outputs": [],
   "source": [
    "nc = h.NetCon(vs, syn)"
   ]
  },
  {
   "cell_type": "code",
   "execution_count": null,
   "metadata": {},
   "outputs": [],
   "source": [
    "# tab to complete to explore attributes of the NetCon object:\n",
    "nc."
   ]
  },
  {
   "cell_type": "markdown",
   "metadata": {},
   "source": [
    "What are the default values of the `delay` and `weight` attributes?"
   ]
  },
  {
   "cell_type": "code",
   "execution_count": null,
   "metadata": {},
   "outputs": [],
   "source": [
    "print('Delay:', nc.delay, 'Weight', nc.weight)"
   ]
  },
  {
   "cell_type": "markdown",
   "metadata": {},
   "source": [
    "The `delay` attribute is used to emulate axonal conduction delays. For now, we want our spikes to activate synapses without delay, so this can be set to zero."
   ]
  },
  {
   "cell_type": "code",
   "execution_count": null,
   "metadata": {},
   "outputs": [],
   "source": [
    "nc.delay = 0."
   ]
  },
  {
   "cell_type": "markdown",
   "metadata": {},
   "source": [
    "The `weight` attribute of a `NetCon` is actually a vector. For the EPSC mechanism, just the first element in this vector is used, and it controls the amplitude of the postsynaptic current:"
   ]
  },
  {
   "cell_type": "code",
   "execution_count": null,
   "metadata": {},
   "outputs": [],
   "source": [
    "print('Delay:', nc.delay, 'Weight', nc.weight[0])"
   ]
  },
  {
   "cell_type": "markdown",
   "metadata": {},
   "source": [
    "Let's set the `weight` attribute to be one for now (the synaptic amplitude is also controlled by the `i_unit` attribute of the EPSC object)."
   ]
  },
  {
   "cell_type": "code",
   "execution_count": null,
   "metadata": {},
   "outputs": [],
   "source": [
    "nc.weight[0] = 1."
   ]
  },
  {
   "cell_type": "markdown",
   "metadata": {},
   "source": [
    "Now we need a dendritic recording, and a spike train to play into our `VecStim` --> `NetCon` --> `EPSC` object chain. <br>\n",
    "We can also record the actual current through the synaptic point process:"
   ]
  },
  {
   "cell_type": "code",
   "execution_count": null,
   "metadata": {},
   "outputs": [],
   "source": [
    "dend_voltage = h.Vector()\n",
    "dend_voltage.record(dend(0.75)._ref_v, h.dt)\n",
    "\n",
    "presyn_spike_times_list = [250.]\n",
    "vs.play(h.Vector(presyn_spike_times_list))\n",
    "\n",
    "syn_current = h.Vector()\n",
    "syn_current.record(syn._ref_i, h.dt)"
   ]
  },
  {
   "cell_type": "markdown",
   "metadata": {},
   "source": [
    "### Run a simulation and plot the results:"
   ]
  },
  {
   "cell_type": "code",
   "execution_count": null,
   "metadata": {},
   "outputs": [],
   "source": [
    "h.run()\n",
    "\n",
    "# It's good practice to play an empty vector in to the `VecStim` at the end of every simulation to \"reset\" it.\n",
    "vs.play(h.Vector())"
   ]
  },
  {
   "cell_type": "code",
   "execution_count": null,
   "metadata": {},
   "outputs": [],
   "source": [
    "fig, axes = plt.subplots(2, figsize=(6., 6.))\n",
    "axes[0].plot(t, soma_voltage, label='Soma Vm')\n",
    "axes[0].plot(t, dend_voltage, label='Dend Vm')\n",
    "axes[0].set_ylabel('Voltage (mV)')\n",
    "axes[0].set_xlabel('Time (ms)')\n",
    "axes[1].plot(t, syn_current)\n",
    "axes[1].set_ylabel('Current (nA)')\n",
    "axes[1].set_xlabel('Time (ms)')\n",
    "axes[0].legend(loc='best', frameon=False, framealpha=0.5)\n",
    "fig.tight_layout()\n",
    "fig.show()"
   ]
  },
  {
   "cell_type": "markdown",
   "metadata": {},
   "source": [
    "That was way too much current! It actually kicked off a dendritic sodium spike, followed by a full-blown somatic action potential!"
   ]
  },
  {
   "cell_type": "code",
   "execution_count": null,
   "metadata": {},
   "outputs": [],
   "source": [
    "syn.i_unit = -0.01\n",
    "vs.play(h.Vector(presyn_spike_times_list))\n",
    "h.run()\n",
    "vs.play(h.Vector())"
   ]
  },
  {
   "cell_type": "code",
   "execution_count": null,
   "metadata": {},
   "outputs": [],
   "source": [
    "fig, axes = plt.subplots(2, figsize=(6., 6.))\n",
    "axes[0].plot(t, soma_voltage, label='Soma Vm')\n",
    "axes[0].plot(t, dend_voltage, label='Dend Vm')\n",
    "axes[0].set_ylabel('Voltage (mV)')\n",
    "axes[0].set_xlabel('Time (ms)')\n",
    "axes[1].plot(t, syn_current)\n",
    "axes[1].set_ylabel('Current (nA)')\n",
    "axes[1].set_xlabel('Time (ms)')\n",
    "axes[0].legend(loc='best', frameon=False, framealpha=0.5)\n",
    "fig.tight_layout()\n",
    "fig.show()"
   ]
  },
  {
   "cell_type": "markdown",
   "metadata": {},
   "source": [
    "This is better. ~0.2 mV EPSP at the soma is more realistic."
   ]
  },
  {
   "cell_type": "markdown",
   "metadata": {},
   "source": [
    "### What happens if we stimulate this single synapse repetitively in a 100 Hz train?"
   ]
  },
  {
   "cell_type": "code",
   "execution_count": null,
   "metadata": {},
   "outputs": [],
   "source": [
    "presyn_spike_times_list = [250. + 10. * i for i in range(5)]\n",
    "vs.play(h.Vector(presyn_spike_times_list))\n",
    "h.run()\n",
    "vs.play(h.Vector())"
   ]
  },
  {
   "cell_type": "code",
   "execution_count": null,
   "metadata": {},
   "outputs": [],
   "source": [
    "fig, axes = plt.subplots(2, figsize=(6., 6.))\n",
    "axes[0].plot(t, soma_voltage, label='Soma Vm')\n",
    "axes[0].plot(t, dend_voltage, label='Dend Vm')\n",
    "axes[0].set_ylabel('Voltage (mV)')\n",
    "axes[0].set_xlabel('Time (ms)')\n",
    "axes[1].plot(t, syn_current)\n",
    "axes[1].set_ylabel('Current (nA)')\n",
    "axes[1].set_xlabel('Time (ms)')\n",
    "axes[0].legend(loc='best', frameon=False, framealpha=0.5)\n",
    "fig.tight_layout()\n",
    "fig.show()"
   ]
  },
  {
   "cell_type": "markdown",
   "metadata": {},
   "source": [
    "### What is unrealistic about this?"
   ]
  },
  {
   "cell_type": "code",
   "execution_count": null,
   "metadata": {},
   "outputs": [],
   "source": []
  },
  {
   "cell_type": "markdown",
   "metadata": {},
   "source": [
    "First of all, synaptic currents are generated by ion channels and are subject to ionic driving force, so successive events at increasing dendritic voltage should open the same peak conductance, but with decreasing driving force, and so decreasing current amplitude..."
   ]
  },
  {
   "cell_type": "markdown",
   "metadata": {},
   "source": [
    "There's another point process we can use that activates a true conductance rather than an idealized current: Exp2EPSG"
   ]
  },
  {
   "cell_type": "code",
   "execution_count": null,
   "metadata": {},
   "outputs": [],
   "source": [
    "syn = h.Exp2EPSG(dend(0.75))"
   ]
  },
  {
   "cell_type": "code",
   "execution_count": null,
   "metadata": {},
   "outputs": [],
   "source": [
    "# tab to complete to explore attributes of the synaptic point process object:\n",
    "syn."
   ]
  },
  {
   "cell_type": "markdown",
   "metadata": {},
   "source": [
    "For this mechanism, `tau1` is the rise time constant, and `tau2` is the decay time constant. <br>\n",
    "`gmax` is the peak conductance, and `e` is the reversal potential."
   ]
  },
  {
   "cell_type": "code",
   "execution_count": null,
   "metadata": {},
   "outputs": [],
   "source": [
    "syn.tau1 = 0.5  # ms\n",
    "syn.tau2 = 10.  # ms\n",
    "syn.gmax = 0.01  # uS\n",
    "syn.e = 0.  # mV"
   ]
  },
  {
   "cell_type": "markdown",
   "metadata": {},
   "source": [
    "This new point process will have to be connected to the `VecStim` via a `NetCon` again:"
   ]
  },
  {
   "cell_type": "code",
   "execution_count": null,
   "metadata": {},
   "outputs": [],
   "source": [
    "vs = h.VecStim()\n",
    "\n",
    "nc = h.NetCon(vs, syn)\n",
    "nc.delay = 0.\n",
    "nc.weight[0] = 1."
   ]
  },
  {
   "cell_type": "markdown",
   "metadata": {},
   "source": [
    "We can also now establish recordings of both `i` and `g` from the new synapse:"
   ]
  },
  {
   "cell_type": "code",
   "execution_count": null,
   "metadata": {},
   "outputs": [],
   "source": [
    "syn_current = h.Vector()\n",
    "syn_current.record(syn._ref_i, h.dt)\n",
    "\n",
    "syn_conductance = h.Vector()\n",
    "syn_conductance.record(syn._ref_g, h.dt)"
   ]
  },
  {
   "cell_type": "markdown",
   "metadata": {},
   "source": [
    "Let's first stimulate the synapse with a single pulse:"
   ]
  },
  {
   "cell_type": "code",
   "execution_count": null,
   "metadata": {},
   "outputs": [],
   "source": [
    "presyn_spike_times_list = [250.]\n",
    "vs.play(h.Vector(presyn_spike_times_list))\n",
    "h.run()\n",
    "vs.play(h.Vector())"
   ]
  },
  {
   "cell_type": "code",
   "execution_count": null,
   "metadata": {},
   "outputs": [],
   "source": [
    "fig, axes = plt.subplots(3, figsize=(6., 9.))\n",
    "axes[0].plot(t, soma_voltage, label='Soma Vm')\n",
    "axes[0].plot(t, dend_voltage, label='Dend Vm')\n",
    "axes[0].set_ylabel('Voltage (mV)')\n",
    "axes[0].set_xlabel('Time (ms)')\n",
    "axes[1].plot(t, syn_conductance)\n",
    "axes[1].set_ylabel('Normalized conductance')\n",
    "axes[1].set_xlabel('Time (ms)')\n",
    "axes[2].plot(t, syn_current)\n",
    "axes[2].set_ylabel('Current (nA)')\n",
    "axes[2].set_xlabel('Time (ms)')\n",
    "axes[0].legend(loc='best', frameon=False, framealpha=0.5)\n",
    "fig.tight_layout()\n",
    "fig.show()"
   ]
  },
  {
   "cell_type": "markdown",
   "metadata": {},
   "source": [
    "Look's like we'll have to use a much lower value of gmax to produce ~0.01 nA EPSC and ~0.2 mV somatic EPSP"
   ]
  },
  {
   "cell_type": "code",
   "execution_count": null,
   "metadata": {},
   "outputs": [],
   "source": [
    "syn.gmax = 0.0002"
   ]
  },
  {
   "cell_type": "code",
   "execution_count": null,
   "metadata": {},
   "outputs": [],
   "source": [
    "presyn_spike_times_list = [250.]\n",
    "vs.play(h.Vector(presyn_spike_times_list))\n",
    "h.run()\n",
    "vs.play(h.Vector())"
   ]
  },
  {
   "cell_type": "code",
   "execution_count": null,
   "metadata": {},
   "outputs": [],
   "source": [
    "fig, axes = plt.subplots(3, figsize=(6., 9.))\n",
    "axes[0].plot(t, soma_voltage, label='Soma Vm')\n",
    "axes[0].plot(t, dend_voltage, label='Dend Vm')\n",
    "axes[0].set_ylabel('Voltage (mV)')\n",
    "axes[0].set_xlabel('Time (ms)')\n",
    "axes[1].plot(t, syn_conductance)\n",
    "axes[1].set_ylabel('Normalized conductance')\n",
    "axes[1].set_xlabel('Time (ms)')\n",
    "axes[2].plot(t, syn_current)\n",
    "axes[2].set_ylabel('Current (nA)')\n",
    "axes[2].set_xlabel('Time (ms)')\n",
    "axes[0].legend(loc='best', frameon=False, framealpha=0.5)\n",
    "fig.tight_layout()\n",
    "fig.show()"
   ]
  },
  {
   "cell_type": "markdown",
   "metadata": {},
   "source": [
    "### Now let's try stimulating in a train again:"
   ]
  },
  {
   "cell_type": "code",
   "execution_count": null,
   "metadata": {},
   "outputs": [],
   "source": [
    "presyn_spike_times_list = [250. + 10. * i for i in range(5)]\n",
    "vs.play(h.Vector(presyn_spike_times_list))\n",
    "h.run()\n",
    "vs.play(h.Vector())"
   ]
  },
  {
   "cell_type": "code",
   "execution_count": null,
   "metadata": {},
   "outputs": [],
   "source": [
    "fig, axes = plt.subplots(3, figsize=(6., 9.))\n",
    "axes[0].plot(t, soma_voltage, label='Soma Vm')\n",
    "axes[0].plot(t, dend_voltage, label='Dend Vm')\n",
    "axes[0].set_ylabel('Voltage (mV)')\n",
    "axes[0].set_xlabel('Time (ms)')\n",
    "axes[1].plot(t, syn_conductance)\n",
    "axes[1].set_ylabel('Normalized conductance')\n",
    "axes[1].set_xlabel('Time (ms)')\n",
    "axes[2].plot(t, syn_current)\n",
    "axes[2].set_ylabel('Current (nA)')\n",
    "axes[2].set_xlabel('Time (ms)')\n",
    "axes[0].legend(loc='best', frameon=False, framealpha=0.5)\n",
    "fig.tight_layout()\n",
    "fig.show()"
   ]
  },
  {
   "cell_type": "markdown",
   "metadata": {},
   "source": [
    "### Now why is the conductance increasing apparently without bound?"
   ]
  },
  {
   "cell_type": "code",
   "execution_count": null,
   "metadata": {},
   "outputs": [],
   "source": []
  },
  {
   "cell_type": "markdown",
   "metadata": {},
   "source": [
    "To emulate synaptic AMPA-type glutamate receptors, that are saturated on a single pulse, we need a mechanism that accounts for this! <br>\n",
    "Now let's try the synaptic point process SatExp2Syn:"
   ]
  },
  {
   "cell_type": "code",
   "execution_count": null,
   "metadata": {},
   "outputs": [],
   "source": [
    "syn = h.SatExp2Syn(dend(0.75))"
   ]
  },
  {
   "cell_type": "code",
   "execution_count": null,
   "metadata": {},
   "outputs": [],
   "source": [
    "# tab to complete to explore attributes of the synaptic point process object:\n",
    "syn."
   ]
  },
  {
   "cell_type": "markdown",
   "metadata": {},
   "source": [
    "This mechanism is again parameterized differently. `dur_onset` controls the rise kinetics, `tau_offset` controls the decay kinetics, `e` controls the reversal potential, but now the unitary single-pulse peak conductance is set by the second element in the `NetCon.weight` vector."
   ]
  },
  {
   "cell_type": "code",
   "execution_count": null,
   "metadata": {},
   "outputs": [],
   "source": [
    "syn.dur_onset = 1.\n",
    "syn.tau_offset = 10.\n",
    "syn.e = 0.\n",
    "\n",
    "vs = h.VecStim()\n",
    "nc = h.NetCon(vs, syn)\n",
    "nc.delay = 0.\n",
    "nc.weight[0] = 1.\n",
    "nc.weight[1] = 0.0002"
   ]
  },
  {
   "cell_type": "markdown",
   "metadata": {},
   "source": [
    "Now there is also a `sat` attribute that controls how close to saturation a single pulse should drive the receptor."
   ]
  },
  {
   "cell_type": "code",
   "execution_count": null,
   "metadata": {},
   "outputs": [],
   "source": [
    "syn.sat = 0.99"
   ]
  },
  {
   "cell_type": "markdown",
   "metadata": {},
   "source": [
    "Don't forget to re-establish recordings from the new synapse:"
   ]
  },
  {
   "cell_type": "code",
   "execution_count": null,
   "metadata": {},
   "outputs": [],
   "source": [
    "syn_current = h.Vector()\n",
    "syn_current.record(syn._ref_i, h.dt)\n",
    "\n",
    "syn_conductance = h.Vector()\n",
    "syn_conductance.record(syn._ref_g, h.dt)"
   ]
  },
  {
   "cell_type": "code",
   "execution_count": null,
   "metadata": {},
   "outputs": [],
   "source": [
    "presyn_spike_times_list = [250.]\n",
    "vs.play(h.Vector(presyn_spike_times_list))\n",
    "h.run()\n",
    "vs.play(h.Vector())"
   ]
  },
  {
   "cell_type": "code",
   "execution_count": null,
   "metadata": {},
   "outputs": [],
   "source": [
    "fig, axes = plt.subplots(3, figsize=(6., 9.))\n",
    "axes[0].plot(t, soma_voltage, label='Soma Vm')\n",
    "axes[0].plot(t, dend_voltage, label='Dend Vm')\n",
    "axes[0].set_ylabel('Voltage (mV)')\n",
    "axes[0].set_xlabel('Time (ms)')\n",
    "axes[1].plot(t, syn_conductance)\n",
    "axes[1].set_ylabel('Conductance (uS)')\n",
    "axes[1].set_xlabel('Time (ms)')\n",
    "axes[2].plot(t, syn_current)\n",
    "axes[2].set_ylabel('Current (nA)')\n",
    "axes[2].set_xlabel('Time (ms)')\n",
    "axes[0].legend(loc='best', frameon=False, framealpha=0.5)\n",
    "fig.tight_layout()\n",
    "fig.show()"
   ]
  },
  {
   "cell_type": "markdown",
   "metadata": {},
   "source": [
    "### Now the train:"
   ]
  },
  {
   "cell_type": "code",
   "execution_count": null,
   "metadata": {},
   "outputs": [],
   "source": [
    "presyn_spike_times_list = [250. + 10. * i for i in range(5)]\n",
    "vs.play(h.Vector(presyn_spike_times_list))\n",
    "h.run()\n",
    "vs.play(h.Vector())"
   ]
  },
  {
   "cell_type": "code",
   "execution_count": null,
   "metadata": {},
   "outputs": [],
   "source": [
    "fig, axes = plt.subplots(3, figsize=(6., 9.))\n",
    "axes[0].plot(t, soma_voltage, label='Soma Vm')\n",
    "axes[0].plot(t, dend_voltage, label='Dend Vm')\n",
    "axes[0].set_ylabel('Voltage (mV)')\n",
    "axes[0].set_xlabel('Time (ms)')\n",
    "axes[1].plot(t, syn_conductance)\n",
    "axes[1].set_ylabel('Conductance (uS)')\n",
    "axes[1].set_xlabel('Time (ms)')\n",
    "axes[2].plot(t, syn_current)\n",
    "axes[2].set_ylabel('Current (nA)')\n",
    "axes[2].set_xlabel('Time (ms)')\n",
    "axes[0].legend(loc='best', frameon=False, framealpha=0.5)\n",
    "fig.tight_layout()\n",
    "fig.show()"
   ]
  },
  {
   "cell_type": "markdown",
   "metadata": {},
   "source": [
    "### Great, now we have saturating, conductance-based AMPA synapses. <br>"
   ]
  },
  {
   "cell_type": "markdown",
   "metadata": {},
   "source": [
    "## 5. Emulate glutamate uncaging experiment and quantify synaptic integration."
   ]
  },
  {
   "cell_type": "markdown",
   "metadata": {},
   "source": [
    "Now let's try to reproduce the synaptic integration experiment from Losonczy & Magee, 2006. <br>\n",
    "First, we need a set of ~20 synapses within a small section of dendrite:"
   ]
  },
  {
   "cell_type": "code",
   "execution_count": null,
   "metadata": {},
   "outputs": [],
   "source": [
    "syn_list = []\n",
    "vs_list = []\n",
    "nc_list = []\n",
    "\n",
    "for i in range(20):\n",
    "    syn = h.SatExp2Syn(dend(0.75))\n",
    "    syn.dur_onset = 1.\n",
    "    syn.tau_offset = 10.\n",
    "    syn.e = 0.\n",
    "    syn.sat = 0.99\n",
    "    syn_list.append(syn)\n",
    "    \n",
    "    vs = h.VecStim()\n",
    "    vs_list.append(vs)\n",
    "    \n",
    "    nc = h.NetCon(vs, syn)\n",
    "    nc.delay = 0.\n",
    "    nc.weight[0] = 1.\n",
    "    nc.weight[1] = 0.0002\n",
    "    nc_list.append(nc)"
   ]
  },
  {
   "cell_type": "markdown",
   "metadata": {},
   "source": [
    "First let's run a set of simulations where we only stimulate one synapse at a time, and save the unitary responses:"
   ]
  },
  {
   "cell_type": "code",
   "execution_count": null,
   "metadata": {},
   "outputs": [],
   "source": [
    "presyn_spike_times_list = [250.]\n",
    "raw_soma_unitary_EPSP_list = []\n",
    "for i in range(20):\n",
    "    vs_list[i].play(h.Vector(presyn_spike_times_list))\n",
    "    h.run()\n",
    "    vs_list[i].play(h.Vector())\n",
    "    # save an array of the time base\n",
    "    if i == 0:\n",
    "        t_array = np.array(t)\n",
    "    soma_voltage_array = np.array(soma_voltage)\n",
    "    raw_soma_unitary_EPSP_list.append(soma_voltage_array)\n",
    "    vs_list[i].play(h.Vector())"
   ]
  },
  {
   "cell_type": "code",
   "execution_count": null,
   "metadata": {},
   "outputs": [],
   "source": [
    "# plot the unitary responses:\n",
    "plt.figure()\n",
    "for i in range(20):\n",
    "    plt.plot(t_array, raw_soma_unitary_EPSP_list[i])"
   ]
  },
  {
   "cell_type": "markdown",
   "metadata": {},
   "source": [
    "Now we need a way to compute the arithmetic sum of these unitary EPSPs given an arbitrary inter-stimulus interval:"
   ]
  },
  {
   "cell_type": "code",
   "execution_count": null,
   "metadata": {},
   "outputs": [],
   "source": [
    "def offset_and_truncate_trace_list(trace_list, t, start, window_dur=200., baseline_dur=10.):\n",
    "    \"\"\"\n",
    "    Given a list of traces and a reference time base, subtract the mean baseline value and truncate.\n",
    "    :param trace_list: list of array\n",
    "    :param t: array\n",
    "    :param start: float\n",
    "    :param window_dur: float\n",
    "    :param baseline_dur: float\n",
    "    :return: tuple: (list of array, array)\n",
    "    \"\"\"\n",
    "    t_indexes = np.where((t >= start - baseline_dur) & (t < start + window_dur))[0]\n",
    "    truncated_t = t[t_indexes] - start\n",
    "    baseline_indexes = np.where(truncated_t < 0.)[0]\n",
    "    truncated_traces = []\n",
    "    for i in range(len(trace_list)):\n",
    "        this_truncated_trace = trace_list[i][t_indexes]\n",
    "        baseline = np.mean(this_truncated_trace[baseline_indexes])\n",
    "        this_truncated_trace -= baseline\n",
    "        truncated_traces.append(this_truncated_trace)\n",
    "    \n",
    "    return truncated_traces, truncated_t\n",
    "\n",
    "\n",
    "def get_expected_compound_EPSP_list(unitary_EPSP_list, t, ISI):\n",
    "    \"\"\"\n",
    "    Given a list of unitary EPSP amplitude traces, produce a list of compound EPSP traces with increasing numbers of synapses linearly summed.\n",
    "    :param unitary_EPSP_list: list of array\n",
    "    :param t: array\n",
    "    :param ISI: float\n",
    "    :return: list of array\n",
    "    \"\"\"\n",
    "    dt = t[1] - t[0]\n",
    "    ISI_len = int(ISI / dt)\n",
    "    window_len = len(t)\n",
    "    \n",
    "    exp_compound_EPSP_list = []\n",
    "    current_compound_EPSP = np.zeros_like(t)\n",
    "    this_t_offset = 0\n",
    "    for i in range(len(unitary_EPSP_list)):\n",
    "        if window_len < this_t_offset:\n",
    "            raise RuntimeError('Window too short to sum %i units with ISI=%.2f ms' % (i + 1, ISI))\n",
    "        this_unit = unitary_EPSP_list[i]\n",
    "        current_compound_EPSP[this_t_offset:window_len] += this_unit[:window_len - this_t_offset]\n",
    "        exp_compound_EPSP_list.append(np.copy(current_compound_EPSP))\n",
    "        this_t_offset += ISI_len\n",
    "    \n",
    "    return exp_compound_EPSP_list"
   ]
  },
  {
   "cell_type": "markdown",
   "metadata": {},
   "source": [
    "In Losonczy & Magee, 2006, ISI=0.1 ms was actually ISI=0.3 ms including laser dwell time + laser move time"
   ]
  },
  {
   "cell_type": "code",
   "execution_count": null,
   "metadata": {},
   "outputs": [],
   "source": [
    "# First let's baseline subtract and truncate these traces so that we can use them for offline summing:\n",
    "truncated_soma_unitary_EPSP_list, truncated_t = offset_and_truncate_trace_list(raw_soma_unitary_EPSP_list, t_array, start=250.)\n",
    "\n",
    "# Now we will build a list of traces with increasing numbers of units summed:\n",
    "expected_compound_EPSP_list = get_expected_compound_EPSP_list(truncated_soma_unitary_EPSP_list, truncated_t, ISI=0.3)"
   ]
  },
  {
   "cell_type": "code",
   "execution_count": null,
   "metadata": {},
   "outputs": [],
   "source": [
    "plt.figure()\n",
    "for i in range(len(expected_compound_EPSP_list)):\n",
    "    plt.plot(truncated_t, expected_compound_EPSP_list[i])\n",
    "    plt.ylabel('Expected EPSP Amplitude (mV)')\n",
    "    plt.xlabel('Time (ms)')"
   ]
  },
  {
   "cell_type": "markdown",
   "metadata": {},
   "source": [
    "Now, we can run a set of simulations where we increase the number of stimulated inputs with the specified ISI:"
   ]
  },
  {
   "cell_type": "code",
   "execution_count": null,
   "metadata": {},
   "outputs": [],
   "source": [
    "raw_soma_voltage_list = []\n",
    "\n",
    "ISI = 0.3\n",
    "t_offset = 0.\n",
    "for i in range(20):\n",
    "    presyn_spike_times_list = [250. + i * ISI]\n",
    "    vs_list[i].play(h.Vector(presyn_spike_times_list))\n",
    "    h.run()\n",
    "    if i == 0:\n",
    "        t_array = np.array(t)\n",
    "    soma_voltage_array = np.array(soma_voltage)\n",
    "    raw_soma_voltage_list.append(soma_voltage_array)\n",
    "    t_offset += ISI\n",
    "## remember to reset all the stimuli:\n",
    "for i in range(20):\n",
    "    vs_list[i].play(h.Vector())"
   ]
  },
  {
   "cell_type": "markdown",
   "metadata": {},
   "source": [
    "But these are raw voltage recordings. Let's offset and truncate them for comparison to the expected traces:"
   ]
  },
  {
   "cell_type": "code",
   "execution_count": null,
   "metadata": {},
   "outputs": [],
   "source": [
    "actual_compound_EPSP_list, _ = offset_and_truncate_trace_list(raw_soma_voltage_list, t_array, start=250.)"
   ]
  },
  {
   "cell_type": "markdown",
   "metadata": {},
   "source": [
    "### Let's compare expected vs. actual traces:"
   ]
  },
  {
   "cell_type": "code",
   "execution_count": null,
   "metadata": {},
   "outputs": [],
   "source": [
    "fig, axes = plt.subplots(1, 2, sharey=True, figsize=(6., 5.))\n",
    "for i in range(20):\n",
    "    axes[0].plot(truncated_t, expected_compound_EPSP_list[i])\n",
    "    axes[1].plot(truncated_t, actual_compound_EPSP_list[i])\n",
    "axes[0].set_xlabel('Time (ms)')\n",
    "axes[1].set_xlabel('Time (ms)')\n",
    "axes[0].set_ylabel('Expected EPSP Amplitude (mV)')\n",
    "axes[0].set_title('Expected (Linear sum)')\n",
    "axes[1].set_ylabel('Actual EPSP Amplitude (mV)')\n",
    "axes[1].set_title('Actual')\n",
    "fig.tight_layout()\n",
    "fig.show()"
   ]
  },
  {
   "cell_type": "markdown",
   "metadata": {},
   "source": [
    "### Now the range of depolarization is starting to reduce driving force on AMPA-Rs, so we're observing sublinear integration:"
   ]
  },
  {
   "cell_type": "markdown",
   "metadata": {},
   "source": [
    "Let's compare the amplitudes directly:"
   ]
  },
  {
   "cell_type": "code",
   "execution_count": null,
   "metadata": {},
   "outputs": [],
   "source": [
    "expected_EPSP_amplitude_list = []\n",
    "actual_EPSP_amplitude_list = []\n",
    "for i in range(20):\n",
    "    this_expected_EPSP_amp = get_event_peak_amp(truncated_t, expected_compound_EPSP_list[i], baseline_window=(-10., 0.), \\\n",
    "                                                measurement_window=(0., 200.), direction=1.)\n",
    "    expected_EPSP_amplitude_list.append(this_expected_EPSP_amp)\n",
    "    this_actual_EPSP_amp = get_event_peak_amp(truncated_t, actual_compound_EPSP_list[i], baseline_window=(-10., 0.), \\\n",
    "                                                measurement_window=(0., 200.), direction=1.)\n",
    "    actual_EPSP_amplitude_list.append(this_actual_EPSP_amp)"
   ]
  },
  {
   "cell_type": "code",
   "execution_count": null,
   "metadata": {
    "scrolled": false
   },
   "outputs": [],
   "source": [
    "max_amp = 1.1 * max(max(expected_EPSP_amplitude_list), max(actual_EPSP_amplitude_list))\n",
    "plt.figure()\n",
    "plt.scatter(expected_EPSP_amplitude_list, actual_EPSP_amplitude_list, c='k')\n",
    "plt.plot((0., max_amp), (0., max_amp), '--', c='darkgrey')\n",
    "plt.xlabel('Expected EPSP Amplitude (mV)')\n",
    "plt.ylabel('Actual EPSP Amplitude (mV)')"
   ]
  },
  {
   "cell_type": "markdown",
   "metadata": {},
   "source": [
    "## 6. Adding NMDA-type glutamate receptors to acheive supralinear input summation."
   ]
  },
  {
   "cell_type": "markdown",
   "metadata": {},
   "source": [
    "Based on the Popescu et al., 2004 paper, NMDA-Rs are expected to facilitate in response to repeated activation for two reasons: <br>\n",
    "1. Mg2+ block will be partially alleviated with increased depolarization after the first pulse.\n",
    "2. NMDA-Rs are not saturated by glutamate on the first pulse, and so more channels can bind and open on a 2nd pulse."
   ]
  },
  {
   "cell_type": "markdown",
   "metadata": {},
   "source": [
    "I wrote a point process that emulates these characteristic features of NMDA-Rs: `FacilNMDA` <br>\n",
    "Let's take the first AMPA-type synapse that we had created, and we'll create a new `FacilNMDA` point process, and a new `NetCon` object, but we can actually share a `VecStim` with the AMPA synapse."
   ]
  },
  {
   "cell_type": "code",
   "execution_count": null,
   "metadata": {},
   "outputs": [],
   "source": [
    "AMPA_syn = syn_list[0]\n",
    "vs = vs_list[0]\n",
    "NMDA_syn = h.FacilNMDA(dend(0.75))\n",
    "NMDA_nc = h.NetCon(vs, NMDA_syn)\n",
    "NMDA_nc.delay = 0.\n",
    "NMDA_nc.weight[0] = 1.\n",
    "# This mechanism also uses the second element of the NetCon weight vector to specify the unitary single-pulse peak conductance\n",
    "NMDA_g_unit = 0.0025\n",
    "NMDA_nc.weight[1] = NMDA_g_unit\n",
    "\n",
    "AMPA_current = h.Vector()\n",
    "AMPA_current.record(AMPA_syn._ref_i, h.dt)\n",
    "NMDA_current = h.Vector()\n",
    "NMDA_current.record(NMDA_syn._ref_i, h.dt)"
   ]
  },
  {
   "cell_type": "markdown",
   "metadata": {},
   "source": [
    "### Let's stimulate both AMPA and NMDA with a single pulse:"
   ]
  },
  {
   "cell_type": "code",
   "execution_count": null,
   "metadata": {},
   "outputs": [],
   "source": [
    "presyn_spike_times_list = [250.]\n",
    "vs.play(h.Vector(presyn_spike_times_list))\n",
    "h.run()\n",
    "vs.play(h.Vector())"
   ]
  },
  {
   "cell_type": "code",
   "execution_count": null,
   "metadata": {},
   "outputs": [],
   "source": [
    "fig, axes = plt.subplots(2)\n",
    "axes[0].plot(t, soma_voltage, label='Soma Vm')\n",
    "axes[0].plot(t, dend_voltage, label='Dend Vm')\n",
    "axes[1].plot(t, AMPA_current, label='AMPA')\n",
    "axes[1].plot(t, NMDA_current, label='NMDA')\n",
    "axes[0].set_ylabel('Voltage (mV)')\n",
    "axes[1].set_ylabel('Current (nA)')\n",
    "axes[0].set_xlabel('Time (ms)')\n",
    "axes[1].set_xlabel('Time (ms)')\n",
    "axes[0].legend(loc='best', frameon=False, framealpha=0.5)\n",
    "axes[1].legend(loc='best', frameon=False, framealpha=0.5)\n",
    "fig.tight_layout()\n",
    "fig.show()"
   ]
  },
  {
   "cell_type": "markdown",
   "metadata": {},
   "source": [
    "### How about a train?"
   ]
  },
  {
   "cell_type": "code",
   "execution_count": null,
   "metadata": {},
   "outputs": [],
   "source": [
    "presyn_spike_times_list = [250. + 10. * i for i in range(5)]\n",
    "vs.play(h.Vector(presyn_spike_times_list))\n",
    "h.run()\n",
    "vs.play(h.Vector())"
   ]
  },
  {
   "cell_type": "code",
   "execution_count": null,
   "metadata": {},
   "outputs": [],
   "source": [
    "fig, axes = plt.subplots(2)\n",
    "axes[0].plot(t, soma_voltage, label='Soma Vm')\n",
    "axes[0].plot(t, dend_voltage, label='Dend Vm')\n",
    "axes[1].plot(t, AMPA_current, label='AMPA')\n",
    "axes[1].plot(t, NMDA_current, label='NMDA')\n",
    "axes[0].set_ylabel('Voltage (mV)')\n",
    "axes[1].set_ylabel('Current (nA)')\n",
    "axes[0].set_xlabel('Time (ms)')\n",
    "axes[1].set_xlabel('Time (ms)')\n",
    "axes[0].legend(loc='best', frameon=False, framealpha=0.5)\n",
    "axes[1].legend(loc='best', frameon=False, framealpha=0.5)\n",
    "fig.tight_layout()\n",
    "fig.show()"
   ]
  },
  {
   "cell_type": "markdown",
   "metadata": {},
   "source": [
    "### Now let's put NMDA-Rs at all of our 20 synaptic sites:"
   ]
  },
  {
   "cell_type": "code",
   "execution_count": null,
   "metadata": {},
   "outputs": [],
   "source": [
    "NMDA_syn_list = []\n",
    "NMDA_nc_list = []\n",
    "for i in range(20):\n",
    "    vs = vs_list[i]\n",
    "    NMDA_syn = h.FacilNMDA(dend(0.75))\n",
    "    NMDA_syn_list.append(NMDA_syn)\n",
    "    \n",
    "    NMDA_nc = h.NetCon(vs, NMDA_syn)\n",
    "    NMDA_nc.delay = 0.\n",
    "    NMDA_nc.weight[0] = 1.\n",
    "    # This mechanism also uses the second element of the NetCon weight vector to specify the unitary single-pulse peak conductance\n",
    "    NMDA_nc.weight[1] = NMDA_g_unit\n",
    "    NMDA_nc_list.append(NMDA_nc)"
   ]
  },
  {
   "cell_type": "markdown",
   "metadata": {},
   "source": [
    "### Now let's repeat our synaptic summation experiment:"
   ]
  },
  {
   "cell_type": "code",
   "execution_count": null,
   "metadata": {},
   "outputs": [],
   "source": [
    "presyn_spike_times_list = [250.]\n",
    "raw_soma_unitary_EPSP_list = []\n",
    "for i in range(20):\n",
    "    vs_list[i].play(h.Vector(presyn_spike_times_list))\n",
    "    h.run()\n",
    "    vs_list[i].play(h.Vector())\n",
    "    # save an array of the time base\n",
    "    if i == 0:\n",
    "        t_array = np.array(t)\n",
    "    soma_voltage_array = np.array(soma_voltage)\n",
    "    raw_soma_unitary_EPSP_list.append(soma_voltage_array)\n",
    "    vs_list[i].play(h.Vector())"
   ]
  },
  {
   "cell_type": "code",
   "execution_count": null,
   "metadata": {},
   "outputs": [],
   "source": [
    "# First let's baseline subtract and truncate these traces so that we can use them for offline summing:\n",
    "truncated_soma_unitary_EPSP_list, truncated_t = offset_and_truncate_trace_list(raw_soma_unitary_EPSP_list, t_array, start=250.)\n",
    "\n",
    "# Now we will build a list of traces with increasing numbers of units summed:\n",
    "expected_compound_EPSP_list = get_expected_compound_EPSP_list(truncated_soma_unitary_EPSP_list, truncated_t, ISI=0.3)"
   ]
  },
  {
   "cell_type": "code",
   "execution_count": null,
   "metadata": {},
   "outputs": [],
   "source": [
    "raw_soma_voltage_list = []\n",
    "\n",
    "ISI = 0.3\n",
    "t_offset = 0.\n",
    "for i in range(20):\n",
    "    presyn_spike_times_list = [250. + i * ISI]\n",
    "    vs_list[i].play(h.Vector(presyn_spike_times_list))\n",
    "    h.run()\n",
    "    if i == 0:\n",
    "        t_array = np.array(t)\n",
    "    soma_voltage_array = np.array(soma_voltage)\n",
    "    raw_soma_voltage_list.append(soma_voltage_array)\n",
    "    t_offset += ISI\n",
    "## remember to reset all the stimuli:\n",
    "for i in range(20):\n",
    "    vs_list[i].play(h.Vector())"
   ]
  },
  {
   "cell_type": "code",
   "execution_count": null,
   "metadata": {},
   "outputs": [],
   "source": [
    "actual_compound_EPSP_list, _ = offset_and_truncate_trace_list(raw_soma_voltage_list, t_array, start=250.)"
   ]
  },
  {
   "cell_type": "code",
   "execution_count": null,
   "metadata": {},
   "outputs": [],
   "source": [
    "fig, axes = plt.subplots(1, 2, sharey=True, figsize=(6., 5.))\n",
    "for i in range(20):\n",
    "    axes[0].plot(truncated_t, expected_compound_EPSP_list[i])\n",
    "    axes[1].plot(truncated_t, actual_compound_EPSP_list[i])\n",
    "axes[0].set_xlabel('Time (ms)')\n",
    "axes[1].set_xlabel('Time (ms)')\n",
    "axes[0].set_ylabel('Expected EPSP Amplitude (mV)')\n",
    "axes[0].set_title('Expected (Linear sum)')\n",
    "axes[1].set_ylabel('Actual EPSP Amplitude (mV)')\n",
    "axes[1].set_title('Actual')\n",
    "fig.tight_layout()\n",
    "fig.show()"
   ]
  },
  {
   "cell_type": "code",
   "execution_count": null,
   "metadata": {},
   "outputs": [],
   "source": [
    "expected_EPSP_amplitude_list = []\n",
    "actual_EPSP_amplitude_list = []\n",
    "for i in range(20):\n",
    "    this_expected_EPSP_amp = get_event_peak_amp(truncated_t, expected_compound_EPSP_list[i], baseline_window=(-10., 0.), \\\n",
    "                                                measurement_window=(0., 200.), direction=1.)\n",
    "    expected_EPSP_amplitude_list.append(this_expected_EPSP_amp)\n",
    "    this_actual_EPSP_amp = get_event_peak_amp(truncated_t, actual_compound_EPSP_list[i], baseline_window=(-10., 0.), \\\n",
    "                                                measurement_window=(0., 200.), direction=1.)\n",
    "    actual_EPSP_amplitude_list.append(this_actual_EPSP_amp)"
   ]
  },
  {
   "cell_type": "code",
   "execution_count": null,
   "metadata": {},
   "outputs": [],
   "source": [
    "max_amp = 1.1 * max(max(expected_EPSP_amplitude_list), max(actual_EPSP_amplitude_list))\n",
    "plt.figure()\n",
    "plt.scatter(expected_EPSP_amplitude_list, actual_EPSP_amplitude_list, c='k')\n",
    "plt.plot((0., max_amp), (0., max_amp), '--', c='darkgrey')\n",
    "plt.xlabel('Expected EPSP Amplitude (mV)')\n",
    "plt.ylabel('Actual EPSP Amplitude (mV)')"
   ]
  },
  {
   "cell_type": "markdown",
   "metadata": {},
   "source": [
    "### Supralinear summation!"
   ]
  },
  {
   "cell_type": "markdown",
   "metadata": {},
   "source": [
    "## 7. Papers for next week focusing on heterogeneity of interneuron cell types and their impact on dendritic integration.\n",
    "- Pouille, F., Scanziani, M. Routing of spike series by dynamic circuits in the hippocampus. Nature 429, 717–723 (2004). https://doi.org/10.1038/nature02615\n",
    "- Milstein, A., Bloss, E., Apostolides, P., Vaidya, S., Dilly, G., Zemelman, B., Magee, J. (2015). Inhibitory Gating of Input Comparison in the CA1 Microcircuit Neuron  87(6), 1274-1289. https://dx.doi.org/10.1016/j.neuron.2015.08.025"
   ]
  },
  {
   "cell_type": "code",
   "execution_count": null,
   "metadata": {},
   "outputs": [],
   "source": []
  }
 ],
 "metadata": {
  "kernelspec": {
   "display_name": "Python 3",
   "language": "python",
   "name": "python3"
  },
  "language_info": {
   "codemirror_mode": {
    "name": "ipython",
    "version": 3
   },
   "file_extension": ".py",
   "mimetype": "text/x-python",
   "name": "python",
   "nbconvert_exporter": "python",
   "pygments_lexer": "ipython3",
   "version": "3.7.6"
  }
 },
 "nbformat": 4,
 "nbformat_minor": 4
}
