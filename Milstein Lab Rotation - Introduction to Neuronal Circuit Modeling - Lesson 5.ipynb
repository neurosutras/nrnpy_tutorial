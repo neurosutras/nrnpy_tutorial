{
 "cells": [
  {
   "cell_type": "markdown",
   "metadata": {},
   "source": [
    "# Lesson 5: Introduction to excitatory and inhibitory synapses"
   ]
  },
  {
   "cell_type": "markdown",
   "metadata": {},
   "source": [
    "## Lesson goals:"
   ]
  },
  {
   "cell_type": "markdown",
   "metadata": {},
   "source": [
    "1. Discuss challenge from last week:\n",
    " - Reproduce Figures 2b, 3a, and 3c from Magee & Cook\n",
    "2. How to activate postsynaptic currents with presynaptic spikes in NEURON: exp2syn, NetCon and VecStim\n",
    "3. How to compute a synaptic I-V curve for an excitatory synapse (with AMPA-type glutamate receptors).\n",
    "4. How to populate a dendrite with many synapses.\n",
    "5. How to construct a random input pattern.\n",
    "6. How to compute a synaptic input-output curve.\n",
    "7. Introduction to inhibitory synapses (with GABA(A) receptors).\n",
    "7. Challenge: \n",
    " - Visualize the impact of inhibitory synaptic input on excitatory input summation."
   ]
  },
  {
   "cell_type": "markdown",
   "metadata": {},
   "source": [
    "## 1. Discuss challenge from last week:\n",
    "### Reproduce Figures 2b, 3a, and 3c from Magee & Cook"
   ]
  },
  {
   "cell_type": "code",
   "execution_count": null,
   "metadata": {},
   "outputs": [],
   "source": [
    "%matplotlib notebook\n",
    "import numpy as np\n",
    "import matplotlib.pyplot as plt\n",
    "from neuron import h\n",
    "h.load_file('stdrun.hoc')"
   ]
  },
  {
   "cell_type": "markdown",
   "metadata": {},
   "source": [
    "Let's construct the same two-compartment neuron as last week, with spiking mechanisms turned off."
   ]
  },
  {
   "cell_type": "code",
   "execution_count": null,
   "metadata": {},
   "outputs": [],
   "source": [
    "soma = h.Section()\n",
    "soma.L = 20.  # um\n",
    "soma.diam = 20.  # um\n",
    "soma.Ra = 100.  # MOhm\n",
    "\n",
    "soma.insert('hh')\n",
    "soma.gnabar_hh = 0.\n",
    "soma.gkbar_hh = 0.\n",
    "soma.gl_hh = 4.288E-04\n",
    "soma.el_hh = -65.\n",
    "\n",
    "t = h.Vector()\n",
    "soma_voltage = h.Vector()\n",
    "t.record(h._ref_t)  # record the time stamp\n",
    "soma_voltage.record(soma(0.5)._ref_v)  # record the voltage across the membrane in a segment\n",
    "\n",
    "dend = h.Section()\n",
    "dend.L = 300.\n",
    "dend.diam = 1.5\n",
    "dend.nseg = 9  # Split it into 9 parts to increase the spatial resolution of the simulation\n",
    "dend.Ra = 100.\n",
    "\n",
    "# parent section, parent location, child location\n",
    "dend.connect(soma, 1., 0.)\n",
    "\n",
    "dend.insert('hh')\n",
    "\n",
    "# Let's just simulate passive dendrites without Na or K channels for today.\n",
    "# Here is syntax for setting a membrane density parameter for all segments of a section at once:\n",
    "dend.gnabar_hh = 0.\n",
    "dend.gkbar_hh = 0.\n",
    "dend.gl_hh = 4.288E-04\n",
    "dend.el_hh = -65.\n",
    "\n",
    "dend_voltage_rec_list = []\n",
    "for seg in dend:\n",
    "    dend_rec = h.Vector()\n",
    "    dend_rec.record(seg._ref_v)  # record the voltage across the membrane in a segment\n",
    "    dend_voltage_rec_list.append(dend_rec)\n",
    "\n",
    "h.tstop = 600."
   ]
  },
  {
   "cell_type": "markdown",
   "metadata": {},
   "source": [
    "We need a stimulus to inject current into the dendrite:"
   ]
  },
  {
   "cell_type": "code",
   "execution_count": null,
   "metadata": {},
   "outputs": [],
   "source": [
    "dend_current_stim = h.IClamp(dend(1.))\n",
    "dend_current_stim.amp = 0.\n",
    "dend_current_stim.dur = 1e9  # the waveform will determine the duration\n",
    "dend_current_stim.delay = 0.  # the baseline is now built in to the waveform\n",
    "h.run()"
   ]
  },
  {
   "cell_type": "markdown",
   "metadata": {},
   "source": [
    "We want our stimulus to have exponential rise and decay like a synaptic current."
   ]
  },
  {
   "cell_type": "code",
   "execution_count": null,
   "metadata": {},
   "outputs": [],
   "source": [
    "t_array = np.array(t)\n",
    "rise_and_decay = np.exp(-(t_array - 200.) / 10.) - np.exp(-(t_array - 200.) / 0.5)\n",
    "rise_and_decay[np.where(t_array < 200.)[0]] = 0.\n",
    "rise_and_decay /= np.max(rise_and_decay)\n",
    "plt.figure()\n",
    "plt.plot(t_array, rise_and_decay)"
   ]
  },
  {
   "cell_type": "markdown",
   "metadata": {},
   "source": [
    "We can play our stimulus waveform into our stimulus object:"
   ]
  },
  {
   "cell_type": "code",
   "execution_count": null,
   "metadata": {},
   "outputs": [],
   "source": [
    "dend_stim_waveform_amp = 0.02 # nA\n",
    "dend_stim_amp_vector = h.Vector(dend_stim_waveform_amp * rise_and_decay)\n",
    "dend_stim_t_vector = h.Vector(t_array)\n",
    "dend_stim_amp_vector.play(dend_current_stim._ref_amp, dend_stim_t_vector)"
   ]
  },
  {
   "cell_type": "code",
   "execution_count": null,
   "metadata": {},
   "outputs": [],
   "source": [
    "h.run()\n",
    "\n",
    "fig, axes = plt.subplots(1, 2, sharex=True)\n",
    "t_array = np.array(t)\n",
    "soma_voltage_array = np.array(soma_voltage)\n",
    "baseline_indexes = np.where((t_array >= 190.) & (t_array < 200.))[0]\n",
    "EPSP_indexes = np.where((t_array >= 200.) & (t_array < 250.))[0]\n",
    "baseline = np.mean(soma_voltage_array[baseline_indexes])\n",
    "soma_voltage_array -= baseline\n",
    "axes[0].plot(t, soma_voltage_array, label='Soma')\n",
    "axes[1].plot(t, soma_voltage_array / np.max(soma_voltage_array[EPSP_indexes]))\n",
    "\n",
    "for dend_voltage, seg in zip(dend_voltage_rec_list, dend):\n",
    "    distance = dend.L * seg.x\n",
    "    dend_voltage_array = np.array(dend_voltage)\n",
    "    baseline = np.mean(dend_voltage_array[baseline_indexes])\n",
    "    dend_voltage_array -= baseline\n",
    "    axes[0].plot(t, dend_voltage_array, label='Dend (%.2f um)' % distance)\n",
    "    axes[1].plot(t, dend_voltage_array / np.max(dend_voltage_array[EPSP_indexes]))\n",
    "\n",
    "axes[0].legend(loc='best', frameon=False, framealpha=0.5)\n",
    "axes[0].set_ylabel('Amplitude (mV)')\n",
    "axes[0].set_xlabel('Time (ms)')\n",
    "axes[1].set_ylabel('Normalized amplitude (mV)')\n",
    "axes[0].set_xlim((190., 250.))\n",
    "axes[0].set_ylim((-0.5, axes[0].get_ylim()[1]))\n",
    "axes[1].set_ylim((-0.5, axes[1].get_ylim()[1]))\n",
    "\n",
    "fig.tight_layout()"
   ]
  },
  {
   "cell_type": "markdown",
   "metadata": {},
   "source": [
    "- Iterate over dendritic segments.\n",
    "- Move the dendritic stimulus to the new site.\n",
    "- Record local dendritic and remote somatic voltage.\n",
    "- Save the data into a sim_history data structure."
   ]
  },
  {
   "cell_type": "code",
   "execution_count": null,
   "metadata": {},
   "outputs": [],
   "source": [
    "sim_history = []\n",
    "for i, seg in enumerate(dend):\n",
    "    sim_record = {}\n",
    "    sim_record['stim_distance'] = seg.x * dend.L\n",
    "    \n",
    "    dend_current_stim = h.IClamp(dend(seg.x))\n",
    "    dend_current_stim.amp = 0.\n",
    "    dend_current_stim.dur = 1e9  # the waveform will determine the duration\n",
    "    dend_current_stim.delay = 0.  # the baseline is now built in to the waveform\n",
    "    \n",
    "    dend_stim_waveform_amp = 0.02 # nA\n",
    "    dend_stim_amp_vector = h.Vector(dend_stim_waveform_amp * rise_and_decay)\n",
    "    dend_stim_amp_vector.play(dend_current_stim._ref_amp, dend_stim_t_vector)\n",
    "    \n",
    "    h.run()\n",
    "    \n",
    "    sim_record['t'] = np.array(t)\n",
    "    sim_record['soma_voltage'] = np.array(soma_voltage)\n",
    "    sim_record['dend_voltage'] = np.array(dend_voltage_rec_list[i])\n",
    "        \n",
    "    sim_history.append(sim_record)"
   ]
  },
  {
   "cell_type": "code",
   "execution_count": null,
   "metadata": {},
   "outputs": [],
   "source": [
    "fig, axes = plt.subplots(1, 2, sharex=True)\n",
    "\n",
    "for sim_record in sim_history:\n",
    "    t_array = sim_record['t']\n",
    "    soma_voltage_array = np.copy(sim_record['soma_voltage'])\n",
    "    distance = sim_record['stim_distance']\n",
    "    baseline_indexes = np.where((t_array >= 190.) & (t_array < 200.))[0]\n",
    "    baseline = np.mean(soma_voltage_array[baseline_indexes])\n",
    "    soma_voltage_array -= baseline\n",
    "    sim_record['soma_amplitude'] = np.copy(soma_voltage_array)\n",
    "    axes[0].plot(t, soma_voltage_array, label='%.1f um from soma' % distance)\n",
    "    \n",
    "    dend_voltage_array = np.copy(sim_record['dend_voltage'])\n",
    "    baseline = np.mean(dend_voltage_array[baseline_indexes])\n",
    "    dend_voltage_array -= baseline\n",
    "    sim_record['dend_amplitude'] = np.copy(dend_voltage_array)\n",
    "    axes[1].plot(t, dend_voltage_array)\n",
    "\n",
    "axes[0].set_title('Soma recording')\n",
    "axes[1].set_title('Dend recording')\n",
    "axes[0].legend(loc='best', frameon=False, framealpha=0.5)\n",
    "axes[0].set_ylabel('Amplitude (mV)')\n",
    "axes[0].set_xlabel('Time (ms)')\n",
    "axes[1].set_xlabel('Time (ms)')\n",
    "axes[0].set_xlim((190., 250.))\n",
    "axes[0].set_ylim((-0.5, axes[1].get_ylim()[1]))\n",
    "axes[1].set_ylim((-0.5, axes[1].get_ylim()[1]))\n",
    "\n",
    "fig.tight_layout()"
   ]
  },
  {
   "cell_type": "markdown",
   "metadata": {},
   "source": [
    "Now let's measure the amplitude and rise time of these events in soma and dendrite:"
   ]
  },
  {
   "cell_type": "code",
   "execution_count": null,
   "metadata": {},
   "outputs": [],
   "source": [
    "soma_rise = []\n",
    "dend_rise = []\n",
    "soma_amp = []\n",
    "dend_amp = []\n",
    "distances = []\n",
    "\n",
    "for sim_record in sim_history:\n",
    "    \n",
    "    distances.append(sim_record['stim_distance'])\n",
    "    \n",
    "    t_array = sim_record['t']\n",
    "    EPSP_indexes = np.where((t_array >= 200.) & (t_array < 250.))[0]\n",
    "\n",
    "    soma_amplitude_array = sim_record['soma_amplitude']\n",
    "    this_soma_amp = np.max(soma_amplitude_array[EPSP_indexes])\n",
    "    soma_amp.append(this_soma_amp)\n",
    "    \n",
    "    soma_peak_index = np.argmax(soma_amplitude_array[EPSP_indexes])\n",
    "    this_soma_rise = t_array[EPSP_indexes][soma_peak_index] - 200.\n",
    "    soma_rise.append(this_soma_rise)\n",
    "    \n",
    "    dend_amplitude_array = sim_record['dend_amplitude']\n",
    "    this_dend_amp = np.max(dend_amplitude_array[EPSP_indexes])\n",
    "    dend_amp.append(this_dend_amp)\n",
    "    \n",
    "    dend_peak_index = np.argmax(dend_amplitude_array[EPSP_indexes])\n",
    "    this_dend_rise = t_array[EPSP_indexes][dend_peak_index] - 200.\n",
    "    dend_rise.append(this_dend_rise)"
   ]
  },
  {
   "cell_type": "code",
   "execution_count": null,
   "metadata": {},
   "outputs": [],
   "source": [
    "fig, axes = plt.subplots(1, 2, sharex=True)\n",
    "\n",
    "axes[0].plot(distances, soma_amp, label='Soma')\n",
    "axes[0].plot(distances, dend_amp, label='Dend')\n",
    "axes[1].plot(distances, soma_rise, label='Soma')\n",
    "axes[1].plot(distances, dend_rise, label='Dend')\n",
    "\n",
    "axes[0].set_title('EPSP amplitude')\n",
    "axes[1].set_title('EPSP rise time')\n",
    "axes[0].legend(loc='best', frameon=False, framealpha=0.5)\n",
    "axes[1].legend(loc='best', frameon=False, framealpha=0.5)\n",
    "axes[0].set_ylabel('Amplitude (mV)')\n",
    "axes[1].set_ylabel('Rise time (ms)')\n",
    "axes[0].set_xlabel('Distance from soma (um)')\n",
    "axes[1].set_xlabel('Distance from soma (um)')\n",
    "\n",
    "fig.tight_layout()"
   ]
  },
  {
   "cell_type": "markdown",
   "metadata": {
    "scrolled": false
   },
   "source": [
    "## 2. How to activate postsynaptic currents with presynaptic spikes in NEURON: exp2syn, NetCon and VecStim"
   ]
  },
  {
   "cell_type": "markdown",
   "metadata": {},
   "source": [
    "Last week we manually constructed an EPSC-shaped current waveform to inject into the dendrite.\n",
    "\n",
    "Let's turn that off:"
   ]
  },
  {
   "cell_type": "code",
   "execution_count": null,
   "metadata": {},
   "outputs": [],
   "source": [
    "dend_current_stim.dur = 0."
   ]
  },
  {
   "cell_type": "markdown",
   "metadata": {},
   "source": [
    "But real synapses are conductance-based, so the current amplitude varies with membrane voltage.\n",
    "\n",
    "Also, how do we trigger synaptic responses with spikes?"
   ]
  },
  {
   "cell_type": "markdown",
   "metadata": {},
   "source": [
    "Let's use a synaptic point process that generates a current with exponential rise and decay whenever it is triggered by a spike source:\n",
    "\n",
    "Let's take a look at the source code in exp2EPSG.mod, and don't forget to complile this new mechanism with `nrnivmodl`"
   ]
  },
  {
   "cell_type": "code",
   "execution_count": null,
   "metadata": {},
   "outputs": [],
   "source": [
    "# Let's insert a synapse in the dendrite ~150 um from the soma:\n",
    "syn = h.Exp2EPSG(dend(0.5))"
   ]
  },
  {
   "cell_type": "code",
   "execution_count": null,
   "metadata": {},
   "outputs": [],
   "source": [
    "# tab to complete to explore attributes of the synaptic point process object:\n",
    "syn."
   ]
  },
  {
   "cell_type": "markdown",
   "metadata": {},
   "source": [
    "We can control the rise and decay kinetics of this current with the `tau1` and `tau2` attributes:"
   ]
  },
  {
   "cell_type": "code",
   "execution_count": null,
   "metadata": {},
   "outputs": [],
   "source": [
    "syn.tau1 = 0.5\n",
    "syn.tau2 = 10."
   ]
  },
  {
   "cell_type": "markdown",
   "metadata": {},
   "source": [
    "The `h.NetCon` object is used to deliver spikes detected in a presynaptic spike detector to a postsynaptic target point process.\n",
    "\n",
    "But in this case we don't have a presynaptic cell, we just want to manually define a vector of spike times.\n",
    "\n",
    "For this we need a special \"Artificial Cell\" called a `VecStim`"
   ]
  },
  {
   "cell_type": "code",
   "execution_count": null,
   "metadata": {},
   "outputs": [],
   "source": [
    "vs = h.VecStim()"
   ]
  },
  {
   "cell_type": "code",
   "execution_count": null,
   "metadata": {},
   "outputs": [],
   "source": [
    "# tab to complete to explore attributes of the VecStim object:\n",
    "vs.\n",
    "\n",
    "# The play() method can be used to load a vector of spike times"
   ]
  },
  {
   "cell_type": "markdown",
   "metadata": {},
   "source": [
    "Now we can connect the VecStim to our synaptic point process using a `NetCon`:"
   ]
  },
  {
   "cell_type": "code",
   "execution_count": null,
   "metadata": {},
   "outputs": [],
   "source": [
    "nc = h.NetCon(vs, syn)"
   ]
  },
  {
   "cell_type": "code",
   "execution_count": null,
   "metadata": {},
   "outputs": [],
   "source": [
    "# tab to complete to explore attributes of the NetCon object:\n",
    "nc."
   ]
  },
  {
   "cell_type": "markdown",
   "metadata": {},
   "source": [
    "What are the default values of the `delay` and `weight` attributes?"
   ]
  },
  {
   "cell_type": "code",
   "execution_count": null,
   "metadata": {},
   "outputs": [],
   "source": [
    "print('Delay:', nc.delay, 'Weight', nc.weight)"
   ]
  },
  {
   "cell_type": "markdown",
   "metadata": {},
   "source": [
    "The `delay` attribute is used to emulate axonal conduction delays. For now, we want our spikes to activate synapses without delay, so this can be set to zero."
   ]
  },
  {
   "cell_type": "code",
   "execution_count": null,
   "metadata": {},
   "outputs": [],
   "source": [
    "nc.delay = 0."
   ]
  },
  {
   "cell_type": "markdown",
   "metadata": {},
   "source": [
    "The `weight` attribute of a `NetCon` is actually a vector. For the EPSG mechanism, just the first element in this vector is used, and it controls the amplitude of the postsynaptic current:"
   ]
  },
  {
   "cell_type": "code",
   "execution_count": null,
   "metadata": {},
   "outputs": [],
   "source": [
    "print('Delay:', nc.delay, 'Weight', nc.weight[0])"
   ]
  },
  {
   "cell_type": "markdown",
   "metadata": {},
   "source": [
    "Let's set the `weight` attribute to be one for now (the synaptic amplitude is also controlled by the `gmax` attribute of the EPSG object)."
   ]
  },
  {
   "cell_type": "code",
   "execution_count": null,
   "metadata": {},
   "outputs": [],
   "source": [
    "nc.weight[0] = 1."
   ]
  },
  {
   "cell_type": "markdown",
   "metadata": {},
   "source": [
    "Now we need a spike train to play into our `VecStim` --> `NetCon` --> `EPSG` object chain."
   ]
  },
  {
   "cell_type": "code",
   "execution_count": null,
   "metadata": {},
   "outputs": [],
   "source": [
    "presyn_spike_times_list = [200.]\n",
    "vs.play(h.Vector(presyn_spike_times_list))"
   ]
  },
  {
   "cell_type": "markdown",
   "metadata": {},
   "source": [
    "### Run a simulation and plot the results:"
   ]
  },
  {
   "cell_type": "code",
   "execution_count": null,
   "metadata": {},
   "outputs": [],
   "source": [
    "h.run()\n",
    "\n",
    "# It's good practice to play an empty vector in to the `VecStim` at the end of every simulation to \"reset\" it.\n",
    "vs.play(h.Vector())"
   ]
  },
  {
   "cell_type": "code",
   "execution_count": null,
   "metadata": {},
   "outputs": [],
   "source": [
    "fig, axes = plt.subplots(1, 2)\n",
    "axes[0].plot(t, soma_voltage)\n",
    "axes[0].set_title('Soma Vm')\n",
    "for i, seg in enumerate(dend):\n",
    "    distance = seg.x * dend.L\n",
    "    dend_voltage_rec = dend_voltage_rec_list[i]\n",
    "    axes[1].plot(t, dend_voltage_rec)\n",
    "axes[1].set_title('Dend Vm')\n",
    "axes[0].set_ylabel('Voltage (mV)')\n",
    "axes[0].set_xlabel('Time (ms)')\n",
    "axes[0].legend(loc='best', frameon=False, framealpha=0.5)\n",
    "fig.tight_layout()\n",
    "fig.show()"
   ]
  },
  {
   "cell_type": "markdown",
   "metadata": {},
   "source": [
    "That was way too much current! A single even almost reached the reversal potential of 0 mV!"
   ]
  },
  {
   "cell_type": "code",
   "execution_count": null,
   "metadata": {},
   "outputs": [],
   "source": [
    "exc_syn_gmax = 0.00015\n",
    "syn.gmax = exc_syn_gmax\n",
    "vs.play(h.Vector(presyn_spike_times_list))\n",
    "h.run()\n",
    "vs.play(h.Vector())"
   ]
  },
  {
   "cell_type": "code",
   "execution_count": null,
   "metadata": {},
   "outputs": [],
   "source": [
    "fig, axes = plt.subplots(1, 2, sharex=True)\n",
    "axes[0].plot(t, soma_voltage)\n",
    "axes[0].set_title('Soma Vm')\n",
    "for i, seg in enumerate(dend):\n",
    "    distance = seg.x * dend.L\n",
    "    dend_voltage_rec = dend_voltage_rec_list[i]\n",
    "    axes[1].plot(t, dend_voltage_rec)\n",
    "axes[1].set_title('Dend Vm')\n",
    "axes[0].set_ylabel('Voltage (mV)')\n",
    "axes[0].set_xlabel('Time (ms)')\n",
    "axes[0].legend(loc='best', frameon=False, framealpha=0.5)\n",
    "axes[0].set_xlim((190., 250.))\n",
    "fig.tight_layout()\n",
    "fig.show()"
   ]
  },
  {
   "cell_type": "markdown",
   "metadata": {},
   "source": [
    "This is better. ~10 pA EPSC and ~0.5 mV EPSP at the soma is more realistic."
   ]
  },
  {
   "cell_type": "markdown",
   "metadata": {},
   "source": [
    "## 3. How to compute a synaptic I-V curve for an excitatory synapse (with AMPA-type glutamate receptors)."
   ]
  },
  {
   "cell_type": "markdown",
   "metadata": {},
   "source": [
    "Now that we're stimulating a conductance-based synapse, the current through the synaptic receptors should depend on the distance between Vm and E, the reversal potential of the receptor. In this case, AMPA-Rs have a reversal potential of 0 mV.\n",
    "\n",
    "So we'll need to use a somatic step current injection to drive the Vm to different levels, and we'll need to record the current through the receptors."
   ]
  },
  {
   "cell_type": "code",
   "execution_count": null,
   "metadata": {},
   "outputs": [],
   "source": [
    "step_current_stim = h.IClamp(soma(0.5))\n",
    "step_current_stim.dur = 600.\n",
    "step_current_stim.delay = 0.\n",
    "\n",
    "syn_current = h.Vector()\n",
    "syn_current.record(syn._ref_i, h.dt)"
   ]
  },
  {
   "cell_type": "markdown",
   "metadata": {},
   "source": [
    "Now let's iterate over values of step current injection to make sure we're covering values of Vm in a reasonable range from -80 mV to +80 mV:"
   ]
  },
  {
   "cell_type": "code",
   "execution_count": null,
   "metadata": {},
   "outputs": [],
   "source": [
    "plt.figure()\n",
    "for stim_amp in np.arange(-0.2, 1.6, 0.1):\n",
    "    step_current_stim.amp = stim_amp\n",
    "    h.run()\n",
    "    plt.plot(t, soma_voltage)\n",
    "    plt.xlabel('Time (ms)')\n",
    "    plt.ylabel('Voltage (mV)')"
   ]
  },
  {
   "cell_type": "markdown",
   "metadata": {},
   "source": [
    "Now let's stimulate our one synapse on the background of different levels of Vm depolarization:"
   ]
  },
  {
   "cell_type": "code",
   "execution_count": null,
   "metadata": {},
   "outputs": [],
   "source": [
    "# first set the synapse to receive a spike at 200 ms\n",
    "presyn_spike_times_list = [200.]\n",
    "vs.play(h.Vector(presyn_spike_times_list))\n",
    "\n",
    "sim_history = []\n",
    "for stim_amp in np.arange(-0.2, 1.6, 0.1):\n",
    "    step_current_stim.amp = stim_amp\n",
    "    sim_record = {}\n",
    "    sim_record['stim_amp'] = stim_amp\n",
    "    \n",
    "    h.run()\n",
    "    \n",
    "    sim_record['t'] = np.array(t)\n",
    "    sim_record['soma_voltage'] = np.array(soma_voltage)\n",
    "    sim_record['syn_current'] = np.array(syn_current)\n",
    "            \n",
    "    sim_history.append(sim_record)\n",
    "    \n",
    "step_current_stim.amp = 0.  # turn off the somatic step current\n",
    "vs.play(h.Vector())  # reset the synapse to receive zero spikes"
   ]
  },
  {
   "cell_type": "markdown",
   "metadata": {},
   "source": [
    "Now let's plot the traces and collect the values of Vm and peak synaptic current amplitude:"
   ]
  },
  {
   "cell_type": "code",
   "execution_count": null,
   "metadata": {},
   "outputs": [],
   "source": [
    "soma_Vm = []\n",
    "syn_current_peak_amp = []\n",
    "\n",
    "fig, axes = plt.subplots(1, 3, figsize=(10., 4.))\n",
    "for sim_record in sim_history:\n",
    "    t_array = sim_record['t']\n",
    "    soma_voltage_array = sim_record['soma_voltage']\n",
    "    background_indexes = np.where((t_array >= 190.) & (t_array < 200.))[0]\n",
    "    this_soma_vm = np.mean(soma_voltage_array[background_indexes])\n",
    "    soma_Vm.append(this_soma_vm)\n",
    "    \n",
    "    syn_current_array = sim_record['syn_current']\n",
    "    EPSP_indexes = np.where((t_array >= 200.) & (t_array < 250.))[0]\n",
    "    \n",
    "    peak_index = np.argmax(np.abs(syn_current_array[EPSP_indexes]))\n",
    "    this_peak_amp = syn_current_array[EPSP_indexes][peak_index]\n",
    "    syn_current_peak_amp.append(this_peak_amp)\n",
    "    \n",
    "    axes[0].plot(t, soma_voltage_array)\n",
    "    axes[1].plot(t, syn_current_array)\n",
    "\n",
    "axes[0].set_ylabel('Voltage (mV)')\n",
    "axes[0].set_xlabel('Time (ms)')\n",
    "axes[0].set_xlim((190., 250.))\n",
    "axes[1].set_ylabel('Peak current amplitude (nA)')\n",
    "axes[1].set_xlabel('Time (ms)')\n",
    "axes[1].set_xlim((190., 250.))\n",
    "axes[2].plot(soma_Vm, syn_current_peak_amp)\n",
    "axes[2].plot([np.min(soma_Vm), np.max(soma_Vm)], (0., 0.), '--', c='grey')\n",
    "axes[2].plot((0., 0.), [np.min(syn_current_peak_amp), np.max(syn_current_peak_amp)], '--', c='grey')\n",
    "axes[2].set_xlabel('Voltage (mV)')\n",
    "axes[2].set_ylabel('Current (nA)')\n",
    "\n",
    "fig.tight_layout()"
   ]
  },
  {
   "cell_type": "markdown",
   "metadata": {},
   "source": [
    "Why didn't this reverse at exactly 0 mV?"
   ]
  },
  {
   "cell_type": "markdown",
   "metadata": {},
   "source": [
    "## 4. How to populate a dendrite with many synapses."
   ]
  },
  {
   "cell_type": "markdown",
   "metadata": {},
   "source": [
    "We'll have to keep a list of all of the objects we need to stimulate 500 synapses:"
   ]
  },
  {
   "cell_type": "code",
   "execution_count": null,
   "metadata": {},
   "outputs": [],
   "source": [
    "num_exc_syns = 500\n",
    "exc_syn_list = []\n",
    "exc_vec_stim_list = []\n",
    "exc_netcon_list = []\n",
    "exc_syn_locs = []\n",
    "\n",
    "random_seed = 0\n",
    "local_random = np.random.RandomState()\n",
    "local_random.seed(random_seed)\n",
    "\n",
    "for i in range(num_exc_syns):\n",
    "    syn_loc = local_random.random()  # random number between 0 and 1\n",
    "    exc_syn_locs.append(syn_loc)\n",
    "    \n",
    "    syn = h.Exp2EPSG(dend(syn_loc))\n",
    "    syn.gmax = exc_syn_gmax\n",
    "    exc_syn_list.append(syn)\n",
    "    \n",
    "    vs = h.VecStim()\n",
    "    exc_vec_stim_list.append(vs)\n",
    "    \n",
    "    nc = h.NetCon(vs, syn)\n",
    "    nc.delay = 0.\n",
    "    nc.weight[0] = 1.\n",
    "    exc_netcon_list.append(nc)"
   ]
  },
  {
   "cell_type": "markdown",
   "metadata": {},
   "source": [
    "## 5. How to construct a random input pattern."
   ]
  },
  {
   "cell_type": "markdown",
   "metadata": {},
   "source": [
    "Let's stimulate each synapse with just one spike within a 200 ms window."
   ]
  },
  {
   "cell_type": "code",
   "execution_count": null,
   "metadata": {},
   "outputs": [],
   "source": [
    "exc_syn_spike_time_list = []\n",
    "for i in range(num_exc_syns):\n",
    "    spike_times = [local_random.uniform(200., 400.)]\n",
    "    exc_syn_spike_time_list.append(spike_times)"
   ]
  },
  {
   "cell_type": "markdown",
   "metadata": {},
   "source": [
    "How let's run 500 simulations, where the number of stimulated inputs increases from 1 to 500!"
   ]
  },
  {
   "cell_type": "code",
   "execution_count": null,
   "metadata": {},
   "outputs": [],
   "source": [
    "sim_history = []\n",
    "for i in range(num_exc_syns):\n",
    "    vs = exc_vec_stim_list[i]\n",
    "    spike_times = exc_syn_spike_time_list[i]\n",
    "    vs.play(h.Vector(spike_times))\n",
    "    \n",
    "    sim_record = {}\n",
    "    sim_record['num_stim_exc_syns'] = i + 1\n",
    "    \n",
    "    h.run()\n",
    "    \n",
    "    sim_record['t'] = np.array(t)\n",
    "    sim_record['soma_voltage'] = np.array(soma_voltage)\n",
    "    sim_record['dend_voltage'] = np.array(dend_voltage_rec_list[4])  # This dend recording is in the center of the dendrite.\n",
    "    \n",
    "    sim_history.append(sim_record)"
   ]
  },
  {
   "cell_type": "markdown",
   "metadata": {},
   "source": [
    "We should reset all the vec_stims to zero input spikes:"
   ]
  },
  {
   "cell_type": "code",
   "execution_count": null,
   "metadata": {},
   "outputs": [],
   "source": [
    "for i in range(num_exc_syns):\n",
    "    vs = exc_vec_stim_list[i]\n",
    "    vs.play(h.Vector())"
   ]
  },
  {
   "cell_type": "markdown",
   "metadata": {},
   "source": [
    "Let's plot the results!"
   ]
  },
  {
   "cell_type": "code",
   "execution_count": null,
   "metadata": {},
   "outputs": [],
   "source": [
    "import matplotlib.colors\n",
    "\n",
    "cmap = plt.get_cmap(\"viridis\", num_exc_syns)\n",
    "norm = matplotlib.colors.Normalize(vmin=0, vmax=num_exc_syns)\n",
    "sm = plt.cm.ScalarMappable(norm=norm, cmap=cmap)\n",
    "\n",
    "fig, axes = plt.subplots(1, 2, sharex=True)\n",
    "\n",
    "for i, sim_record in enumerate(sim_history):\n",
    "    t_array = sim_record['t']\n",
    "    soma_voltage_array = np.copy(sim_record['soma_voltage'])\n",
    "    num_stim_exc_syns = sim_record['num_stim_exc_syns']\n",
    "    baseline_indexes = np.where((t_array >= 190.) & (t_array < 200.))[0]\n",
    "    baseline = np.mean(soma_voltage_array[baseline_indexes])\n",
    "    soma_voltage_array -= baseline\n",
    "    sim_record['soma_amplitude'] = np.copy(soma_voltage_array)\n",
    "    axes[0].plot(t, soma_voltage_array, c=cmap(i))\n",
    "    \n",
    "    dend_voltage_array = np.copy(sim_record['dend_voltage'])\n",
    "    baseline = np.mean(dend_voltage_array[baseline_indexes])\n",
    "    dend_voltage_array -= baseline\n",
    "    sim_record['dend_amplitude'] = np.copy(dend_voltage_array)\n",
    "    axes[1].plot(t, dend_voltage_array, c=cmap(i))\n",
    "\n",
    "cbar = fig.colorbar(sm)\n",
    "cbar.set_label('Number of exc syns', rotation=270., labelpad=15.)\n",
    "axes[0].set_title('Soma recording')\n",
    "axes[1].set_title('Dend recording')\n",
    "# axes[0].legend(loc='best', frameon=False, framealpha=0.5)\n",
    "axes[0].set_ylabel('Amplitude (mV)')\n",
    "axes[0].set_xlabel('Time (ms)')\n",
    "axes[1].set_xlabel('Time (ms)')\n",
    "axes[0].set_xlim((190., 450.))\n",
    "axes[0].set_ylim((-0.5, axes[1].get_ylim()[1]))\n",
    "axes[1].set_ylim((-0.5, axes[1].get_ylim()[1]))\n",
    "\n",
    "fig.tight_layout()"
   ]
  },
  {
   "cell_type": "markdown",
   "metadata": {},
   "source": [
    "## 6. How to compute a synaptic input-output curve."
   ]
  },
  {
   "cell_type": "code",
   "execution_count": null,
   "metadata": {},
   "outputs": [],
   "source": [
    "mean_soma_vm = []\n",
    "mean_dend_vm = []\n",
    "num_stim_exc_syns = []\n",
    "\n",
    "for sim_record in sim_history:\n",
    "    t_array = sim_record['t']\n",
    "    soma_voltage_array = sim_record['soma_amplitude']\n",
    "    stim_indexes = np.where((t_array >= 200.) & (t_array < 400.))[0]\n",
    "    this_mean_soma_vm = np.mean(soma_voltage_array[stim_indexes])\n",
    "    mean_soma_vm.append(this_mean_soma_vm)\n",
    "    \n",
    "    dend_voltage_array = sim_record['dend_amplitude']\n",
    "    this_mean_dend_vm = np.mean(dend_voltage_array[stim_indexes])\n",
    "    mean_dend_vm.append(this_mean_dend_vm)\n",
    "    \n",
    "    num_stim_exc_syns.append(sim_record['num_stim_exc_syns'])"
   ]
  },
  {
   "cell_type": "code",
   "execution_count": null,
   "metadata": {},
   "outputs": [],
   "source": [
    "plt.figure()\n",
    "plt.plot(num_stim_exc_syns, mean_soma_vm, label='Soma amp')\n",
    "plt.plot(num_stim_exc_syns, mean_dend_vm, label='Dend amp')\n",
    "plt.legend(loc='best', frameon=False)\n",
    "plt.xlabel('Number of stimulated exc synapses')\n",
    "plt.ylabel('Amplitude (mV)')"
   ]
  },
  {
   "cell_type": "code",
   "execution_count": null,
   "metadata": {},
   "outputs": [],
   "source": []
  },
  {
   "cell_type": "code",
   "execution_count": null,
   "metadata": {},
   "outputs": [],
   "source": []
  },
  {
   "cell_type": "markdown",
   "metadata": {},
   "source": [
    "## 7. Introduction to inhibitory synapses (with GABA(A) receptors)."
   ]
  },
  {
   "cell_type": "code",
   "execution_count": null,
   "metadata": {},
   "outputs": [],
   "source": [
    "i_syn = h.Exp2EPSG(dend(0.5))\n",
    "i_syn.tau1 = 0.5\n",
    "i_syn.tau2 = 10.\n",
    "i_syn.e = -70.  # mV GABA(A) receptors have a reversal potential of ~-70 mV\n",
    "i_syn_gmax = exc_syn_gmax\n",
    "\n",
    "i_syn_current = h.Vector()\n",
    "i_syn_current.record(i_syn._ref_i, h.dt)\n",
    "\n",
    "i_vs = h.VecStim()\n",
    "i_nc = h.NetCon(i_vs, i_syn)\n",
    "i_nc.delay = 0.\n",
    "i_nc.weight[0] = 1."
   ]
  },
  {
   "cell_type": "markdown",
   "metadata": {},
   "source": [
    "We can compute an I-V curve for this inhibitory synaptic receptor, too."
   ]
  },
  {
   "cell_type": "code",
   "execution_count": null,
   "metadata": {},
   "outputs": [],
   "source": [
    "# first set the synapse to receive a spike at 200 ms\n",
    "presyn_spike_times_list = [200.]\n",
    "i_vs.play(h.Vector(presyn_spike_times_list))\n",
    "\n",
    "sim_history = []\n",
    "for stim_amp in np.arange(-0.2, 1.6, 0.1):\n",
    "    step_current_stim.amp = stim_amp\n",
    "    sim_record = {}\n",
    "    sim_record['stim_amp'] = stim_amp\n",
    "    \n",
    "    h.run()\n",
    "    \n",
    "    sim_record['t'] = np.array(t)\n",
    "    sim_record['soma_voltage'] = np.array(soma_voltage)\n",
    "    sim_record['i_syn_current'] = np.array(i_syn_current)\n",
    "            \n",
    "    sim_history.append(sim_record)\n",
    "    \n",
    "step_current_stim.amp = 0.  # turn off the somatic step current\n",
    "i_vs.play(h.Vector())  # reset the synapse to receive zero spikes"
   ]
  },
  {
   "cell_type": "code",
   "execution_count": null,
   "metadata": {},
   "outputs": [],
   "source": [
    "soma_Vm = []\n",
    "syn_current_peak_amp = []\n",
    "\n",
    "fig, axes = plt.subplots(1, 3, figsize=(10., 4.))\n",
    "for sim_record in sim_history:\n",
    "    t_array = sim_record['t']\n",
    "    soma_voltage_array = sim_record['soma_voltage']\n",
    "    background_indexes = np.where((t_array >= 190.) & (t_array < 200.))[0]\n",
    "    this_soma_vm = np.mean(soma_voltage_array[background_indexes])\n",
    "    soma_Vm.append(this_soma_vm)\n",
    "    \n",
    "    syn_current_array = sim_record['i_syn_current']\n",
    "    EPSP_indexes = np.where((t_array >= 200.) & (t_array < 250.))[0]\n",
    "    \n",
    "    peak_index = np.argmax(np.abs(syn_current_array[EPSP_indexes]))\n",
    "    this_peak_amp = syn_current_array[EPSP_indexes][peak_index]\n",
    "    syn_current_peak_amp.append(this_peak_amp)\n",
    "    \n",
    "    axes[0].plot(t, soma_voltage_array)\n",
    "    axes[1].plot(t, syn_current_array)\n",
    "\n",
    "axes[0].set_ylabel('Voltage (mV)')\n",
    "axes[0].set_xlabel('Time (ms)')\n",
    "axes[0].set_xlim((190., 300.))\n",
    "axes[1].set_ylabel('Peak current amplitude (nA)')\n",
    "axes[1].set_xlabel('Time (ms)')\n",
    "axes[1].set_xlim((190., 300.))\n",
    "axes[2].plot(soma_Vm, syn_current_peak_amp)\n",
    "axes[2].plot([np.min(soma_Vm), np.max(soma_Vm)], (0., 0.), '--', c='grey')\n",
    "axes[2].plot((-70., -70.), [np.min(syn_current_peak_amp), np.max(syn_current_peak_amp)], '--', c='grey')\n",
    "axes[2].set_xlabel('Voltage (mV)')\n",
    "axes[2].set_ylabel('Current (nA)')\n",
    "\n",
    "fig.tight_layout()"
   ]
  },
  {
   "cell_type": "code",
   "execution_count": null,
   "metadata": {},
   "outputs": [],
   "source": []
  },
  {
   "cell_type": "markdown",
   "metadata": {},
   "source": [
    "## 8. Challenge\n",
    "\n",
    "### Compute the effect of activating increasing numbers of inhibitory synapses on the synaptic input-output curve."
   ]
  },
  {
   "cell_type": "code",
   "execution_count": null,
   "metadata": {},
   "outputs": [],
   "source": []
  }
 ],
 "metadata": {
  "kernelspec": {
   "display_name": "Python 3",
   "language": "python",
   "name": "python3"
  },
  "language_info": {
   "codemirror_mode": {
    "name": "ipython",
    "version": 3
   },
   "file_extension": ".py",
   "mimetype": "text/x-python",
   "name": "python",
   "nbconvert_exporter": "python",
   "pygments_lexer": "ipython3",
   "version": "3.7.6"
  }
 },
 "nbformat": 4,
 "nbformat_minor": 4
}
