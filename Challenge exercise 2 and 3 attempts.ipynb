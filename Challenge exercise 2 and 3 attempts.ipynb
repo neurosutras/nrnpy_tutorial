{
 "cells": [
  {
   "cell_type": "markdown",
   "metadata": {},
   "source": [
    "## Challenge 1: Measure and plot an f-I curve\n",
    "\n",
    "- The relationship between input current (I) and output firing rate (f)\n",
    "- Make sure to only count spikes within the window of the step current injection"
   ]
  },
  {
   "cell_type": "markdown",
   "metadata": {},
   "source": [
    "## Challenge 2: Simultaneously optimize both somatic input resistance and the slope of the f-I curve.\n",
    "\n",
    "- Hint: x0 = [gl0, gnabar0, gkbar0]\n",
    "- How to construct a single error value that reflects 2 objectives?\n",
    "- Target f-I slope should be ~10 Hz / 0.05 nA\n",
    "- f-I slope should really only be calculated from values of I that produced more than one spike. ___/"
   ]
  },
  {
   "cell_type": "code",
   "execution_count": 1,
   "metadata": {},
   "outputs": [],
   "source": [
    "%matplotlib notebook\n",
    "import numpy as np\n",
    "import matplotlib.pyplot as plt\n",
    "from neuron import h"
   ]
  },
  {
   "cell_type": "markdown",
   "metadata": {},
   "source": [
    "## Challenge 1: "
   ]
  },
  {
   "cell_type": "code",
   "execution_count": 2,
   "metadata": {},
   "outputs": [
    {
     "data": {
      "text/plain": [
       "1.0"
      ]
     },
     "execution_count": 2,
     "metadata": {},
     "output_type": "execute_result"
    }
   ],
   "source": [
    "h.load_file('stdrun.hoc')"
   ]
  },
  {
   "cell_type": "code",
   "execution_count": 3,
   "metadata": {},
   "outputs": [
    {
     "data": {
      "text/plain": [
       "0.0"
      ]
     },
     "execution_count": 3,
     "metadata": {},
     "output_type": "execute_result"
    }
   ],
   "source": [
    "soma = h.Section()\n",
    "soma.L = 20.\n",
    "soma.diam = 20.\n",
    "soma.insert('hh')\n",
    "\n",
    "h.tstop = 600.\n",
    "v_init = -65.\n",
    "h.v_init = v_init\n",
    "\n",
    "t = h.Vector()\n",
    "soma_voltage = h.Vector()\n",
    "t.record(h._ref_t, h.dt)  # record the time base\n",
    "soma_voltage.record(soma(0.5)._ref_v, h.dt)  # record the voltage across the membrane in a segment\n",
    "\n",
    "step_current_stim = h.IClamp(soma(0.5))\n",
    "step_current_stim.amp = 0.15  # amplitude in nanoAmps\n",
    "step_current_stim.dur = 200.  # duration in milliseconds\n",
    "step_current_stim.delay = 200.  # start time of current injection\n",
    "h.run()"
   ]
  },
  {
   "cell_type": "code",
   "execution_count": 4,
   "metadata": {},
   "outputs": [
    {
     "data": {
      "text/plain": [
       "\"#output firing rate = Spike_counts/ms - time constant\\nh.run()\\nplt.figure()\\nplt.plot(t, soma_voltage)\\nplt.ylabel('Voltage (mV)')\\nplt.xlabel('Time (ms)')\\n#smaller current injection might cause all to be same height\""
      ]
     },
     "execution_count": 4,
     "metadata": {},
     "output_type": "execute_result"
    }
   ],
   "source": [
    "'''#output firing rate = Spike_counts/ms - time constant\n",
    "h.run()\n",
    "plt.figure()\n",
    "plt.plot(t, soma_voltage)\n",
    "plt.ylabel('Voltage (mV)')\n",
    "plt.xlabel('Time (ms)')\n",
    "#smaller current injection might cause all to be same height'''"
   ]
  },
  {
   "cell_type": "code",
   "execution_count": 5,
   "metadata": {},
   "outputs": [
    {
     "data": {
      "text/plain": [
       "Vector[4]"
      ]
     },
     "execution_count": 5,
     "metadata": {},
     "output_type": "execute_result"
    }
   ],
   "source": [
    "hh_mech = soma(0.5).hh\n",
    "#now think of hh attributes in time scales\n",
    "gl = h.Vector()\n",
    "gl.record(soma(0.5).hh._ref_gl, h.dt)\n",
    "gna = h.Vector()\n",
    "gna.record(soma(0.5).hh._ref_gna, h.dt)\n",
    "gk = h.Vector()\n",
    "gk.record(soma(0.5).hh._ref_gk, h.dt)"
   ]
  },
  {
   "cell_type": "code",
   "execution_count": 6,
   "metadata": {},
   "outputs": [],
   "source": [
    "gkbar0 = soma(0.5).hh.gkbar\n",
    "gnabar0 = soma(0.5).hh.gnabar\n",
    "gl0 = soma(0.5).hh.gl\n",
    "T0 = h.celsius"
   ]
  },
  {
   "cell_type": "code",
   "execution_count": 7,
   "metadata": {},
   "outputs": [
    {
     "data": {
      "text/plain": [
       "0.0"
      ]
     },
     "execution_count": 7,
     "metadata": {},
     "output_type": "execute_result"
    }
   ],
   "source": [
    "spike_times = h.Vector()\n",
    "spike_detector = h.NetCon(soma(0.5)._ref_v, None, sec=soma)\n",
    "spike_detector.delay = 0.  # ms\n",
    "spike_detector.threshold = -10.  # mV\n",
    "spike_detector.record(spike_times)"
   ]
  },
  {
   "cell_type": "code",
   "execution_count": 8,
   "metadata": {},
   "outputs": [
    {
     "data": {
      "text/plain": [
       "\"step_current_stim.amp = 0.5\\ntest_amp_vals = [0.05 * i for i in range(6)]\\nfig, axes = plt.subplots(len(test_amp_vals))\\nfor i, amp in enumerate(test_amp_vals):\\n    step_current_stim.amp = amp\\n    h.run()\\n    print('Amp: %.2f;\\nspike times: %s' % (amp, str(np.array(spike_times))))\\n    axes[i].plot(t, soma_voltage, label='Amp: %.2f;\\nspike count: %i' % (amp, len(spike_times)))\\n    axes[i].legend(loc='best', frameon=False)\\nfig.show()\""
      ]
     },
     "execution_count": 8,
     "metadata": {},
     "output_type": "execute_result"
    }
   ],
   "source": [
    "'''step_current_stim.amp = 0.5\n",
    "test_amp_vals = [0.05 * i for i in range(6)]\n",
    "fig, axes = plt.subplots(len(test_amp_vals))\n",
    "for i, amp in enumerate(test_amp_vals):\n",
    "    step_current_stim.amp = amp\n",
    "    h.run()\n",
    "    print('Amp: %.2f;\\nspike times: %s' % (amp, str(np.array(spike_times))))\n",
    "    axes[i].plot(t, soma_voltage, label='Amp: %.2f;\\nspike count: %i' % (amp, len(spike_times)))\n",
    "    axes[i].legend(loc='best', frameon=False)\n",
    "fig.show()'''"
   ]
  },
  {
   "cell_type": "code",
   "execution_count": 39,
   "metadata": {},
   "outputs": [],
   "source": [
    "step_current_stim.amp = 0.50\n",
    "#test_amp_vals = [0.05 * i for i in range(10)]\n",
    "#x = [0.00050 * i for i in range(1000)]\n",
    "x = [0.050 * i for i in range(35)]\n",
    "#x = [0.05]\n",
    "#create a firing_rate list\n",
    "firing_rate_list = []\n",
    "#create a list for spike_times contained within a array that is being created from enumerating through a list of\n",
    "#input x values or current inputs\n",
    "spike_count_list = []\n",
    "#pass in the values of current inputs as x\n",
    "def calc_firing_rates(x):\n",
    "    #enumerate throught these x values: for count(i), values(amp) in enumerate through x\n",
    "     for i, amp in enumerate(x):\n",
    "    #for i, amp in enumerate(test_amp_vals):\n",
    "    #assign the .amp object to the amp value variable\n",
    "        step_current_stim.amp = amp\n",
    "        #needs to run to make the simulation happe\n",
    "        h.run()\n",
    "        #firing rate = the array of the length of the array of spike times - has to be the length because \n",
    "        #the spike times will tell u where a spike happens at what time point, so each time point, if it reaches\n",
    "        #threshold it will become a spike, this is divided by the simulations current duration - which is the interval\n",
    "        #where spikes will occur at because this is where current is being stimulated / 1000 (ms to s)\n",
    "        firing_rate = np.array((len(np.array(spike_times))/(step_current_stim.dur/1000)))\n",
    "        #must print within the function to output this value when you return the function\n",
    "        print(firing_rate)\n",
    "        #print(len(np.array(spike_times))) \n",
    "        #append the firing rate values to the firing rate list so u can have them stored\n",
    "        firing_rate_list.append(float(firing_rate)) \n",
    "        #do the same for the spike time length or spikes\n",
    "        spike_count_list.append(len(np.array(spike_times)))"
   ]
  },
  {
   "cell_type": "code",
   "execution_count": 40,
   "metadata": {
    "scrolled": true
   },
   "outputs": [
    {
     "data": {
      "text/plain": [
       "35"
      ]
     },
     "execution_count": 40,
     "metadata": {},
     "output_type": "execute_result"
    }
   ],
   "source": [
    "len(x)"
   ]
  },
  {
   "cell_type": "code",
   "execution_count": 41,
   "metadata": {
    "scrolled": true
   },
   "outputs": [
    {
     "name": "stdout",
     "output_type": "stream",
     "text": [
      "0.0\n",
      "5.0\n",
      "65.0\n",
      "75.0\n",
      "80.0\n",
      "90.0\n",
      "95.0\n",
      "100.0\n",
      "100.0\n",
      "105.0\n",
      "110.0\n",
      "115.0\n",
      "115.0\n",
      "120.0\n",
      "120.0\n",
      "125.0\n",
      "130.0\n",
      "130.0\n",
      "130.0\n",
      "135.0\n",
      "135.0\n",
      "15.0\n",
      "10.0\n",
      "10.0\n",
      "10.0\n",
      "10.0\n",
      "10.0\n",
      "5.0\n",
      "5.0\n",
      "5.0\n",
      "5.0\n",
      "5.0\n",
      "5.0\n",
      "5.0\n",
      "5.0\n"
     ]
    }
   ],
   "source": [
    "calc_firing_rates(x)"
   ]
  },
  {
   "cell_type": "code",
   "execution_count": 42,
   "metadata": {
    "scrolled": true
   },
   "outputs": [
    {
     "data": {
      "text/plain": [
       "35"
      ]
     },
     "execution_count": 42,
     "metadata": {},
     "output_type": "execute_result"
    }
   ],
   "source": [
    "len(firing_rate_list)"
   ]
  },
  {
   "cell_type": "code",
   "execution_count": 43,
   "metadata": {},
   "outputs": [],
   "source": [
    "#len(firing_rate_list)"
   ]
  },
  {
   "cell_type": "code",
   "execution_count": 44,
   "metadata": {
    "scrolled": true
   },
   "outputs": [],
   "source": [
    "#spike_count_list"
   ]
  },
  {
   "cell_type": "code",
   "execution_count": 46,
   "metadata": {},
   "outputs": [
    {
     "data": {
      "text/plain": [
       "\"plt.plot(x, firing_rate_list) \\nplt.xlabel('Input Current (nA)')\\nplt.ylabel('Firing Rate (Spikes/S)')\\nplt.title('F-I Curve')\\n#plt.savefig('F-I Curve.png')\""
      ]
     },
     "execution_count": 46,
     "metadata": {},
     "output_type": "execute_result"
    }
   ],
   "source": [
    "'''plt.plot(x, firing_rate_list) \n",
    "plt.xlabel('Input Current (nA)')\n",
    "plt.ylabel('Firing Rate (Spikes/S)')\n",
    "plt.title('F-I Curve')\n",
    "#plt.savefig('F-I Curve.png')'''"
   ]
  },
  {
   "cell_type": "code",
   "execution_count": 47,
   "metadata": {
    "scrolled": false
   },
   "outputs": [
    {
     "data": {
      "text/plain": [
       "\"step_current_stim.amp = 0.5\\ntest_amp_vals = [0.05 * i for i in range(40)]\\nfig, axes = plt.subplots(len(test_amp_vals), figsize=(9., 80.))\\nfor i, amp in enumerate(test_amp_vals):\\n    step_current_stim.amp = amp\\n    h.run()\\n    print('Amp: %.2f;\\nspike times: %s' % (amp, str(np.array(spike_times))))\\n    axes[i].plot(t, soma_voltage, label='Amp: %.2f;\\nspike count: %i' % (amp, len(spike_times)))\\n    axes[i].legend(loc='best', frameon=False)\\nfig.show()\""
      ]
     },
     "execution_count": 47,
     "metadata": {},
     "output_type": "execute_result"
    }
   ],
   "source": [
    "'''step_current_stim.amp = 0.5\n",
    "test_amp_vals = [0.05 * i for i in range(40)]\n",
    "fig, axes = plt.subplots(len(test_amp_vals), figsize=(9., 80.))\n",
    "for i, amp in enumerate(test_amp_vals):\n",
    "    step_current_stim.amp = amp\n",
    "    h.run()\n",
    "    print('Amp: %.2f;\\nspike times: %s' % (amp, str(np.array(spike_times))))\n",
    "    axes[i].plot(t, soma_voltage, label='Amp: %.2f;\\nspike count: %i' % (amp, len(spike_times)))\n",
    "    axes[i].legend(loc='best', frameon=False)\n",
    "fig.show()'''"
   ]
  },
  {
   "cell_type": "markdown",
   "metadata": {},
   "source": [
    "## Challenge 2: "
   ]
  },
  {
   "cell_type": "code",
   "execution_count": 48,
   "metadata": {},
   "outputs": [],
   "source": [
    "from statistics import mean\n",
    "#f-I slope should really only be calculated from values of I that produced more than one spike. ___/"
   ]
  },
  {
   "cell_type": "code",
   "execution_count": 49,
   "metadata": {},
   "outputs": [],
   "source": [
    "#0.1 - 1.3 = x1[2:26] - produce more than one spike\n",
    "x1 = x[2:27]"
   ]
  },
  {
   "cell_type": "code",
   "execution_count": 50,
   "metadata": {},
   "outputs": [
    {
     "data": {
      "text/plain": [
       "25"
      ]
     },
     "execution_count": 50,
     "metadata": {},
     "output_type": "execute_result"
    }
   ],
   "source": [
    "len(x1)"
   ]
  },
  {
   "cell_type": "code",
   "execution_count": 51,
   "metadata": {},
   "outputs": [],
   "source": [
    "above_one_spike_list = []\n",
    "for i in firing_rate_list:\n",
    "        if i > 5:\n",
    "            above_one_spike = i \n",
    "            #print(above_one_spike)\n",
    "            above_one_spike_list.append(above_one_spike)"
   ]
  },
  {
   "cell_type": "code",
   "execution_count": 52,
   "metadata": {},
   "outputs": [
    {
     "data": {
      "text/plain": [
       "[65.0,\n",
       " 75.0,\n",
       " 80.0,\n",
       " 90.0,\n",
       " 95.0,\n",
       " 100.0,\n",
       " 100.0,\n",
       " 105.0,\n",
       " 110.0,\n",
       " 115.0,\n",
       " 115.0,\n",
       " 120.0,\n",
       " 120.0,\n",
       " 125.0,\n",
       " 130.0,\n",
       " 130.0,\n",
       " 130.0,\n",
       " 135.0,\n",
       " 135.0,\n",
       " 15.0,\n",
       " 10.0,\n",
       " 10.0,\n",
       " 10.0,\n",
       " 10.0,\n",
       " 10.0]"
      ]
     },
     "execution_count": 52,
     "metadata": {},
     "output_type": "execute_result"
    }
   ],
   "source": [
    "above_one_spike_list"
   ]
  },
  {
   "cell_type": "code",
   "execution_count": 53,
   "metadata": {},
   "outputs": [
    {
     "data": {
      "application/javascript": [
       "/* Put everything inside the global mpl namespace */\n",
       "window.mpl = {};\n",
       "\n",
       "\n",
       "mpl.get_websocket_type = function() {\n",
       "    if (typeof(WebSocket) !== 'undefined') {\n",
       "        return WebSocket;\n",
       "    } else if (typeof(MozWebSocket) !== 'undefined') {\n",
       "        return MozWebSocket;\n",
       "    } else {\n",
       "        alert('Your browser does not have WebSocket support. ' +\n",
       "              'Please try Chrome, Safari or Firefox ≥ 6. ' +\n",
       "              'Firefox 4 and 5 are also supported but you ' +\n",
       "              'have to enable WebSockets in about:config.');\n",
       "    };\n",
       "}\n",
       "\n",
       "mpl.figure = function(figure_id, websocket, ondownload, parent_element) {\n",
       "    this.id = figure_id;\n",
       "\n",
       "    this.ws = websocket;\n",
       "\n",
       "    this.supports_binary = (this.ws.binaryType != undefined);\n",
       "\n",
       "    if (!this.supports_binary) {\n",
       "        var warnings = document.getElementById(\"mpl-warnings\");\n",
       "        if (warnings) {\n",
       "            warnings.style.display = 'block';\n",
       "            warnings.textContent = (\n",
       "                \"This browser does not support binary websocket messages. \" +\n",
       "                    \"Performance may be slow.\");\n",
       "        }\n",
       "    }\n",
       "\n",
       "    this.imageObj = new Image();\n",
       "\n",
       "    this.context = undefined;\n",
       "    this.message = undefined;\n",
       "    this.canvas = undefined;\n",
       "    this.rubberband_canvas = undefined;\n",
       "    this.rubberband_context = undefined;\n",
       "    this.format_dropdown = undefined;\n",
       "\n",
       "    this.image_mode = 'full';\n",
       "\n",
       "    this.root = $('<div/>');\n",
       "    this._root_extra_style(this.root)\n",
       "    this.root.attr('style', 'display: inline-block');\n",
       "\n",
       "    $(parent_element).append(this.root);\n",
       "\n",
       "    this._init_header(this);\n",
       "    this._init_canvas(this);\n",
       "    this._init_toolbar(this);\n",
       "\n",
       "    var fig = this;\n",
       "\n",
       "    this.waiting = false;\n",
       "\n",
       "    this.ws.onopen =  function () {\n",
       "            fig.send_message(\"supports_binary\", {value: fig.supports_binary});\n",
       "            fig.send_message(\"send_image_mode\", {});\n",
       "            if (mpl.ratio != 1) {\n",
       "                fig.send_message(\"set_dpi_ratio\", {'dpi_ratio': mpl.ratio});\n",
       "            }\n",
       "            fig.send_message(\"refresh\", {});\n",
       "        }\n",
       "\n",
       "    this.imageObj.onload = function() {\n",
       "            if (fig.image_mode == 'full') {\n",
       "                // Full images could contain transparency (where diff images\n",
       "                // almost always do), so we need to clear the canvas so that\n",
       "                // there is no ghosting.\n",
       "                fig.context.clearRect(0, 0, fig.canvas.width, fig.canvas.height);\n",
       "            }\n",
       "            fig.context.drawImage(fig.imageObj, 0, 0);\n",
       "        };\n",
       "\n",
       "    this.imageObj.onunload = function() {\n",
       "        fig.ws.close();\n",
       "    }\n",
       "\n",
       "    this.ws.onmessage = this._make_on_message_function(this);\n",
       "\n",
       "    this.ondownload = ondownload;\n",
       "}\n",
       "\n",
       "mpl.figure.prototype._init_header = function() {\n",
       "    var titlebar = $(\n",
       "        '<div class=\"ui-dialog-titlebar ui-widget-header ui-corner-all ' +\n",
       "        'ui-helper-clearfix\"/>');\n",
       "    var titletext = $(\n",
       "        '<div class=\"ui-dialog-title\" style=\"width: 100%; ' +\n",
       "        'text-align: center; padding: 3px;\"/>');\n",
       "    titlebar.append(titletext)\n",
       "    this.root.append(titlebar);\n",
       "    this.header = titletext[0];\n",
       "}\n",
       "\n",
       "\n",
       "\n",
       "mpl.figure.prototype._canvas_extra_style = function(canvas_div) {\n",
       "\n",
       "}\n",
       "\n",
       "\n",
       "mpl.figure.prototype._root_extra_style = function(canvas_div) {\n",
       "\n",
       "}\n",
       "\n",
       "mpl.figure.prototype._init_canvas = function() {\n",
       "    var fig = this;\n",
       "\n",
       "    var canvas_div = $('<div/>');\n",
       "\n",
       "    canvas_div.attr('style', 'position: relative; clear: both; outline: 0');\n",
       "\n",
       "    function canvas_keyboard_event(event) {\n",
       "        return fig.key_event(event, event['data']);\n",
       "    }\n",
       "\n",
       "    canvas_div.keydown('key_press', canvas_keyboard_event);\n",
       "    canvas_div.keyup('key_release', canvas_keyboard_event);\n",
       "    this.canvas_div = canvas_div\n",
       "    this._canvas_extra_style(canvas_div)\n",
       "    this.root.append(canvas_div);\n",
       "\n",
       "    var canvas = $('<canvas/>');\n",
       "    canvas.addClass('mpl-canvas');\n",
       "    canvas.attr('style', \"left: 0; top: 0; z-index: 0; outline: 0\")\n",
       "\n",
       "    this.canvas = canvas[0];\n",
       "    this.context = canvas[0].getContext(\"2d\");\n",
       "\n",
       "    var backingStore = this.context.backingStorePixelRatio ||\n",
       "\tthis.context.webkitBackingStorePixelRatio ||\n",
       "\tthis.context.mozBackingStorePixelRatio ||\n",
       "\tthis.context.msBackingStorePixelRatio ||\n",
       "\tthis.context.oBackingStorePixelRatio ||\n",
       "\tthis.context.backingStorePixelRatio || 1;\n",
       "\n",
       "    mpl.ratio = (window.devicePixelRatio || 1) / backingStore;\n",
       "\n",
       "    var rubberband = $('<canvas/>');\n",
       "    rubberband.attr('style', \"position: absolute; left: 0; top: 0; z-index: 1;\")\n",
       "\n",
       "    var pass_mouse_events = true;\n",
       "\n",
       "    canvas_div.resizable({\n",
       "        start: function(event, ui) {\n",
       "            pass_mouse_events = false;\n",
       "        },\n",
       "        resize: function(event, ui) {\n",
       "            fig.request_resize(ui.size.width, ui.size.height);\n",
       "        },\n",
       "        stop: function(event, ui) {\n",
       "            pass_mouse_events = true;\n",
       "            fig.request_resize(ui.size.width, ui.size.height);\n",
       "        },\n",
       "    });\n",
       "\n",
       "    function mouse_event_fn(event) {\n",
       "        if (pass_mouse_events)\n",
       "            return fig.mouse_event(event, event['data']);\n",
       "    }\n",
       "\n",
       "    rubberband.mousedown('button_press', mouse_event_fn);\n",
       "    rubberband.mouseup('button_release', mouse_event_fn);\n",
       "    // Throttle sequential mouse events to 1 every 20ms.\n",
       "    rubberband.mousemove('motion_notify', mouse_event_fn);\n",
       "\n",
       "    rubberband.mouseenter('figure_enter', mouse_event_fn);\n",
       "    rubberband.mouseleave('figure_leave', mouse_event_fn);\n",
       "\n",
       "    canvas_div.on(\"wheel\", function (event) {\n",
       "        event = event.originalEvent;\n",
       "        event['data'] = 'scroll'\n",
       "        if (event.deltaY < 0) {\n",
       "            event.step = 1;\n",
       "        } else {\n",
       "            event.step = -1;\n",
       "        }\n",
       "        mouse_event_fn(event);\n",
       "    });\n",
       "\n",
       "    canvas_div.append(canvas);\n",
       "    canvas_div.append(rubberband);\n",
       "\n",
       "    this.rubberband = rubberband;\n",
       "    this.rubberband_canvas = rubberband[0];\n",
       "    this.rubberband_context = rubberband[0].getContext(\"2d\");\n",
       "    this.rubberband_context.strokeStyle = \"#000000\";\n",
       "\n",
       "    this._resize_canvas = function(width, height) {\n",
       "        // Keep the size of the canvas, canvas container, and rubber band\n",
       "        // canvas in synch.\n",
       "        canvas_div.css('width', width)\n",
       "        canvas_div.css('height', height)\n",
       "\n",
       "        canvas.attr('width', width * mpl.ratio);\n",
       "        canvas.attr('height', height * mpl.ratio);\n",
       "        canvas.attr('style', 'width: ' + width + 'px; height: ' + height + 'px;');\n",
       "\n",
       "        rubberband.attr('width', width);\n",
       "        rubberband.attr('height', height);\n",
       "    }\n",
       "\n",
       "    // Set the figure to an initial 600x600px, this will subsequently be updated\n",
       "    // upon first draw.\n",
       "    this._resize_canvas(600, 600);\n",
       "\n",
       "    // Disable right mouse context menu.\n",
       "    $(this.rubberband_canvas).bind(\"contextmenu\",function(e){\n",
       "        return false;\n",
       "    });\n",
       "\n",
       "    function set_focus () {\n",
       "        canvas.focus();\n",
       "        canvas_div.focus();\n",
       "    }\n",
       "\n",
       "    window.setTimeout(set_focus, 100);\n",
       "}\n",
       "\n",
       "mpl.figure.prototype._init_toolbar = function() {\n",
       "    var fig = this;\n",
       "\n",
       "    var nav_element = $('<div/>');\n",
       "    nav_element.attr('style', 'width: 100%');\n",
       "    this.root.append(nav_element);\n",
       "\n",
       "    // Define a callback function for later on.\n",
       "    function toolbar_event(event) {\n",
       "        return fig.toolbar_button_onclick(event['data']);\n",
       "    }\n",
       "    function toolbar_mouse_event(event) {\n",
       "        return fig.toolbar_button_onmouseover(event['data']);\n",
       "    }\n",
       "\n",
       "    for(var toolbar_ind in mpl.toolbar_items) {\n",
       "        var name = mpl.toolbar_items[toolbar_ind][0];\n",
       "        var tooltip = mpl.toolbar_items[toolbar_ind][1];\n",
       "        var image = mpl.toolbar_items[toolbar_ind][2];\n",
       "        var method_name = mpl.toolbar_items[toolbar_ind][3];\n",
       "\n",
       "        if (!name) {\n",
       "            // put a spacer in here.\n",
       "            continue;\n",
       "        }\n",
       "        var button = $('<button/>');\n",
       "        button.addClass('ui-button ui-widget ui-state-default ui-corner-all ' +\n",
       "                        'ui-button-icon-only');\n",
       "        button.attr('role', 'button');\n",
       "        button.attr('aria-disabled', 'false');\n",
       "        button.click(method_name, toolbar_event);\n",
       "        button.mouseover(tooltip, toolbar_mouse_event);\n",
       "\n",
       "        var icon_img = $('<span/>');\n",
       "        icon_img.addClass('ui-button-icon-primary ui-icon');\n",
       "        icon_img.addClass(image);\n",
       "        icon_img.addClass('ui-corner-all');\n",
       "\n",
       "        var tooltip_span = $('<span/>');\n",
       "        tooltip_span.addClass('ui-button-text');\n",
       "        tooltip_span.html(tooltip);\n",
       "\n",
       "        button.append(icon_img);\n",
       "        button.append(tooltip_span);\n",
       "\n",
       "        nav_element.append(button);\n",
       "    }\n",
       "\n",
       "    var fmt_picker_span = $('<span/>');\n",
       "\n",
       "    var fmt_picker = $('<select/>');\n",
       "    fmt_picker.addClass('mpl-toolbar-option ui-widget ui-widget-content');\n",
       "    fmt_picker_span.append(fmt_picker);\n",
       "    nav_element.append(fmt_picker_span);\n",
       "    this.format_dropdown = fmt_picker[0];\n",
       "\n",
       "    for (var ind in mpl.extensions) {\n",
       "        var fmt = mpl.extensions[ind];\n",
       "        var option = $(\n",
       "            '<option/>', {selected: fmt === mpl.default_extension}).html(fmt);\n",
       "        fmt_picker.append(option);\n",
       "    }\n",
       "\n",
       "    // Add hover states to the ui-buttons\n",
       "    $( \".ui-button\" ).hover(\n",
       "        function() { $(this).addClass(\"ui-state-hover\");},\n",
       "        function() { $(this).removeClass(\"ui-state-hover\");}\n",
       "    );\n",
       "\n",
       "    var status_bar = $('<span class=\"mpl-message\"/>');\n",
       "    nav_element.append(status_bar);\n",
       "    this.message = status_bar[0];\n",
       "}\n",
       "\n",
       "mpl.figure.prototype.request_resize = function(x_pixels, y_pixels) {\n",
       "    // Request matplotlib to resize the figure. Matplotlib will then trigger a resize in the client,\n",
       "    // which will in turn request a refresh of the image.\n",
       "    this.send_message('resize', {'width': x_pixels, 'height': y_pixels});\n",
       "}\n",
       "\n",
       "mpl.figure.prototype.send_message = function(type, properties) {\n",
       "    properties['type'] = type;\n",
       "    properties['figure_id'] = this.id;\n",
       "    this.ws.send(JSON.stringify(properties));\n",
       "}\n",
       "\n",
       "mpl.figure.prototype.send_draw_message = function() {\n",
       "    if (!this.waiting) {\n",
       "        this.waiting = true;\n",
       "        this.ws.send(JSON.stringify({type: \"draw\", figure_id: this.id}));\n",
       "    }\n",
       "}\n",
       "\n",
       "\n",
       "mpl.figure.prototype.handle_save = function(fig, msg) {\n",
       "    var format_dropdown = fig.format_dropdown;\n",
       "    var format = format_dropdown.options[format_dropdown.selectedIndex].value;\n",
       "    fig.ondownload(fig, format);\n",
       "}\n",
       "\n",
       "\n",
       "mpl.figure.prototype.handle_resize = function(fig, msg) {\n",
       "    var size = msg['size'];\n",
       "    if (size[0] != fig.canvas.width || size[1] != fig.canvas.height) {\n",
       "        fig._resize_canvas(size[0], size[1]);\n",
       "        fig.send_message(\"refresh\", {});\n",
       "    };\n",
       "}\n",
       "\n",
       "mpl.figure.prototype.handle_rubberband = function(fig, msg) {\n",
       "    var x0 = msg['x0'] / mpl.ratio;\n",
       "    var y0 = (fig.canvas.height - msg['y0']) / mpl.ratio;\n",
       "    var x1 = msg['x1'] / mpl.ratio;\n",
       "    var y1 = (fig.canvas.height - msg['y1']) / mpl.ratio;\n",
       "    x0 = Math.floor(x0) + 0.5;\n",
       "    y0 = Math.floor(y0) + 0.5;\n",
       "    x1 = Math.floor(x1) + 0.5;\n",
       "    y1 = Math.floor(y1) + 0.5;\n",
       "    var min_x = Math.min(x0, x1);\n",
       "    var min_y = Math.min(y0, y1);\n",
       "    var width = Math.abs(x1 - x0);\n",
       "    var height = Math.abs(y1 - y0);\n",
       "\n",
       "    fig.rubberband_context.clearRect(\n",
       "        0, 0, fig.canvas.width / mpl.ratio, fig.canvas.height / mpl.ratio);\n",
       "\n",
       "    fig.rubberband_context.strokeRect(min_x, min_y, width, height);\n",
       "}\n",
       "\n",
       "mpl.figure.prototype.handle_figure_label = function(fig, msg) {\n",
       "    // Updates the figure title.\n",
       "    fig.header.textContent = msg['label'];\n",
       "}\n",
       "\n",
       "mpl.figure.prototype.handle_cursor = function(fig, msg) {\n",
       "    var cursor = msg['cursor'];\n",
       "    switch(cursor)\n",
       "    {\n",
       "    case 0:\n",
       "        cursor = 'pointer';\n",
       "        break;\n",
       "    case 1:\n",
       "        cursor = 'default';\n",
       "        break;\n",
       "    case 2:\n",
       "        cursor = 'crosshair';\n",
       "        break;\n",
       "    case 3:\n",
       "        cursor = 'move';\n",
       "        break;\n",
       "    }\n",
       "    fig.rubberband_canvas.style.cursor = cursor;\n",
       "}\n",
       "\n",
       "mpl.figure.prototype.handle_message = function(fig, msg) {\n",
       "    fig.message.textContent = msg['message'];\n",
       "}\n",
       "\n",
       "mpl.figure.prototype.handle_draw = function(fig, msg) {\n",
       "    // Request the server to send over a new figure.\n",
       "    fig.send_draw_message();\n",
       "}\n",
       "\n",
       "mpl.figure.prototype.handle_image_mode = function(fig, msg) {\n",
       "    fig.image_mode = msg['mode'];\n",
       "}\n",
       "\n",
       "mpl.figure.prototype.updated_canvas_event = function() {\n",
       "    // Called whenever the canvas gets updated.\n",
       "    this.send_message(\"ack\", {});\n",
       "}\n",
       "\n",
       "// A function to construct a web socket function for onmessage handling.\n",
       "// Called in the figure constructor.\n",
       "mpl.figure.prototype._make_on_message_function = function(fig) {\n",
       "    return function socket_on_message(evt) {\n",
       "        if (evt.data instanceof Blob) {\n",
       "            /* FIXME: We get \"Resource interpreted as Image but\n",
       "             * transferred with MIME type text/plain:\" errors on\n",
       "             * Chrome.  But how to set the MIME type?  It doesn't seem\n",
       "             * to be part of the websocket stream */\n",
       "            evt.data.type = \"image/png\";\n",
       "\n",
       "            /* Free the memory for the previous frames */\n",
       "            if (fig.imageObj.src) {\n",
       "                (window.URL || window.webkitURL).revokeObjectURL(\n",
       "                    fig.imageObj.src);\n",
       "            }\n",
       "\n",
       "            fig.imageObj.src = (window.URL || window.webkitURL).createObjectURL(\n",
       "                evt.data);\n",
       "            fig.updated_canvas_event();\n",
       "            fig.waiting = false;\n",
       "            return;\n",
       "        }\n",
       "        else if (typeof evt.data === 'string' && evt.data.slice(0, 21) == \"data:image/png;base64\") {\n",
       "            fig.imageObj.src = evt.data;\n",
       "            fig.updated_canvas_event();\n",
       "            fig.waiting = false;\n",
       "            return;\n",
       "        }\n",
       "\n",
       "        var msg = JSON.parse(evt.data);\n",
       "        var msg_type = msg['type'];\n",
       "\n",
       "        // Call the  \"handle_{type}\" callback, which takes\n",
       "        // the figure and JSON message as its only arguments.\n",
       "        try {\n",
       "            var callback = fig[\"handle_\" + msg_type];\n",
       "        } catch (e) {\n",
       "            console.log(\"No handler for the '\" + msg_type + \"' message type: \", msg);\n",
       "            return;\n",
       "        }\n",
       "\n",
       "        if (callback) {\n",
       "            try {\n",
       "                // console.log(\"Handling '\" + msg_type + \"' message: \", msg);\n",
       "                callback(fig, msg);\n",
       "            } catch (e) {\n",
       "                console.log(\"Exception inside the 'handler_\" + msg_type + \"' callback:\", e, e.stack, msg);\n",
       "            }\n",
       "        }\n",
       "    };\n",
       "}\n",
       "\n",
       "// from http://stackoverflow.com/questions/1114465/getting-mouse-location-in-canvas\n",
       "mpl.findpos = function(e) {\n",
       "    //this section is from http://www.quirksmode.org/js/events_properties.html\n",
       "    var targ;\n",
       "    if (!e)\n",
       "        e = window.event;\n",
       "    if (e.target)\n",
       "        targ = e.target;\n",
       "    else if (e.srcElement)\n",
       "        targ = e.srcElement;\n",
       "    if (targ.nodeType == 3) // defeat Safari bug\n",
       "        targ = targ.parentNode;\n",
       "\n",
       "    // jQuery normalizes the pageX and pageY\n",
       "    // pageX,Y are the mouse positions relative to the document\n",
       "    // offset() returns the position of the element relative to the document\n",
       "    var x = e.pageX - $(targ).offset().left;\n",
       "    var y = e.pageY - $(targ).offset().top;\n",
       "\n",
       "    return {\"x\": x, \"y\": y};\n",
       "};\n",
       "\n",
       "/*\n",
       " * return a copy of an object with only non-object keys\n",
       " * we need this to avoid circular references\n",
       " * http://stackoverflow.com/a/24161582/3208463\n",
       " */\n",
       "function simpleKeys (original) {\n",
       "  return Object.keys(original).reduce(function (obj, key) {\n",
       "    if (typeof original[key] !== 'object')\n",
       "        obj[key] = original[key]\n",
       "    return obj;\n",
       "  }, {});\n",
       "}\n",
       "\n",
       "mpl.figure.prototype.mouse_event = function(event, name) {\n",
       "    var canvas_pos = mpl.findpos(event)\n",
       "\n",
       "    if (name === 'button_press')\n",
       "    {\n",
       "        this.canvas.focus();\n",
       "        this.canvas_div.focus();\n",
       "    }\n",
       "\n",
       "    var x = canvas_pos.x * mpl.ratio;\n",
       "    var y = canvas_pos.y * mpl.ratio;\n",
       "\n",
       "    this.send_message(name, {x: x, y: y, button: event.button,\n",
       "                             step: event.step,\n",
       "                             guiEvent: simpleKeys(event)});\n",
       "\n",
       "    /* This prevents the web browser from automatically changing to\n",
       "     * the text insertion cursor when the button is pressed.  We want\n",
       "     * to control all of the cursor setting manually through the\n",
       "     * 'cursor' event from matplotlib */\n",
       "    event.preventDefault();\n",
       "    return false;\n",
       "}\n",
       "\n",
       "mpl.figure.prototype._key_event_extra = function(event, name) {\n",
       "    // Handle any extra behaviour associated with a key event\n",
       "}\n",
       "\n",
       "mpl.figure.prototype.key_event = function(event, name) {\n",
       "\n",
       "    // Prevent repeat events\n",
       "    if (name == 'key_press')\n",
       "    {\n",
       "        if (event.which === this._key)\n",
       "            return;\n",
       "        else\n",
       "            this._key = event.which;\n",
       "    }\n",
       "    if (name == 'key_release')\n",
       "        this._key = null;\n",
       "\n",
       "    var value = '';\n",
       "    if (event.ctrlKey && event.which != 17)\n",
       "        value += \"ctrl+\";\n",
       "    if (event.altKey && event.which != 18)\n",
       "        value += \"alt+\";\n",
       "    if (event.shiftKey && event.which != 16)\n",
       "        value += \"shift+\";\n",
       "\n",
       "    value += 'k';\n",
       "    value += event.which.toString();\n",
       "\n",
       "    this._key_event_extra(event, name);\n",
       "\n",
       "    this.send_message(name, {key: value,\n",
       "                             guiEvent: simpleKeys(event)});\n",
       "    return false;\n",
       "}\n",
       "\n",
       "mpl.figure.prototype.toolbar_button_onclick = function(name) {\n",
       "    if (name == 'download') {\n",
       "        this.handle_save(this, null);\n",
       "    } else {\n",
       "        this.send_message(\"toolbar_button\", {name: name});\n",
       "    }\n",
       "};\n",
       "\n",
       "mpl.figure.prototype.toolbar_button_onmouseover = function(tooltip) {\n",
       "    this.message.textContent = tooltip;\n",
       "};\n",
       "mpl.toolbar_items = [[\"Home\", \"Reset original view\", \"fa fa-home icon-home\", \"home\"], [\"Back\", \"Back to previous view\", \"fa fa-arrow-left icon-arrow-left\", \"back\"], [\"Forward\", \"Forward to next view\", \"fa fa-arrow-right icon-arrow-right\", \"forward\"], [\"\", \"\", \"\", \"\"], [\"Pan\", \"Pan axes with left mouse, zoom with right\", \"fa fa-arrows icon-move\", \"pan\"], [\"Zoom\", \"Zoom to rectangle\", \"fa fa-square-o icon-check-empty\", \"zoom\"], [\"\", \"\", \"\", \"\"], [\"Download\", \"Download plot\", \"fa fa-floppy-o icon-save\", \"download\"]];\n",
       "\n",
       "mpl.extensions = [\"eps\", \"jpeg\", \"pdf\", \"png\", \"ps\", \"raw\", \"svg\", \"tif\"];\n",
       "\n",
       "mpl.default_extension = \"png\";var comm_websocket_adapter = function(comm) {\n",
       "    // Create a \"websocket\"-like object which calls the given IPython comm\n",
       "    // object with the appropriate methods. Currently this is a non binary\n",
       "    // socket, so there is still some room for performance tuning.\n",
       "    var ws = {};\n",
       "\n",
       "    ws.close = function() {\n",
       "        comm.close()\n",
       "    };\n",
       "    ws.send = function(m) {\n",
       "        //console.log('sending', m);\n",
       "        comm.send(m);\n",
       "    };\n",
       "    // Register the callback with on_msg.\n",
       "    comm.on_msg(function(msg) {\n",
       "        //console.log('receiving', msg['content']['data'], msg);\n",
       "        // Pass the mpl event to the overridden (by mpl) onmessage function.\n",
       "        ws.onmessage(msg['content']['data'])\n",
       "    });\n",
       "    return ws;\n",
       "}\n",
       "\n",
       "mpl.mpl_figure_comm = function(comm, msg) {\n",
       "    // This is the function which gets called when the mpl process\n",
       "    // starts-up an IPython Comm through the \"matplotlib\" channel.\n",
       "\n",
       "    var id = msg.content.data.id;\n",
       "    // Get hold of the div created by the display call when the Comm\n",
       "    // socket was opened in Python.\n",
       "    var element = $(\"#\" + id);\n",
       "    var ws_proxy = comm_websocket_adapter(comm)\n",
       "\n",
       "    function ondownload(figure, format) {\n",
       "        window.open(figure.imageObj.src);\n",
       "    }\n",
       "\n",
       "    var fig = new mpl.figure(id, ws_proxy,\n",
       "                           ondownload,\n",
       "                           element.get(0));\n",
       "\n",
       "    // Call onopen now - mpl needs it, as it is assuming we've passed it a real\n",
       "    // web socket which is closed, not our websocket->open comm proxy.\n",
       "    ws_proxy.onopen();\n",
       "\n",
       "    fig.parent_element = element.get(0);\n",
       "    fig.cell_info = mpl.find_output_cell(\"<div id='\" + id + \"'></div>\");\n",
       "    if (!fig.cell_info) {\n",
       "        console.error(\"Failed to find cell for figure\", id, fig);\n",
       "        return;\n",
       "    }\n",
       "\n",
       "    var output_index = fig.cell_info[2]\n",
       "    var cell = fig.cell_info[0];\n",
       "\n",
       "};\n",
       "\n",
       "mpl.figure.prototype.handle_close = function(fig, msg) {\n",
       "    var width = fig.canvas.width/mpl.ratio\n",
       "    fig.root.unbind('remove')\n",
       "\n",
       "    // Update the output cell to use the data from the current canvas.\n",
       "    fig.push_to_output();\n",
       "    var dataURL = fig.canvas.toDataURL();\n",
       "    // Re-enable the keyboard manager in IPython - without this line, in FF,\n",
       "    // the notebook keyboard shortcuts fail.\n",
       "    IPython.keyboard_manager.enable()\n",
       "    $(fig.parent_element).html('<img src=\"' + dataURL + '\" width=\"' + width + '\">');\n",
       "    fig.close_ws(fig, msg);\n",
       "}\n",
       "\n",
       "mpl.figure.prototype.close_ws = function(fig, msg){\n",
       "    fig.send_message('closing', msg);\n",
       "    // fig.ws.close()\n",
       "}\n",
       "\n",
       "mpl.figure.prototype.push_to_output = function(remove_interactive) {\n",
       "    // Turn the data on the canvas into data in the output cell.\n",
       "    var width = this.canvas.width/mpl.ratio\n",
       "    var dataURL = this.canvas.toDataURL();\n",
       "    this.cell_info[1]['text/html'] = '<img src=\"' + dataURL + '\" width=\"' + width + '\">';\n",
       "}\n",
       "\n",
       "mpl.figure.prototype.updated_canvas_event = function() {\n",
       "    // Tell IPython that the notebook contents must change.\n",
       "    IPython.notebook.set_dirty(true);\n",
       "    this.send_message(\"ack\", {});\n",
       "    var fig = this;\n",
       "    // Wait a second, then push the new image to the DOM so\n",
       "    // that it is saved nicely (might be nice to debounce this).\n",
       "    setTimeout(function () { fig.push_to_output() }, 1000);\n",
       "}\n",
       "\n",
       "mpl.figure.prototype._init_toolbar = function() {\n",
       "    var fig = this;\n",
       "\n",
       "    var nav_element = $('<div/>');\n",
       "    nav_element.attr('style', 'width: 100%');\n",
       "    this.root.append(nav_element);\n",
       "\n",
       "    // Define a callback function for later on.\n",
       "    function toolbar_event(event) {\n",
       "        return fig.toolbar_button_onclick(event['data']);\n",
       "    }\n",
       "    function toolbar_mouse_event(event) {\n",
       "        return fig.toolbar_button_onmouseover(event['data']);\n",
       "    }\n",
       "\n",
       "    for(var toolbar_ind in mpl.toolbar_items){\n",
       "        var name = mpl.toolbar_items[toolbar_ind][0];\n",
       "        var tooltip = mpl.toolbar_items[toolbar_ind][1];\n",
       "        var image = mpl.toolbar_items[toolbar_ind][2];\n",
       "        var method_name = mpl.toolbar_items[toolbar_ind][3];\n",
       "\n",
       "        if (!name) { continue; };\n",
       "\n",
       "        var button = $('<button class=\"btn btn-default\" href=\"#\" title=\"' + name + '\"><i class=\"fa ' + image + ' fa-lg\"></i></button>');\n",
       "        button.click(method_name, toolbar_event);\n",
       "        button.mouseover(tooltip, toolbar_mouse_event);\n",
       "        nav_element.append(button);\n",
       "    }\n",
       "\n",
       "    // Add the status bar.\n",
       "    var status_bar = $('<span class=\"mpl-message\" style=\"text-align:right; float: right;\"/>');\n",
       "    nav_element.append(status_bar);\n",
       "    this.message = status_bar[0];\n",
       "\n",
       "    // Add the close button to the window.\n",
       "    var buttongrp = $('<div class=\"btn-group inline pull-right\"></div>');\n",
       "    var button = $('<button class=\"btn btn-mini btn-primary\" href=\"#\" title=\"Stop Interaction\"><i class=\"fa fa-power-off icon-remove icon-large\"></i></button>');\n",
       "    button.click(function (evt) { fig.handle_close(fig, {}); } );\n",
       "    button.mouseover('Stop Interaction', toolbar_mouse_event);\n",
       "    buttongrp.append(button);\n",
       "    var titlebar = this.root.find($('.ui-dialog-titlebar'));\n",
       "    titlebar.prepend(buttongrp);\n",
       "}\n",
       "\n",
       "mpl.figure.prototype._root_extra_style = function(el){\n",
       "    var fig = this\n",
       "    el.on(\"remove\", function(){\n",
       "\tfig.close_ws(fig, {});\n",
       "    });\n",
       "}\n",
       "\n",
       "mpl.figure.prototype._canvas_extra_style = function(el){\n",
       "    // this is important to make the div 'focusable\n",
       "    el.attr('tabindex', 0)\n",
       "    // reach out to IPython and tell the keyboard manager to turn it's self\n",
       "    // off when our div gets focus\n",
       "\n",
       "    // location in version 3\n",
       "    if (IPython.notebook.keyboard_manager) {\n",
       "        IPython.notebook.keyboard_manager.register_events(el);\n",
       "    }\n",
       "    else {\n",
       "        // location in version 2\n",
       "        IPython.keyboard_manager.register_events(el);\n",
       "    }\n",
       "\n",
       "}\n",
       "\n",
       "mpl.figure.prototype._key_event_extra = function(event, name) {\n",
       "    var manager = IPython.notebook.keyboard_manager;\n",
       "    if (!manager)\n",
       "        manager = IPython.keyboard_manager;\n",
       "\n",
       "    // Check for shift+enter\n",
       "    if (event.shiftKey && event.which == 13) {\n",
       "        this.canvas_div.blur();\n",
       "        event.shiftKey = false;\n",
       "        // Send a \"J\" for go to next cell\n",
       "        event.which = 74;\n",
       "        event.keyCode = 74;\n",
       "        manager.command_mode();\n",
       "        manager.handle_keydown(event);\n",
       "    }\n",
       "}\n",
       "\n",
       "mpl.figure.prototype.handle_save = function(fig, msg) {\n",
       "    fig.ondownload(fig, null);\n",
       "}\n",
       "\n",
       "\n",
       "mpl.find_output_cell = function(html_output) {\n",
       "    // Return the cell and output element which can be found *uniquely* in the notebook.\n",
       "    // Note - this is a bit hacky, but it is done because the \"notebook_saving.Notebook\"\n",
       "    // IPython event is triggered only after the cells have been serialised, which for\n",
       "    // our purposes (turning an active figure into a static one), is too late.\n",
       "    var cells = IPython.notebook.get_cells();\n",
       "    var ncells = cells.length;\n",
       "    for (var i=0; i<ncells; i++) {\n",
       "        var cell = cells[i];\n",
       "        if (cell.cell_type === 'code'){\n",
       "            for (var j=0; j<cell.output_area.outputs.length; j++) {\n",
       "                var data = cell.output_area.outputs[j];\n",
       "                if (data.data) {\n",
       "                    // IPython >= 3 moved mimebundle to data attribute of output\n",
       "                    data = data.data;\n",
       "                }\n",
       "                if (data['text/html'] == html_output) {\n",
       "                    return [cell, data, j];\n",
       "                }\n",
       "            }\n",
       "        }\n",
       "    }\n",
       "}\n",
       "\n",
       "// Register the function which deals with the matplotlib target/channel.\n",
       "// The kernel may be null if the page has been refreshed.\n",
       "if (IPython.notebook.kernel != null) {\n",
       "    IPython.notebook.kernel.comm_manager.register_target('matplotlib', mpl.mpl_figure_comm);\n",
       "}\n"
      ],
      "text/plain": [
       "<IPython.core.display.Javascript object>"
      ]
     },
     "metadata": {},
     "output_type": "display_data"
    },
    {
     "data": {
      "text/html": [
       "<img src=\"data:image/png;base64,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\" width=\"639.999990463257\">"
      ],
      "text/plain": [
       "<IPython.core.display.HTML object>"
      ]
     },
     "metadata": {},
     "output_type": "display_data"
    },
    {
     "data": {
      "text/plain": [
       "Text(0.5, 1.0, 'above one spike F-I Curve')"
      ]
     },
     "execution_count": 53,
     "metadata": {},
     "output_type": "execute_result"
    }
   ],
   "source": [
    "plt.plot(x1, above_one_spike_list) \n",
    "plt.xlabel('Input Current (nA)')\n",
    "plt.ylabel('Firing Rate (Spikes/S)')\n",
    "plt.title('above one spike F-I Curve')"
   ]
  },
  {
   "cell_type": "code",
   "execution_count": 54,
   "metadata": {},
   "outputs": [],
   "source": [
    "Slope_firing_rate = [i / j for i, j in zip(above_one_spike_list, x1)] \n",
    "Slope_firing_rate = mean(Slope_firing_rate)"
   ]
  },
  {
   "cell_type": "code",
   "execution_count": 55,
   "metadata": {},
   "outputs": [
    {
     "data": {
      "text/plain": [
       "197.29085139326355"
      ]
     },
     "execution_count": 55,
     "metadata": {},
     "output_type": "execute_result"
    }
   ],
   "source": [
    "Slope_firing_rate"
   ]
  },
  {
   "cell_type": "code",
   "execution_count": 23,
   "metadata": {},
   "outputs": [
    {
     "name": "stdout",
     "output_type": "stream",
     "text": [
      "-54.61538461538463\n"
     ]
    }
   ],
   "source": [
    "'''xs = np.array(x1, dtype=np.float64)\n",
    "ys = np.array(above_one_spike_list, dtype=np.float64)\n",
    "\n",
    "def best_fit_slope(xs,ys):\n",
    "    m = (((mean(xs)*mean(ys)) - mean(xs*ys)) /\n",
    "         ((mean(xs)**2) - mean(xs**2)))\n",
    "    return m\n",
    "\n",
    "m = best_fit_slope(xs,ys)\n",
    "print(m)'''"
   ]
  },
  {
   "cell_type": "code",
   "execution_count": 24,
   "metadata": {},
   "outputs": [],
   "source": [
    "#slope = np.polyfit(x1, above_one_spike_list,1)[0]\n",
    "#slope"
   ]
  },
  {
   "cell_type": "code",
   "execution_count": null,
   "metadata": {},
   "outputs": [],
   "source": []
  },
  {
   "cell_type": "code",
   "execution_count": null,
   "metadata": {},
   "outputs": [],
   "source": []
  },
  {
   "cell_type": "code",
   "execution_count": null,
   "metadata": {},
   "outputs": [],
   "source": []
  },
  {
   "cell_type": "code",
   "execution_count": null,
   "metadata": {},
   "outputs": [],
   "source": []
  },
  {
   "cell_type": "code",
   "execution_count": null,
   "metadata": {},
   "outputs": [],
   "source": []
  },
  {
   "cell_type": "code",
   "execution_count": null,
   "metadata": {},
   "outputs": [],
   "source": []
  },
  {
   "cell_type": "code",
   "execution_count": 180,
   "metadata": {},
   "outputs": [
    {
     "ename": "NameError",
     "evalue": "name 'leak_mechanism' is not defined",
     "output_type": "error",
     "traceback": [
      "\u001b[0;31m---------------------------------------------------------------------------\u001b[0m",
      "\u001b[0;31mNameError\u001b[0m                                 Traceback (most recent call last)",
      "\u001b[0;32m<ipython-input-180-1e76a5517fb2>\u001b[0m in \u001b[0;36m<module>\u001b[0;34m\u001b[0m\n\u001b[1;32m      8\u001b[0m \u001b[0;31m#gkbar0 = [0.9]\u001b[0m\u001b[0;34m\u001b[0m\u001b[0;34m\u001b[0m\u001b[0;34m\u001b[0m\u001b[0m\n\u001b[1;32m      9\u001b[0m \u001b[0mpas_g0\u001b[0m \u001b[0;34m=\u001b[0m \u001b[0;34m[\u001b[0m\u001b[0;36m0.05\u001b[0m\u001b[0;34m]\u001b[0m\u001b[0;34m\u001b[0m\u001b[0;34m\u001b[0m\u001b[0m\n\u001b[0;32m---> 10\u001b[0;31m \u001b[0mleak_mechanism\u001b[0m\u001b[0;34m.\u001b[0m\u001b[0mg\u001b[0m \u001b[0;34m=\u001b[0m \u001b[0mpas_g0\u001b[0m\u001b[0;34m\u001b[0m\u001b[0;34m\u001b[0m\u001b[0m\n\u001b[0m\u001b[1;32m     11\u001b[0m \u001b[0mx\u001b[0m \u001b[0;34m=\u001b[0m \u001b[0mpas_g0\u001b[0m\u001b[0;34m\u001b[0m\u001b[0;34m\u001b[0m\u001b[0m\n\u001b[1;32m     12\u001b[0m \u001b[0;31m#h.run()\u001b[0m\u001b[0;34m\u001b[0m\u001b[0;34m\u001b[0m\u001b[0;34m\u001b[0m\u001b[0m\n",
      "\u001b[0;31mNameError\u001b[0m: name 'leak_mechanism' is not defined"
     ]
    }
   ],
   "source": [
    "#Hint: x0 = [gl0, gnabar0, gkbar0]\n",
    "R_inp_list = []\n",
    "pas_g0_list = []\n",
    "\n",
    "#initial condition\n",
    "\n",
    "x = pas_g0\n",
    "#h.run()\n",
    "def R_inp_calc(x):\n",
    "    soma(0.5).pas.g = x[0] \n",
    "    h.run()\n",
    "    leak_current_rec = h.Vector()\n",
    "    #leak_current_rec.record(soma(0.5).pas._ref_i, h.dt)\n",
    "    soma_voltage_array = np.array(soma_voltage)\n",
    "    t_array = np.array(t)\n",
    "    step_current_amp = step_current_stim.amp\n",
    "    baseline_eq_indexes = np.where((195. <= t_array) & (t_array < 200.))\n",
    "    step_eq_indexes = np.where((395. <= t_array) & (t_array < 400.))\n",
    "    baseline_eq_Vm  = np.mean(soma_voltage_array[baseline_eq_indexes])\n",
    "    step_eq_Vm = np.mean(soma_voltage_array[step_eq_indexes])\n",
    "    #print(baseline_eq_Vm, step_eq_Vm)\n",
    "    delta_Vm = abs(baseline_eq_Vm - step_eq_Vm)\n",
    "    R_inp = (delta_Vm / 1000.) / (abs(step_current_amp) / 1e9) / 1e6 # convert mV to V, nA to A, and Ohm to MegaOhm\n",
    "    #print(R_inp)\n",
    "    R_inp_list.append(R_inp)\n",
    "    pas_g0_list.append(x[0]) \n",
    "    return R_inp"
   ]
  },
  {
   "cell_type": "code",
   "execution_count": 181,
   "metadata": {},
   "outputs": [
    {
     "ename": "AttributeError",
     "evalue": "pas, the mechanism does not exist at __nrnsec_0x7f923ca4a000(0.5)",
     "output_type": "error",
     "traceback": [
      "\u001b[0;31m---------------------------------------------------------------------------\u001b[0m",
      "\u001b[0;31mAttributeError\u001b[0m                            Traceback (most recent call last)",
      "\u001b[0;32m<ipython-input-181-b661e6c32dfa>\u001b[0m in \u001b[0;36m<module>\u001b[0;34m\u001b[0m\n\u001b[0;32m----> 1\u001b[0;31m \u001b[0mR_inp_calc\u001b[0m\u001b[0;34m(\u001b[0m\u001b[0mx\u001b[0m\u001b[0;34m)\u001b[0m\u001b[0;34m\u001b[0m\u001b[0;34m\u001b[0m\u001b[0m\n\u001b[0m",
      "\u001b[0;32m<ipython-input-178-d9fb468de68b>\u001b[0m in \u001b[0;36mR_inp_calc\u001b[0;34m(x)\u001b[0m\n\u001b[1;32m     12\u001b[0m \u001b[0;31m#h.run()\u001b[0m\u001b[0;34m\u001b[0m\u001b[0;34m\u001b[0m\u001b[0;34m\u001b[0m\u001b[0m\n\u001b[1;32m     13\u001b[0m \u001b[0;32mdef\u001b[0m \u001b[0mR_inp_calc\u001b[0m\u001b[0;34m(\u001b[0m\u001b[0mx\u001b[0m\u001b[0;34m)\u001b[0m\u001b[0;34m:\u001b[0m\u001b[0;34m\u001b[0m\u001b[0;34m\u001b[0m\u001b[0m\n\u001b[0;32m---> 14\u001b[0;31m     \u001b[0msoma\u001b[0m\u001b[0;34m(\u001b[0m\u001b[0;36m0.5\u001b[0m\u001b[0;34m)\u001b[0m\u001b[0;34m.\u001b[0m\u001b[0mpas\u001b[0m\u001b[0;34m.\u001b[0m\u001b[0mg\u001b[0m \u001b[0;34m=\u001b[0m \u001b[0mx\u001b[0m\u001b[0;34m[\u001b[0m\u001b[0;36m0\u001b[0m\u001b[0;34m]\u001b[0m\u001b[0;34m\u001b[0m\u001b[0;34m\u001b[0m\u001b[0m\n\u001b[0m\u001b[1;32m     15\u001b[0m     \u001b[0mh\u001b[0m\u001b[0;34m.\u001b[0m\u001b[0mrun\u001b[0m\u001b[0;34m(\u001b[0m\u001b[0;34m)\u001b[0m\u001b[0;34m\u001b[0m\u001b[0;34m\u001b[0m\u001b[0m\n\u001b[1;32m     16\u001b[0m     \u001b[0mleak_current_rec\u001b[0m \u001b[0;34m=\u001b[0m \u001b[0mh\u001b[0m\u001b[0;34m.\u001b[0m\u001b[0mVector\u001b[0m\u001b[0;34m(\u001b[0m\u001b[0;34m)\u001b[0m\u001b[0;34m\u001b[0m\u001b[0;34m\u001b[0m\u001b[0m\n",
      "\u001b[0;31mAttributeError\u001b[0m: pas, the mechanism does not exist at __nrnsec_0x7f923ca4a000(0.5)"
     ]
    }
   ],
   "source": [
    "R_inp_calc(x)"
   ]
  },
  {
   "cell_type": "code",
   "execution_count": null,
   "metadata": {},
   "outputs": [],
   "source": []
  }
 ],
 "metadata": {
  "kernelspec": {
   "display_name": "Python 3",
   "language": "python",
   "name": "python3"
  },
  "language_info": {
   "codemirror_mode": {
    "name": "ipython",
    "version": 3
   },
   "file_extension": ".py",
   "mimetype": "text/x-python",
   "name": "python",
   "nbconvert_exporter": "python",
   "pygments_lexer": "ipython3",
   "version": "3.7.6"
  }
 },
 "nbformat": 4,
 "nbformat_minor": 2
}
