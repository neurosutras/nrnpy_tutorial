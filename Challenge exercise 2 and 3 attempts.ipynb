{
 "cells": [
  {
   "cell_type": "markdown",
   "metadata": {},
   "source": [
    "## Challenge 1: Measure and plot an f-I curve\n",
    "\n",
    "- The relationship between input current (I) and output firing rate (f)\n",
    "- Make sure to only count spikes within the window of the step current injection"
   ]
  },
  {
   "cell_type": "markdown",
   "metadata": {},
   "source": [
    "## Challenge 2: Simultaneously optimize both somatic input resistance and the slope of the f-I curve.\n",
    "\n",
    "- Hint: x0 = [gl0, gnabar0, gkbar0]\n",
    "- How to construct a single error value that reflects 2 objectives?\n",
    "- Target f-I slope should be ~10 Hz / 0.05 nA\n",
    "- f-I slope should really only be calculated from values of I that produced more than one spike. ___/"
   ]
  },
  {
   "cell_type": "code",
   "execution_count": 1,
   "metadata": {},
   "outputs": [],
   "source": [
    "%matplotlib notebook\n",
    "import numpy as np\n",
    "import matplotlib.pyplot as plt\n",
    "#from matplotlib import style\n",
    "from neuron import h"
   ]
  },
  {
   "cell_type": "markdown",
   "metadata": {},
   "source": [
    "## Challenge 1: "
   ]
  },
  {
   "cell_type": "code",
   "execution_count": 2,
   "metadata": {},
   "outputs": [
    {
     "data": {
      "text/plain": [
       "1.0"
      ]
     },
     "execution_count": 2,
     "metadata": {},
     "output_type": "execute_result"
    }
   ],
   "source": [
    "h.load_file('stdrun.hoc')"
   ]
  },
  {
   "cell_type": "code",
   "execution_count": 3,
   "metadata": {},
   "outputs": [
    {
     "data": {
      "text/plain": [
       "0.0"
      ]
     },
     "execution_count": 3,
     "metadata": {},
     "output_type": "execute_result"
    }
   ],
   "source": [
    "soma = h.Section()\n",
    "soma.L = 20.\n",
    "soma.diam = 20.\n",
    "soma.insert('hh')\n",
    "\n",
    "h.tstop = 600.\n",
    "v_init = -65.\n",
    "h.v_init = v_init\n",
    "\n",
    "t = h.Vector()\n",
    "soma_voltage = h.Vector()\n",
    "t.record(h._ref_t, h.dt)  # record the time base\n",
    "soma_voltage.record(soma(0.5)._ref_v, h.dt)  # record the voltage across the membrane in a segment\n",
    "\n",
    "step_current_stim = h.IClamp(soma(0.5))\n",
    "step_current_stim.amp = 0.15  # amplitude in nanoAmps\n",
    "step_current_stim.dur = 200.  # duration in milliseconds\n",
    "step_current_stim.delay = 200.  # start time of current injection\n",
    "h.run()"
   ]
  },
  {
   "cell_type": "code",
   "execution_count": 4,
   "metadata": {},
   "outputs": [
    {
     "data": {
      "text/plain": [
       "\"#output firing rate = Spike_counts/ms - time constant\\nh.run()\\nplt.figure()\\nplt.plot(t, soma_voltage)\\nplt.ylabel('Voltage (mV)')\\nplt.xlabel('Time (ms)')\\n#smaller current injection might cause all to be same height\""
      ]
     },
     "execution_count": 4,
     "metadata": {},
     "output_type": "execute_result"
    }
   ],
   "source": [
    "'''#output firing rate = Spike_counts/ms - time constant\n",
    "h.run()\n",
    "plt.figure()\n",
    "plt.plot(t, soma_voltage)\n",
    "plt.ylabel('Voltage (mV)')\n",
    "plt.xlabel('Time (ms)')\n",
    "#smaller current injection might cause all to be same height'''"
   ]
  },
  {
   "cell_type": "code",
   "execution_count": 5,
   "metadata": {},
   "outputs": [
    {
     "data": {
      "text/plain": [
       "Vector[4]"
      ]
     },
     "execution_count": 5,
     "metadata": {},
     "output_type": "execute_result"
    }
   ],
   "source": [
    "hh_mech = soma(0.5).hh\n",
    "#now think of hh attributes in time scales\n",
    "gl = h.Vector()\n",
    "gl.record(soma(0.5).hh._ref_gl, h.dt)\n",
    "gna = h.Vector()\n",
    "gna.record(soma(0.5).hh._ref_gna, h.dt)\n",
    "gk = h.Vector()\n",
    "gk.record(soma(0.5).hh._ref_gk, h.dt)"
   ]
  },
  {
   "cell_type": "code",
   "execution_count": 6,
   "metadata": {},
   "outputs": [],
   "source": [
    "\n",
    "\n",
    "\n",
    "gkbar0 = soma(0.5).hh.gkbar\n",
    "\n",
    "gnabar0 = soma(0.5).hh.gnabar\n",
    "   \n",
    "gl0 = soma(0.5).hh.gl\n",
    "\n",
    "T0 = h.celsius"
   ]
  },
  {
   "cell_type": "code",
   "execution_count": 7,
   "metadata": {},
   "outputs": [
    {
     "data": {
      "text/plain": [
       "0.0"
      ]
     },
     "execution_count": 7,
     "metadata": {},
     "output_type": "execute_result"
    }
   ],
   "source": [
    "spike_times = h.Vector()\n",
    "spike_detector = h.NetCon(soma(0.5)._ref_v, None, sec=soma)\n",
    "spike_detector.delay = 0.  # ms\n",
    "spike_detector.threshold = -10.  # mV\n",
    "spike_detector.record(spike_times)"
   ]
  },
  {
   "cell_type": "code",
   "execution_count": 8,
   "metadata": {},
   "outputs": [
    {
     "data": {
      "text/plain": [
       "\"step_current_stim.amp = 0.5\\ntest_amp_vals = [0.05 * i for i in range(6)]\\nfig, axes = plt.subplots(len(test_amp_vals))\\nfor i, amp in enumerate(test_amp_vals):\\n    step_current_stim.amp = amp\\n    h.run()\\n    print('Amp: %.2f;\\nspike times: %s' % (amp, str(np.array(spike_times))))\\n    axes[i].plot(t, soma_voltage, label='Amp: %.2f;\\nspike count: %i' % (amp, len(spike_times)))\\n    axes[i].legend(loc='best', frameon=False)\\nfig.show()\""
      ]
     },
     "execution_count": 8,
     "metadata": {},
     "output_type": "execute_result"
    }
   ],
   "source": [
    "'''step_current_stim.amp = 0.5\n",
    "test_amp_vals = [0.05 * i for i in range(6)]\n",
    "fig, axes = plt.subplots(len(test_amp_vals))\n",
    "for i, amp in enumerate(test_amp_vals):\n",
    "    step_current_stim.amp = amp\n",
    "    h.run()\n",
    "    print('Amp: %.2f;\\nspike times: %s' % (amp, str(np.array(spike_times))))\n",
    "    axes[i].plot(t, soma_voltage, label='Amp: %.2f;\\nspike count: %i' % (amp, len(spike_times)))\n",
    "    axes[i].legend(loc='best', frameon=False)\n",
    "fig.show()'''"
   ]
  },
  {
   "cell_type": "code",
   "execution_count": 9,
   "metadata": {},
   "outputs": [],
   "source": [
    "step_current_stim.amp = 0.50\n",
    "#To produce the a Depolarization Block:\n",
    "#current_amps = [0.050 * i for i in range(35)]\n",
    "#No Depolarization block: 0.05-0.6nA\n",
    "current_amps = [0.050 * i for i in range(13)]\n",
    "#create a firing_rate list\n",
    "firing_rate_list = []\n",
    "#create a list for spike_times contained within a array that is being created from enumerating through a list of\n",
    "#input x values or current inputs\n",
    "spike_count_list = []\n",
    "#pass in the values of current inputs as x\n",
    "def calc_firing_rates(current_amps):\n",
    "    #enumerate throught these x values: for count(i), values(amp) in enumerate through x\n",
    "     for i, amp in enumerate(current_amps):\n",
    "    #for i, amp in enumerate(test_amp_vals):\n",
    "    #assign the .amp object to the amp value variable\n",
    "        step_current_stim.amp = amp\n",
    "        #needs to run to make the simulation happe\n",
    "        h.run()\n",
    "        #firing rate = the array of the length of the array of spike times - has to be the length because \n",
    "        #the spike times will tell u where a spike happens at what time point, so each time point, if it reaches\n",
    "        #threshold it will become a spike, this is divided by the simulations current duration - which is the interval\n",
    "        #where spikes will occur at because this is where current is being stimulated / 1000 (ms to s)\n",
    "        firing_rate = np.array((len(np.array(spike_times))/(step_current_stim.dur/1000)))\n",
    "        #must print within the function to output this value when you return the function\n",
    "        print(firing_rate)\n",
    "        #print(len(np.array(spike_times))) \n",
    "        #append the firing rate values to the firing rate list so u can have them stored\n",
    "        firing_rate_list.append(float(firing_rate)) \n",
    "        #do the same for the spike time length or spikes\n",
    "        spike_count_list.append(len(np.array(spike_times)))"
   ]
  },
  {
   "cell_type": "code",
   "execution_count": 10,
   "metadata": {
    "scrolled": true
   },
   "outputs": [
    {
     "data": {
      "text/plain": [
       "[0.0,\n",
       " 0.05,\n",
       " 0.1,\n",
       " 0.15000000000000002,\n",
       " 0.2,\n",
       " 0.25,\n",
       " 0.30000000000000004,\n",
       " 0.35000000000000003,\n",
       " 0.4,\n",
       " 0.45,\n",
       " 0.5,\n",
       " 0.55,\n",
       " 0.6000000000000001]"
      ]
     },
     "execution_count": 10,
     "metadata": {},
     "output_type": "execute_result"
    }
   ],
   "source": [
    "current_amps"
   ]
  },
  {
   "cell_type": "code",
   "execution_count": 11,
   "metadata": {
    "scrolled": true
   },
   "outputs": [
    {
     "name": "stdout",
     "output_type": "stream",
     "text": [
      "0.0\n",
      "5.0\n",
      "65.0\n",
      "75.0\n",
      "80.0\n",
      "90.0\n",
      "95.0\n",
      "100.0\n",
      "100.0\n",
      "105.0\n",
      "110.0\n",
      "115.0\n",
      "115.0\n"
     ]
    }
   ],
   "source": [
    "calc_firing_rates(current_amps)"
   ]
  },
  {
   "cell_type": "code",
   "execution_count": 12,
   "metadata": {
    "scrolled": true
   },
   "outputs": [
    {
     "data": {
      "text/plain": [
       "13"
      ]
     },
     "execution_count": 12,
     "metadata": {},
     "output_type": "execute_result"
    }
   ],
   "source": [
    "len(firing_rate_list)"
   ]
  },
  {
   "cell_type": "code",
   "execution_count": 13,
   "metadata": {},
   "outputs": [],
   "source": [
    "#len(firing_rate_list)"
   ]
  },
  {
   "cell_type": "code",
   "execution_count": 14,
   "metadata": {
    "scrolled": true
   },
   "outputs": [],
   "source": [
    "#spike_count_list"
   ]
  },
  {
   "cell_type": "code",
   "execution_count": 26,
   "metadata": {},
   "outputs": [
    {
     "data": {
      "text/plain": [
       "\"plt.plot(current_amps, firing_rate_list) \\nplt.xlabel('Input Current (nA)')\\nplt.ylabel('Firing Rate (Spikes/S)')\\nplt.title('F-I Curve')\\n#plt.savefig('F-I Curve.png')\""
      ]
     },
     "execution_count": 26,
     "metadata": {},
     "output_type": "execute_result"
    }
   ],
   "source": [
    "'''plt.plot(current_amps, firing_rate_list) \n",
    "plt.xlabel('Input Current (nA)')\n",
    "plt.ylabel('Firing Rate (Spikes/S)')\n",
    "plt.title('F-I Curve')\n",
    "#plt.savefig('F-I Curve.png')'''"
   ]
  },
  {
   "cell_type": "code",
   "execution_count": 16,
   "metadata": {
    "scrolled": false
   },
   "outputs": [
    {
     "data": {
      "text/plain": [
       "\"step_current_stim.amp = 0.5\\ntest_amp_vals = [0.05 * i for i in range(40)]\\nfig, axes = plt.subplots(len(test_amp_vals), figsize=(9., 80.))\\nfor i, amp in enumerate(test_amp_vals):\\n    step_current_stim.amp = amp\\n    h.run()\\n    print('Amp: %.2f;\\nspike times: %s' % (amp, str(np.array(spike_times))))\\n    axes[i].plot(t, soma_voltage, label='Amp: %.2f;\\nspike count: %i' % (amp, len(spike_times)))\\n    axes[i].legend(loc='best', frameon=False)\\nfig.show()\""
      ]
     },
     "execution_count": 16,
     "metadata": {},
     "output_type": "execute_result"
    }
   ],
   "source": [
    "'''step_current_stim.amp = 0.5\n",
    "test_amp_vals = [0.05 * i for i in range(40)]\n",
    "fig, axes = plt.subplots(len(test_amp_vals), figsize=(9., 80.))\n",
    "for i, amp in enumerate(test_amp_vals):\n",
    "    step_current_stim.amp = amp\n",
    "    h.run()\n",
    "    print('Amp: %.2f;\\nspike times: %s' % (amp, str(np.array(spike_times))))\n",
    "    axes[i].plot(t, soma_voltage, label='Amp: %.2f;\\nspike count: %i' % (amp, len(spike_times)))\n",
    "    axes[i].legend(loc='best', frameon=False)\n",
    "fig.show()'''"
   ]
  },
  {
   "cell_type": "markdown",
   "metadata": {},
   "source": [
    "## Challenge 2: "
   ]
  },
  {
   "cell_type": "code",
   "execution_count": 17,
   "metadata": {},
   "outputs": [],
   "source": [
    "from statistics import mean\n",
    "#f-I slope should really only be calculated from values of I that produced more than one spike. ___/"
   ]
  },
  {
   "cell_type": "code",
   "execution_count": 18,
   "metadata": {},
   "outputs": [],
   "source": [
    "#0.1 - 1.3 = x1[2:26] - produce more than one spike\n",
    "current_amps_new = current_amps[2:27]"
   ]
  },
  {
   "cell_type": "code",
   "execution_count": 19,
   "metadata": {},
   "outputs": [
    {
     "data": {
      "text/plain": [
       "11"
      ]
     },
     "execution_count": 19,
     "metadata": {},
     "output_type": "execute_result"
    }
   ],
   "source": [
    "len(current_amps_new )"
   ]
  },
  {
   "cell_type": "code",
   "execution_count": 20,
   "metadata": {},
   "outputs": [],
   "source": [
    "above_one_spike_list = []\n",
    "for i in firing_rate_list:\n",
    "        if i > 5:\n",
    "            above_one_spike = i \n",
    "            #print(above_one_spike)\n",
    "            above_one_spike_list.append(above_one_spike)"
   ]
  },
  {
   "cell_type": "code",
   "execution_count": 21,
   "metadata": {},
   "outputs": [
    {
     "data": {
      "text/plain": [
       "[65.0, 75.0, 80.0, 90.0, 95.0, 100.0, 100.0, 105.0, 110.0, 115.0, 115.0]"
      ]
     },
     "execution_count": 21,
     "metadata": {},
     "output_type": "execute_result"
    }
   ],
   "source": [
    "above_one_spike_list"
   ]
  },
  {
   "cell_type": "code",
   "execution_count": 27,
   "metadata": {},
   "outputs": [
    {
     "data": {
      "application/javascript": [
       "/* Put everything inside the global mpl namespace */\n",
       "window.mpl = {};\n",
       "\n",
       "\n",
       "mpl.get_websocket_type = function() {\n",
       "    if (typeof(WebSocket) !== 'undefined') {\n",
       "        return WebSocket;\n",
       "    } else if (typeof(MozWebSocket) !== 'undefined') {\n",
       "        return MozWebSocket;\n",
       "    } else {\n",
       "        alert('Your browser does not have WebSocket support. ' +\n",
       "              'Please try Chrome, Safari or Firefox ≥ 6. ' +\n",
       "              'Firefox 4 and 5 are also supported but you ' +\n",
       "              'have to enable WebSockets in about:config.');\n",
       "    };\n",
       "}\n",
       "\n",
       "mpl.figure = function(figure_id, websocket, ondownload, parent_element) {\n",
       "    this.id = figure_id;\n",
       "\n",
       "    this.ws = websocket;\n",
       "\n",
       "    this.supports_binary = (this.ws.binaryType != undefined);\n",
       "\n",
       "    if (!this.supports_binary) {\n",
       "        var warnings = document.getElementById(\"mpl-warnings\");\n",
       "        if (warnings) {\n",
       "            warnings.style.display = 'block';\n",
       "            warnings.textContent = (\n",
       "                \"This browser does not support binary websocket messages. \" +\n",
       "                    \"Performance may be slow.\");\n",
       "        }\n",
       "    }\n",
       "\n",
       "    this.imageObj = new Image();\n",
       "\n",
       "    this.context = undefined;\n",
       "    this.message = undefined;\n",
       "    this.canvas = undefined;\n",
       "    this.rubberband_canvas = undefined;\n",
       "    this.rubberband_context = undefined;\n",
       "    this.format_dropdown = undefined;\n",
       "\n",
       "    this.image_mode = 'full';\n",
       "\n",
       "    this.root = $('<div/>');\n",
       "    this._root_extra_style(this.root)\n",
       "    this.root.attr('style', 'display: inline-block');\n",
       "\n",
       "    $(parent_element).append(this.root);\n",
       "\n",
       "    this._init_header(this);\n",
       "    this._init_canvas(this);\n",
       "    this._init_toolbar(this);\n",
       "\n",
       "    var fig = this;\n",
       "\n",
       "    this.waiting = false;\n",
       "\n",
       "    this.ws.onopen =  function () {\n",
       "            fig.send_message(\"supports_binary\", {value: fig.supports_binary});\n",
       "            fig.send_message(\"send_image_mode\", {});\n",
       "            if (mpl.ratio != 1) {\n",
       "                fig.send_message(\"set_dpi_ratio\", {'dpi_ratio': mpl.ratio});\n",
       "            }\n",
       "            fig.send_message(\"refresh\", {});\n",
       "        }\n",
       "\n",
       "    this.imageObj.onload = function() {\n",
       "            if (fig.image_mode == 'full') {\n",
       "                // Full images could contain transparency (where diff images\n",
       "                // almost always do), so we need to clear the canvas so that\n",
       "                // there is no ghosting.\n",
       "                fig.context.clearRect(0, 0, fig.canvas.width, fig.canvas.height);\n",
       "            }\n",
       "            fig.context.drawImage(fig.imageObj, 0, 0);\n",
       "        };\n",
       "\n",
       "    this.imageObj.onunload = function() {\n",
       "        fig.ws.close();\n",
       "    }\n",
       "\n",
       "    this.ws.onmessage = this._make_on_message_function(this);\n",
       "\n",
       "    this.ondownload = ondownload;\n",
       "}\n",
       "\n",
       "mpl.figure.prototype._init_header = function() {\n",
       "    var titlebar = $(\n",
       "        '<div class=\"ui-dialog-titlebar ui-widget-header ui-corner-all ' +\n",
       "        'ui-helper-clearfix\"/>');\n",
       "    var titletext = $(\n",
       "        '<div class=\"ui-dialog-title\" style=\"width: 100%; ' +\n",
       "        'text-align: center; padding: 3px;\"/>');\n",
       "    titlebar.append(titletext)\n",
       "    this.root.append(titlebar);\n",
       "    this.header = titletext[0];\n",
       "}\n",
       "\n",
       "\n",
       "\n",
       "mpl.figure.prototype._canvas_extra_style = function(canvas_div) {\n",
       "\n",
       "}\n",
       "\n",
       "\n",
       "mpl.figure.prototype._root_extra_style = function(canvas_div) {\n",
       "\n",
       "}\n",
       "\n",
       "mpl.figure.prototype._init_canvas = function() {\n",
       "    var fig = this;\n",
       "\n",
       "    var canvas_div = $('<div/>');\n",
       "\n",
       "    canvas_div.attr('style', 'position: relative; clear: both; outline: 0');\n",
       "\n",
       "    function canvas_keyboard_event(event) {\n",
       "        return fig.key_event(event, event['data']);\n",
       "    }\n",
       "\n",
       "    canvas_div.keydown('key_press', canvas_keyboard_event);\n",
       "    canvas_div.keyup('key_release', canvas_keyboard_event);\n",
       "    this.canvas_div = canvas_div\n",
       "    this._canvas_extra_style(canvas_div)\n",
       "    this.root.append(canvas_div);\n",
       "\n",
       "    var canvas = $('<canvas/>');\n",
       "    canvas.addClass('mpl-canvas');\n",
       "    canvas.attr('style', \"left: 0; top: 0; z-index: 0; outline: 0\")\n",
       "\n",
       "    this.canvas = canvas[0];\n",
       "    this.context = canvas[0].getContext(\"2d\");\n",
       "\n",
       "    var backingStore = this.context.backingStorePixelRatio ||\n",
       "\tthis.context.webkitBackingStorePixelRatio ||\n",
       "\tthis.context.mozBackingStorePixelRatio ||\n",
       "\tthis.context.msBackingStorePixelRatio ||\n",
       "\tthis.context.oBackingStorePixelRatio ||\n",
       "\tthis.context.backingStorePixelRatio || 1;\n",
       "\n",
       "    mpl.ratio = (window.devicePixelRatio || 1) / backingStore;\n",
       "\n",
       "    var rubberband = $('<canvas/>');\n",
       "    rubberband.attr('style', \"position: absolute; left: 0; top: 0; z-index: 1;\")\n",
       "\n",
       "    var pass_mouse_events = true;\n",
       "\n",
       "    canvas_div.resizable({\n",
       "        start: function(event, ui) {\n",
       "            pass_mouse_events = false;\n",
       "        },\n",
       "        resize: function(event, ui) {\n",
       "            fig.request_resize(ui.size.width, ui.size.height);\n",
       "        },\n",
       "        stop: function(event, ui) {\n",
       "            pass_mouse_events = true;\n",
       "            fig.request_resize(ui.size.width, ui.size.height);\n",
       "        },\n",
       "    });\n",
       "\n",
       "    function mouse_event_fn(event) {\n",
       "        if (pass_mouse_events)\n",
       "            return fig.mouse_event(event, event['data']);\n",
       "    }\n",
       "\n",
       "    rubberband.mousedown('button_press', mouse_event_fn);\n",
       "    rubberband.mouseup('button_release', mouse_event_fn);\n",
       "    // Throttle sequential mouse events to 1 every 20ms.\n",
       "    rubberband.mousemove('motion_notify', mouse_event_fn);\n",
       "\n",
       "    rubberband.mouseenter('figure_enter', mouse_event_fn);\n",
       "    rubberband.mouseleave('figure_leave', mouse_event_fn);\n",
       "\n",
       "    canvas_div.on(\"wheel\", function (event) {\n",
       "        event = event.originalEvent;\n",
       "        event['data'] = 'scroll'\n",
       "        if (event.deltaY < 0) {\n",
       "            event.step = 1;\n",
       "        } else {\n",
       "            event.step = -1;\n",
       "        }\n",
       "        mouse_event_fn(event);\n",
       "    });\n",
       "\n",
       "    canvas_div.append(canvas);\n",
       "    canvas_div.append(rubberband);\n",
       "\n",
       "    this.rubberband = rubberband;\n",
       "    this.rubberband_canvas = rubberband[0];\n",
       "    this.rubberband_context = rubberband[0].getContext(\"2d\");\n",
       "    this.rubberband_context.strokeStyle = \"#000000\";\n",
       "\n",
       "    this._resize_canvas = function(width, height) {\n",
       "        // Keep the size of the canvas, canvas container, and rubber band\n",
       "        // canvas in synch.\n",
       "        canvas_div.css('width', width)\n",
       "        canvas_div.css('height', height)\n",
       "\n",
       "        canvas.attr('width', width * mpl.ratio);\n",
       "        canvas.attr('height', height * mpl.ratio);\n",
       "        canvas.attr('style', 'width: ' + width + 'px; height: ' + height + 'px;');\n",
       "\n",
       "        rubberband.attr('width', width);\n",
       "        rubberband.attr('height', height);\n",
       "    }\n",
       "\n",
       "    // Set the figure to an initial 600x600px, this will subsequently be updated\n",
       "    // upon first draw.\n",
       "    this._resize_canvas(600, 600);\n",
       "\n",
       "    // Disable right mouse context menu.\n",
       "    $(this.rubberband_canvas).bind(\"contextmenu\",function(e){\n",
       "        return false;\n",
       "    });\n",
       "\n",
       "    function set_focus () {\n",
       "        canvas.focus();\n",
       "        canvas_div.focus();\n",
       "    }\n",
       "\n",
       "    window.setTimeout(set_focus, 100);\n",
       "}\n",
       "\n",
       "mpl.figure.prototype._init_toolbar = function() {\n",
       "    var fig = this;\n",
       "\n",
       "    var nav_element = $('<div/>');\n",
       "    nav_element.attr('style', 'width: 100%');\n",
       "    this.root.append(nav_element);\n",
       "\n",
       "    // Define a callback function for later on.\n",
       "    function toolbar_event(event) {\n",
       "        return fig.toolbar_button_onclick(event['data']);\n",
       "    }\n",
       "    function toolbar_mouse_event(event) {\n",
       "        return fig.toolbar_button_onmouseover(event['data']);\n",
       "    }\n",
       "\n",
       "    for(var toolbar_ind in mpl.toolbar_items) {\n",
       "        var name = mpl.toolbar_items[toolbar_ind][0];\n",
       "        var tooltip = mpl.toolbar_items[toolbar_ind][1];\n",
       "        var image = mpl.toolbar_items[toolbar_ind][2];\n",
       "        var method_name = mpl.toolbar_items[toolbar_ind][3];\n",
       "\n",
       "        if (!name) {\n",
       "            // put a spacer in here.\n",
       "            continue;\n",
       "        }\n",
       "        var button = $('<button/>');\n",
       "        button.addClass('ui-button ui-widget ui-state-default ui-corner-all ' +\n",
       "                        'ui-button-icon-only');\n",
       "        button.attr('role', 'button');\n",
       "        button.attr('aria-disabled', 'false');\n",
       "        button.click(method_name, toolbar_event);\n",
       "        button.mouseover(tooltip, toolbar_mouse_event);\n",
       "\n",
       "        var icon_img = $('<span/>');\n",
       "        icon_img.addClass('ui-button-icon-primary ui-icon');\n",
       "        icon_img.addClass(image);\n",
       "        icon_img.addClass('ui-corner-all');\n",
       "\n",
       "        var tooltip_span = $('<span/>');\n",
       "        tooltip_span.addClass('ui-button-text');\n",
       "        tooltip_span.html(tooltip);\n",
       "\n",
       "        button.append(icon_img);\n",
       "        button.append(tooltip_span);\n",
       "\n",
       "        nav_element.append(button);\n",
       "    }\n",
       "\n",
       "    var fmt_picker_span = $('<span/>');\n",
       "\n",
       "    var fmt_picker = $('<select/>');\n",
       "    fmt_picker.addClass('mpl-toolbar-option ui-widget ui-widget-content');\n",
       "    fmt_picker_span.append(fmt_picker);\n",
       "    nav_element.append(fmt_picker_span);\n",
       "    this.format_dropdown = fmt_picker[0];\n",
       "\n",
       "    for (var ind in mpl.extensions) {\n",
       "        var fmt = mpl.extensions[ind];\n",
       "        var option = $(\n",
       "            '<option/>', {selected: fmt === mpl.default_extension}).html(fmt);\n",
       "        fmt_picker.append(option);\n",
       "    }\n",
       "\n",
       "    // Add hover states to the ui-buttons\n",
       "    $( \".ui-button\" ).hover(\n",
       "        function() { $(this).addClass(\"ui-state-hover\");},\n",
       "        function() { $(this).removeClass(\"ui-state-hover\");}\n",
       "    );\n",
       "\n",
       "    var status_bar = $('<span class=\"mpl-message\"/>');\n",
       "    nav_element.append(status_bar);\n",
       "    this.message = status_bar[0];\n",
       "}\n",
       "\n",
       "mpl.figure.prototype.request_resize = function(x_pixels, y_pixels) {\n",
       "    // Request matplotlib to resize the figure. Matplotlib will then trigger a resize in the client,\n",
       "    // which will in turn request a refresh of the image.\n",
       "    this.send_message('resize', {'width': x_pixels, 'height': y_pixels});\n",
       "}\n",
       "\n",
       "mpl.figure.prototype.send_message = function(type, properties) {\n",
       "    properties['type'] = type;\n",
       "    properties['figure_id'] = this.id;\n",
       "    this.ws.send(JSON.stringify(properties));\n",
       "}\n",
       "\n",
       "mpl.figure.prototype.send_draw_message = function() {\n",
       "    if (!this.waiting) {\n",
       "        this.waiting = true;\n",
       "        this.ws.send(JSON.stringify({type: \"draw\", figure_id: this.id}));\n",
       "    }\n",
       "}\n",
       "\n",
       "\n",
       "mpl.figure.prototype.handle_save = function(fig, msg) {\n",
       "    var format_dropdown = fig.format_dropdown;\n",
       "    var format = format_dropdown.options[format_dropdown.selectedIndex].value;\n",
       "    fig.ondownload(fig, format);\n",
       "}\n",
       "\n",
       "\n",
       "mpl.figure.prototype.handle_resize = function(fig, msg) {\n",
       "    var size = msg['size'];\n",
       "    if (size[0] != fig.canvas.width || size[1] != fig.canvas.height) {\n",
       "        fig._resize_canvas(size[0], size[1]);\n",
       "        fig.send_message(\"refresh\", {});\n",
       "    };\n",
       "}\n",
       "\n",
       "mpl.figure.prototype.handle_rubberband = function(fig, msg) {\n",
       "    var x0 = msg['x0'] / mpl.ratio;\n",
       "    var y0 = (fig.canvas.height - msg['y0']) / mpl.ratio;\n",
       "    var x1 = msg['x1'] / mpl.ratio;\n",
       "    var y1 = (fig.canvas.height - msg['y1']) / mpl.ratio;\n",
       "    x0 = Math.floor(x0) + 0.5;\n",
       "    y0 = Math.floor(y0) + 0.5;\n",
       "    x1 = Math.floor(x1) + 0.5;\n",
       "    y1 = Math.floor(y1) + 0.5;\n",
       "    var min_x = Math.min(x0, x1);\n",
       "    var min_y = Math.min(y0, y1);\n",
       "    var width = Math.abs(x1 - x0);\n",
       "    var height = Math.abs(y1 - y0);\n",
       "\n",
       "    fig.rubberband_context.clearRect(\n",
       "        0, 0, fig.canvas.width / mpl.ratio, fig.canvas.height / mpl.ratio);\n",
       "\n",
       "    fig.rubberband_context.strokeRect(min_x, min_y, width, height);\n",
       "}\n",
       "\n",
       "mpl.figure.prototype.handle_figure_label = function(fig, msg) {\n",
       "    // Updates the figure title.\n",
       "    fig.header.textContent = msg['label'];\n",
       "}\n",
       "\n",
       "mpl.figure.prototype.handle_cursor = function(fig, msg) {\n",
       "    var cursor = msg['cursor'];\n",
       "    switch(cursor)\n",
       "    {\n",
       "    case 0:\n",
       "        cursor = 'pointer';\n",
       "        break;\n",
       "    case 1:\n",
       "        cursor = 'default';\n",
       "        break;\n",
       "    case 2:\n",
       "        cursor = 'crosshair';\n",
       "        break;\n",
       "    case 3:\n",
       "        cursor = 'move';\n",
       "        break;\n",
       "    }\n",
       "    fig.rubberband_canvas.style.cursor = cursor;\n",
       "}\n",
       "\n",
       "mpl.figure.prototype.handle_message = function(fig, msg) {\n",
       "    fig.message.textContent = msg['message'];\n",
       "}\n",
       "\n",
       "mpl.figure.prototype.handle_draw = function(fig, msg) {\n",
       "    // Request the server to send over a new figure.\n",
       "    fig.send_draw_message();\n",
       "}\n",
       "\n",
       "mpl.figure.prototype.handle_image_mode = function(fig, msg) {\n",
       "    fig.image_mode = msg['mode'];\n",
       "}\n",
       "\n",
       "mpl.figure.prototype.updated_canvas_event = function() {\n",
       "    // Called whenever the canvas gets updated.\n",
       "    this.send_message(\"ack\", {});\n",
       "}\n",
       "\n",
       "// A function to construct a web socket function for onmessage handling.\n",
       "// Called in the figure constructor.\n",
       "mpl.figure.prototype._make_on_message_function = function(fig) {\n",
       "    return function socket_on_message(evt) {\n",
       "        if (evt.data instanceof Blob) {\n",
       "            /* FIXME: We get \"Resource interpreted as Image but\n",
       "             * transferred with MIME type text/plain:\" errors on\n",
       "             * Chrome.  But how to set the MIME type?  It doesn't seem\n",
       "             * to be part of the websocket stream */\n",
       "            evt.data.type = \"image/png\";\n",
       "\n",
       "            /* Free the memory for the previous frames */\n",
       "            if (fig.imageObj.src) {\n",
       "                (window.URL || window.webkitURL).revokeObjectURL(\n",
       "                    fig.imageObj.src);\n",
       "            }\n",
       "\n",
       "            fig.imageObj.src = (window.URL || window.webkitURL).createObjectURL(\n",
       "                evt.data);\n",
       "            fig.updated_canvas_event();\n",
       "            fig.waiting = false;\n",
       "            return;\n",
       "        }\n",
       "        else if (typeof evt.data === 'string' && evt.data.slice(0, 21) == \"data:image/png;base64\") {\n",
       "            fig.imageObj.src = evt.data;\n",
       "            fig.updated_canvas_event();\n",
       "            fig.waiting = false;\n",
       "            return;\n",
       "        }\n",
       "\n",
       "        var msg = JSON.parse(evt.data);\n",
       "        var msg_type = msg['type'];\n",
       "\n",
       "        // Call the  \"handle_{type}\" callback, which takes\n",
       "        // the figure and JSON message as its only arguments.\n",
       "        try {\n",
       "            var callback = fig[\"handle_\" + msg_type];\n",
       "        } catch (e) {\n",
       "            console.log(\"No handler for the '\" + msg_type + \"' message type: \", msg);\n",
       "            return;\n",
       "        }\n",
       "\n",
       "        if (callback) {\n",
       "            try {\n",
       "                // console.log(\"Handling '\" + msg_type + \"' message: \", msg);\n",
       "                callback(fig, msg);\n",
       "            } catch (e) {\n",
       "                console.log(\"Exception inside the 'handler_\" + msg_type + \"' callback:\", e, e.stack, msg);\n",
       "            }\n",
       "        }\n",
       "    };\n",
       "}\n",
       "\n",
       "// from http://stackoverflow.com/questions/1114465/getting-mouse-location-in-canvas\n",
       "mpl.findpos = function(e) {\n",
       "    //this section is from http://www.quirksmode.org/js/events_properties.html\n",
       "    var targ;\n",
       "    if (!e)\n",
       "        e = window.event;\n",
       "    if (e.target)\n",
       "        targ = e.target;\n",
       "    else if (e.srcElement)\n",
       "        targ = e.srcElement;\n",
       "    if (targ.nodeType == 3) // defeat Safari bug\n",
       "        targ = targ.parentNode;\n",
       "\n",
       "    // jQuery normalizes the pageX and pageY\n",
       "    // pageX,Y are the mouse positions relative to the document\n",
       "    // offset() returns the position of the element relative to the document\n",
       "    var x = e.pageX - $(targ).offset().left;\n",
       "    var y = e.pageY - $(targ).offset().top;\n",
       "\n",
       "    return {\"x\": x, \"y\": y};\n",
       "};\n",
       "\n",
       "/*\n",
       " * return a copy of an object with only non-object keys\n",
       " * we need this to avoid circular references\n",
       " * http://stackoverflow.com/a/24161582/3208463\n",
       " */\n",
       "function simpleKeys (original) {\n",
       "  return Object.keys(original).reduce(function (obj, key) {\n",
       "    if (typeof original[key] !== 'object')\n",
       "        obj[key] = original[key]\n",
       "    return obj;\n",
       "  }, {});\n",
       "}\n",
       "\n",
       "mpl.figure.prototype.mouse_event = function(event, name) {\n",
       "    var canvas_pos = mpl.findpos(event)\n",
       "\n",
       "    if (name === 'button_press')\n",
       "    {\n",
       "        this.canvas.focus();\n",
       "        this.canvas_div.focus();\n",
       "    }\n",
       "\n",
       "    var x = canvas_pos.x * mpl.ratio;\n",
       "    var y = canvas_pos.y * mpl.ratio;\n",
       "\n",
       "    this.send_message(name, {x: x, y: y, button: event.button,\n",
       "                             step: event.step,\n",
       "                             guiEvent: simpleKeys(event)});\n",
       "\n",
       "    /* This prevents the web browser from automatically changing to\n",
       "     * the text insertion cursor when the button is pressed.  We want\n",
       "     * to control all of the cursor setting manually through the\n",
       "     * 'cursor' event from matplotlib */\n",
       "    event.preventDefault();\n",
       "    return false;\n",
       "}\n",
       "\n",
       "mpl.figure.prototype._key_event_extra = function(event, name) {\n",
       "    // Handle any extra behaviour associated with a key event\n",
       "}\n",
       "\n",
       "mpl.figure.prototype.key_event = function(event, name) {\n",
       "\n",
       "    // Prevent repeat events\n",
       "    if (name == 'key_press')\n",
       "    {\n",
       "        if (event.which === this._key)\n",
       "            return;\n",
       "        else\n",
       "            this._key = event.which;\n",
       "    }\n",
       "    if (name == 'key_release')\n",
       "        this._key = null;\n",
       "\n",
       "    var value = '';\n",
       "    if (event.ctrlKey && event.which != 17)\n",
       "        value += \"ctrl+\";\n",
       "    if (event.altKey && event.which != 18)\n",
       "        value += \"alt+\";\n",
       "    if (event.shiftKey && event.which != 16)\n",
       "        value += \"shift+\";\n",
       "\n",
       "    value += 'k';\n",
       "    value += event.which.toString();\n",
       "\n",
       "    this._key_event_extra(event, name);\n",
       "\n",
       "    this.send_message(name, {key: value,\n",
       "                             guiEvent: simpleKeys(event)});\n",
       "    return false;\n",
       "}\n",
       "\n",
       "mpl.figure.prototype.toolbar_button_onclick = function(name) {\n",
       "    if (name == 'download') {\n",
       "        this.handle_save(this, null);\n",
       "    } else {\n",
       "        this.send_message(\"toolbar_button\", {name: name});\n",
       "    }\n",
       "};\n",
       "\n",
       "mpl.figure.prototype.toolbar_button_onmouseover = function(tooltip) {\n",
       "    this.message.textContent = tooltip;\n",
       "};\n",
       "mpl.toolbar_items = [[\"Home\", \"Reset original view\", \"fa fa-home icon-home\", \"home\"], [\"Back\", \"Back to previous view\", \"fa fa-arrow-left icon-arrow-left\", \"back\"], [\"Forward\", \"Forward to next view\", \"fa fa-arrow-right icon-arrow-right\", \"forward\"], [\"\", \"\", \"\", \"\"], [\"Pan\", \"Pan axes with left mouse, zoom with right\", \"fa fa-arrows icon-move\", \"pan\"], [\"Zoom\", \"Zoom to rectangle\", \"fa fa-square-o icon-check-empty\", \"zoom\"], [\"\", \"\", \"\", \"\"], [\"Download\", \"Download plot\", \"fa fa-floppy-o icon-save\", \"download\"]];\n",
       "\n",
       "mpl.extensions = [\"eps\", \"jpeg\", \"pdf\", \"png\", \"ps\", \"raw\", \"svg\", \"tif\"];\n",
       "\n",
       "mpl.default_extension = \"png\";var comm_websocket_adapter = function(comm) {\n",
       "    // Create a \"websocket\"-like object which calls the given IPython comm\n",
       "    // object with the appropriate methods. Currently this is a non binary\n",
       "    // socket, so there is still some room for performance tuning.\n",
       "    var ws = {};\n",
       "\n",
       "    ws.close = function() {\n",
       "        comm.close()\n",
       "    };\n",
       "    ws.send = function(m) {\n",
       "        //console.log('sending', m);\n",
       "        comm.send(m);\n",
       "    };\n",
       "    // Register the callback with on_msg.\n",
       "    comm.on_msg(function(msg) {\n",
       "        //console.log('receiving', msg['content']['data'], msg);\n",
       "        // Pass the mpl event to the overridden (by mpl) onmessage function.\n",
       "        ws.onmessage(msg['content']['data'])\n",
       "    });\n",
       "    return ws;\n",
       "}\n",
       "\n",
       "mpl.mpl_figure_comm = function(comm, msg) {\n",
       "    // This is the function which gets called when the mpl process\n",
       "    // starts-up an IPython Comm through the \"matplotlib\" channel.\n",
       "\n",
       "    var id = msg.content.data.id;\n",
       "    // Get hold of the div created by the display call when the Comm\n",
       "    // socket was opened in Python.\n",
       "    var element = $(\"#\" + id);\n",
       "    var ws_proxy = comm_websocket_adapter(comm)\n",
       "\n",
       "    function ondownload(figure, format) {\n",
       "        window.open(figure.imageObj.src);\n",
       "    }\n",
       "\n",
       "    var fig = new mpl.figure(id, ws_proxy,\n",
       "                           ondownload,\n",
       "                           element.get(0));\n",
       "\n",
       "    // Call onopen now - mpl needs it, as it is assuming we've passed it a real\n",
       "    // web socket which is closed, not our websocket->open comm proxy.\n",
       "    ws_proxy.onopen();\n",
       "\n",
       "    fig.parent_element = element.get(0);\n",
       "    fig.cell_info = mpl.find_output_cell(\"<div id='\" + id + \"'></div>\");\n",
       "    if (!fig.cell_info) {\n",
       "        console.error(\"Failed to find cell for figure\", id, fig);\n",
       "        return;\n",
       "    }\n",
       "\n",
       "    var output_index = fig.cell_info[2]\n",
       "    var cell = fig.cell_info[0];\n",
       "\n",
       "};\n",
       "\n",
       "mpl.figure.prototype.handle_close = function(fig, msg) {\n",
       "    var width = fig.canvas.width/mpl.ratio\n",
       "    fig.root.unbind('remove')\n",
       "\n",
       "    // Update the output cell to use the data from the current canvas.\n",
       "    fig.push_to_output();\n",
       "    var dataURL = fig.canvas.toDataURL();\n",
       "    // Re-enable the keyboard manager in IPython - without this line, in FF,\n",
       "    // the notebook keyboard shortcuts fail.\n",
       "    IPython.keyboard_manager.enable()\n",
       "    $(fig.parent_element).html('<img src=\"' + dataURL + '\" width=\"' + width + '\">');\n",
       "    fig.close_ws(fig, msg);\n",
       "}\n",
       "\n",
       "mpl.figure.prototype.close_ws = function(fig, msg){\n",
       "    fig.send_message('closing', msg);\n",
       "    // fig.ws.close()\n",
       "}\n",
       "\n",
       "mpl.figure.prototype.push_to_output = function(remove_interactive) {\n",
       "    // Turn the data on the canvas into data in the output cell.\n",
       "    var width = this.canvas.width/mpl.ratio\n",
       "    var dataURL = this.canvas.toDataURL();\n",
       "    this.cell_info[1]['text/html'] = '<img src=\"' + dataURL + '\" width=\"' + width + '\">';\n",
       "}\n",
       "\n",
       "mpl.figure.prototype.updated_canvas_event = function() {\n",
       "    // Tell IPython that the notebook contents must change.\n",
       "    IPython.notebook.set_dirty(true);\n",
       "    this.send_message(\"ack\", {});\n",
       "    var fig = this;\n",
       "    // Wait a second, then push the new image to the DOM so\n",
       "    // that it is saved nicely (might be nice to debounce this).\n",
       "    setTimeout(function () { fig.push_to_output() }, 1000);\n",
       "}\n",
       "\n",
       "mpl.figure.prototype._init_toolbar = function() {\n",
       "    var fig = this;\n",
       "\n",
       "    var nav_element = $('<div/>');\n",
       "    nav_element.attr('style', 'width: 100%');\n",
       "    this.root.append(nav_element);\n",
       "\n",
       "    // Define a callback function for later on.\n",
       "    function toolbar_event(event) {\n",
       "        return fig.toolbar_button_onclick(event['data']);\n",
       "    }\n",
       "    function toolbar_mouse_event(event) {\n",
       "        return fig.toolbar_button_onmouseover(event['data']);\n",
       "    }\n",
       "\n",
       "    for(var toolbar_ind in mpl.toolbar_items){\n",
       "        var name = mpl.toolbar_items[toolbar_ind][0];\n",
       "        var tooltip = mpl.toolbar_items[toolbar_ind][1];\n",
       "        var image = mpl.toolbar_items[toolbar_ind][2];\n",
       "        var method_name = mpl.toolbar_items[toolbar_ind][3];\n",
       "\n",
       "        if (!name) { continue; };\n",
       "\n",
       "        var button = $('<button class=\"btn btn-default\" href=\"#\" title=\"' + name + '\"><i class=\"fa ' + image + ' fa-lg\"></i></button>');\n",
       "        button.click(method_name, toolbar_event);\n",
       "        button.mouseover(tooltip, toolbar_mouse_event);\n",
       "        nav_element.append(button);\n",
       "    }\n",
       "\n",
       "    // Add the status bar.\n",
       "    var status_bar = $('<span class=\"mpl-message\" style=\"text-align:right; float: right;\"/>');\n",
       "    nav_element.append(status_bar);\n",
       "    this.message = status_bar[0];\n",
       "\n",
       "    // Add the close button to the window.\n",
       "    var buttongrp = $('<div class=\"btn-group inline pull-right\"></div>');\n",
       "    var button = $('<button class=\"btn btn-mini btn-primary\" href=\"#\" title=\"Stop Interaction\"><i class=\"fa fa-power-off icon-remove icon-large\"></i></button>');\n",
       "    button.click(function (evt) { fig.handle_close(fig, {}); } );\n",
       "    button.mouseover('Stop Interaction', toolbar_mouse_event);\n",
       "    buttongrp.append(button);\n",
       "    var titlebar = this.root.find($('.ui-dialog-titlebar'));\n",
       "    titlebar.prepend(buttongrp);\n",
       "}\n",
       "\n",
       "mpl.figure.prototype._root_extra_style = function(el){\n",
       "    var fig = this\n",
       "    el.on(\"remove\", function(){\n",
       "\tfig.close_ws(fig, {});\n",
       "    });\n",
       "}\n",
       "\n",
       "mpl.figure.prototype._canvas_extra_style = function(el){\n",
       "    // this is important to make the div 'focusable\n",
       "    el.attr('tabindex', 0)\n",
       "    // reach out to IPython and tell the keyboard manager to turn it's self\n",
       "    // off when our div gets focus\n",
       "\n",
       "    // location in version 3\n",
       "    if (IPython.notebook.keyboard_manager) {\n",
       "        IPython.notebook.keyboard_manager.register_events(el);\n",
       "    }\n",
       "    else {\n",
       "        // location in version 2\n",
       "        IPython.keyboard_manager.register_events(el);\n",
       "    }\n",
       "\n",
       "}\n",
       "\n",
       "mpl.figure.prototype._key_event_extra = function(event, name) {\n",
       "    var manager = IPython.notebook.keyboard_manager;\n",
       "    if (!manager)\n",
       "        manager = IPython.keyboard_manager;\n",
       "\n",
       "    // Check for shift+enter\n",
       "    if (event.shiftKey && event.which == 13) {\n",
       "        this.canvas_div.blur();\n",
       "        event.shiftKey = false;\n",
       "        // Send a \"J\" for go to next cell\n",
       "        event.which = 74;\n",
       "        event.keyCode = 74;\n",
       "        manager.command_mode();\n",
       "        manager.handle_keydown(event);\n",
       "    }\n",
       "}\n",
       "\n",
       "mpl.figure.prototype.handle_save = function(fig, msg) {\n",
       "    fig.ondownload(fig, null);\n",
       "}\n",
       "\n",
       "\n",
       "mpl.find_output_cell = function(html_output) {\n",
       "    // Return the cell and output element which can be found *uniquely* in the notebook.\n",
       "    // Note - this is a bit hacky, but it is done because the \"notebook_saving.Notebook\"\n",
       "    // IPython event is triggered only after the cells have been serialised, which for\n",
       "    // our purposes (turning an active figure into a static one), is too late.\n",
       "    var cells = IPython.notebook.get_cells();\n",
       "    var ncells = cells.length;\n",
       "    for (var i=0; i<ncells; i++) {\n",
       "        var cell = cells[i];\n",
       "        if (cell.cell_type === 'code'){\n",
       "            for (var j=0; j<cell.output_area.outputs.length; j++) {\n",
       "                var data = cell.output_area.outputs[j];\n",
       "                if (data.data) {\n",
       "                    // IPython >= 3 moved mimebundle to data attribute of output\n",
       "                    data = data.data;\n",
       "                }\n",
       "                if (data['text/html'] == html_output) {\n",
       "                    return [cell, data, j];\n",
       "                }\n",
       "            }\n",
       "        }\n",
       "    }\n",
       "}\n",
       "\n",
       "// Register the function which deals with the matplotlib target/channel.\n",
       "// The kernel may be null if the page has been refreshed.\n",
       "if (IPython.notebook.kernel != null) {\n",
       "    IPython.notebook.kernel.comm_manager.register_target('matplotlib', mpl.mpl_figure_comm);\n",
       "}\n"
      ],
      "text/plain": [
       "<IPython.core.display.Javascript object>"
      ]
     },
     "metadata": {},
     "output_type": "display_data"
    },
    {
     "data": {
      "text/html": [
       "<img src=\"data:image/png;base64,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\" width=\"639.999990463257\">"
      ],
      "text/plain": [
       "<IPython.core.display.HTML object>"
      ]
     },
     "metadata": {},
     "output_type": "display_data"
    },
    {
     "data": {
      "text/plain": [
       "Text(0.5, 1.0, 'above one spike F-I Curve')"
      ]
     },
     "execution_count": 27,
     "metadata": {},
     "output_type": "execute_result"
    }
   ],
   "source": [
    "plt.scatter(current_amps_new , above_one_spike_list) \n",
    "plt.xlabel('Input Current (nA)')\n",
    "plt.ylabel('Firing Rate (Spikes/S)')\n",
    "plt.title('above one spike F-I Curve')"
   ]
  },
  {
   "cell_type": "markdown",
   "metadata": {},
   "source": [
    "### Slope of F-I curve"
   ]
  },
  {
   "cell_type": "code",
   "execution_count": 28,
   "metadata": {},
   "outputs": [
    {
     "name": "stdout",
     "output_type": "stream",
     "text": [
      "97.27272727272722\n"
     ]
    }
   ],
   "source": [
    "xs = np.array(current_amps_new, dtype=np.float64)\n",
    "ys = np.array(above_one_spike_list, dtype=np.float64)\n",
    "\n",
    "def best_fit_slope(xs,ys):\n",
    "    m = (((mean(xs)*mean(ys)) - mean(xs*ys)) /\n",
    "         ((mean(xs)**2) - mean(xs**2)))\n",
    "    return m\n",
    "\n",
    "m = best_fit_slope(xs,ys)\n",
    "print(m)"
   ]
  },
  {
   "cell_type": "code",
   "execution_count": 29,
   "metadata": {},
   "outputs": [
    {
     "data": {
      "text/plain": [
       "97.27272727272722"
      ]
     },
     "execution_count": 29,
     "metadata": {},
     "output_type": "execute_result"
    }
   ],
   "source": [
    "best_fit_slope(xs,ys)"
   ]
  },
  {
   "cell_type": "code",
   "execution_count": 30,
   "metadata": {},
   "outputs": [
    {
     "name": "stdout",
     "output_type": "stream",
     "text": [
      "97.27272727272722 61.40909090909092\n"
     ]
    }
   ],
   "source": [
    "def best_fit_slope_and_intercept(xs,ys):\n",
    "    m = (((mean(xs)*mean(ys)) - mean(xs*ys)) /\n",
    "         ((mean(xs)*mean(xs)) - mean(xs*xs)))\n",
    "    \n",
    "    b = mean(ys) - m*mean(xs)\n",
    "    \n",
    "    return m, b\n",
    "\n",
    "m, b = best_fit_slope_and_intercept(xs,ys)\n",
    "\n",
    "print(m,b)"
   ]
  },
  {
   "cell_type": "code",
   "execution_count": 31,
   "metadata": {},
   "outputs": [
    {
     "data": {
      "text/plain": [
       "(97.27272727272722, 61.40909090909092)"
      ]
     },
     "execution_count": 31,
     "metadata": {},
     "output_type": "execute_result"
    }
   ],
   "source": [
    "best_fit_slope_and_intercept(xs,ys)"
   ]
  },
  {
   "cell_type": "code",
   "execution_count": 32,
   "metadata": {},
   "outputs": [],
   "source": [
    "regression_line = [(m*x)+b for x in xs]"
   ]
  },
  {
   "cell_type": "code",
   "execution_count": 33,
   "metadata": {},
   "outputs": [
    {
     "data": {
      "text/plain": [
       "[71.13636363636364,\n",
       " 76.0,\n",
       " 80.86363636363637,\n",
       " 85.72727272727272,\n",
       " 90.5909090909091,\n",
       " 95.45454545454545,\n",
       " 100.31818181818181,\n",
       " 105.18181818181817,\n",
       " 110.04545454545453,\n",
       " 114.9090909090909,\n",
       " 119.77272727272727]"
      ]
     },
     "execution_count": 33,
     "metadata": {},
     "output_type": "execute_result"
    }
   ],
   "source": [
    "regression_line"
   ]
  },
  {
   "cell_type": "code",
   "execution_count": 34,
   "metadata": {},
   "outputs": [],
   "source": [
    "plt.scatter(xs,ys, c = 'k')\n",
    "plt.xlabel('Input Current (nA)')\n",
    "plt.ylabel('Firing Rate (Spikes/S)')\n",
    "plt.title('F-I Curve')\n",
    "plt.plot(xs, regression_line, c = 'r', label = 'y={:.2f}x+{:.2f}'.format(m,b))\n",
    "plt.legend(fontsize=10)\n",
    "plt.show()"
   ]
  },
  {
   "cell_type": "markdown",
   "metadata": {},
   "source": [
    "### Optimize Functions"
   ]
  },
  {
   "cell_type": "code",
   "execution_count": null,
   "metadata": {},
   "outputs": [],
   "source": []
  },
  {
   "cell_type": "code",
   "execution_count": null,
   "metadata": {},
   "outputs": [],
   "source": []
  },
  {
   "cell_type": "code",
   "execution_count": null,
   "metadata": {},
   "outputs": [],
   "source": []
  },
  {
   "cell_type": "code",
   "execution_count": 47,
   "metadata": {},
   "outputs": [],
   "source": [
    "xs = np.array(current_amps_new, dtype=np.float64)\n",
    "ys = np.array(above_one_spike_list, dtype=np.float64)\n",
    "\n",
    "def best_fit_slope(xs,ys):\n",
    "    FI_slope = (((mean(xs)*mean(ys)) - mean(xs*ys)) /\n",
    "         ((mean(xs)**2) - mean(xs**2)))\n",
    "    return FI_slope\n",
    "\n",
    "#FI_slope = best_fit_slope(xs,ys)\n",
    "#print(FI_slope)"
   ]
  },
  {
   "cell_type": "code",
   "execution_count": 48,
   "metadata": {},
   "outputs": [
    {
     "data": {
      "text/plain": [
       "97.27272727272722"
      ]
     },
     "execution_count": 48,
     "metadata": {},
     "output_type": "execute_result"
    }
   ],
   "source": [
    "#best_fit_slope(xs,ys)"
   ]
  },
  {
   "cell_type": "code",
   "execution_count": 74,
   "metadata": {},
   "outputs": [],
   "source": [
    "def get_R_inp(t, v, i_amp, baseline_window=(195., 200.),  measurement_window=(395., 400.)):\n",
    "    baseline_indexes = np.where((baseline_window[0] <= t) & (t < baseline_window[1]))\n",
    "    measurement_indexes = np.where((measurement_window[0] <= t) & (t < measurement_window[1]))\n",
    "    baseline_v = np.mean(v[baseline_indexes])\n",
    "    measurement_v = np.mean(v[measurement_indexes])\n",
    "    delta_v = abs(baseline_v - measurement_v)\n",
    "    R_inp = (delta_v / 1000.) / (abs(i_amp) / 1e9) / 1e6 # convert mV to V, nA to A, and Ohm to MegaOhm\n",
    "    return R_inp"
   ]
  },
  {
   "cell_type": "code",
   "execution_count": 75,
   "metadata": {},
   "outputs": [
    {
     "data": {
      "text/plain": [
       "7.647349295201367"
      ]
     },
     "execution_count": 75,
     "metadata": {},
     "output_type": "execute_result"
    }
   ],
   "source": [
    "t_array = np.array(t)\n",
    "v_array = np.array(soma_voltage)\n",
    "i_amp = step_current_stim.amp\n",
    "\n",
    "get_R_inp(t_array, v_array, i_amp, baseline_window=(195., 200.),  measurement_window=(395., 400.))"
   ]
  },
  {
   "cell_type": "code",
   "execution_count": null,
   "metadata": {},
   "outputs": [],
   "source": [
    "#How to construct a single error value that reflects 2 objectives?"
   ]
  },
  {
   "cell_type": "code",
   "execution_count": null,
   "metadata": {},
   "outputs": [],
   "source": [
    "#?????????"
   ]
  },
  {
   "cell_type": "code",
   "execution_count": 66,
   "metadata": {},
   "outputs": [],
   "source": [
    "#Hint: x0 = [gl0, gnabar0, gkbar0]\n",
    "\n",
    "def get_R_inp(t, v, i_amp, baseline_window=(195., 200.),  measurement_window=(395., 400.)):\n",
    "    baseline_indexes = np.where((baseline_window[0] <= t) & (t < baseline_window[1]))\n",
    "    measurement_indexes = np.where((measurement_window[0] <= t) & (t < measurement_window[1]))\n",
    "    baseline_v = np.mean(v[baseline_indexes])\n",
    "    measurement_v = np.mean(v[measurement_indexes])\n",
    "    delta_v = abs(baseline_v - measurement_v)\n",
    "    R_inp = (delta_v / 1000.) / (abs(i_amp) / 1e9) / 1e6 # convert mV to V, nA to A, and Ohm to MegaOhm\n",
    "    return R_inp\n",
    "\n",
    "def multi_objective_error(x, target, bounds, sim_history):\n",
    "    for xi, bi in zip(x, bounds):\n",
    "        if not bi[0] <= xi <= bi[1]:\n",
    "            return 1e9\n",
    "    #soma(0.5).pas.g = x[0]\n",
    "    #h.run()\n",
    "    t_array = np.array(t)\n",
    "    v_array = np.array(soma_voltage)\n",
    "    i_amp = step_current_stim.amp\n",
    "    soma_R_inp = get_R_inp(t_array, v_array, i_amp)\n",
    "    FI_slope = best_fit_slope(xs,ys)\n",
    "    #square of the difference between measured and target\n",
    "    error = (target - FI_slope) ** 2.\n",
    "    #key value pairs t.... soma Vm\n",
    "    this_sim_summary = {}\n",
    "    this_sim_summary['t'] = t_array\n",
    "    this_sim_summary['soma_voltage'] = v_array\n",
    "    this_sim_summary['soma_R_inp'] = soma_R_inp\n",
    "    this_sim_summary['FI_slope'] = FI_slope\n",
    "    this_sim_summary['error'] = error\n",
    "    #x as a tuple to use as a key\n",
    "    #good for querying too, take query and convert to tuple\n",
    "    #to check if query is done before\n",
    "    #good for finding specific synapse at an area and cash these know that this copy is cashed to pull again\n",
    "    #cash - search history - save pointer to result if serialized \n",
    "    sim_history[tuple(x)] = this_sim_summary\n",
    "    #squared error\n",
    "    return error"
   ]
  },
  {
   "cell_type": "code",
   "execution_count": 62,
   "metadata": {},
   "outputs": [],
   "source": [
    "from scipy.optimize import basinhopping"
   ]
  },
  {
   "cell_type": "code",
   "execution_count": 63,
   "metadata": {},
   "outputs": [
    {
     "name": "stdout",
     "output_type": "stream",
     "text": [
      "basinhopping step 0: f 10552.9\n",
      "basinhopping step 1: f 10552.9 trial_f 10552.9 accepted 1  lowest_f 10552.9\n",
      "basinhopping step 2: f 10552.9 trial_f 10552.9 accepted 1  lowest_f 10552.9\n",
      "basinhopping step 3: f 10552.9 trial_f 10552.9 accepted 1  lowest_f 10552.9\n",
      "basinhopping step 4: f 10552.9 trial_f 10552.9 accepted 1  lowest_f 10552.9\n",
      "basinhopping step 5: f 10552.9 trial_f 10552.9 accepted 1  lowest_f 10552.9\n",
      "basinhopping step 6: f 10552.9 trial_f 10552.9 accepted 1  lowest_f 10552.9\n",
      "basinhopping step 7: f 10552.9 trial_f 1e+09 accepted 0  lowest_f 10552.9\n",
      "basinhopping step 8: f 10552.9 trial_f 10552.9 accepted 1  lowest_f 10552.9\n",
      "basinhopping step 9: f 10552.9 trial_f 10552.9 accepted 1  lowest_f 10552.9\n",
      "basinhopping step 10: f 10552.9 trial_f 10552.9 accepted 1  lowest_f 10552.9\n",
      "basinhopping step 11: f 10552.9 trial_f 10552.9 accepted 1  lowest_f 10552.9\n",
      "basinhopping step 12: f 10552.9 trial_f 1e+09 accepted 0  lowest_f 10552.9\n",
      "basinhopping step 13: f 10552.9 trial_f 1e+09 accepted 0  lowest_f 10552.9\n",
      "basinhopping step 14: f 10552.9 trial_f 1e+09 accepted 0  lowest_f 10552.9\n",
      "basinhopping step 15: f 10552.9 trial_f 1e+09 accepted 0  lowest_f 10552.9\n",
      "basinhopping step 16: f 10552.9 trial_f 10552.9 accepted 1  lowest_f 10552.9\n",
      "basinhopping step 17: f 10552.9 trial_f 1e+09 accepted 0  lowest_f 10552.9\n",
      "basinhopping step 18: f 10552.9 trial_f 10552.9 accepted 1  lowest_f 10552.9\n",
      "basinhopping step 19: f 10552.9 trial_f 10552.9 accepted 1  lowest_f 10552.9\n",
      "basinhopping step 20: f 10552.9 trial_f 10552.9 accepted 1  lowest_f 10552.9\n",
      "basinhopping step 21: f 10552.9 trial_f 10552.9 accepted 1  lowest_f 10552.9\n",
      "basinhopping step 22: f 10552.9 trial_f 1e+09 accepted 0  lowest_f 10552.9\n",
      "basinhopping step 23: f 10552.9 trial_f 10552.9 accepted 1  lowest_f 10552.9\n",
      "basinhopping step 24: f 10552.9 trial_f 10552.9 accepted 1  lowest_f 10552.9\n",
      "basinhopping step 25: f 10552.9 trial_f 10552.9 accepted 1  lowest_f 10552.9\n",
      "basinhopping step 26: f 10552.9 trial_f 10552.9 accepted 1  lowest_f 10552.9\n",
      "basinhopping step 27: f 10552.9 trial_f 1e+09 accepted 0  lowest_f 10552.9\n",
      "basinhopping step 28: f 10552.9 trial_f 10552.9 accepted 1  lowest_f 10552.9\n",
      "basinhopping step 29: f 10552.9 trial_f 10552.9 accepted 1  lowest_f 10552.9\n",
      "basinhopping step 30: f 10552.9 trial_f 10552.9 accepted 1  lowest_f 10552.9\n",
      "basinhopping step 31: f 10552.9 trial_f 10552.9 accepted 1  lowest_f 10552.9\n",
      "basinhopping step 32: f 10552.9 trial_f 10552.9 accepted 1  lowest_f 10552.9\n",
      "basinhopping step 33: f 10552.9 trial_f 10552.9 accepted 1  lowest_f 10552.9\n",
      "basinhopping step 34: f 10552.9 trial_f 1e+09 accepted 0  lowest_f 10552.9\n",
      "basinhopping step 35: f 10552.9 trial_f 10552.9 accepted 1  lowest_f 10552.9\n",
      "basinhopping step 36: f 10552.9 trial_f 1e+09 accepted 0  lowest_f 10552.9\n",
      "basinhopping step 37: f 10552.9 trial_f 10552.9 accepted 1  lowest_f 10552.9\n",
      "basinhopping step 38: f 10552.9 trial_f 10552.9 accepted 1  lowest_f 10552.9\n",
      "basinhopping step 39: f 10552.9 trial_f 10552.9 accepted 1  lowest_f 10552.9\n",
      "basinhopping step 40: f 10552.9 trial_f 10552.9 accepted 1  lowest_f 10552.9\n",
      "basinhopping step 41: f 10552.9 trial_f 1e+09 accepted 0  lowest_f 10552.9\n",
      "basinhopping step 42: f 10552.9 trial_f 1e+09 accepted 0  lowest_f 10552.9\n",
      "basinhopping step 43: f 10552.9 trial_f 10552.9 accepted 1  lowest_f 10552.9\n",
      "basinhopping step 44: f 10552.9 trial_f 10552.9 accepted 1  lowest_f 10552.9\n",
      "basinhopping step 45: f 10552.9 trial_f 10552.9 accepted 1  lowest_f 10552.9\n",
      "basinhopping step 46: f 10552.9 trial_f 10552.9 accepted 1  lowest_f 10552.9\n",
      "basinhopping step 47: f 10552.9 trial_f 10552.9 accepted 1  lowest_f 10552.9\n",
      "basinhopping step 48: f 10552.9 trial_f 10552.9 accepted 1  lowest_f 10552.9\n",
      "basinhopping step 49: f 10552.9 trial_f 10552.9 accepted 1  lowest_f 10552.9\n",
      "adaptive stepsize: acceptance rate 0.740000 target 0.500000 new stepsize 0.5 old stepsize 0.45\n",
      "basinhopping step 50: f 10552.9 trial_f 10552.9 accepted 1  lowest_f 10552.9\n",
      "basinhopping step 51: f 10552.9 trial_f 10552.9 accepted 1  lowest_f 10552.9\n",
      "basinhopping step 52: f 10552.9 trial_f 10552.9 accepted 1  lowest_f 10552.9\n",
      "basinhopping step 53: f 10552.9 trial_f 10552.9 accepted 1  lowest_f 10552.9\n",
      "basinhopping step 54: f 10552.9 trial_f 10552.9 accepted 1  lowest_f 10552.9\n",
      "basinhopping step 55: f 10552.9 trial_f 10552.9 accepted 1  lowest_f 10552.9\n",
      "basinhopping step 56: f 10552.9 trial_f 1e+09 accepted 0  lowest_f 10552.9\n",
      "basinhopping step 57: f 10552.9 trial_f 10552.9 accepted 1  lowest_f 10552.9\n",
      "basinhopping step 58: f 10552.9 trial_f 10552.9 accepted 1  lowest_f 10552.9\n",
      "basinhopping step 59: f 10552.9 trial_f 1e+09 accepted 0  lowest_f 10552.9\n",
      "basinhopping step 60: f 10552.9 trial_f 1e+09 accepted 0  lowest_f 10552.9\n",
      "basinhopping step 61: f 10552.9 trial_f 1e+09 accepted 0  lowest_f 10552.9\n",
      "basinhopping step 62: f 10552.9 trial_f 1e+09 accepted 0  lowest_f 10552.9\n",
      "basinhopping step 63: f 10552.9 trial_f 1e+09 accepted 0  lowest_f 10552.9\n",
      "basinhopping step 64: f 10552.9 trial_f 10552.9 accepted 1  lowest_f 10552.9\n",
      "basinhopping step 65: f 10552.9 trial_f 1e+09 accepted 0  lowest_f 10552.9\n",
      "basinhopping step 66: f 10552.9 trial_f 10552.9 accepted 1  lowest_f 10552.9\n",
      "basinhopping step 67: f 10552.9 trial_f 10552.9 accepted 1  lowest_f 10552.9\n",
      "basinhopping step 68: f 10552.9 trial_f 10552.9 accepted 1  lowest_f 10552.9\n",
      "basinhopping step 69: f 10552.9 trial_f 10552.9 accepted 1  lowest_f 10552.9\n",
      "basinhopping step 70: f 10552.9 trial_f 10552.9 accepted 1  lowest_f 10552.9\n",
      "basinhopping step 71: f 10552.9 trial_f 10552.9 accepted 1  lowest_f 10552.9\n",
      "basinhopping step 72: f 10552.9 trial_f 10552.9 accepted 1  lowest_f 10552.9\n",
      "basinhopping step 73: f 10552.9 trial_f 10552.9 accepted 1  lowest_f 10552.9\n",
      "basinhopping step 74: f 10552.9 trial_f 10552.9 accepted 1  lowest_f 10552.9\n",
      "basinhopping step 75: f 10552.9 trial_f 1e+09 accepted 0  lowest_f 10552.9\n",
      "basinhopping step 76: f 10552.9 trial_f 10552.9 accepted 1  lowest_f 10552.9\n",
      "basinhopping step 77: f 10552.9 trial_f 10552.9 accepted 1  lowest_f 10552.9\n",
      "basinhopping step 78: f 10552.9 trial_f 10552.9 accepted 1  lowest_f 10552.9\n",
      "basinhopping step 79: f 10552.9 trial_f 10552.9 accepted 1  lowest_f 10552.9\n",
      "basinhopping step 80: f 10552.9 trial_f 10552.9 accepted 1  lowest_f 10552.9\n",
      "basinhopping step 81: f 10552.9 trial_f 10552.9 accepted 1  lowest_f 10552.9\n",
      "basinhopping step 82: f 10552.9 trial_f 10552.9 accepted 1  lowest_f 10552.9\n",
      "basinhopping step 83: f 10552.9 trial_f 10552.9 accepted 1  lowest_f 10552.9\n",
      "basinhopping step 84: f 10552.9 trial_f 10552.9 accepted 1  lowest_f 10552.9\n",
      "basinhopping step 85: f 10552.9 trial_f 10552.9 accepted 1  lowest_f 10552.9\n",
      "basinhopping step 86: f 10552.9 trial_f 1e+09 accepted 0  lowest_f 10552.9\n",
      "basinhopping step 87: f 10552.9 trial_f 10552.9 accepted 1  lowest_f 10552.9\n",
      "basinhopping step 88: f 10552.9 trial_f 10552.9 accepted 1  lowest_f 10552.9\n",
      "basinhopping step 89: f 10552.9 trial_f 10552.9 accepted 1  lowest_f 10552.9\n",
      "basinhopping step 90: f 10552.9 trial_f 1e+09 accepted 0  lowest_f 10552.9\n",
      "basinhopping step 91: f 10552.9 trial_f 10552.9 accepted 1  lowest_f 10552.9\n",
      "basinhopping step 92: f 10552.9 trial_f 10552.9 accepted 1  lowest_f 10552.9\n",
      "basinhopping step 93: f 10552.9 trial_f 1e+09 accepted 0  lowest_f 10552.9\n",
      "basinhopping step 94: f 10552.9 trial_f 10552.9 accepted 1  lowest_f 10552.9\n",
      "basinhopping step 95: f 10552.9 trial_f 10552.9 accepted 1  lowest_f 10552.9\n",
      "basinhopping step 96: f 10552.9 trial_f 10552.9 accepted 1  lowest_f 10552.9\n",
      "basinhopping step 97: f 10552.9 trial_f 10552.9 accepted 1  lowest_f 10552.9\n",
      "basinhopping step 98: f 10552.9 trial_f 10552.9 accepted 1  lowest_f 10552.9\n",
      "basinhopping step 99: f 10552.9 trial_f 1e+09 accepted 0  lowest_f 10552.9\n",
      "adaptive stepsize: acceptance rate 0.750000 target 0.500000 new stepsize 0.555556 old stepsize 0.5\n",
      "basinhopping step 100: f 10552.9 trial_f 10552.9 accepted 1  lowest_f 10552.9\n"
     ]
    }
   ],
   "source": [
    "bounds = ((1e-12, 0.9),)\n",
    "stepsize = 0.5 * (bounds[0][1] - bounds[0][0])\n",
    "x0 = [gl0, gnabar0, gkbar0]\n",
    "target_FI_slope = 200. \n",
    "#store t array, soma Vm, outcome of Rinp and error function float into dict\n",
    "#per x0 input its associated with its own keys and values of simulations\n",
    "#to know the values passed in for the x0, but cannot use an iterable value, have to convert array into tuple\n",
    "sim_history = {} # {x0: {'t': array, 'soma_voltage': array, 'soma_R_inp': float, 'error': float}\n",
    "\n",
    "result = basinhopping(multi_objective_error, x0, stepsize=stepsize, disp=True, \n",
    "                     minimizer_kwargs={'method': 'Nelder-Mead', 'args': (target_FI_slope, bounds, sim_history)})"
   ]
  },
  {
   "cell_type": "code",
   "execution_count": 64,
   "metadata": {},
   "outputs": [
    {
     "name": "stdout",
     "output_type": "stream",
     "text": [
      "                        fun: 10552.89256198348\n",
      " lowest_optimization_result:  final_simplex: (array([[0.0003    , 0.12      , 0.036     ],\n",
      "       [0.00030023, 0.12      , 0.036     ],\n",
      "       [0.0003    , 0.12009375, 0.036     ],\n",
      "       [0.0003    , 0.12      , 0.03602812]]), array([10552.89256198, 10552.89256198, 10552.89256198, 10552.89256198]))\n",
      "           fun: 10552.89256198348\n",
      "       message: 'Optimization terminated successfully.'\n",
      "          nfev: 34\n",
      "           nit: 7\n",
      "        status: 0\n",
      "       success: True\n",
      "             x: array([0.0003, 0.12  , 0.036 ])\n",
      "                    message: ['requested number of basinhopping iterations completed successfully']\n",
      "      minimization_failures: 0\n",
      "                       nfev: 5139\n",
      "                        nit: 100\n",
      "                          x: array([0.0003, 0.12  , 0.036 ])\n"
     ]
    }
   ],
   "source": [
    "print(result)"
   ]
  },
  {
   "cell_type": "code",
   "execution_count": null,
   "metadata": {},
   "outputs": [],
   "source": []
  },
  {
   "cell_type": "code",
   "execution_count": null,
   "metadata": {},
   "outputs": [],
   "source": []
  },
  {
   "cell_type": "code",
   "execution_count": null,
   "metadata": {},
   "outputs": [],
   "source": [
    "#How to construct a single error value that reflects 2 objectives?\n",
    "#Target f-I slope should be ~10 Hz / 0.05 nA"
   ]
  }
 ],
 "metadata": {
  "kernelspec": {
   "display_name": "Python 3",
   "language": "python",
   "name": "python3"
  },
  "language_info": {
   "codemirror_mode": {
    "name": "ipython",
    "version": 3
   },
   "file_extension": ".py",
   "mimetype": "text/x-python",
   "name": "python",
   "nbconvert_exporter": "python",
   "pygments_lexer": "ipython3",
   "version": "3.7.6"
  }
 },
 "nbformat": 4,
 "nbformat_minor": 2
}
