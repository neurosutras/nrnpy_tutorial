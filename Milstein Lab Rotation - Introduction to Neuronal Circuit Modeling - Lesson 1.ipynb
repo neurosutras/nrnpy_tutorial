{
 "cells": [
  {
   "cell_type": "code",
   "execution_count": null,
   "metadata": {},
   "outputs": [],
   "source": [
    "from IPython.display import Image\n",
    "from IPython.core.display import HTML"
   ]
  },
  {
   "cell_type": "markdown",
   "metadata": {},
   "source": [
    "# Lesson 1: Introduction to NEURON for Python"
   ]
  },
  {
   "cell_type": "markdown",
   "metadata": {},
   "source": [
    "## Prerequisites:"
   ]
  },
  {
   "cell_type": "markdown",
   "metadata": {},
   "source": [
    "1. Use bash to install software and check system configuration\n",
    "2. Configure NEURON as a module for python3"
   ]
  },
  {
   "cell_type": "markdown",
   "metadata": {},
   "source": [
    "## Lesson goals:"
   ]
  },
  {
   "cell_type": "markdown",
   "metadata": {},
   "source": [
    "1. Use python datatypes: list and dict\n",
    "2. Use python module numpy to operate on array datatype\n",
    "3. Use python module matplotlib to plot data\n",
    "4. Use python module neuron to create a neuronal cell body compartment and explore the attributes of sections and segments\n",
    "5. Record voltage from a neuron segment, run a simulation, and plot recorded data\n",
    "6. Insert an ion channel mechanism into the membrane of a neuron section and explore its attributes\n",
    "7. Understand the meaning of the \"input resistance\" of a neuron compartment\n",
    "\n",
    "## Challenge:\n",
    "\n",
    "8. Write a function to measure the \"input resistance\" of a neuron compartment\n",
    "9. Organize recordings and superimpose results from multiple simulations"
   ]
  },
  {
   "cell_type": "markdown",
   "metadata": {},
   "source": [
    "## 1. Use python datatypes: list and dict"
   ]
  },
  {
   "cell_type": "code",
   "execution_count": null,
   "metadata": {},
   "outputs": [],
   "source": [
    "this_list = []  # or list()"
   ]
  },
  {
   "cell_type": "code",
   "execution_count": null,
   "metadata": {},
   "outputs": [],
   "source": [
    "this_list.append(1)  # add an item to the end of a list"
   ]
  },
  {
   "cell_type": "code",
   "execution_count": null,
   "metadata": {},
   "outputs": [],
   "source": [
    "print(this_list)"
   ]
  },
  {
   "cell_type": "code",
   "execution_count": null,
   "metadata": {},
   "outputs": [],
   "source": [
    "this_list.append(2)"
   ]
  },
  {
   "cell_type": "code",
   "execution_count": null,
   "metadata": {},
   "outputs": [],
   "source": [
    "print(this_list)"
   ]
  },
  {
   "cell_type": "code",
   "execution_count": null,
   "metadata": {},
   "outputs": [],
   "source": [
    "# iterate over the values of the items in a list\n",
    "for item in this_list:\n",
    "    print(item)"
   ]
  },
  {
   "cell_type": "code",
   "execution_count": null,
   "metadata": {},
   "outputs": [],
   "source": [
    "# iterate over both the indexes and the values of the items in a list\n",
    "for index, item in enumerate(this_list):\n",
    "    print(index, item)"
   ]
  },
  {
   "cell_type": "code",
   "execution_count": null,
   "metadata": {},
   "outputs": [],
   "source": [
    "len(this_list)  # return the number of items in a list"
   ]
  },
  {
   "cell_type": "code",
   "execution_count": null,
   "metadata": {},
   "outputs": [],
   "source": [
    "this_list.remove(1)  # remove a specific item from a list"
   ]
  },
  {
   "cell_type": "code",
   "execution_count": null,
   "metadata": {},
   "outputs": [],
   "source": [
    "this_list.remove(3)  # what if the item is not in the list?"
   ]
  },
  {
   "cell_type": "code",
   "execution_count": null,
   "metadata": {},
   "outputs": [],
   "source": [
    "print(this_list)"
   ]
  },
  {
   "cell_type": "code",
   "execution_count": null,
   "metadata": {},
   "outputs": [],
   "source": [
    "this_dict = {}  # or dict()"
   ]
  },
  {
   "cell_type": "code",
   "execution_count": null,
   "metadata": {},
   "outputs": [],
   "source": [
    "this_dict['key1'] = 'value1'  # associate a key with a value in a dictionary (keys can be instances of most types)"
   ]
  },
  {
   "cell_type": "code",
   "execution_count": null,
   "metadata": {},
   "outputs": [],
   "source": [
    "print(this_dict)"
   ]
  },
  {
   "cell_type": "code",
   "execution_count": null,
   "metadata": {},
   "outputs": [],
   "source": [
    "this_dict['key2'] = 'value2'"
   ]
  },
  {
   "cell_type": "code",
   "execution_count": null,
   "metadata": {},
   "outputs": [],
   "source": [
    "print(this_dict)"
   ]
  },
  {
   "cell_type": "code",
   "execution_count": null,
   "metadata": {},
   "outputs": [],
   "source": [
    "# by default iterating over a dict just returns the keys\n",
    "for key in this_dict:\n",
    "    print(key)"
   ]
  },
  {
   "cell_type": "code",
   "execution_count": null,
   "metadata": {},
   "outputs": [],
   "source": [
    "for key in this_dict.keys():\n",
    "    print(key)"
   ]
  },
  {
   "cell_type": "code",
   "execution_count": null,
   "metadata": {},
   "outputs": [],
   "source": [
    "type(this_dict.keys())  # the keys() method returns a \"view\" of the keys, not a list of the keys"
   ]
  },
  {
   "cell_type": "code",
   "execution_count": null,
   "metadata": {},
   "outputs": [],
   "source": [
    "print(this_dict.keys())"
   ]
  },
  {
   "cell_type": "code",
   "execution_count": null,
   "metadata": {},
   "outputs": [],
   "source": [
    "print(list(this_dict.keys()))  # you can convert a \"view\" into a list"
   ]
  },
  {
   "cell_type": "code",
   "execution_count": null,
   "metadata": {},
   "outputs": [],
   "source": [
    "# iterate over the values stored in a dictionary - may not be in the order you expect\n",
    "for value in this_dict.values():\n",
    "    print(value)"
   ]
  },
  {
   "cell_type": "code",
   "execution_count": null,
   "metadata": {},
   "outputs": [],
   "source": [
    "# iterate over both keys and values in a dictionary\n",
    "for key, value in this_dict.items():\n",
    "    print(key, value)"
   ]
  },
  {
   "cell_type": "code",
   "execution_count": null,
   "metadata": {},
   "outputs": [],
   "source": [
    "# iterate over both keys and values, as well as an index, or running count of the items in a dictionary\n",
    "for index, (key, value) in enumerate(this_dict.items()):\n",
    "    print(index, key, value)"
   ]
  },
  {
   "cell_type": "code",
   "execution_count": null,
   "metadata": {},
   "outputs": [],
   "source": [
    "this_dict.pop('key1')  # remove a specific key, value pair from a dictionary"
   ]
  },
  {
   "cell_type": "code",
   "execution_count": null,
   "metadata": {},
   "outputs": [],
   "source": [
    "print(this_dict)"
   ]
  },
  {
   "cell_type": "code",
   "execution_count": null,
   "metadata": {},
   "outputs": [],
   "source": [
    "this_dict.pop('key3')  # what if the key is not in the dictionary?"
   ]
  },
  {
   "cell_type": "markdown",
   "metadata": {},
   "source": [
    "## 2. Use python module numpy to operate on array datatype"
   ]
  },
  {
   "cell_type": "code",
   "execution_count": null,
   "metadata": {},
   "outputs": [],
   "source": [
    "import numpy as np"
   ]
  },
  {
   "cell_type": "code",
   "execution_count": null,
   "metadata": {},
   "outputs": [],
   "source": [
    "this_array = np.array([0, 1, 2])"
   ]
  },
  {
   "cell_type": "code",
   "execution_count": null,
   "metadata": {},
   "outputs": [],
   "source": [
    "print(this_array)"
   ]
  },
  {
   "cell_type": "code",
   "execution_count": null,
   "metadata": {},
   "outputs": [],
   "source": [
    "type(this_array)"
   ]
  },
  {
   "cell_type": "code",
   "execution_count": null,
   "metadata": {},
   "outputs": [],
   "source": [
    "this_array.shape"
   ]
  },
  {
   "cell_type": "code",
   "execution_count": null,
   "metadata": {},
   "outputs": [],
   "source": [
    "len(this_array)"
   ]
  },
  {
   "cell_type": "code",
   "execution_count": null,
   "metadata": {},
   "outputs": [],
   "source": [
    "this_range = range(1, 4)"
   ]
  },
  {
   "cell_type": "code",
   "execution_count": null,
   "metadata": {},
   "outputs": [],
   "source": [
    "print(this_range)"
   ]
  },
  {
   "cell_type": "code",
   "execution_count": null,
   "metadata": {},
   "outputs": [],
   "source": [
    "type(this_range)"
   ]
  },
  {
   "cell_type": "code",
   "execution_count": null,
   "metadata": {},
   "outputs": [],
   "source": [
    "this_range_list = list(range(1, 4))"
   ]
  },
  {
   "cell_type": "code",
   "execution_count": null,
   "metadata": {},
   "outputs": [],
   "source": [
    "print(this_range_list)"
   ]
  },
  {
   "cell_type": "code",
   "execution_count": null,
   "metadata": {},
   "outputs": [],
   "source": [
    "this_array = np.array(range(1, 4))"
   ]
  },
  {
   "cell_type": "code",
   "execution_count": null,
   "metadata": {},
   "outputs": [],
   "source": [
    "print(this_array)"
   ]
  },
  {
   "cell_type": "code",
   "execution_count": null,
   "metadata": {},
   "outputs": [],
   "source": [
    "this_array = np.arange(1, 8, 2)"
   ]
  },
  {
   "cell_type": "code",
   "execution_count": null,
   "metadata": {},
   "outputs": [],
   "source": [
    "print(this_array)"
   ]
  },
  {
   "cell_type": "code",
   "execution_count": null,
   "metadata": {},
   "outputs": [],
   "source": [
    "for index, value in enumerate(this_array):\n",
    "    print(index, value)"
   ]
  },
  {
   "cell_type": "code",
   "execution_count": null,
   "metadata": {},
   "outputs": [],
   "source": [
    "print(this_array[::-1])  # print the items in an array in reverse order"
   ]
  },
  {
   "cell_type": "code",
   "execution_count": null,
   "metadata": {},
   "outputs": [],
   "source": [
    "print(this_array[:2])  # print the first 2 items in an array"
   ]
  },
  {
   "cell_type": "code",
   "execution_count": null,
   "metadata": {},
   "outputs": [],
   "source": [
    "print(this_array[::2])  # print every 2nd item in an array"
   ]
  },
  {
   "cell_type": "code",
   "execution_count": null,
   "metadata": {},
   "outputs": [],
   "source": [
    "this_array[3] = 2  # change the value of an item in an array by referring to its index"
   ]
  },
  {
   "cell_type": "code",
   "execution_count": null,
   "metadata": {},
   "outputs": [],
   "source": [
    "print(this_array)"
   ]
  },
  {
   "cell_type": "markdown",
   "metadata": {},
   "source": [
    "## 3. Use python module matplotlib to plot data"
   ]
  },
  {
   "cell_type": "code",
   "execution_count": null,
   "metadata": {},
   "outputs": [],
   "source": [
    "# allows plots inside a jupyter notebook to be interactive\n",
    "%matplotlib notebook"
   ]
  },
  {
   "cell_type": "code",
   "execution_count": null,
   "metadata": {},
   "outputs": [],
   "source": [
    "import matplotlib.pyplot as plt"
   ]
  },
  {
   "cell_type": "code",
   "execution_count": null,
   "metadata": {},
   "outputs": [],
   "source": [
    "x = range(10)\n",
    "y = 2 * x\n",
    "print(x)\n",
    "print(y)\n",
    "\n",
    "plt.figure()  # start a fresh plot\n",
    "plt.plot(x, y)\n",
    "plt.show()"
   ]
  },
  {
   "cell_type": "markdown",
   "metadata": {},
   "source": [
    "### Why didn't that work?"
   ]
  },
  {
   "cell_type": "code",
   "execution_count": null,
   "metadata": {},
   "outputs": [],
   "source": [
    "x = list(range(10))\n",
    "y = 2 * x\n",
    "print(x)\n",
    "print(y)\n",
    "\n",
    "plt.figure()  # start a fresh plot\n",
    "plt.plot(x, y)\n",
    "plt.show()"
   ]
  },
  {
   "cell_type": "markdown",
   "metadata": {},
   "source": [
    "### Why didn't that work?"
   ]
  },
  {
   "cell_type": "code",
   "execution_count": null,
   "metadata": {},
   "outputs": [],
   "source": [
    "x = np.array(range(10))\n",
    "y = 2 * x\n",
    "print(x)\n",
    "print(y)\n",
    "\n",
    "plt.figure()  # start a fresh plot\n",
    "plt.plot(x, y)\n",
    "plt.show()"
   ]
  },
  {
   "cell_type": "code",
   "execution_count": null,
   "metadata": {},
   "outputs": [],
   "source": [
    "# get a bit fancier\n",
    "fig, axes = plt.subplots(1, 2)"
   ]
  },
  {
   "cell_type": "code",
   "execution_count": null,
   "metadata": {},
   "outputs": [],
   "source": [
    "print(type(axes))"
   ]
  },
  {
   "cell_type": "code",
   "execution_count": null,
   "metadata": {},
   "outputs": [],
   "source": [
    "print(axes.shape)"
   ]
  },
  {
   "cell_type": "code",
   "execution_count": null,
   "metadata": {},
   "outputs": [],
   "source": [
    "fig, axes = plt.subplots(1, 2, figsize=(8, 4))\n",
    "axes[0].plot(x, y, '-', c='k', label='Fake data 1')\n",
    "axes[1].plot(x, x ** 2, '--', c='r', label='Fake data 2')\n",
    "axes[0].set_xlabel('X axis label')\n",
    "axes[1].set_xlabel('X axis label')\n",
    "axes[0].set_ylabel('Y axis label')\n",
    "axes[1].set_ylabel('Y axis label')\n",
    "axes[0].legend(loc='best', frameon=False)\n",
    "axes[1].legend(loc='best', frameon=False)\n",
    "fig.tight_layout()"
   ]
  },
  {
   "cell_type": "code",
   "execution_count": null,
   "metadata": {},
   "outputs": [],
   "source": [
    "help(fig.tight_layout)"
   ]
  },
  {
   "cell_type": "code",
   "execution_count": null,
   "metadata": {},
   "outputs": [],
   "source": [
    "fig, axes = plt.subplots(1, 2, figsize=(8, 4))\n",
    "axes[0].plot(x, y, '-', c='k', label='Fake data 1')\n",
    "axes[1].plot(x, x ** 2, '--', c='r', label='Fake data 2')\n",
    "axes[0].set_xlabel('X axis label')\n",
    "axes[1].set_xlabel('X axis label')\n",
    "axes[0].set_ylabel('Y axis label')\n",
    "axes[1].set_ylabel('Y axis label')\n",
    "axes[0].legend(loc='best', frameon=False)\n",
    "axes[1].legend(loc='best', frameon=False)\n",
    "fig.tight_layout(w_pad=3.)"
   ]
  },
  {
   "cell_type": "markdown",
   "metadata": {},
   "source": [
    "## 4. Use python module neuron to create a neuronal cell body compartment and explore the attributes of sections and segments"
   ]
  },
  {
   "cell_type": "code",
   "execution_count": null,
   "metadata": {},
   "outputs": [],
   "source": [
    "from neuron import h"
   ]
  },
  {
   "cell_type": "code",
   "execution_count": null,
   "metadata": {},
   "outputs": [],
   "source": [
    "soma = h.Section()"
   ]
  },
  {
   "cell_type": "code",
   "execution_count": null,
   "metadata": {
    "scrolled": true
   },
   "outputs": [],
   "source": [
    "help(soma)"
   ]
  },
  {
   "cell_type": "code",
   "execution_count": null,
   "metadata": {},
   "outputs": [],
   "source": [
    "# hit \"tab\" to complete to view valid object attributes\n",
    "soma."
   ]
  },
  {
   "cell_type": "code",
   "execution_count": null,
   "metadata": {},
   "outputs": [],
   "source": [
    "soma.L  # in micrometers"
   ]
  },
  {
   "cell_type": "code",
   "execution_count": null,
   "metadata": {},
   "outputs": [],
   "source": [
    "soma.diam"
   ]
  },
  {
   "cell_type": "code",
   "execution_count": null,
   "metadata": {},
   "outputs": [],
   "source": [
    "# let's use something more in the range of a mouse CA1 pyramidal neuron\n",
    "soma.L = 20.\n",
    "soma.diam = 20."
   ]
  },
  {
   "cell_type": "code",
   "execution_count": null,
   "metadata": {},
   "outputs": [],
   "source": [
    "# every unbranched compartment is a \"section\", and every section can be subdivided into \"segments\"\n",
    "# \"nseg\" is the number of segments, which is 1 by default\n",
    "soma.nseg"
   ]
  },
  {
   "cell_type": "code",
   "execution_count": null,
   "metadata": {},
   "outputs": [],
   "source": [
    "# segment objects can be referenced by their relative location from 0.0 to 1.0 within the length of the section\n",
    "# a single segment is located at the center of the section\n",
    "seg = soma(0.5)"
   ]
  },
  {
   "cell_type": "code",
   "execution_count": null,
   "metadata": {},
   "outputs": [],
   "source": [
    "# the parent section of this segment object is the soma section we created\n",
    "seg.sec == soma"
   ]
  },
  {
   "cell_type": "code",
   "execution_count": null,
   "metadata": {},
   "outputs": [],
   "source": [
    "# nseg can be changed, but should always be on odd number so as to maintain a segment in the center position\n",
    "soma.nseg = 3"
   ]
  },
  {
   "cell_type": "code",
   "execution_count": null,
   "metadata": {},
   "outputs": [],
   "source": [
    "# when a section is divided into multiple segments, they are referenced by their center positions within the section\n",
    "for seg in soma:\n",
    "    print(seg.x)"
   ]
  },
  {
   "cell_type": "code",
   "execution_count": null,
   "metadata": {},
   "outputs": [],
   "source": [
    "# let's revert to a single segment for now\n",
    "soma.nseg = 1"
   ]
  },
  {
   "cell_type": "markdown",
   "metadata": {},
   "source": [
    "## 5. Record voltage from a neuron segment, run a simulation, and plot recorded data"
   ]
  },
  {
   "cell_type": "code",
   "execution_count": null,
   "metadata": {},
   "outputs": [],
   "source": [
    "# For some ungodly reason, convenient methods for running simulations in neuron requires that a standard \n",
    "# configuration file be explicitly loaded first\n",
    "h.load_file('stdrun.hoc')"
   ]
  },
  {
   "cell_type": "code",
   "execution_count": null,
   "metadata": {},
   "outputs": [],
   "source": [
    "# The neuron module has it's own datatype for storing array data:\n",
    "t = h.Vector()\n",
    "soma_voltage = h.Vector()"
   ]
  },
  {
   "cell_type": "code",
   "execution_count": null,
   "metadata": {},
   "outputs": [],
   "source": [
    "len(soma_voltage)"
   ]
  },
  {
   "cell_type": "code",
   "execution_count": null,
   "metadata": {},
   "outputs": [],
   "source": [
    "h.dt  # Temporal resolution - the time interval between recorded data points in milliseconds"
   ]
  },
  {
   "cell_type": "code",
   "execution_count": null,
   "metadata": {},
   "outputs": [],
   "source": [
    "h._ref_t  # The neuron module will update the value of this reference time stamp after every time step (dt)"
   ]
  },
  {
   "cell_type": "code",
   "execution_count": null,
   "metadata": {},
   "outputs": [],
   "source": [
    "soma(0.5)._ref_v  # The neuron module will update the value of this reference to the segment's membrane voltage after every time step"
   ]
  },
  {
   "cell_type": "code",
   "execution_count": null,
   "metadata": {},
   "outputs": [],
   "source": [
    "# Vectors can be set to record attributes of a simulation:\n",
    "t.record(h._ref_t)  # record the time stamp\n",
    "soma_voltage.record(soma(0.5)._ref_v)  # record the voltage across the membrane in a segment"
   ]
  },
  {
   "cell_type": "code",
   "execution_count": null,
   "metadata": {},
   "outputs": [],
   "source": [
    "h.tstop  # the duration of a simulation in milliseconds"
   ]
  },
  {
   "cell_type": "code",
   "execution_count": null,
   "metadata": {},
   "outputs": [],
   "source": [
    "h.tstop = 600.  # let's set it to 600 milliseconds"
   ]
  },
  {
   "cell_type": "code",
   "execution_count": null,
   "metadata": {},
   "outputs": [],
   "source": [
    "h.v_init = -65.  # the simulation can be initialized with the neuron's voltage at resting membrane potential"
   ]
  },
  {
   "cell_type": "code",
   "execution_count": null,
   "metadata": {},
   "outputs": [],
   "source": [
    "h.run()  # Execute a simulation! Data will be recorded to specified vectors."
   ]
  },
  {
   "cell_type": "code",
   "execution_count": null,
   "metadata": {},
   "outputs": [],
   "source": [
    "plt.figure()\n",
    "plt.plot(t, soma_voltage)\n",
    "plt.xlabel('Time (ms)')\n",
    "plt.ylabel('Voltage (mV)')\n",
    "plt.title('Boring simulation')"
   ]
  },
  {
   "cell_type": "code",
   "execution_count": null,
   "metadata": {},
   "outputs": [],
   "source": [
    "len(t), len(soma_voltage)"
   ]
  },
  {
   "cell_type": "code",
   "execution_count": null,
   "metadata": {},
   "outputs": [],
   "source": [
    "# An IClamp object can be inserted into a compartment and used to inject simple square wave current waveforms.\n",
    "step_current_stim = h.IClamp(soma(0.5))"
   ]
  },
  {
   "cell_type": "code",
   "execution_count": null,
   "metadata": {},
   "outputs": [],
   "source": [
    "step_current_stim.amp, step_current_stim.dur, step_current_stim.delay"
   ]
  },
  {
   "cell_type": "code",
   "execution_count": null,
   "metadata": {},
   "outputs": [],
   "source": [
    "step_current_stim.amp = 0.1  # amplitude in nanoAmps\n",
    "step_current_stim.dur = 200.  # duration in milliseconds\n",
    "step_current_stim.delay = 200.  # start time of current injection"
   ]
  },
  {
   "cell_type": "code",
   "execution_count": null,
   "metadata": {},
   "outputs": [],
   "source": [
    "# the waveform of the current injection can also be recorded into a vector\n",
    "step_current_rec = h.Vector()\n",
    "step_current_rec.record(step_current_stim._ref_i)"
   ]
  },
  {
   "cell_type": "code",
   "execution_count": null,
   "metadata": {},
   "outputs": [],
   "source": [
    "h.run()"
   ]
  },
  {
   "cell_type": "code",
   "execution_count": null,
   "metadata": {},
   "outputs": [],
   "source": [
    "fig, axes = plt.subplots(2, figsize=(8, 6))\n",
    "axes[0].plot(t, step_current_rec, c='r')\n",
    "axes[0].set_xlabel('Time (ms)')\n",
    "axes[0].set_ylabel('Current (nA)')\n",
    "axes[0].set_title('Injected current')\n",
    "axes[1].plot(t, soma_voltage, c='k')\n",
    "axes[1].set_xlabel('Time (ms)')\n",
    "axes[1].set_ylabel('Voltage (mV)')\n",
    "axes[1].set_title('Soma membrane potential')\n",
    "fig.tight_layout(h_pad=3.)\n"
   ]
  },
  {
   "cell_type": "markdown",
   "metadata": {},
   "source": [
    "### Discussion:\n",
    "What happened here? Why?"
   ]
  },
  {
   "cell_type": "markdown",
   "metadata": {},
   "source": [
    "<img src=\"images/ions.jpg\" width=\"500\">"
   ]
  },
  {
   "cell_type": "markdown",
   "metadata": {},
   "source": [
    "<img src=\"images/vm_circuit.jpg\" width=500>"
   ]
  },
  {
   "cell_type": "markdown",
   "metadata": {},
   "source": [
    "<img src=\"images/vm_eq.jpg\" width=\"500\">"
   ]
  },
  {
   "cell_type": "markdown",
   "metadata": {},
   "source": [
    "### So we'll have to insert ion channels in order to have current flow across the membrane"
   ]
  },
  {
   "cell_type": "markdown",
   "metadata": {},
   "source": [
    "### What is the term C?"
   ]
  },
  {
   "cell_type": "markdown",
   "metadata": {},
   "source": [
    "It takes time for charge from injected current to build up along the membrane, and for it to \"discharge\" from the membrane, and be able to move around and contribute to current flow across the membrane."
   ]
  },
  {
   "cell_type": "markdown",
   "metadata": {},
   "source": [
    "The total amount of capacitance is proportional to the surface area of the membrane:\n",
    "\n",
    "C = cm * L * d * pi\n",
    "\n",
    "cm is the \"specific capacitance,\" a property of the material that makes up the membrane\n",
    "L is the length of the cylindrical compartment\n",
    "d is the diameter"
   ]
  },
  {
   "cell_type": "code",
   "execution_count": null,
   "metadata": {},
   "outputs": [],
   "source": [
    "# this is the \"specific membrane capacitance\" of the section\n",
    "# depending on the surface area of the compartment, this will slow down the charging and discharging of ions\n",
    "# when current enters or exits the compartment\n",
    "soma.cm"
   ]
  },
  {
   "cell_type": "markdown",
   "metadata": {},
   "source": [
    "## 6. Insert an ion channel into the membrane of a neuron section and explore its attributes"
   ]
  },
  {
   "cell_type": "markdown",
   "metadata": {},
   "source": [
    "The injected current in the above simulations had nowhere to go!  \n",
    "Real neurons have ion channels and pumps to pass current across the membrane."
   ]
  },
  {
   "cell_type": "code",
   "execution_count": null,
   "metadata": {},
   "outputs": [],
   "source": [
    "# Let's insert into our soma section a standard mechanism called \"pas\"\n",
    "# It mimics a type of channel called a \"leak\" channel that typically fluxes positive ions\n",
    "soma.insert('pas')"
   ]
  },
  {
   "cell_type": "code",
   "execution_count": null,
   "metadata": {},
   "outputs": [],
   "source": [
    "# now the segments in the soma section have a new set of attributes\n",
    "leak_mechanism = soma(0.5).pas"
   ]
  },
  {
   "cell_type": "code",
   "execution_count": null,
   "metadata": {},
   "outputs": [],
   "source": [
    "# tab to complete to explore mechanism attributes\n",
    "leak_mechanism."
   ]
  },
  {
   "cell_type": "code",
   "execution_count": null,
   "metadata": {},
   "outputs": [],
   "source": [
    "print(leak_mechanism.g, leak_mechanism.e)"
   ]
  },
  {
   "cell_type": "code",
   "execution_count": null,
   "metadata": {},
   "outputs": [],
   "source": [
    "pas_g0 = 0.0001\n",
    "leak_mechanism.g = pas_g0  # conductance of leak channel in microSeimens"
   ]
  },
  {
   "cell_type": "code",
   "execution_count": null,
   "metadata": {},
   "outputs": [],
   "source": [
    "# \"reversal potential\" of the ion channel - the voltage where current through the channel switches from positive to\n",
    "# negative\n",
    "pas_e0 = -65.\n",
    "leak_mechanism.e = pas_e0"
   ]
  },
  {
   "cell_type": "code",
   "execution_count": null,
   "metadata": {},
   "outputs": [],
   "source": [
    "# let's run a short simulation without any current injection\n",
    "step_current_stim.amp = 0.\n",
    "h.tstop = 200."
   ]
  },
  {
   "cell_type": "code",
   "execution_count": null,
   "metadata": {},
   "outputs": [],
   "source": [
    "leak_mechanism._ref_i  # Neuron will update the value of this scalar with the current through the leak channel in each time step"
   ]
  },
  {
   "cell_type": "code",
   "execution_count": null,
   "metadata": {},
   "outputs": [],
   "source": [
    "# first let's record the current through the leak channel\n",
    "leak_current_rec = h.Vector()\n",
    "leak_current_rec.record(soma(0.5).pas._ref_i)"
   ]
  },
  {
   "cell_type": "code",
   "execution_count": null,
   "metadata": {},
   "outputs": [],
   "source": [
    "h.run()"
   ]
  },
  {
   "cell_type": "code",
   "execution_count": null,
   "metadata": {},
   "outputs": [],
   "source": [
    "fig, axes = plt.subplots(3, figsize=(8, 9))\n",
    "axes[0].plot(t, step_current_rec, c='r')\n",
    "axes[0].set_xlabel('Time (ms)')\n",
    "axes[0].set_ylabel('Current (nA)')\n",
    "axes[0].set_title('Injected current')\n",
    "axes[1].plot(t, leak_current_rec, c='c')\n",
    "axes[1].set_xlabel('Time (ms)')\n",
    "axes[1].set_ylabel('Current (nA)')\n",
    "axes[1].set_title('Leak membrane current')\n",
    "axes[2].plot(t, soma_voltage, c='k')\n",
    "axes[2].set_xlabel('Time (ms)')\n",
    "axes[2].set_ylabel('Voltage (mV)')\n",
    "axes[2].set_title('Soma membrane potential')\n",
    "fig.tight_layout(h_pad=2.)"
   ]
  },
  {
   "cell_type": "code",
   "execution_count": null,
   "metadata": {},
   "outputs": [],
   "source": [
    "# let's turn our step current injection back on and restore the longer sim duration\n",
    "step_current_stim.amp = 0.1\n",
    "h.tstop = 600.\n",
    "h.run()\n",
    "\n",
    "fig, axes = plt.subplots(3, figsize=(8, 9))\n",
    "axes[0].plot(t, step_current_rec, c='r')\n",
    "axes[0].set_xlabel('Time (ms)')\n",
    "axes[0].set_ylabel('Current (nA)')\n",
    "axes[0].set_title('Injected current')\n",
    "axes[1].plot(t, leak_current_rec, c='c')\n",
    "axes[1].set_xlabel('Time (ms)')\n",
    "axes[1].set_ylabel('Current (nA)')\n",
    "axes[1].set_title('Leak membrane current')\n",
    "axes[2].plot(t, soma_voltage, c='k')\n",
    "axes[2].set_xlabel('Time (ms)')\n",
    "axes[2].set_ylabel('Voltage (mV)')\n",
    "axes[2].set_title('Soma membrane potential')\n",
    "fig.tight_layout(h_pad=2.)"
   ]
  },
  {
   "cell_type": "markdown",
   "metadata": {},
   "source": [
    "How does the amplitude and kinetics of the voltage response depend on membrane conductance?"
   ]
  },
  {
   "cell_type": "code",
   "execution_count": null,
   "metadata": {},
   "outputs": [],
   "source": [
    "fig, axes = plt.subplots(3, figsize=(8, 9))\n",
    "axes[0].set_xlabel('Time (ms)')\n",
    "axes[0].set_ylabel('Current (nA)')\n",
    "axes[0].set_title('Injected current')\n",
    "axes[1].set_xlabel('Time (ms)')\n",
    "axes[1].set_ylabel('Current (nA)')\n",
    "axes[1].set_title('Leak membrane current')\n",
    "axes[2].set_xlabel('Time (ms)')\n",
    "axes[2].set_ylabel('Voltage (mV)')\n",
    "axes[2].set_title('Soma membrane potential')\n",
    "\n",
    "for g in (pas_g0 / 10., pas_g0, pas_g0 * 10.):\n",
    "    soma(0.5).pas.g = g\n",
    "    h.run()\n",
    "    axes[0].plot(t, step_current_rec)\n",
    "    axes[1].plot(t, leak_current_rec)\n",
    "    axes[2].plot(t, soma_voltage, label='pas.g = %.3E' % g)\n",
    "\n",
    "axes[2].legend(loc='best', frameon=False)\n",
    "fig.tight_layout(h_pad=2.)\n",
    "fig.show()\n",
    "\n",
    "soma(0.5).pas.g = pas_g0"
   ]
  },
  {
   "cell_type": "markdown",
   "metadata": {},
   "source": [
    "What is the effect of membrane capacitance?"
   ]
  },
  {
   "cell_type": "code",
   "execution_count": null,
   "metadata": {},
   "outputs": [],
   "source": [
    "pas_g_new = 2.e-4\n",
    "soma(0.5).pas.g = pas_g_new\n",
    "cm0 = 1.\n",
    "\n",
    "fig, axes = plt.subplots(3, figsize=(8, 9))\n",
    "axes[0].set_xlabel('Time (ms)')\n",
    "axes[0].set_ylabel('Current (nA)')\n",
    "axes[0].set_title('Injected current')\n",
    "axes[1].set_xlabel('Time (ms)')\n",
    "axes[1].set_ylabel('Current (nA)')\n",
    "axes[1].set_title('Leak membrane current')\n",
    "axes[2].set_xlabel('Time (ms)')\n",
    "axes[2].set_ylabel('Voltage (mV)')\n",
    "axes[2].set_title('Soma membrane potential')\n",
    "\n",
    "for cm in (1.e-1, 1., 10.):\n",
    "    soma.cm = cm\n",
    "    h.run()\n",
    "    axes[0].plot(t, step_current_rec)\n",
    "    axes[1].plot(t, leak_current_rec)\n",
    "    axes[2].plot(t, soma_voltage, label='cm = %.3E' % cm)\n",
    "\n",
    "axes[2].legend(loc='best', frameon=False)\n",
    "fig.tight_layout(h_pad=2.)\n",
    "fig.show()\n",
    "\n",
    "soma.cm = cm0"
   ]
  },
  {
   "cell_type": "markdown",
   "metadata": {},
   "source": [
    "What is the effect of the \"reversal potential\" of the leak conductance?"
   ]
  },
  {
   "cell_type": "code",
   "execution_count": null,
   "metadata": {},
   "outputs": [],
   "source": [
    "fig, axes = plt.subplots(3, figsize=(8, 9))\n",
    "axes[0].set_xlabel('Time (ms)')\n",
    "axes[0].set_ylabel('Current (nA)')\n",
    "axes[0].set_title('Injected current')\n",
    "axes[1].set_xlabel('Time (ms)')\n",
    "axes[1].set_ylabel('Current (nA)')\n",
    "axes[1].set_title('Leak membrane current')\n",
    "axes[2].set_xlabel('Time (ms)')\n",
    "axes[2].set_ylabel('Voltage (mV)')\n",
    "axes[2].set_title('Soma membrane potential')\n",
    "\n",
    "for e in (-80., -70., -60.):\n",
    "    soma(0.5).pas.e = e\n",
    "    h.run()\n",
    "    axes[0].plot(t, step_current_rec)\n",
    "    axes[1].plot(t, leak_current_rec)\n",
    "    axes[2].plot(t, soma_voltage, label='pas.e = %.1f' % e)\n",
    "\n",
    "axes[2].legend(loc='best', frameon=False)\n",
    "fig.tight_layout(h_pad=2.)\n",
    "fig.show()"
   ]
  },
  {
   "cell_type": "markdown",
   "metadata": {},
   "source": [
    "## 7. Understand the meaning of the \"input resistance\" of a neuron compartment"
   ]
  },
  {
   "cell_type": "code",
   "execution_count": null,
   "metadata": {},
   "outputs": [],
   "source": [
    "# let's try a negative (hyperpolarizing) current injection this time\n",
    "step_current_stim.amp = -0.05\n",
    "h.run()\n",
    "fig, axes = plt.subplots(3, figsize=(8, 9))\n",
    "axes[0].plot(t, step_current_rec, c='r', label='Amp = %.2E (nA)' % step_current_stim.amp)\n",
    "axes[0].set_xlabel('Time (ms)')\n",
    "axes[0].set_ylabel('Current (nA)')\n",
    "axes[0].set_title('Injected current')\n",
    "axes[1].plot(t, leak_current_rec, c='c')\n",
    "axes[1].set_xlabel('Time (ms)')\n",
    "axes[1].set_ylabel('Current (nA)')\n",
    "axes[1].set_title('Leak membrane current')\n",
    "axes[2].plot(t, soma_voltage, c='k')\n",
    "axes[2].set_xlabel('Time (ms)')\n",
    "axes[2].set_ylabel('Voltage (mV)')\n",
    "axes[2].set_title('Soma membrane potential')\n",
    "axes[0].legend(loc='best', frameon=False)\n",
    "fig.tight_layout(h_pad=2.)"
   ]
  },
  {
   "cell_type": "markdown",
   "metadata": {},
   "source": [
    "The \"input resistance\" of a compartment describes how sensitive the membrane voltage response is to changes in the amount of current flowing across the membrane.  \n",
    "\n",
    "Ohm's Law:  `V = i * R`   # change in membrane voltage (Volts) = change in membrane current (Amps) * membrane resistance (Ohms)  \n",
    "\n",
    "Conductance is the inverse of resistance: `g = 1 / R`\n",
    "\n",
    "The current through a channel depends on the difference between the membrane voltage and the reversal potential of the ion channel: `pas_i = pas_g * (V - pas_e)`"
   ]
  },
  {
   "cell_type": "markdown",
   "metadata": {},
   "source": [
    "`C * dV/dt = g * (V - E) - I_inj\n",
    "C * dV/dt = (1 / R) * (deltaV) - I_inj`\n",
    "\n",
    "At equilibrium:\n",
    "\n",
    "`dV/dt = 0\n",
    "deltaV / R - I_inj = 0\n",
    "deltaV = I_inj * R`\n",
    "\n",
    "`R = deltaV / I_inj`"
   ]
  },
  {
   "cell_type": "code",
   "execution_count": null,
   "metadata": {},
   "outputs": [],
   "source": []
  },
  {
   "cell_type": "markdown",
   "metadata": {},
   "source": [
    "# Challenge:"
   ]
  },
  {
   "cell_type": "markdown",
   "metadata": {},
   "source": [
    "## 8. Write a function to measure the \"input resistance\" of a neuron compartment"
   ]
  },
  {
   "cell_type": "code",
   "execution_count": null,
   "metadata": {},
   "outputs": [],
   "source": []
  },
  {
   "cell_type": "markdown",
   "metadata": {},
   "source": [
    "## 9. Organize recordings and superimpose results from multiple simulations"
   ]
  },
  {
   "cell_type": "markdown",
   "metadata": {},
   "source": [
    "### Exercise:\n",
    "- Use lists and/or dictionaries to save, label and organize input parameters and output recordings of time, voltage, and injected current from multiple simulations.  \n",
    "- Run a few simulations that vary the amplitude, duration, and start time of current injections. Save them to a data structure you create.\n",
    "- Generate a plot that superimposes traces from multiple simulations."
   ]
  },
  {
   "cell_type": "code",
   "execution_count": null,
   "metadata": {},
   "outputs": [],
   "source": [
    "# To permanently store the data from the previous simulation, write the contents of neuron vectors into numpy arrays:\n",
    "last_soma_voltage = np.array(soma_voltage)\n",
    "last_t = np.array(t)\n",
    "last_step_current_rec = np.array(step_current_rec)"
   ]
  },
  {
   "cell_type": "markdown",
   "metadata": {},
   "source": [
    "`create a data structure that will contain the results of multiple simulations and a description of each one`\n",
    "\n",
    "`create a list of conditions that you want to simulate`\n",
    "\n",
    "`for this_stim in stim_list: \n",
    "    set the attributes of the stim  \n",
    "    run the simulation\n",
    "    save the simulation results and a description of each one to your simulation data structure\n",
    "`\n",
    "\n",
    "`fig, axes = plt.subplots(2, figsize=(8, 6))\n",
    "for i, this_stim in enumerate(stim_list):\n",
    "    load the simulation results from a particular simulation\n",
    "    plot current injection and soma voltage recording for this simulation, with descriptive label\n",
    "add a legend with the stimulus conditions`"
   ]
  },
  {
   "cell_type": "code",
   "execution_count": null,
   "metadata": {},
   "outputs": [],
   "source": []
  },
  {
   "cell_type": "markdown",
   "metadata": {},
   "source": [
    "### Other resources:\n",
    "- https://www.neuron.yale.edu/neuron/static/py_doc/programming/python.html\n",
    "- https://neuron.yale.edu/neuron/docs/scripting-neuron-basics\n",
    "- https://docs.scipy.org/doc/scipy/reference/tutorial/optimize.html\n",
    "- https://www.cns.nyu.edu/~david/handouts/membrane.pdf\n",
    "- http://www.bioltis.fmed.edu.uy/Potencial%20de%20Reposo%20-%20Circuito%20Equivalente%20-%20Kandel%20-%20ingles.pdf\n",
    "- http://www.scholarpedia.org/article/Electrical_properties_of_cell_membranes\n",
    "- https://en.wikipedia.org/wiki/Membrane_potential"
   ]
  },
  {
   "cell_type": "code",
   "execution_count": null,
   "metadata": {},
   "outputs": [],
   "source": []
  }
 ],
 "metadata": {
  "kernelspec": {
   "display_name": "Python 3",
   "language": "python",
   "name": "python3"
  },
  "language_info": {
   "codemirror_mode": {
    "name": "ipython",
    "version": 3
   },
   "file_extension": ".py",
   "mimetype": "text/x-python",
   "name": "python",
   "nbconvert_exporter": "python",
   "pygments_lexer": "ipython3",
   "version": "3.7.6"
  }
 },
 "nbformat": 4,
 "nbformat_minor": 4
}
