{
 "cells": [
  {
   "cell_type": "markdown",
   "metadata": {},
   "source": [
    "# Lesson 3: Introduction to model parameter optimization"
   ]
  },
  {
   "cell_type": "markdown",
   "metadata": {},
   "source": [
    "## Lesson goals:"
   ]
  },
  {
   "cell_type": "markdown",
   "metadata": {},
   "source": [
    "1. Discuss challenges from Lesson 2:\n",
    " - Measure and plot an \"f-I\" curve\n",
    " - Manually explore model parameters controlling input resistance and \"rheobase\"\n",
    "2. Introduction to optimization with scipy.minimize\n",
    "3. Use scipy.minimize to optimize model input resistance\n",
    "\n",
    "## Challenge for next week:\n",
    "4. Devise an objective function for optimization of rheobase.\n",
    "\n",
    "## Papers for next week:\n",
    "5. Papers focusing on filtering of synaptic signals from dendrites to soma"
   ]
  },
  {
   "cell_type": "code",
   "execution_count": null,
   "metadata": {},
   "outputs": [],
   "source": [
    "%matplotlib notebook\n",
    "import numpy as np\n",
    "import matplotlib.pyplot as plt\n",
    "from neuron import h\n",
    "h.load_file('stdrun.hoc')"
   ]
  },
  {
   "cell_type": "markdown",
   "metadata": {},
   "source": [
    "## 1. Discuss challenges from Lesson 2:\n",
    "### Measure and plot an \"f-I\" curve\n",
    "First, let's build our Hodgkin-Huxley squid axon compartment:"
   ]
  },
  {
   "cell_type": "code",
   "execution_count": null,
   "metadata": {},
   "outputs": [],
   "source": [
    "soma = h.Section()\n",
    "\n",
    "soma.insert('hh')\n",
    "\n",
    "t = h.Vector()\n",
    "soma_voltage = h.Vector()\n",
    "t.record(h._ref_t)  # record the time stamp\n",
    "soma_voltage.record(soma(0.5)._ref_v)  # record the voltage across the membrane in a segment\n",
    "\n",
    "step_current_stim = h.IClamp(soma(0.5))\n",
    "step_current_stim.amp = 10.  # amplitude in nanoAmps\n",
    "step_current_stim.dur = 200.  # duration in milliseconds\n",
    "step_current_stim.delay = 200.  # start time of current injection\n",
    "\n",
    "step_current_rec = h.Vector()\n",
    "step_current_rec.record(step_current_stim._ref_i)\n",
    "\n",
    "h.tstop = 600."
   ]
  },
  {
   "cell_type": "markdown",
   "metadata": {},
   "source": [
    "Let's store the initial values of each of the ion channel conductances:"
   ]
  },
  {
   "cell_type": "code",
   "execution_count": null,
   "metadata": {},
   "outputs": [],
   "source": [
    "gl_init = soma(0.5).hh.gl\n",
    "gnabar_init = soma(0.5).hh.gnabar\n",
    "gkbar_init = soma(0.5).hh.gkbar\n",
    "\n",
    "print('Initial leak condutance is %.5f S/cm^2' % gl_init)\n",
    "print('Initial Na condutance is %.5f S/cm^2' % gnabar_init)\n",
    "print('Initial K condutance is %.5f S/cm^2' % gkbar_init)"
   ]
  },
  {
   "cell_type": "markdown",
   "metadata": {},
   "source": [
    "Now, let's run a simulation that contains spikes:"
   ]
  },
  {
   "cell_type": "code",
   "execution_count": null,
   "metadata": {},
   "outputs": [],
   "source": [
    "h.run()\n",
    "plt.figure()\n",
    "plt.plot(t, soma_voltage)\n",
    "plt.xlabel('Time (ms)')\n",
    "plt.ylabel('Voltage (mV)')"
   ]
  },
  {
   "cell_type": "markdown",
   "metadata": {},
   "source": [
    "Now let's write a function to compute the times that spikes occur:"
   ]
  },
  {
   "cell_type": "code",
   "execution_count": null,
   "metadata": {},
   "outputs": [],
   "source": [
    "def get_spike_times(t, vm, vm_threshold=0.):\n",
    "    spike_times = []\n",
    "    i = 0\n",
    "    while i < len(t):\n",
    "        if vm[i] >= vm_threshold:\n",
    "            spike_times.append(t[i])\n",
    "            i += 1\n",
    "            while i < len(t) and vm[i] >= vm_threshold:\n",
    "                i += 1\n",
    "        else:\n",
    "            i += 1\n",
    "    return np.array(spike_times)"
   ]
  },
  {
   "cell_type": "code",
   "execution_count": null,
   "metadata": {},
   "outputs": [],
   "source": [
    "spike_times = get_spike_times(np.array(t), np.array(soma_voltage))\n",
    "print(spike_times)"
   ]
  },
  {
   "cell_type": "markdown",
   "metadata": {},
   "source": [
    "Now we can calculate a firing rate from a list of spike times:"
   ]
  },
  {
   "cell_type": "code",
   "execution_count": null,
   "metadata": {},
   "outputs": [],
   "source": [
    "def get_firing_rate(spike_times, start, stop):\n",
    "    duration = (stop - start) / 1000.  # convert to seconds\n",
    "    spike_count = len(np.where((spike_times >= start) & (spike_times < stop))[0])\n",
    "    return spike_count / duration  # in Hz"
   ]
  },
  {
   "cell_type": "code",
   "execution_count": null,
   "metadata": {},
   "outputs": [],
   "source": [
    "firing_rate = get_firing_rate(spike_times, 200., 400.)\n",
    "print('The firing rate is %.1f Hz' % firing_rate)"
   ]
  },
  {
   "cell_type": "markdown",
   "metadata": {},
   "source": [
    "Now let's simulate a range of leak conductance values, measure input resistance, and store the results:"
   ]
  },
  {
   "cell_type": "code",
   "execution_count": null,
   "metadata": {},
   "outputs": [],
   "source": [
    "sim_history = []\n",
    "stim_amp_array = np.arange(5., 55., 5.)\n",
    "\n",
    "for stim_amp in stim_amp_array:\n",
    "    sim_record = {}\n",
    "    step_current_stim.amp = stim_amp\n",
    "    sim_record['stim_amp'] = step_current_stim.amp\n",
    "    sim_record['description'] = 'stim_amp: %.1f nA' % stim_amp\n",
    "    h.run()\n",
    "    sim_record['soma_voltage'] = np.array(soma_voltage)\n",
    "    sim_record['t'] = np.array(t)\n",
    "    sim_record['step_current_rec'] = np.array(step_current_rec)\n",
    "    \n",
    "    spike_times = get_spike_times(sim_record['t'], sim_record['soma_voltage'])\n",
    "    firing_rate = get_firing_rate(spike_times, step_current_stim.delay, step_current_stim.delay + step_current_stim.dur)\n",
    "    sim_record['firing_rate'] = firing_rate\n",
    "    \n",
    "    sim_history.append(sim_record)"
   ]
  },
  {
   "cell_type": "markdown",
   "metadata": {},
   "source": [
    "Let's plot the traces:"
   ]
  },
  {
   "cell_type": "code",
   "execution_count": null,
   "metadata": {},
   "outputs": [],
   "source": [
    "fig, axes = plt.subplots(1, 2, figsize=(8, 3))\n",
    "\n",
    "for sim_record in sim_history:\n",
    "    t_array = sim_record['t']\n",
    "    soma_voltage_array = sim_record['soma_voltage']\n",
    "    step_current_rec_array = sim_record['step_current_rec']\n",
    "    description = sim_record['description']\n",
    "    axes[0].plot(t_array, step_current_rec_array, label=description)\n",
    "    axes[0].set_xlabel('Time (ms)')\n",
    "    axes[0].set_ylabel('Current (nA)')\n",
    "    axes[0].set_title('Injected current')\n",
    "    axes[1].plot(t_array, soma_voltage_array, label='Firing rate: %.1f Hz' % sim_record['firing_rate'])\n",
    "    axes[1].set_xlabel('Time (ms)')\n",
    "    axes[1].set_ylabel('Voltage (mV)')\n",
    "    axes[1].set_title('Soma membrane potential')\n",
    "axes[0].legend(loc='best', frameon=False)\n",
    "axes[1].legend(loc='best', frameon=False)\n",
    "fig.tight_layout(w_pad=0.2)"
   ]
  },
  {
   "cell_type": "markdown",
   "metadata": {},
   "source": [
    "Let's plot current vs. firing rate:"
   ]
  },
  {
   "cell_type": "code",
   "execution_count": null,
   "metadata": {},
   "outputs": [],
   "source": [
    "firing_rate_list = []\n",
    "for sim_record in sim_history:\n",
    "    firing_rate_list.append(sim_record['firing_rate'])\n",
    "\n",
    "fig, ax = plt.subplots()\n",
    "ax.scatter(stim_amp_array, firing_rate_list)\n",
    "ax.set_xlabel('Current (nA)')\n",
    "ax.set_ylabel('Firing rate (Hz)')"
   ]
  },
  {
   "cell_type": "markdown",
   "metadata": {},
   "source": [
    "## Manually explore model parameters controlling input resistance and \"rheobase\""
   ]
  },
  {
   "cell_type": "markdown",
   "metadata": {},
   "source": [
    "First, let's measure the input resistance for the default leak conductance:"
   ]
  },
  {
   "cell_type": "code",
   "execution_count": null,
   "metadata": {},
   "outputs": [],
   "source": [
    "def get_input_resistance(t, vm, i, start, stop, window_dur):\n",
    "    \n",
    "    baseline_start_index = np.where(t >= start - window_dur)[0][0]\n",
    "    baseline_end_index = np.where(t >= start)[0][0]\n",
    "    equil_start_index = np.where(t >= stop - window_dur)[0][0]\n",
    "    equil_end_index = np.where(t >= stop)[0][0]\n",
    "    delta_vm = np.abs(np.mean(vm[equil_start_index:equil_end_index]) - np.mean(vm[baseline_start_index:baseline_end_index]))\n",
    "    delta_i = np.abs(np.mean(i[equil_start_index:equil_end_index]) - np.mean(i[baseline_start_index:baseline_end_index]))\n",
    "    \n",
    "    # Ohms = Volts / Amps; MegaOhms = milliVolts / nanoAmps\n",
    "    input_res = delta_vm / delta_i\n",
    "    return input_res"
   ]
  },
  {
   "cell_type": "code",
   "execution_count": null,
   "metadata": {},
   "outputs": [],
   "source": [
    "print('Initial leak condutance is %.5f S/cm^2' % gl_init)\n",
    "soma(0.5).hh.gl = gl_init"
   ]
  },
  {
   "cell_type": "code",
   "execution_count": null,
   "metadata": {},
   "outputs": [],
   "source": [
    "step_current_stim.amp = -1.  # amplitude in nanoAmps\n",
    "step_current_stim.dur = 1000.  # duration in milliseconds\n",
    "step_current_stim.delay = 200.  # start time of current injection\n",
    "\n",
    "h.tstop = 1400.\n",
    "\n",
    "h.run()\n",
    "\n",
    "fig, axes = plt.subplots(1, 2, figsize=(8, 3))\n",
    "axes[0].plot(t, step_current_rec, c='r')\n",
    "axes[0].set_xlabel('Time (ms)')\n",
    "axes[0].set_ylabel('Current (nA)')\n",
    "axes[0].set_title('Injected current')\n",
    "axes[1].plot(t, soma_voltage, c='k')\n",
    "axes[1].set_xlabel('Time (ms)')\n",
    "axes[1].set_ylabel('Voltage (mV)')\n",
    "axes[1].set_title('Soma membrane potential')\n",
    "\n",
    "fig.tight_layout()\n",
    "\n",
    "input_resistance = get_input_resistance(np.array(t), np.array(soma_voltage), np.array(step_current_rec), start=step_current_stim.delay, \n",
    "                                        stop=step_current_stim.delay + step_current_stim.dur, window_dur=10.)\n",
    "print('The input resistance is %.2f MOhm' % input_resistance)"
   ]
  },
  {
   "cell_type": "markdown",
   "metadata": {},
   "source": [
    "Now let's simulate a range of leak conductance values, measure input resistance, and store the results:"
   ]
  },
  {
   "cell_type": "markdown",
   "metadata": {},
   "source": [
    "Let's build an array of values to use for the parameters gl. Let's test values across multiple orders of magnitude:"
   ]
  },
  {
   "cell_type": "code",
   "execution_count": null,
   "metadata": {},
   "outputs": [],
   "source": [
    "log10_range = 10 ** np.arange(-2., 4.)\n",
    "print(log10_range)"
   ]
  },
  {
   "cell_type": "code",
   "execution_count": null,
   "metadata": {},
   "outputs": [],
   "source": [
    "gl_param_array = gl_init * log10_range\n",
    "print(gl_param_array)"
   ]
  },
  {
   "cell_type": "code",
   "execution_count": null,
   "metadata": {},
   "outputs": [],
   "source": [
    "sim_history = []\n",
    "\n",
    "for gl in gl_param_array:\n",
    "    sim_record = {}\n",
    "    sim_record['stim_amp'] = step_current_stim.amp\n",
    "    sim_record['gl'] = gl\n",
    "    soma(0.5).hh.gl = gl\n",
    "    sim_record['description'] = 'gl: %.8f nA' % gl\n",
    "    h.run()\n",
    "    sim_record['soma_voltage'] = np.array(soma_voltage)\n",
    "    sim_record['t'] = np.array(t)\n",
    "    sim_record['step_current_rec'] = np.array(step_current_rec)\n",
    "    \n",
    "    input_resistance = get_input_resistance(sim_record['t'], sim_record['soma_voltage'], sim_record['step_current_rec'], start=200., stop=400., window_dur=10.)\n",
    "    sim_record['input_resistance'] = input_resistance\n",
    "    \n",
    "    sim_history.append(sim_record)"
   ]
  },
  {
   "cell_type": "code",
   "execution_count": null,
   "metadata": {},
   "outputs": [],
   "source": [
    "fig, axes = plt.subplots(1, 2, figsize=(8, 3))\n",
    "\n",
    "for sim_record in sim_history:\n",
    "    t_array = sim_record['t']\n",
    "    soma_voltage_array = sim_record['soma_voltage']\n",
    "    step_current_rec_array = sim_record['step_current_rec']\n",
    "    description = sim_record['description']\n",
    "    axes[0].plot(t_array, step_current_rec_array, label=description)\n",
    "    axes[0].set_xlabel('Time (ms)')\n",
    "    axes[0].set_ylabel('Current (nA)')\n",
    "    axes[0].set_title('Injected current')\n",
    "    axes[1].plot(t_array, soma_voltage_array, label='R_inp: %.3f MOhm' % sim_record['input_resistance'])\n",
    "    axes[1].set_xlabel('Time (ms)')\n",
    "    axes[1].set_ylabel('Voltage (mV)')\n",
    "    axes[1].set_title('Soma membrane potential')\n",
    "axes[0].legend(loc='best', frameon=False)\n",
    "axes[1].legend(loc='best', frameon=False)\n",
    "fig.tight_layout(w_pad=0.9)"
   ]
  },
  {
   "cell_type": "markdown",
   "metadata": {},
   "source": [
    "Let's plot conductance vs. input resistance:"
   ]
  },
  {
   "cell_type": "code",
   "execution_count": null,
   "metadata": {},
   "outputs": [],
   "source": [
    "R_inp_val_list = []\n",
    "for sim_record in sim_history:\n",
    "    R_inp_val_list.append(sim_record['input_resistance'])\n",
    "\n",
    "fig, ax = plt.subplots()\n",
    "ax.scatter(gl_param_array, R_inp_val_list)\n",
    "ax.set_xlabel('Conductance (S/cm^2)')\n",
    "ax.set_ylabel('Input resistance (MOhm)')"
   ]
  },
  {
   "cell_type": "markdown",
   "metadata": {},
   "source": [
    "Let's try plotting on a log scale:"
   ]
  },
  {
   "cell_type": "code",
   "execution_count": null,
   "metadata": {},
   "outputs": [],
   "source": [
    "fig, ax = plt.subplots()\n",
    "ax.scatter(gl_param_array, R_inp_val_list)\n",
    "ax.set_yscale('log')\n",
    "ax.set_xscale('log')\n",
    "ax.set_xlabel('Conductance (S/cm^2)')\n",
    "ax.set_ylabel('Input resistance (MOhm)')"
   ]
  },
  {
   "cell_type": "markdown",
   "metadata": {},
   "source": [
    "Let's use value of gl that produced an input resistance close to 5 MOhm."
   ]
  },
  {
   "cell_type": "code",
   "execution_count": null,
   "metadata": {},
   "outputs": [],
   "source": [
    "gl = gl_param_array[1]\n",
    "soma(0.5).hh.gl = gl\n",
    "print('Conductance: %.8f S/cm^2 results in Input resistance: %.1f MOhm' % (gl_param_array[1], R_inp_val_list[1]))"
   ]
  },
  {
   "cell_type": "markdown",
   "metadata": {},
   "source": [
    "Now we have increased the sensitivity of the cell to injected current. \n",
    "\n",
    "We now expect the cell to spike in reponse to a lower amount of injected current.\n",
    "\n",
    "\"Rheobase\" is that amount of current needed to cross the voltage threshold to produce a spike."
   ]
  },
  {
   "cell_type": "code",
   "execution_count": null,
   "metadata": {},
   "outputs": [],
   "source": [
    "step_current_stim.amp = -1.  # amplitude in nanoAmps\n",
    "step_current_stim.dur = 50.  # duration in milliseconds\n",
    "step_current_stim.delay = 200.  # start time of current injection\n",
    "\n",
    "h.tstop = 300.\n",
    "\n",
    "sim_history = []\n",
    "stim_amp_array = np.arange(0.5, 5., 0.5)\n",
    "\n",
    "for stim_amp in stim_amp_array:\n",
    "    sim_record = {}\n",
    "    step_current_stim.amp = stim_amp\n",
    "    sim_record['stim_amp'] = step_current_stim.amp\n",
    "    sim_record['description'] = 'stim_amp: %.1f nA' % stim_amp\n",
    "    h.run()\n",
    "    sim_record['soma_voltage'] = np.array(soma_voltage)\n",
    "    sim_record['t'] = np.array(t)\n",
    "    sim_record['step_current_rec'] = np.array(step_current_rec)\n",
    "    \n",
    "    spike_times = get_spike_times(sim_record['t'], sim_record['soma_voltage'])\n",
    "    firing_rate = get_firing_rate(spike_times, step_current_stim.delay, step_current_stim.delay + step_current_stim.dur)\n",
    "    sim_record['firing_rate'] = firing_rate\n",
    "    \n",
    "    sim_history.append(sim_record)"
   ]
  },
  {
   "cell_type": "code",
   "execution_count": null,
   "metadata": {},
   "outputs": [],
   "source": [
    "fig, axes = plt.subplots(1, 2, figsize=(8, 3))\n",
    "\n",
    "for sim_record in sim_history:\n",
    "    t_array = sim_record['t']\n",
    "    soma_voltage_array = sim_record['soma_voltage']\n",
    "    step_current_rec_array = sim_record['step_current_rec']\n",
    "    description = sim_record['description']\n",
    "    axes[0].plot(t_array, step_current_rec_array, label=description)\n",
    "    axes[0].set_xlabel('Time (ms)')\n",
    "    axes[0].set_ylabel('Current (nA)')\n",
    "    axes[0].set_title('Injected current')\n",
    "    axes[1].plot(t_array, soma_voltage_array, label='Firing rate: %.1f Hz' % sim_record['firing_rate'])\n",
    "    axes[1].set_xlabel('Time (ms)')\n",
    "    axes[1].set_ylabel('Voltage (mV)')\n",
    "    axes[1].set_title('Soma membrane potential')\n",
    "axes[0].legend(loc='best', frameon=False)\n",
    "axes[1].legend(loc='best', frameon=False)\n",
    "fig.tight_layout(w_pad=0.2)"
   ]
  },
  {
   "cell_type": "markdown",
   "metadata": {},
   "source": [
    "It's still taking 2.5 nA of current to spike. Let's try to vary gnabar to reduce that to less than 1.0 nA.\n",
    "\n",
    "Let's explore a range:"
   ]
  },
  {
   "cell_type": "code",
   "execution_count": null,
   "metadata": {},
   "outputs": [],
   "source": [
    "gnabar_param_array = gnabar_init * np.arange(1., 2.75, 0.25)\n",
    "print('gnabar:', gnabar_param_array)\n",
    "soma(0.5).hh.gkbar = gkbar_init"
   ]
  },
  {
   "cell_type": "code",
   "execution_count": null,
   "metadata": {},
   "outputs": [],
   "source": [
    "stim_amp = 0.5  # nA - our ambitious target for rheobase\n",
    "step_current_stim.amp = stim_amp\n",
    "\n",
    "sim_history = []\n",
    "\n",
    "for gnabar in gnabar_param_array:\n",
    "    sim_record = {}\n",
    "    sim_record['stim_amp'] = step_current_stim.amp\n",
    "    soma(0.5).hh.gnabar = gnabar\n",
    "    sim_record['gl'] = soma(0.5).hh.gl\n",
    "    sim_record['gnabar'] = soma(0.5).hh.gnabar\n",
    "    sim_record['gkbar'] = soma(0.5).hh.gkbar\n",
    "    \n",
    "    sim_record['description'] = 'gnabar: %.3f S/cm^s' % gnabar\n",
    "    h.run()\n",
    "    sim_record['soma_voltage'] = np.array(soma_voltage)\n",
    "    sim_record['t'] = np.array(t)\n",
    "    sim_record['step_current_rec'] = np.array(step_current_rec)\n",
    "    \n",
    "    spike_times = get_spike_times(sim_record['t'], sim_record['soma_voltage'])\n",
    "    firing_rate = get_firing_rate(spike_times, step_current_stim.delay, step_current_stim.delay + step_current_stim.dur)\n",
    "    sim_record['firing_rate'] = firing_rate\n",
    "    \n",
    "    sim_history.append(sim_record)"
   ]
  },
  {
   "cell_type": "code",
   "execution_count": null,
   "metadata": {},
   "outputs": [],
   "source": [
    "fig, axes = plt.subplots(1, 2, figsize=(8, 3))\n",
    "\n",
    "for sim_record in sim_history:\n",
    "    t_array = sim_record['t']\n",
    "    soma_voltage_array = sim_record['soma_voltage']\n",
    "    step_current_rec_array = sim_record['step_current_rec']\n",
    "    description = sim_record['description']\n",
    "    axes[0].plot(t_array, step_current_rec_array, label=description)\n",
    "    axes[0].set_xlabel('Time (ms)')\n",
    "    axes[0].set_ylabel('Current (nA)')\n",
    "    axes[0].set_title('Injected current')\n",
    "    axes[1].plot(t_array, soma_voltage_array, label='Firing rate: %.1f Hz' % sim_record['firing_rate'])\n",
    "    axes[1].set_xlabel('Time (ms)')\n",
    "    axes[1].set_ylabel('Voltage (mV)')\n",
    "    axes[1].set_title('Soma membrane potential')\n",
    "axes[0].legend(loc='best', frameon=False)\n",
    "axes[1].legend(loc='best', frameon=False)\n",
    "fig.tight_layout(w_pad=0.2)"
   ]
  },
  {
   "cell_type": "markdown",
   "metadata": {},
   "source": [
    "It appears that at 0.27 S/cm^2, spike threshold is crossed during the current injection.\n",
    "\n",
    "But at 0.30 S/cm^2, spiking occurs even outside the duration of the step current!\n",
    "\n",
    "Let's try exploring values of gkbar to compensate:"
   ]
  },
  {
   "cell_type": "code",
   "execution_count": null,
   "metadata": {},
   "outputs": [],
   "source": [
    "soma(0.5).hh.gnabar = gnabar_param_array[-1]\n",
    "gkbar_param_array = gkbar_init * np.arange(1., 1.25, 0.05)\n",
    "print('gkbar:', gkbar_param_array)"
   ]
  },
  {
   "cell_type": "code",
   "execution_count": null,
   "metadata": {},
   "outputs": [],
   "source": [
    "sim_history = []\n",
    "\n",
    "for gkbar in gkbar_param_array:\n",
    "    sim_record = {}\n",
    "    sim_record['stim_amp'] = step_current_stim.amp\n",
    "    soma(0.5).hh.gkbar = gkbar\n",
    "    sim_record['gl'] = soma(0.5).hh.gl\n",
    "    sim_record['gnabar'] = soma(0.5).hh.gnabar\n",
    "    sim_record['gkbar'] = soma(0.5).hh.gkbar\n",
    "    \n",
    "    sim_record['description'] = 'gkbar: %.3f S/cm^s' % gkbar\n",
    "    h.run()\n",
    "    sim_record['soma_voltage'] = np.array(soma_voltage)\n",
    "    sim_record['t'] = np.array(t)\n",
    "    sim_record['step_current_rec'] = np.array(step_current_rec)\n",
    "    \n",
    "    spike_times = get_spike_times(sim_record['t'], sim_record['soma_voltage'])\n",
    "    firing_rate = get_firing_rate(spike_times, step_current_stim.delay, step_current_stim.delay + step_current_stim.dur)\n",
    "    sim_record['firing_rate'] = firing_rate\n",
    "    \n",
    "    sim_history.append(sim_record)"
   ]
  },
  {
   "cell_type": "code",
   "execution_count": null,
   "metadata": {},
   "outputs": [],
   "source": [
    "fig, axes = plt.subplots(1, 2, figsize=(8, 3))\n",
    "\n",
    "for sim_record in sim_history:\n",
    "    t_array = sim_record['t']\n",
    "    soma_voltage_array = sim_record['soma_voltage']\n",
    "    step_current_rec_array = sim_record['step_current_rec']\n",
    "    description = sim_record['description']\n",
    "    axes[0].plot(t_array, step_current_rec_array, label=description)\n",
    "    axes[0].set_xlabel('Time (ms)')\n",
    "    axes[0].set_ylabel('Current (nA)')\n",
    "    axes[0].set_title('Injected current')\n",
    "    axes[1].plot(t_array, soma_voltage_array, label='Firing rate: %.1f Hz' % sim_record['firing_rate'])\n",
    "    axes[1].set_xlabel('Time (ms)')\n",
    "    axes[1].set_ylabel('Voltage (mV)')\n",
    "    axes[1].set_title('Soma membrane potential')\n",
    "axes[0].legend(loc='best', frameon=False)\n",
    "axes[1].legend(loc='best', frameon=False)\n",
    "fig.tight_layout(w_pad=0.2)"
   ]
  },
  {
   "cell_type": "markdown",
   "metadata": {},
   "source": [
    "At a value of 0.041 S/cm^2, the cell only spiked inside the duration of the step current."
   ]
  },
  {
   "cell_type": "markdown",
   "metadata": {},
   "source": [
    "### Can this manual tuning process be automated?"
   ]
  },
  {
   "cell_type": "markdown",
   "metadata": {},
   "source": [
    "## 2. Introduction to optimization with scipy.minimize"
   ]
  },
  {
   "cell_type": "markdown",
   "metadata": {},
   "source": [
    "Let's say we have a function that takes in free parameters, and produces a single float output:"
   ]
  },
  {
   "cell_type": "code",
   "execution_count": null,
   "metadata": {},
   "outputs": [],
   "source": [
    "def y1(x):\n",
    "    \"\"\"\n",
    "    The argument 'x' is an array of length 1.\n",
    "    \"\"\"\n",
    "    y = (x[0] - 4) ** 2. + 10.\n",
    "    return y\n",
    "\n",
    "x_param_range = np.arange(-10., 10., 0.1)\n",
    "y1_output_list = []\n",
    "for x in x_param_range:\n",
    "    y1_output = y1([x])\n",
    "    y1_output_list.append(y1_output)\n",
    "plt.figure()\n",
    "plt.plot(x_param_range, y1_output_list)\n",
    "plt.xlabel('Input parameter x')\n",
    "plt.ylabel('Output objective y1')\n",
    "plt.show()"
   ]
  },
  {
   "cell_type": "markdown",
   "metadata": {},
   "source": [
    "Since this is a simple function, we could obtain the global minimum by graphing the function, or by solving the equation analytically. But when functions are complex, numerical optimization methods become useful tools to search for approximate local minimums.\n",
    "\n",
    "scipy.optimize.minimize is a general interface that can use many different algorithms to search for input parameters that minimize a provided function. "
   ]
  },
  {
   "cell_type": "code",
   "execution_count": null,
   "metadata": {},
   "outputs": [],
   "source": [
    "from scipy.optimize import minimize\n",
    "# initial guess for the input parameter\n",
    "x0_array = [0.]\n",
    "\n",
    "result = minimize(y1, x0_array, options={'disp': True})"
   ]
  },
  {
   "cell_type": "markdown",
   "metadata": {},
   "source": [
    "By default, scipy.minimize uses a \"gradient-based algorithm\" that chooses new parameters to test based on the slope of the function around each tested point."
   ]
  },
  {
   "cell_type": "code",
   "execution_count": null,
   "metadata": {},
   "outputs": [],
   "source": [
    "print(result)"
   ]
  },
  {
   "cell_type": "markdown",
   "metadata": {},
   "source": [
    "Well that was easy. But how do we know what parameters it tested? We'll have to manually keep track by appending the values to a global variable:"
   ]
  },
  {
   "cell_type": "code",
   "execution_count": null,
   "metadata": {},
   "outputs": [],
   "source": [
    "x_history = []\n",
    "y_history = []\n",
    "\n",
    "def y1(x):\n",
    "    \"\"\"\n",
    "    The argument 'x' is an array of length 1.\n",
    "    \"\"\"\n",
    "    x_history.append(x[0])\n",
    "    y = (x[0] - 4) ** 2. + 10.\n",
    "    y_history.append(y)\n",
    "    return y\n",
    "\n",
    "result = minimize(y1, x0_array, options={'disp': True})\n",
    "\n",
    "# zip is a python built-in that lets you iterate over more than one array at a time\n",
    "\n",
    "plt.figure()\n",
    "for x, y in zip(x_history, y_history):\n",
    "    plt.scatter(x, y, marker='o', c='k')\n",
    "plt.scatter(result.x[0], result.fun, marker='o', c='r')\n",
    "plt.plot(x_param_range, y1_output_list)\n",
    "plt.xlabel('Input parameter x0')\n",
    "plt.ylabel('Output objective y1')\n",
    "plt.show()\n",
    "\n",
    "print(result.x, result.fun)"
   ]
  },
  {
   "cell_type": "markdown",
   "metadata": {},
   "source": [
    "## 3. Use scipy.minimize to optimize model input resistance"
   ]
  },
  {
   "cell_type": "markdown",
   "metadata": {},
   "source": [
    "### How can we apply this to find a value of gl that results in a target input resistance of 10 Mohm?"
   ]
  },
  {
   "cell_type": "markdown",
   "metadata": {},
   "source": [
    "First we'll need a \"objective function\" that will return a float value that correponds to how far away a model is from its target.\n",
    "\n",
    "For convenience, we'll have this objective error function call another function that simulates our neuron model.\n",
    "\n",
    "We'll continue to use our stategy of saving simulation results to a global history variable."
   ]
  },
  {
   "cell_type": "code",
   "execution_count": null,
   "metadata": {},
   "outputs": [],
   "source": [
    "sim_history = []\n",
    "\n",
    "def simulate_model(plot=False):\n",
    "    sim_record = {}\n",
    "    sim_record['stim_amp'] = step_current_stim.amp\n",
    "    sim_record['gl'] = soma(0.5).hh.gl\n",
    "    \n",
    "    sim_record['description'] = 'gl: %.2E S/cm^s' % soma(0.5).hh.gl\n",
    "    h.run()\n",
    "    sim_record['soma_voltage'] = np.array(soma_voltage)\n",
    "    sim_record['t'] = np.array(t)\n",
    "    sim_record['step_current_rec'] = np.array(step_current_rec)\n",
    "    \n",
    "    input_resistance = get_input_resistance(sim_record['t'], sim_record['soma_voltage'], sim_record['step_current_rec'], \n",
    "                                            start=step_current_stim.delay, stop=step_current_stim.delay + step_current_stim.dur, \n",
    "                                            window_dur=10.)\n",
    "    sim_record['input_resistance'] = input_resistance\n",
    "    \n",
    "    if plot:\n",
    "        fig, axes = plt.subplots(1, 2, figsize=(8, 3))\n",
    "        axes[0].plot(sim_record['t'], sim_record['step_current_rec'], label=sim_record['description'])\n",
    "        axes[0].set_xlabel('Time (ms)')\n",
    "        axes[0].set_ylabel('Current (nA)')\n",
    "        axes[0].set_title('Injected current')\n",
    "        axes[1].plot(sim_record['t'], sim_record['soma_voltage'], label='R_inp: %.3f MOhm' % sim_record['input_resistance'])\n",
    "        axes[1].set_xlabel('Time (ms)')\n",
    "        axes[1].set_ylabel('Voltage (mV)')\n",
    "        axes[1].set_title('Soma membrane potential')\n",
    "        axes[0].legend(loc='best', frameon=False)\n",
    "        axes[1].legend(loc='best', frameon=False)\n",
    "        fig.tight_layout(w_pad=0.9)\n",
    "    \n",
    "    return sim_record\n",
    "        \n",
    "\n",
    "def get_input_resistance_objective_error(x, target, tolerance, sim_history=None, plot=False):\n",
    "    \n",
    "    # expect x to be an array of length 1. The single element is a value of gl to test.\n",
    "    gl = x[0]\n",
    "    soma(0.5).hh.gl = gl\n",
    "    \n",
    "    sim_record = simulate_model(plot=plot)\n",
    "    sim_record['x'] = np.copy(x)\n",
    "    \n",
    "    input_resistance = sim_record['input_resistance']\n",
    "    error = ((target - input_resistance) / tolerance) ** 2.\n",
    "    sim_record['input_resistance_error'] = error\n",
    "    \n",
    "    if sim_history is not None:\n",
    "        sim_history.append(sim_record)\n",
    "    \n",
    "    return error"
   ]
  },
  {
   "cell_type": "markdown",
   "metadata": {},
   "source": [
    "Let's make sure our functions work:\n",
    "\n",
    "First, let's reset our model configuration:"
   ]
  },
  {
   "cell_type": "code",
   "execution_count": null,
   "metadata": {},
   "outputs": [],
   "source": [
    "soma(0.5).hh.gnabar = gnabar_init\n",
    "soma(0.5).hh.gkbar = gkbar_init\n",
    "soma(0.5).hh.gl = gl_init\n",
    "\n",
    "step_current_stim.amp = -1.\n",
    "step_current_stim.dur = 1000.\n",
    "step_current_stim.delay = 200.\n",
    "h.tstop = 1400."
   ]
  },
  {
   "cell_type": "code",
   "execution_count": null,
   "metadata": {},
   "outputs": [],
   "source": [
    "sim_record = simulate_model(plot=True)"
   ]
  },
  {
   "cell_type": "code",
   "execution_count": null,
   "metadata": {},
   "outputs": [],
   "source": [
    "print(sim_record)"
   ]
  },
  {
   "cell_type": "markdown",
   "metadata": {},
   "source": [
    "Now, the objective function expects an array of input parameters, a target, and an error tolerance:"
   ]
  },
  {
   "cell_type": "code",
   "execution_count": null,
   "metadata": {},
   "outputs": [],
   "source": [
    "x0 = [gl_init]\n",
    "target = 10.  # Input resistance in MOhm\n",
    "tolerance = 1.  # Tolerance in MOhm\n",
    "\n",
    "error = get_input_resistance_objective_error(x0, target, tolerance)\n",
    "print(error)"
   ]
  },
  {
   "cell_type": "markdown",
   "metadata": {},
   "source": [
    "Now let's see if scipy.minimize can find the optimal value of gl to fit our model to the target."
   ]
  },
  {
   "cell_type": "code",
   "execution_count": null,
   "metadata": {},
   "outputs": [],
   "source": [
    "sim_history = []\n",
    "result = minimize(get_input_resistance_objective_error, x0, options={'disp': True}, args=(target, tolerance, sim_history))"
   ]
  },
  {
   "cell_type": "code",
   "execution_count": null,
   "metadata": {},
   "outputs": [],
   "source": [
    "print(result)"
   ]
  },
  {
   "cell_type": "code",
   "execution_count": null,
   "metadata": {},
   "outputs": [],
   "source": [
    "x_history = []\n",
    "input_resistance_history = []\n",
    "error_history = []\n",
    "for sim_record in sim_history:\n",
    "    x_history.append(sim_record['x'][0])\n",
    "    input_resistance_history.append(sim_record['input_resistance'])\n",
    "    error_history.append(sim_record['input_resistance_error'])\n",
    "\n",
    "fig, axes = plt.subplots(1, 2)\n",
    "axes[0].scatter(x_history, input_resistance_history)\n",
    "axes[0].set_xlabel('Leak conductance (S/cm^2)')\n",
    "axes[0].set_ylabel('Input resistance (MOhm)')\n",
    "\n",
    "axes[1].scatter(x_history, error_history)\n",
    "axes[1].set_xlabel('Leak conductance (S/cm^2)')\n",
    "axes[1].set_ylabel('Input resistance objective error')\n",
    "fig.tight_layout()"
   ]
  },
  {
   "cell_type": "markdown",
   "metadata": {},
   "source": [
    "Well that didn't work very well - this algorithm has trouble searching across multiple orders of magnitude!"
   ]
  },
  {
   "cell_type": "markdown",
   "metadata": {},
   "source": [
    "Let's try another algorithm called simplex, or Nelder-Mead:"
   ]
  },
  {
   "cell_type": "code",
   "execution_count": null,
   "metadata": {},
   "outputs": [],
   "source": [
    "sim_history = []\n",
    "result = minimize(get_input_resistance_objective_error, x0, method='Nelder-Mead', options={'disp': True}, args=(target, tolerance, sim_history))"
   ]
  },
  {
   "cell_type": "code",
   "execution_count": null,
   "metadata": {},
   "outputs": [],
   "source": [
    "print(result)"
   ]
  },
  {
   "cell_type": "code",
   "execution_count": null,
   "metadata": {},
   "outputs": [],
   "source": [
    "x_history = []\n",
    "input_resistance_history = []\n",
    "error_history = []\n",
    "for sim_record in sim_history:\n",
    "    x_history.append(sim_record['x'][0])\n",
    "    input_resistance_history.append(sim_record['input_resistance'])\n",
    "    error_history.append(sim_record['input_resistance_error'])\n",
    "\n",
    "fig, axes = plt.subplots(1, 2)\n",
    "axes[0].scatter(x_history, input_resistance_history)\n",
    "axes[0].set_xlabel('Leak conductance (S/cm^2)')\n",
    "axes[0].set_ylabel('Input resistance (MOhm)')\n",
    "\n",
    "axes[1].scatter(x_history, error_history)\n",
    "axes[1].set_xlabel('Leak conductance (S/cm^2)')\n",
    "axes[1].set_ylabel('Input resistance objective error')\n",
    "fig.tight_layout()"
   ]
  },
  {
   "cell_type": "markdown",
   "metadata": {},
   "source": [
    "That appears to have worked! Let's test the value of gl returned by the simplex minimization:"
   ]
  },
  {
   "cell_type": "code",
   "execution_count": null,
   "metadata": {},
   "outputs": [],
   "source": [
    "get_input_resistance_objective_error(result.x, target, tolerance, plot=True)"
   ]
  },
  {
   "cell_type": "markdown",
   "metadata": {},
   "source": [
    "## Challenge for next week:\n",
    "## 4. Devise an objective function for optimization of rheobase."
   ]
  },
  {
   "cell_type": "markdown",
   "metadata": {},
   "source": [
    "We need a function that will take in a parameter array of length 2. One element will be a value of gnabar to test, and one element will be a value of gkbar to test.\n",
    "\n",
    "The function should run simulations for a range of current injection amplitudes from 0.1 to 1.0 nA.\n",
    "\n",
    "If spiking occurs outside the duration of the step current, a large error value should be returned.\n",
    "\n",
    "If there are no spikes even for the largest current injection amplitude, a large error value should be returned.\n",
    "\n",
    "Otherwise, the minimum value of current injection amplitude that led to spiking inside the duration of the step current should be compared to a target value of 0.5 nA, and return an error value based on the distance from the target."
   ]
  },
  {
   "cell_type": "code",
   "execution_count": null,
   "metadata": {},
   "outputs": [],
   "source": []
  },
  {
   "cell_type": "markdown",
   "metadata": {},
   "source": [
    "## Papers for next week:\n",
    "## 5. Papers focusing on filtering of synaptic signals from dendrites to soma"
   ]
  },
  {
   "cell_type": "markdown",
   "metadata": {},
   "source": [
    "- Magee, J., Cook, E. (2000). Somatic EPSP amplitude is independent of synapse location in hippocampal pyramidal neurons Nature Neuroscience  3(9), 895-903. https://dx.doi.org/10.1038/78800\n",
    "- Magee, J. Dendritic Ih normalizes temporal summation in hippocampal CA1 neurons. Nat Neurosci 2, 508–514 (1999). https://doi.org/10.1038/9158"
   ]
  },
  {
   "cell_type": "code",
   "execution_count": null,
   "metadata": {},
   "outputs": [],
   "source": []
  }
 ],
 "metadata": {
  "kernelspec": {
   "display_name": "Python 3",
   "language": "python",
   "name": "python3"
  },
  "language_info": {
   "codemirror_mode": {
    "name": "ipython",
    "version": 3
   },
   "file_extension": ".py",
   "mimetype": "text/x-python",
   "name": "python",
   "nbconvert_exporter": "python",
   "pygments_lexer": "ipython3",
   "version": "3.7.6"
  }
 },
 "nbformat": 4,
 "nbformat_minor": 4
}
