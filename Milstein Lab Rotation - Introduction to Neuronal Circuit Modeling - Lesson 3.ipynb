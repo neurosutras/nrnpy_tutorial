{
 "cells": [
  {
   "cell_type": "markdown",
   "metadata": {},
   "source": [
    "# Lesson 3: Multi-objective optimization and ion channel diversity"
   ]
  },
  {
   "cell_type": "markdown",
   "metadata": {},
   "source": [
    "## Lesson goals:"
   ]
  },
  {
   "cell_type": "markdown",
   "metadata": {},
   "source": [
    "1. An approach to Lesson 2 Challenge 2a: Optimize f-I slope\n",
    "2. An approach to Lesson 2 Challenge 2: Multi-objective optimization of somatic input resistance and f-I slope\n",
    "3. Discuss papers from Lesson 2\n",
    "4. New ion channel mechanisms: nax, kdr, and kap\n",
    "5. Try multi-objective optimization again with new ion channels\n",
    "6. For next week: papers focusing on spatial and temporal summation of synaptic input"
   ]
  },
  {
   "cell_type": "code",
   "execution_count": null,
   "metadata": {},
   "outputs": [],
   "source": [
    "%matplotlib notebook\n",
    "import numpy as np\n",
    "import matplotlib.pyplot as plt\n",
    "from scipy.optimize import minimize\n",
    "from scipy.optimize import basinhopping\n",
    "from neuron import h\n",
    "h.load_file('stdrun.hoc')"
   ]
  },
  {
   "cell_type": "markdown",
   "metadata": {},
   "source": [
    "### A pythonic aside: lambda functions and a convenient datatype: the defaultdict"
   ]
  },
  {
   "cell_type": "code",
   "execution_count": null,
   "metadata": {},
   "outputs": [],
   "source": [
    "# A standard way to define a callable function with input arguments is:\n",
    "def func_with_overhead(x):\n",
    "    return (x - 2.) ** 2.\n",
    "\n",
    "x = np.linspace(0., 10., 100)\n",
    "plt.figure()\n",
    "plt.plot(x, func_with_overhead(x))"
   ]
  },
  {
   "cell_type": "code",
   "execution_count": null,
   "metadata": {},
   "outputs": [],
   "source": [
    "# An alternative way to create simple callable is:\n",
    "func_light = lambda x: (x - 2.) ** 2.\n",
    "\n",
    "plt.figure()\n",
    "plt.plot(x, func_light(x))"
   ]
  },
  {
   "cell_type": "markdown",
   "metadata": {},
   "source": [
    "### defaultdict: Great for building data structures with nested dictionaries and lists"
   ]
  },
  {
   "cell_type": "code",
   "execution_count": null,
   "metadata": {},
   "outputs": [],
   "source": [
    "from collections import defaultdict"
   ]
  },
  {
   "cell_type": "markdown",
   "metadata": {},
   "source": [
    "### Great for building data structures with nested dictionaries and lists"
   ]
  },
  {
   "cell_type": "code",
   "execution_count": null,
   "metadata": {},
   "outputs": [],
   "source": [
    "standard_dict = {}\n",
    "standard_dict['Aaron']['gender'] = 'Male'"
   ]
  },
  {
   "cell_type": "code",
   "execution_count": null,
   "metadata": {},
   "outputs": [],
   "source": [
    "if 'Aaron' not in standard_dict:\n",
    "    standard_dict['Aaron'] = {}\n",
    "standard_dict['Aaron']['gender'] = 'Male'\n",
    "\n",
    "print(standard_dict)"
   ]
  },
  {
   "cell_type": "code",
   "execution_count": null,
   "metadata": {},
   "outputs": [],
   "source": [
    "convenient_nested_dict = defaultdict(dict)\n",
    "convenient_nested_dict['Aaron']['gender'] = 'Male'\n",
    "\n",
    "print(convenient_nested_dict)"
   ]
  },
  {
   "cell_type": "code",
   "execution_count": null,
   "metadata": {},
   "outputs": [],
   "source": [
    "convenient_dict_of_dict_of_list = defaultdict(lambda: defaultdict(list))  # defaultdicts have to be constructed with a callable"
   ]
  },
  {
   "cell_type": "code",
   "execution_count": null,
   "metadata": {},
   "outputs": [],
   "source": [
    "convenient_dict_of_dict_of_list['Aaron']['favorite colors'].extend(['Blue', 'Green', 'Red'])\n",
    "\n",
    "print(convenient_dict_of_dict_of_list)"
   ]
  },
  {
   "cell_type": "markdown",
   "metadata": {},
   "source": [
    "## 1. An approach to Lesson 2 Challenge 2a: Optimize f-I slope"
   ]
  },
  {
   "cell_type": "code",
   "execution_count": null,
   "metadata": {},
   "outputs": [],
   "source": [
    "soma = h.Section()\n",
    "soma.L = 20.\n",
    "soma.diam = 20.\n",
    "soma.insert('hh')\n",
    "\n",
    "h.tstop = 600.\n",
    "v_init = -65.\n",
    "h.v_init = v_init\n",
    "\n",
    "t = h.Vector()\n",
    "soma_voltage = h.Vector()\n",
    "t.record(h._ref_t, h.dt)  # record the time base\n",
    "soma_voltage.record(soma(0.5)._ref_v, h.dt)  # record the voltage across the membrane in a segment\n",
    "\n",
    "step_current_stim = h.IClamp(soma(0.5))\n",
    "f_I_stim_dur = 200.\n",
    "f_I_stim_delay = 200.\n",
    "f_I_stim_amp_list = [0.05 * i for i in range(10)]\n",
    "\n",
    "R_inp_stim_dur = 200.\n",
    "R_inp_stim_delay = 200.\n",
    "R_inp_stim_amp = -0.1\n",
    "\n",
    "gkbar0 = soma(0.5).hh.gkbar\n",
    "gnabar0 = soma(0.5).hh.gnabar\n",
    "gl0 = soma(0.5).hh.gl\n",
    "\n",
    "spike_times = h.Vector()\n",
    "spike_detector = h.NetCon(soma(0.5)._ref_v, None, sec=soma)\n",
    "spike_detector.delay = 0.  # ms\n",
    "spike_detector.threshold = -10.  # mV\n",
    "spike_detector.record(spike_times)"
   ]
  },
  {
   "cell_type": "markdown",
   "metadata": {},
   "source": [
    "### Now we can use defaultdict to flexibly store a simulation_history for multiple objectives"
   ]
  },
  {
   "cell_type": "code",
   "execution_count": null,
   "metadata": {},
   "outputs": [],
   "source": [
    "from scipy.stats import linregress\n",
    "\n",
    "sim_history = defaultdict(lambda: defaultdict(dict))\n",
    "\n",
    "\n",
    "sim_history = defaultdict(lambda: defaultdict(dict))\n",
    "x0 = [gnabar0, gkbar0]\n",
    "bounds = [(0.1*xi, 10.*xi) for xi in x0]\n",
    "\n",
    "target = {}\n",
    "target['f_I_slope'] = 200.  # Hz / nA\n",
    "\n",
    "\n",
    "def simulate_f_I(stim_params):\n",
    "    sim_summary_list = []\n",
    "    step_current_stim.delay = stim_params['f_I']['delay']  # start time of current injection\n",
    "    step_current_stim.dur = stim_params['f_I']['dur']  # duration in milliseconds\n",
    "    for stim_amp in stim_params['f_I']['amp_list']:\n",
    "        this_sim_summary = {}\n",
    "        step_current_stim.amp = stim_amp\n",
    "        this_sim_summary['stim_amp'] = stim_amp\n",
    "        this_sim_summary['stim_delay'] = stim_params['f_I']['delay']\n",
    "        this_sim_summary['stim_dur'] = stim_params['f_I']['dur']\n",
    "        h.run()\n",
    "        this_sim_summary['t'] = np.array(t)\n",
    "        this_sim_summary['soma_voltage'] = np.array(soma_voltage)\n",
    "        this_spike_times = np.array(spike_times)\n",
    "        this_sim_summary['spike_times'] = this_spike_times\n",
    "        \n",
    "        # take only spike times occurring inside the current injection\n",
    "        valid_spike_indexes = np.where((this_spike_times > f_I_stim_delay) & (this_spike_times <= f_I_stim_delay + f_I_stim_dur))[0]\n",
    "        this_sim_summary['spike_count'] = len(valid_spike_indexes)\n",
    "        this_sim_summary['spike_rate'] = len(valid_spike_indexes) / (f_I_stim_dur / 1000.)  # convert ms to s\n",
    "        sim_summary_list.append(this_sim_summary)\n",
    "    \n",
    "    return sim_summary_list\n",
    "\n",
    "\n",
    "def fit_f_I_curve(stim_amp, spike_rate):\n",
    "    stim_amp_array = np.array(stim_amp)\n",
    "    spike_rate_array = np.array(spike_rate)\n",
    "    valid_stim_indexes = np.where(spike_rate_array > 0.)[0]\n",
    "    if len(valid_stim_indexes) < 2:\n",
    "        return 0., 0.\n",
    "    slope, intercept, r_value, p_value, std_err = linregress(stim_amp_array[valid_stim_indexes], spike_rate_array[valid_stim_indexes])\n",
    "    \n",
    "    return slope, intercept\n",
    "\n",
    "\n",
    "def get_f_I_slope_error(x, target, bounds, sim_history, stim_params):\n",
    "    # enforce bounds:\n",
    "    for xi, bi in zip(x, bounds):\n",
    "        if not bi[0] <= xi <= bi[1]:\n",
    "            return 1e9\n",
    "    \n",
    "    update_model(x)\n",
    "    \n",
    "    # simulate f_I and retrieve the data\n",
    "    this_f_I_sim_summary_list = simulate_f_I(stim_params)\n",
    "    \n",
    "    # calculate the f_I slope\n",
    "    this_spike_rate_list = [this_f_I_sim_summary['spike_rate'] for this_f_I_sim_summary in this_f_I_sim_summary_list]\n",
    "    this_stim_amp_list = stim_params['f_I']['amp_list']\n",
    "    this_f_I_slope, this_f_I_intercept = fit_f_I_curve(this_stim_amp_list, this_spike_rate_list)\n",
    "    \n",
    "    # calculate the squared error\n",
    "    this_f_I_error = (this_f_I_slope - target['f_I_slope']) ** 2.\n",
    "    \n",
    "    sim_history[tuple(x)]['f_I']['data'] = this_f_I_sim_summary_list\n",
    "    sim_history[tuple(x)]['f_I']['slope'] = this_f_I_slope\n",
    "    sim_history[tuple(x)]['f_I']['intercept'] = this_f_I_intercept\n",
    "    sim_history[tuple(x)]['f_I']['error'] = this_f_I_error\n",
    "    \n",
    "    return this_f_I_error\n",
    "\n",
    "\n",
    "def update_model(x):\n",
    "    # parse the input parameters\n",
    "    gnabar, gkbar = x\n",
    "    \n",
    "    # modify the model to simulate f_I\n",
    "    soma(0.5).hh.gnabar = gnabar\n",
    "    soma(0.5).hh.gkbar = gkbar\n",
    "    \n",
    "    \n",
    "fit_line = lambda x, slope, intercept: x * slope + intercept"
   ]
  },
  {
   "cell_type": "markdown",
   "metadata": {},
   "source": [
    "### Let's make sure our functions work:"
   ]
  },
  {
   "cell_type": "code",
   "execution_count": null,
   "metadata": {},
   "outputs": [],
   "source": [
    "sim_history = defaultdict(lambda: defaultdict(dict))\n",
    "x0 = [gnabar0, gkbar0]\n",
    "bounds = [(0.1*xi, 10.*xi) for xi in x0]\n",
    "\n",
    "target = {}\n",
    "target['f_I_slope'] = 200.  # Hz / nA\n",
    "\n",
    "stim_params = {'f_I': {'delay': f_I_stim_delay, 'dur': f_I_stim_dur, 'amp_list': f_I_stim_amp_list}}\n",
    "\n",
    "error = get_f_I_slope_error(x0, target, bounds, sim_history, stim_params)\n",
    "print('x0:', x0, 'bounds:', bounds, 'error:', error)"
   ]
  },
  {
   "cell_type": "code",
   "execution_count": null,
   "metadata": {
    "scrolled": true
   },
   "outputs": [],
   "source": [
    "this_x = x0\n",
    "\n",
    "fig, axes = plt.subplots(3, 4, figsize=(12., 8.))\n",
    "for i, sim_summary in enumerate(sim_history[tuple(this_x)]['f_I']['data']):\n",
    "    axes.flat[i].plot(sim_summary['t'], sim_summary['soma_voltage'])\n",
    "    axes.flat[i].set_ylabel('Voltage (mV)')\n",
    "    axes.flat[i].set_xlabel('Time (ms)')\n",
    "fig.tight_layout()\n",
    "\n",
    "this_slope = sim_history[tuple(this_x)]['f_I']['slope']\n",
    "this_intercept = sim_history[tuple(this_x)]['f_I']['intercept']\n",
    "stim_amp_array = np.array([sim_summary['stim_amp'] for sim_summary in sim_history[tuple(this_x)]['f_I']['data']])\n",
    "spike_rate_array = np.array([sim_summary['spike_rate'] for sim_summary in sim_history[tuple(this_x)]['f_I']['data']])\n",
    "valid_stim_indexes = np.where(spike_rate_array > 0.)[0]\n",
    "\n",
    "plt.figure()\n",
    "plt.scatter(stim_amp_array, spike_rate_array)\n",
    "plt.plot(stim_amp_array[valid_stim_indexes], fit_line(stim_amp_array[valid_stim_indexes], this_slope, this_intercept))\n",
    "plt.ylabel('Firing rate (Hz)')\n",
    "plt.xlabel('Current amplitude (nA)')\n",
    "plt.show()\n",
    "\n",
    "print('Slope:', sim_history[tuple(this_x)]['f_I']['slope'], 'Error:', sim_history[tuple(this_x)]['f_I']['error'])"
   ]
  },
  {
   "cell_type": "markdown",
   "metadata": {},
   "source": [
    "### Let's try a gradient-based optimization algorithm:"
   ]
  },
  {
   "cell_type": "code",
   "execution_count": null,
   "metadata": {},
   "outputs": [],
   "source": [
    "sim_history = defaultdict(lambda: defaultdict(dict))\n",
    "x0 = [gnabar0, gkbar0]\n",
    "bounds = [(0.1*xi, 10.*xi) for xi in x0]\n",
    "\n",
    "target = {}\n",
    "target['f_I_slope'] = 200.  # Hz / nA\n",
    "\n",
    "stim_params = {'f_I': {'delay': f_I_stim_delay, 'dur': f_I_stim_dur, 'amp_list': f_I_stim_amp_list}}\n",
    "\n",
    "result = minimize(get_f_I_slope_error, x0, options={'disp': 1}, bounds=bounds, method='L-BFGS-B', args=(target, bounds, sim_history, stim_params))\n",
    "print(result)"
   ]
  },
  {
   "cell_type": "code",
   "execution_count": null,
   "metadata": {
    "scrolled": true
   },
   "outputs": [],
   "source": [
    "this_x = result.x\n",
    "\n",
    "fig, axes = plt.subplots(3, 4, figsize=(12., 8.))\n",
    "for i, sim_summary in enumerate(sim_history[tuple(this_x)]['f_I']['data']):\n",
    "    axes.flat[i].plot(sim_summary['t'], sim_summary['soma_voltage'])\n",
    "    axes.flat[i].set_ylabel('Voltage (mV)')\n",
    "    axes.flat[i].set_xlabel('Time (ms)')\n",
    "fig.tight_layout()\n",
    "\n",
    "this_slope = sim_history[tuple(this_x)]['f_I']['slope']\n",
    "this_intercept = sim_history[tuple(this_x)]['f_I']['intercept']\n",
    "stim_amp_array = np.array([sim_summary['stim_amp'] for sim_summary in sim_history[tuple(this_x)]['f_I']['data']])\n",
    "spike_rate_array = np.array([sim_summary['spike_rate'] for sim_summary in sim_history[tuple(this_x)]['f_I']['data']])\n",
    "valid_stim_indexes = np.where(spike_rate_array > 0.)[0]\n",
    "\n",
    "plt.figure()\n",
    "plt.scatter(stim_amp_array, spike_rate_array)\n",
    "plt.plot(stim_amp_array[valid_stim_indexes], fit_line(stim_amp_array[valid_stim_indexes], this_slope, this_intercept))\n",
    "plt.ylabel('Firing rate (Hz)')\n",
    "plt.xlabel('Current amplitude (nA)')\n",
    "plt.show()\n",
    "\n",
    "print('Slope:', sim_history[tuple(this_x)]['f_I']['slope'], 'Error:', sim_history[tuple(this_x)]['f_I']['error'])"
   ]
  },
  {
   "cell_type": "markdown",
   "metadata": {},
   "source": [
    "### How about simplex?"
   ]
  },
  {
   "cell_type": "code",
   "execution_count": null,
   "metadata": {},
   "outputs": [],
   "source": [
    "sim_history = defaultdict(lambda: defaultdict(dict))\n",
    "x0 = [gnabar0, gkbar0]\n",
    "bounds = [(0.1*xi, 10.*xi) for xi in x0]\n",
    "\n",
    "target = {}\n",
    "target['f_I_slope'] = 200.  # Hz / nA\n",
    "\n",
    "stim_params = {'f_I': {'delay': f_I_stim_delay, 'dur': f_I_stim_dur, 'amp_list': f_I_stim_amp_list}}\n",
    "\n",
    "result = minimize(get_f_I_slope_error, x0, options={'disp': True}, method='Nelder-Mead', args=(target, bounds, sim_history, stim_params))\n",
    "print(result)"
   ]
  },
  {
   "cell_type": "code",
   "execution_count": null,
   "metadata": {
    "scrolled": true
   },
   "outputs": [],
   "source": [
    "this_x = result.x\n",
    "\n",
    "fig, axes = plt.subplots(3, 4, figsize=(12., 8.))\n",
    "for i, sim_summary in enumerate(sim_history[tuple(this_x)]['f_I']['data']):\n",
    "    axes.flat[i].plot(sim_summary['t'], sim_summary['soma_voltage'])\n",
    "    axes.flat[i].set_ylabel('Voltage (mV)')\n",
    "    axes.flat[i].set_xlabel('Time (ms)')\n",
    "fig.tight_layout()\n",
    "\n",
    "this_slope = sim_history[tuple(this_x)]['f_I']['slope']\n",
    "this_intercept = sim_history[tuple(this_x)]['f_I']['intercept']\n",
    "stim_amp_array = np.array([sim_summary['stim_amp'] for sim_summary in sim_history[tuple(this_x)]['f_I']['data']])\n",
    "spike_rate_array = np.array([sim_summary['spike_rate'] for sim_summary in sim_history[tuple(this_x)]['f_I']['data']])\n",
    "valid_stim_indexes = np.where(spike_rate_array > 0.)[0]\n",
    "\n",
    "plt.figure()\n",
    "plt.scatter(stim_amp_array, spike_rate_array)\n",
    "plt.plot(stim_amp_array[valid_stim_indexes], fit_line(stim_amp_array[valid_stim_indexes], this_slope, this_intercept))\n",
    "plt.ylabel('Firing rate (Hz)')\n",
    "plt.xlabel('Current amplitude (nA)')\n",
    "plt.show()\n",
    "\n",
    "print('Slope:', sim_history[tuple(this_x)]['f_I']['slope'], 'Error:', sim_history[tuple(this_x)]['f_I']['error'])"
   ]
  },
  {
   "cell_type": "markdown",
   "metadata": {},
   "source": [
    "## 2. An approach to Lesson 2 Challenge 2: Multi-objective optimization of somatic input resistance and f-I slope"
   ]
  },
  {
   "cell_type": "code",
   "execution_count": null,
   "metadata": {},
   "outputs": [],
   "source": [
    "def calculate_R_inp(t, v, i_amp, baseline_window=(195., 200.),  measurement_window=(395., 400.)):\n",
    "    baseline_indexes = np.where((baseline_window[0] <= t) & (t < baseline_window[1]))\n",
    "    measurement_indexes = np.where((measurement_window[0] <= t) & (t < measurement_window[1]))\n",
    "    baseline_v = np.mean(v[baseline_indexes])\n",
    "    measurement_v = np.mean(v[measurement_indexes])\n",
    "    delta_v = abs(baseline_v - measurement_v)\n",
    "    R_inp = (delta_v / 1000.) / (abs(i_amp) / 1e9) / 1e6 # convert mV to V, nA to A, and Ohm to MegaOhm\n",
    "    return R_inp\n",
    "\n",
    "\n",
    "def simulate_soma_R_inp(stim_params):\n",
    "    step_current_stim.delay = stim_params['R_inp']['delay']\n",
    "    step_current_stim.dur = stim_params['R_inp']['dur']\n",
    "    step_current_stim.amp = stim_params['R_inp']['amp']\n",
    "    this_sim_summary = {}\n",
    "    this_sim_summary['stim_delay'] = stim_params['R_inp']['delay']\n",
    "    this_sim_summary['stim_dur'] = stim_params['R_inp']['dur']\n",
    "    this_sim_summary['stim_amp'] = stim_params['R_inp']['amp']\n",
    "    \n",
    "    h.run()\n",
    "    t_array = np.array(t)\n",
    "    v_array = np.array(soma_voltage)\n",
    "    soma_R_inp = calculate_R_inp(t_array, v_array, stim_params['R_inp']['amp'])\n",
    "    \n",
    "    this_sim_summary['t'] = t_array\n",
    "    this_sim_summary['soma_voltage'] = v_array\n",
    "    this_sim_summary['soma_R_inp'] = soma_R_inp\n",
    "    \n",
    "    return [this_sim_summary]  # for consistency with f_I functions, return a list of simulation summary dictionaries\n",
    "\n",
    "\n",
    "def get_soma_R_inp_error(x, target, bounds, sim_history, stim_params):\n",
    "    # enforce bounds\n",
    "    for xi, bi in zip(x, bounds):\n",
    "        if not bi[0] <= xi <= bi[1]:\n",
    "            return 1e9\n",
    "        \n",
    "    update_model(x)\n",
    "    \n",
    "    this_R_inp_sim_summary_list = simulate_soma_R_inp(stim_params)\n",
    "    this_soma_R_inp = this_R_inp_sim_summary_list[0]['soma_R_inp']\n",
    "    \n",
    "    # calculate the squared error\n",
    "    this_R_inp_error = (this_soma_R_inp - target['soma_R_inp']) ** 2.\n",
    "    \n",
    "    sim_history[tuple(x)]['R_inp']['data'] = this_R_inp_sim_summary_list\n",
    "    sim_history[tuple(x)]['R_inp']['soma_R_inp'] = this_soma_R_inp\n",
    "    sim_history[tuple(x)]['R_inp']['error'] = this_R_inp_error\n",
    "    \n",
    "    return this_R_inp_error\n",
    "\n",
    "\n",
    "def update_model(x):\n",
    "    # parse the input parameters\n",
    "    gnabar, gkbar, gl = x\n",
    "    \n",
    "    soma(0.5).hh.gl = gl\n",
    "    soma(0.5).hh.gnabar = gnabar\n",
    "    soma(0.5).hh.gkbar = gkbar\n",
    "    \n",
    "    \n",
    "def get_excitability_error(x, target, bounds, sim_history, stim_params):\n",
    "    this_R_inp_error = get_soma_R_inp_error(x, target, bounds, sim_history, stim_params)\n",
    "    this_f_I_slope_error = get_f_I_slope_error(x, target, bounds, sim_history, stim_params)\n",
    "    \n",
    "    return this_R_inp_error + this_f_I_slope_error"
   ]
  },
  {
   "cell_type": "markdown",
   "metadata": {},
   "source": [
    "### Let's make sure our new functions work:"
   ]
  },
  {
   "cell_type": "code",
   "execution_count": null,
   "metadata": {},
   "outputs": [],
   "source": [
    "sim_history = defaultdict(lambda: defaultdict(dict))\n",
    "x0 = [gnabar0, gkbar0, gl0]\n",
    "bounds = [(0.1*xi, 10.*xi) for xi in x0]\n",
    "\n",
    "target = {}\n",
    "target['f_I_slope'] = 200.  # Hz / nA\n",
    "target['soma_R_inp'] = 150.  # MOhm\n",
    "\n",
    "stim_params = {\n",
    "    'f_I': {'delay': f_I_stim_delay, 'dur': f_I_stim_dur, 'amp_list': f_I_stim_amp_list},\n",
    "    'R_inp': {'delay': R_inp_stim_delay, 'dur': R_inp_stim_dur, 'amp': R_inp_stim_amp}\n",
    "              }\n",
    "\n",
    "error = get_soma_R_inp_error(x0, target, bounds, sim_history, stim_params)\n",
    "print('x0:', x0, 'bounds:', bounds, 'error:', error)"
   ]
  },
  {
   "cell_type": "code",
   "execution_count": null,
   "metadata": {},
   "outputs": [],
   "source": [
    "this_x = x0\n",
    "\n",
    "fig, axis = plt.subplots()\n",
    "for i, sim_summary in enumerate(sim_history[tuple(this_x)]['R_inp']['data']):\n",
    "    axis.plot(sim_summary['t'], sim_summary['soma_voltage'])\n",
    "    axis.set_ylabel('Voltage (mV)')\n",
    "    axis.set_xlabel('Time (ms)')\n",
    "fig.tight_layout()\n",
    "\n",
    "print('soma_R_inp:', sim_history[tuple(this_x)]['R_inp']['soma_R_inp'], 'Error:', sim_history[tuple(this_x)]['R_inp']['error'])"
   ]
  },
  {
   "cell_type": "markdown",
   "metadata": {},
   "source": [
    "## Multi-objective optimization!"
   ]
  },
  {
   "cell_type": "code",
   "execution_count": null,
   "metadata": {},
   "outputs": [],
   "source": [
    "sim_history = defaultdict(lambda: defaultdict(dict))\n",
    "x0 = [gnabar0, gkbar0, gl0]\n",
    "bounds = [(0.1*xi, 10.*xi) for xi in x0]\n",
    "\n",
    "target = {}\n",
    "target['f_I_slope'] = 200.  # Hz / nA\n",
    "target['soma_R_inp'] = 150.  # MOhm\n",
    "\n",
    "stim_params = {\n",
    "    'f_I': {'delay': f_I_stim_delay, 'dur': f_I_stim_dur, 'amp_list': f_I_stim_amp_list},\n",
    "    'R_inp': {'delay': R_inp_stim_delay, 'dur': R_inp_stim_dur, 'amp': R_inp_stim_amp}\n",
    "              }\n",
    "\n",
    "result = minimize(get_excitability_error, x0, options={'disp': True}, method='Nelder-Mead', args=(target, bounds, sim_history, stim_params))\n",
    "print(result)"
   ]
  },
  {
   "cell_type": "code",
   "execution_count": null,
   "metadata": {
    "scrolled": true
   },
   "outputs": [],
   "source": [
    "this_x = result.x\n",
    "\n",
    "fig, axis = plt.subplots()\n",
    "for i, sim_summary in enumerate(sim_history[tuple(this_x)]['R_inp']['data']):\n",
    "    axis.plot(sim_summary['t'], sim_summary['soma_voltage'])\n",
    "    axis.set_ylabel('Voltage (mV)')\n",
    "    axis.set_xlabel('Time (ms)')\n",
    "fig.tight_layout()\n",
    "\n",
    "print('soma_R_inp:', sim_history[tuple(this_x)]['R_inp']['soma_R_inp'], 'Error:', sim_history[tuple(this_x)]['R_inp']['error'])\n",
    "\n",
    "fig, axes = plt.subplots(3, 4, figsize=(12., 8.))\n",
    "for i, sim_summary in enumerate(sim_history[tuple(this_x)]['f_I']['data']):\n",
    "    axes.flat[i].plot(sim_summary['t'], sim_summary['soma_voltage'])\n",
    "    axes.flat[i].set_ylabel('Voltage (mV)')\n",
    "    axes.flat[i].set_xlabel('Time (ms)')\n",
    "fig.tight_layout()\n",
    "\n",
    "this_slope = sim_history[tuple(this_x)]['f_I']['slope']\n",
    "this_intercept = sim_history[tuple(this_x)]['f_I']['intercept']\n",
    "stim_amp_array = np.array([sim_summary['stim_amp'] for sim_summary in sim_history[tuple(this_x)]['f_I']['data']])\n",
    "spike_rate_array = np.array([sim_summary['spike_rate'] for sim_summary in sim_history[tuple(this_x)]['f_I']['data']])\n",
    "valid_stim_indexes = np.where(spike_rate_array > 0.)[0]\n",
    "\n",
    "plt.figure()\n",
    "plt.scatter(stim_amp_array, spike_rate_array)\n",
    "plt.plot(stim_amp_array[valid_stim_indexes], fit_line(stim_amp_array[valid_stim_indexes], this_slope, this_intercept))\n",
    "plt.ylabel('Firing rate (Hz)')\n",
    "plt.xlabel('Current amplitude (nA)')\n",
    "plt.show()\n",
    "\n",
    "print('Slope:', sim_history[tuple(this_x)]['f_I']['slope'], 'Error:', sim_history[tuple(this_x)]['f_I']['error'])"
   ]
  },
  {
   "cell_type": "markdown",
   "metadata": {},
   "source": [
    "## 3. Discuss papers from Lesson 2"
   ]
  },
  {
   "cell_type": "markdown",
   "metadata": {},
   "source": [
    "A nice paper/blog about \"how to read a paper\": https://www.open.edu/openlearn/science-maths-technology/introduction-software-development/content-section-8.1.3"
   ]
  },
  {
   "cell_type": "markdown",
   "metadata": {},
   "source": [
    "## 4. New ion channel mechanisms: nax, kdr, and kap"
   ]
  },
  {
   "cell_type": "markdown",
   "metadata": {},
   "source": [
    "### First, let's take a look at the .mod files, and run `nrnivmodl` to compile them."
   ]
  },
  {
   "cell_type": "code",
   "execution_count": null,
   "metadata": {},
   "outputs": [],
   "source": [
    "soma = h.Section()\n",
    "soma.L = 20.\n",
    "soma.diam = 20.\n",
    "soma.insert('pas')  # leak\n",
    "soma.insert('kdr')  # delayed-rectifier K+ channel\n",
    "soma.insert('kap')  # A-type K+ channel\n",
    "soma.insert('nax')  # Na+ channel\n",
    "\n",
    "h.celsius = 35.  # These mechanisms are meant to work at (closer to) physiological temperature\n",
    "h.tstop = 600.\n",
    "v_init = -65.\n",
    "h.v_init = v_init\n",
    "\n",
    "t = h.Vector()\n",
    "soma_voltage = h.Vector()\n",
    "t.record(h._ref_t, h.dt)  # record the time base\n",
    "soma_voltage.record(soma(0.5)._ref_v, h.dt)  # record the voltage across the membrane in a segment\n",
    "\n",
    "step_current_stim = h.IClamp(soma(0.5))\n",
    "f_I_stim_dur = 200.\n",
    "f_I_stim_delay = 200.\n",
    "f_I_stim_amp_list = [0.05 * i for i in range(10)]\n",
    "\n",
    "R_inp_stim_dur = 200.\n",
    "R_inp_stim_delay = 200.\n",
    "R_inp_stim_amp = -0.1\n",
    "\n",
    "soma(0.5).pas.e = -65.\n",
    "gl0 = soma(0.5).pas.g\n",
    "gkdrbar0 = soma(0.5).kdr.gkdrbar\n",
    "gkabar0 = soma(0.5).kap.gkabar\n",
    "gnabar0 = soma(0.5).nax.gbar\n",
    "\n",
    "spike_times = h.Vector()\n",
    "spike_detector = h.NetCon(soma(0.5)._ref_v, None, sec=soma)\n",
    "spike_detector.delay = 0.  # ms\n",
    "spike_detector.threshold = -10.  # mV\n",
    "spike_detector.record(spike_times)"
   ]
  },
  {
   "cell_type": "markdown",
   "metadata": {},
   "source": [
    "### Let's edit our update_model function to reflect the change in parameters:"
   ]
  },
  {
   "cell_type": "code",
   "execution_count": null,
   "metadata": {},
   "outputs": [],
   "source": [
    "def update_model(x):\n",
    "    # parse the input parameters\n",
    "    gnabar, gkdrbar, gkabar, gl = x\n",
    "    \n",
    "    soma(0.5).nax.gbar = gnabar\n",
    "    soma(0.5).kdr.gkdrbar = gkdrbar\n",
    "    soma(0.5).kap.gkabar = gkabar\n",
    "    soma(0.5).pas.g = gl"
   ]
  },
  {
   "cell_type": "markdown",
   "metadata": {},
   "source": [
    "### How does the model behave with the mechanism defaults?"
   ]
  },
  {
   "cell_type": "code",
   "execution_count": null,
   "metadata": {},
   "outputs": [],
   "source": [
    "sim_history = defaultdict(lambda: defaultdict(dict))\n",
    "x0 = [gnabar0, gkdrbar0, gkabar0, gl0]\n",
    "bounds = [(0.1*xi, 10.*xi) for xi in x0]\n",
    "\n",
    "target = {}\n",
    "target['f_I_slope'] = 200.  # Hz / nA\n",
    "target['soma_R_inp'] = 150.  # MOhm\n",
    "\n",
    "stim_params = {\n",
    "    'f_I': {'delay': f_I_stim_delay, 'dur': f_I_stim_dur, 'amp_list': f_I_stim_amp_list},\n",
    "    'R_inp': {'delay': R_inp_stim_delay, 'dur': R_inp_stim_dur, 'amp': R_inp_stim_amp}\n",
    "              }\n",
    "\n",
    "error = get_excitability_error(x0, target, bounds, sim_history, stim_params)\n",
    "print('x0:', x0, 'bounds:', bounds, 'error:', error)"
   ]
  },
  {
   "cell_type": "code",
   "execution_count": null,
   "metadata": {
    "scrolled": true
   },
   "outputs": [],
   "source": [
    "this_x = x0\n",
    "\n",
    "fig, axis = plt.subplots()\n",
    "for i, sim_summary in enumerate(sim_history[tuple(this_x)]['R_inp']['data']):\n",
    "    axis.plot(sim_summary['t'], sim_summary['soma_voltage'])\n",
    "    axis.set_ylabel('Voltage (mV)')\n",
    "    axis.set_xlabel('Time (ms)')\n",
    "fig.tight_layout()\n",
    "\n",
    "print('soma_R_inp:', sim_history[tuple(this_x)]['R_inp']['soma_R_inp'], 'Error:', sim_history[tuple(this_x)]['R_inp']['error'])\n",
    "\n",
    "fig, axes = plt.subplots(3, 4, figsize=(12., 8.))\n",
    "for i, sim_summary in enumerate(sim_history[tuple(this_x)]['f_I']['data']):\n",
    "    axes.flat[i].plot(sim_summary['t'], sim_summary['soma_voltage'])\n",
    "    axes.flat[i].set_ylabel('Voltage (mV)')\n",
    "    axes.flat[i].set_xlabel('Time (ms)')\n",
    "fig.tight_layout()\n",
    "\n",
    "this_slope = sim_history[tuple(this_x)]['f_I']['slope']\n",
    "this_intercept = sim_history[tuple(this_x)]['f_I']['intercept']\n",
    "stim_amp_array = np.array([sim_summary['stim_amp'] for sim_summary in sim_history[tuple(this_x)]['f_I']['data']])\n",
    "spike_rate_array = np.array([sim_summary['spike_rate'] for sim_summary in sim_history[tuple(this_x)]['f_I']['data']])\n",
    "valid_stim_indexes = np.where(spike_rate_array > 0.)[0]\n",
    "\n",
    "plt.figure()\n",
    "plt.scatter(stim_amp_array, spike_rate_array)\n",
    "plt.plot(stim_amp_array[valid_stim_indexes], fit_line(stim_amp_array[valid_stim_indexes], this_slope, this_intercept))\n",
    "plt.ylabel('Firing rate (Hz)')\n",
    "plt.xlabel('Current amplitude (nA)')\n",
    "plt.show()\n",
    "\n",
    "print('Slope:', sim_history[tuple(this_x)]['f_I']['slope'], 'Error:', sim_history[tuple(this_x)]['f_I']['error'])"
   ]
  },
  {
   "cell_type": "markdown",
   "metadata": {},
   "source": [
    "## 5. Try multi-objective optimization again with new ion channels"
   ]
  },
  {
   "cell_type": "code",
   "execution_count": null,
   "metadata": {},
   "outputs": [],
   "source": [
    "sim_history = defaultdict(lambda: defaultdict(dict))\n",
    "x0 = [gnabar0, gkdrbar0, gkabar0, gl0]\n",
    "bounds = [(0.1*xi, 10.*xi) for xi in x0]\n",
    "\n",
    "target = {}\n",
    "target['f_I_slope'] = 200.  # Hz / nA\n",
    "target['soma_R_inp'] = 150.  # MOhm\n",
    "\n",
    "stim_params = {\n",
    "    'f_I': {'delay': f_I_stim_delay, 'dur': f_I_stim_dur, 'amp_list': f_I_stim_amp_list},\n",
    "    'R_inp': {'delay': R_inp_stim_delay, 'dur': R_inp_stim_dur, 'amp': R_inp_stim_amp}\n",
    "              }\n",
    "\n",
    "result = minimize(get_excitability_error, x0, options={'disp': True}, method='Nelder-Mead', args=(target, bounds, sim_history, stim_params))\n",
    "print(result)"
   ]
  },
  {
   "cell_type": "code",
   "execution_count": null,
   "metadata": {
    "scrolled": true
   },
   "outputs": [],
   "source": [
    "this_x = result.x\n",
    "\n",
    "fig, axis = plt.subplots()\n",
    "for i, sim_summary in enumerate(sim_history[tuple(this_x)]['R_inp']['data']):\n",
    "    axis.plot(sim_summary['t'], sim_summary['soma_voltage'])\n",
    "    axis.set_ylabel('Voltage (mV)')\n",
    "    axis.set_xlabel('Time (ms)')\n",
    "fig.tight_layout()\n",
    "\n",
    "print('soma_R_inp:', sim_history[tuple(this_x)]['R_inp']['soma_R_inp'], 'Error:', sim_history[tuple(this_x)]['R_inp']['error'])\n",
    "\n",
    "fig, axes = plt.subplots(3, 4, figsize=(12., 8.))\n",
    "for i, sim_summary in enumerate(sim_history[tuple(this_x)]['f_I']['data']):\n",
    "    axes.flat[i].plot(sim_summary['t'], sim_summary['soma_voltage'])\n",
    "    axes.flat[i].set_ylabel('Voltage (mV)')\n",
    "    axes.flat[i].set_xlabel('Time (ms)')\n",
    "fig.tight_layout()\n",
    "\n",
    "this_slope = sim_history[tuple(this_x)]['f_I']['slope']\n",
    "this_intercept = sim_history[tuple(this_x)]['f_I']['intercept']\n",
    "stim_amp_array = np.array([sim_summary['stim_amp'] for sim_summary in sim_history[tuple(this_x)]['f_I']['data']])\n",
    "spike_rate_array = np.array([sim_summary['spike_rate'] for sim_summary in sim_history[tuple(this_x)]['f_I']['data']])\n",
    "valid_stim_indexes = np.where(spike_rate_array > 0.)[0]\n",
    "\n",
    "plt.figure()\n",
    "plt.scatter(stim_amp_array, spike_rate_array)\n",
    "plt.plot(stim_amp_array[valid_stim_indexes], fit_line(stim_amp_array[valid_stim_indexes], this_slope, this_intercept))\n",
    "plt.ylabel('Firing rate (Hz)')\n",
    "plt.xlabel('Current amplitude (nA)')\n",
    "plt.show()\n",
    "\n",
    "print('Slope:', sim_history[tuple(this_x)]['f_I']['slope'], 'Error:', sim_history[tuple(this_x)]['f_I']['error'])"
   ]
  },
  {
   "cell_type": "markdown",
   "metadata": {},
   "source": [
    "## How about basinhopping?"
   ]
  },
  {
   "cell_type": "markdown",
   "metadata": {},
   "source": [
    "### First of all how can we use a different stepsize for different parameters with different bounds?"
   ]
  },
  {
   "cell_type": "code",
   "execution_count": null,
   "metadata": {},
   "outputs": [],
   "source": [
    "class CustomTakeStep(object):\n",
    "    def __init__(self, bounds, stepsize=0.5):\n",
    "        self.bounds = bounds\n",
    "        self.stepsize = stepsize\n",
    "    def __call__(self, x):\n",
    "        for i, bi in enumerate(self.bounds):\n",
    "            this_stepsize = self.stepsize * (bi[1] - bi[0])\n",
    "            x[i] += np.random.uniform(-this_stepsize, this_stepsize)\n",
    "        return x"
   ]
  },
  {
   "cell_type": "markdown",
   "metadata": {},
   "source": [
    "### Also, what if we don't want to use a local minimizer with multiple function evals with every iteration?"
   ]
  },
  {
   "cell_type": "code",
   "execution_count": null,
   "metadata": {},
   "outputs": [],
   "source": [
    "from scipy.optimize import OptimizeResult\n",
    "def null_minimizer(fun, x0, args, **options):\n",
    "    return OptimizeResult(x=x0, fun=fun(x0, *args), success=True, nfev=1)"
   ]
  },
  {
   "cell_type": "code",
   "execution_count": null,
   "metadata": {
    "scrolled": true
   },
   "outputs": [],
   "source": [
    "sim_history = defaultdict(lambda: defaultdict(dict))\n",
    "x0 = [gnabar0, gkdrbar0, gkabar0, gl0]\n",
    "bounds = [(0.1*xi, 10.*xi) for xi in x0]\n",
    "\n",
    "target = {}\n",
    "target['f_I_slope'] = 200.  # Hz / nA\n",
    "target['soma_R_inp'] = 150.  # MOhm\n",
    "\n",
    "stim_params = {\n",
    "    'f_I': {'delay': f_I_stim_delay, 'dur': f_I_stim_dur, 'amp_list': f_I_stim_amp_list},\n",
    "    'R_inp': {'delay': R_inp_stim_delay, 'dur': R_inp_stim_dur, 'amp': R_inp_stim_amp}\n",
    "    }\n",
    "\n",
    "result = basinhopping(get_excitability_error, x0, disp=True, take_step=CustomTakeStep(bounds), niter=800, interval=40, \n",
    "                     minimizer_kwargs={'method': null_minimizer, 'args': (target, bounds, sim_history, stim_params)})\n",
    "print(result)"
   ]
  },
  {
   "cell_type": "code",
   "execution_count": null,
   "metadata": {
    "scrolled": true
   },
   "outputs": [],
   "source": [
    "this_x = result.x\n",
    "\n",
    "fig, axis = plt.subplots()\n",
    "for i, sim_summary in enumerate(sim_history[tuple(this_x)]['R_inp']['data']):\n",
    "    axis.plot(sim_summary['t'], sim_summary['soma_voltage'])\n",
    "    axis.set_ylabel('Voltage (mV)')\n",
    "    axis.set_xlabel('Time (ms)')\n",
    "fig.tight_layout()\n",
    "\n",
    "print('soma_R_inp:', sim_history[tuple(this_x)]['R_inp']['soma_R_inp'], 'Error:', sim_history[tuple(this_x)]['R_inp']['error'])\n",
    "\n",
    "fig, axes = plt.subplots(3, 4, figsize=(12., 8.))\n",
    "for i, sim_summary in enumerate(sim_history[tuple(this_x)]['f_I']['data']):\n",
    "    axes.flat[i].plot(sim_summary['t'], sim_summary['soma_voltage'])\n",
    "    axes.flat[i].set_ylabel('Voltage (mV)')\n",
    "    axes.flat[i].set_xlabel('Time (ms)')\n",
    "fig.tight_layout()\n",
    "\n",
    "this_slope = sim_history[tuple(this_x)]['f_I']['slope']\n",
    "this_intercept = sim_history[tuple(this_x)]['f_I']['intercept']\n",
    "stim_amp_array = np.array([sim_summary['stim_amp'] for sim_summary in sim_history[tuple(this_x)]['f_I']['data']])\n",
    "spike_rate_array = np.array([sim_summary['spike_rate'] for sim_summary in sim_history[tuple(this_x)]['f_I']['data']])\n",
    "valid_stim_indexes = np.where(spike_rate_array > 0.)[0]\n",
    "\n",
    "plt.figure()\n",
    "plt.scatter(stim_amp_array, spike_rate_array)\n",
    "plt.plot(stim_amp_array[valid_stim_indexes], fit_line(stim_amp_array[valid_stim_indexes], this_slope, this_intercept))\n",
    "plt.ylabel('Firing rate (Hz)')\n",
    "plt.xlabel('Current amplitude (nA)')\n",
    "plt.show()\n",
    "\n",
    "print('Slope:', sim_history[tuple(this_x)]['f_I']['slope'], 'Error:', sim_history[tuple(this_x)]['f_I']['error'])"
   ]
  },
  {
   "cell_type": "markdown",
   "metadata": {},
   "source": [
    "### Can we improve the basinhopping result by using the simplex algorithm to do some final polishing?"
   ]
  },
  {
   "cell_type": "code",
   "execution_count": null,
   "metadata": {},
   "outputs": [],
   "source": [
    "# Let's keep alive the old sim_history for now\n",
    "basinhopping_best_x = result.x\n",
    "x0 = [gnabar0, gkdrbar0, gkabar0, gl0]\n",
    "bounds = [(0.1*xi, 10.*xi) for xi in x0]\n",
    "\n",
    "target = {}\n",
    "target['f_I_slope'] = 200.  # Hz / nA\n",
    "target['soma_R_inp'] = 150.  # MOhm\n",
    "\n",
    "stim_params = {\n",
    "    'f_I': {'delay': f_I_stim_delay, 'dur': f_I_stim_dur, 'amp_list': f_I_stim_amp_list},\n",
    "    'R_inp': {'delay': R_inp_stim_delay, 'dur': R_inp_stim_dur, 'amp': R_inp_stim_amp}\n",
    "              }\n",
    "\n",
    "result = minimize(get_excitability_error, basinhopping_best_x, options={'disp': True}, method='Nelder-Mead', args=(target, bounds, sim_history, stim_params))\n",
    "print(result)"
   ]
  },
  {
   "cell_type": "code",
   "execution_count": null,
   "metadata": {
    "scrolled": false
   },
   "outputs": [],
   "source": [
    "this_x = result.x\n",
    "\n",
    "fig, axis = plt.subplots()\n",
    "for i, sim_summary in enumerate(sim_history[tuple(this_x)]['R_inp']['data']):\n",
    "    axis.plot(sim_summary['t'], sim_summary['soma_voltage'])\n",
    "    axis.set_ylabel('Voltage (mV)')\n",
    "    axis.set_xlabel('Time (ms)')\n",
    "fig.tight_layout()\n",
    "\n",
    "print('soma_R_inp:', sim_history[tuple(this_x)]['R_inp']['soma_R_inp'], 'Error:', sim_history[tuple(this_x)]['R_inp']['error'])\n",
    "\n",
    "fig, axes = plt.subplots(3, 4, figsize=(12., 8.))\n",
    "for i, sim_summary in enumerate(sim_history[tuple(this_x)]['f_I']['data']):\n",
    "    axes.flat[i].plot(sim_summary['t'], sim_summary['soma_voltage'])\n",
    "    axes.flat[i].set_ylabel('Voltage (mV)')\n",
    "    axes.flat[i].set_xlabel('Time (ms)')\n",
    "fig.tight_layout()\n",
    "\n",
    "this_slope = sim_history[tuple(this_x)]['f_I']['slope']\n",
    "this_intercept = sim_history[tuple(this_x)]['f_I']['intercept']\n",
    "stim_amp_array = np.array([sim_summary['stim_amp'] for sim_summary in sim_history[tuple(this_x)]['f_I']['data']])\n",
    "spike_rate_array = np.array([sim_summary['spike_rate'] for sim_summary in sim_history[tuple(this_x)]['f_I']['data']])\n",
    "valid_stim_indexes = np.where(spike_rate_array > 0.)[0]\n",
    "\n",
    "plt.figure()\n",
    "plt.scatter(stim_amp_array, spike_rate_array)\n",
    "plt.plot(stim_amp_array[valid_stim_indexes], fit_line(stim_amp_array[valid_stim_indexes], this_slope, this_intercept))\n",
    "plt.ylabel('Firing rate (Hz)')\n",
    "plt.xlabel('Current amplitude (nA)')\n",
    "plt.show()\n",
    "\n",
    "print('Slope:', sim_history[tuple(this_x)]['f_I']['slope'], 'Error:', sim_history[tuple(this_x)]['f_I']['error'])"
   ]
  },
  {
   "cell_type": "markdown",
   "metadata": {},
   "source": [
    "## 6. For next week: papers focusing on spatial and temporal summation of synaptic input"
   ]
  },
  {
   "cell_type": "markdown",
   "metadata": {},
   "source": [
    "- Magee, J., Cook, E. (2000). Somatic EPSP amplitude is independent of synapse location in hippocampal pyramidal neurons Nature Neuroscience  3(9), 895-903. https://dx.doi.org/10.1038/78800\n",
    "- Magee, J. Dendritic Ih normalizes temporal summation in hippocampal CA1 neurons. Nat Neurosci 2, 508–514 (1999). https://doi.org/10.1038/9158\n",
    "- Bianchi, D., Marasco, A., Limongiello, A., Marchetti, C., Marie, H., Tirozzi, B., Migliore, M. (2012). On the mechanisms underlying the depolarization block in the spiking dynamics of CA1 pyramidal neurons Journal of Computational Neuroscience  33(2), 207-225. https://dx.doi.org/10.1007/s10827-012-0383-y"
   ]
  },
  {
   "cell_type": "code",
   "execution_count": null,
   "metadata": {},
   "outputs": [],
   "source": []
  }
 ],
 "metadata": {
  "kernelspec": {
   "display_name": "Python 3",
   "language": "python",
   "name": "python3"
  },
  "language_info": {
   "codemirror_mode": {
    "name": "ipython",
    "version": 3
   },
   "file_extension": ".py",
   "mimetype": "text/x-python",
   "name": "python",
   "nbconvert_exporter": "python",
   "pygments_lexer": "ipython3",
   "version": "3.7.6"
  }
 },
 "nbformat": 4,
 "nbformat_minor": 4
}
