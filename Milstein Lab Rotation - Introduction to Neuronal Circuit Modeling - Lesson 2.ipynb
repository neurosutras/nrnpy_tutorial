{
 "cells": [
  {
   "cell_type": "code",
   "execution_count": null,
   "metadata": {},
   "outputs": [],
   "source": [
    "from IPython.display import Image\n",
    "from IPython.core.display import HTML"
   ]
  },
  {
   "cell_type": "markdown",
   "metadata": {},
   "source": [
    "# Lesson 2: Introduction to spikes"
   ]
  },
  {
   "cell_type": "markdown",
   "metadata": {},
   "source": [
    "## Lesson goals:"
   ]
  },
  {
   "cell_type": "markdown",
   "metadata": {},
   "source": [
    "1. Discuss solutions to two challenges from Lesson 1:\n",
    " - Write a function to measure the \"input resistance\" of a neuron compartment\n",
    " - Organize recordings and superimpose results from multiple simulations\n",
    "2. Introduction to sodium and potassium channels involved in generating action potentials (spikes)\n",
    "3. Introduction to NMODL, the language used to specify ion channel mechanisms in NEURON\n",
    "4. Inserting \"Hodgkin-Huxley\" ion channels into a NEURON model compartment\n",
    "5. Plotting the voltage-dependence of the sodium and potassium channel \"gates\"\n",
    "\n",
    "## Challenges for next week:\n",
    "\n",
    "6. Measure and plot an \"f-I curve\"\n",
    "7. Prelude to model optimization "
   ]
  },
  {
   "cell_type": "markdown",
   "metadata": {},
   "source": [
    "## 1. Discuss solutions to two challenges from Lesson 1:"
   ]
  },
  {
   "cell_type": "markdown",
   "metadata": {},
   "source": [
    "### Write a function to measure the \"input resistance\" of a neuron compartment"
   ]
  },
  {
   "cell_type": "code",
   "execution_count": null,
   "metadata": {},
   "outputs": [],
   "source": [
    "import numpy as np\n",
    "%matplotlib notebook\n",
    "import matplotlib.pyplot as plt\n",
    "from neuron import h\n",
    "h.load_file('stdrun.hoc')"
   ]
  },
  {
   "cell_type": "code",
   "execution_count": null,
   "metadata": {},
   "outputs": [],
   "source": [
    "def get_input_resistance(t, vm, i, start, stop, window_dur):\n",
    "    \n",
    "    baseline_start_index = np.where(t >= start - window_dur)[0][0]\n",
    "    baseline_end_index = np.where(t >= start)[0][0]\n",
    "    equil_start_index = np.where(t >= stop - window_dur)[0][0]\n",
    "    equil_end_index = np.where(t >= stop)[0][0]\n",
    "    delta_vm = np.abs(np.mean(vm[equil_start_index:equil_end_index]) - np.mean(vm[baseline_start_index:baseline_end_index]))\n",
    "    delta_i = np.abs(np.mean(i[equil_start_index:equil_end_index]) - np.mean(i[baseline_start_index:baseline_end_index]))\n",
    "    \n",
    "    # Ohms = Volts / Amps; MegaOhms = milliVolts / nanoAmps\n",
    "    input_res = delta_vm / delta_i\n",
    "    return input_res"
   ]
  },
  {
   "cell_type": "code",
   "execution_count": null,
   "metadata": {},
   "outputs": [],
   "source": [
    "soma = h.Section()\n",
    "soma.L = 20.\n",
    "soma.diam = 20.\n",
    "\n",
    "soma.insert('pas')\n",
    "leak_mechanism = soma(0.5).pas\n",
    "pas_g0 = 0.0005\n",
    "leak_mechanism.g = pas_g0  # conductance of leak channel in microSeimens\n",
    "v_init = -65.\n",
    "pas_e0 = v_init\n",
    "leak_mechanism.e = pas_e0\n",
    "\n",
    "t = h.Vector()\n",
    "soma_voltage = h.Vector()\n",
    "t.record(h._ref_t)  # record the time stamp\n",
    "soma_voltage.record(soma(0.5)._ref_v)  # record the voltage across the membrane in a segment\n",
    "\n",
    "step_current_stim = h.IClamp(soma(0.5))\n",
    "step_current_stim.amp = -0.1  # amplitude in nanoAmps\n",
    "step_current_stim.dur = 200.  # duration in milliseconds\n",
    "step_current_stim.delay = 200.  # start time of current injection\n",
    "\n",
    "step_current_rec = h.Vector()\n",
    "step_current_rec.record(step_current_stim._ref_i)\n",
    "\n",
    "h.tstop = 600."
   ]
  },
  {
   "cell_type": "code",
   "execution_count": null,
   "metadata": {},
   "outputs": [],
   "source": [
    "h.run(v_init)\n",
    "\n",
    "fig, axes = plt.subplots(1, 2, figsize=(8, 3))\n",
    "axes[0].plot(t, step_current_rec, c='r')\n",
    "axes[0].set_xlabel('Time (ms)')\n",
    "axes[0].set_ylabel('Current (nA)')\n",
    "axes[0].set_title('Injected current')\n",
    "axes[1].plot(t, soma_voltage, c='k')\n",
    "axes[1].set_xlabel('Time (ms)')\n",
    "axes[1].set_ylabel('Voltage (mV)')\n",
    "axes[1].set_title('Soma membrane potential')\n",
    "\n",
    "input_resistance = get_input_resistance(np.array(t), np.array(soma_voltage), np.array(step_current_rec), start=200., stop=400., window_dur=10.)\n",
    "print('The input resistance is %.2f MOhm' % input_resistance)"
   ]
  },
  {
   "cell_type": "markdown",
   "metadata": {},
   "source": [
    "### Organize recordings and superimpose results from multiple simulations"
   ]
  },
  {
   "cell_type": "code",
   "execution_count": null,
   "metadata": {},
   "outputs": [],
   "source": [
    "sim_history = []\n",
    "stim_amp_array = np.arange(0., 0.6, 0.1)\n",
    "\n",
    "for stim_amp in stim_amp_array:\n",
    "    sim_record = {}\n",
    "    sim_record['stim_amp'] = stim_amp\n",
    "    step_current_stim.amp = stim_amp\n",
    "    sim_record['description'] = '%.1f nA' % stim_amp\n",
    "    h.run(v_init)\n",
    "    sim_record['soma_voltage'] = np.array(soma_voltage)\n",
    "    sim_record['t'] = np.array(t)\n",
    "    sim_record['step_current_rec'] = np.array(step_current_rec)\n",
    "    \n",
    "    sim_history.append(sim_record)"
   ]
  },
  {
   "cell_type": "code",
   "execution_count": null,
   "metadata": {},
   "outputs": [],
   "source": [
    "print(stim_amp_array)"
   ]
  },
  {
   "cell_type": "code",
   "execution_count": null,
   "metadata": {},
   "outputs": [],
   "source": [
    "fig, axes = plt.subplots(1, 2, figsize=(8, 3))\n",
    "\n",
    "for sim_record in sim_history:\n",
    "    t_array = sim_record['t']\n",
    "    soma_voltage_array = sim_record['soma_voltage']\n",
    "    step_current_rec_array = sim_record['step_current_rec']\n",
    "    description = sim_record['description']\n",
    "    axes[0].plot(t_array, step_current_rec_array, label=description)\n",
    "    axes[0].set_xlabel('Time (ms)')\n",
    "    axes[0].set_ylabel('Current (nA)')\n",
    "    axes[0].set_title('Injected current')\n",
    "    axes[1].plot(t_array, soma_voltage_array)\n",
    "    axes[1].set_xlabel('Time (ms)')\n",
    "    axes[1].set_ylabel('Voltage (mV)')\n",
    "    axes[1].set_title('Soma membrane potential')\n",
    "axes[0].legend(loc='best', frameon=False)\n",
    "fig.tight_layout(w_pad=0.2)"
   ]
  },
  {
   "cell_type": "markdown",
   "metadata": {},
   "source": [
    "## 2. Introduction to sodium and potassium channels involved in generating action potentials (spikes)"
   ]
  },
  {
   "cell_type": "markdown",
   "metadata": {},
   "source": [
    "<img src=\"images/hh_fig1.jpg\" width=\"1000\">"
   ]
  },
  {
   "cell_type": "markdown",
   "metadata": {},
   "source": [
    "### Great resource:\n",
    "\n",
    "https://ocw.mit.edu/courses/brain-and-cognitive-sciences/9-40-introduction-to-neural-computation-spring-2018/lecture-notes/MIT9_40S18_Lec04.pdf"
   ]
  },
  {
   "cell_type": "markdown",
   "metadata": {},
   "source": [
    "## 3. Introduction to NMODL, the language used to specify ion channel mechanisms in NEURON"
   ]
  },
  {
   "cell_type": "markdown",
   "metadata": {},
   "source": [
    "Earlier we inserted the ion channel mechanism 'pas' into our NEURON model to provide a passive \"leak\" current.\n",
    "\n",
    "Now we want to insert sodium and potassium ion channels to allow our model to generate spikes.\n",
    "\n",
    "Let's look at the code that describes the time- and voltage-dependent activation and inactivation of these channels:"
   ]
  },
  {
   "cell_type": "markdown",
   "metadata": {},
   "source": [
    "Here are the contents of the built-in NEURON mechanism defined in 'hh.mod':\n",
    "\n",
    "    TITLE hh.mod   squid sodium, potassium, and leak channels\n",
    "\n",
    "    COMMENT\n",
    "     This is the original Hodgkin-Huxley treatment for the set of sodium, \n",
    "      potassium, and leakage channels found in the squid giant axon membrane.\n",
    "      (\"A quantitative description of membrane current and its application \n",
    "      conduction and excitation in nerve\" J.Physiol. (Lond.) 117:500-544 (1952).)\n",
    "     Membrane voltage is in absolute mV and has been reversed in polarity\n",
    "      from the original HH convention and shifted to reflect a resting potential\n",
    "      of -65 mV.\n",
    "     Remember to set celsius=6.3 (or whatever) in your HOC file.\n",
    "     See squid.hoc for an example of a simulation using this model.\n",
    "     SW Jaslove  6 March, 1992\n",
    "    ENDCOMMENT\n",
    "\n",
    "    UNITS {\n",
    "            (mA) = (milliamp)\n",
    "            (mV) = (millivolt)\n",
    "        (S) = (siemens)\n",
    "    }\n",
    "\n",
    "    NEURON {\n",
    "            SUFFIX hh\n",
    "            USEION na READ ena WRITE ina\n",
    "            USEION k READ ek WRITE ik\n",
    "            NONSPECIFIC_CURRENT il\n",
    "            RANGE gnabar, gkbar, gl, el, gna, gk\n",
    "            GLOBAL minf, hinf, ninf, mtau, htau, ntau\n",
    "    }\n",
    "\n",
    "    PARAMETER {\n",
    "            gnabar = .12 (S/cm2)\t<0,1e9>\n",
    "            gkbar = .036 (S/cm2)\t<0,1e9>\n",
    "            gl = .0003 (S/cm2)\t<0,1e9>\n",
    "            el = -54.3 (mV)\n",
    "    }\n",
    "\n",
    "    STATE {\n",
    "            m h n\n",
    "    }\n",
    "\n",
    "    ASSIGNED {\n",
    "            v (mV)\n",
    "            celsius (degC)\n",
    "            ena (mV)\n",
    "            ek (mV)\n",
    "\n",
    "        gna (S/cm2)\n",
    "        gk (S/cm2)\n",
    "            ina (mA/cm2)\n",
    "            ik (mA/cm2)\n",
    "            il (mA/cm2)\n",
    "            minf hinf ninf\n",
    "        mtau (ms) htau (ms) ntau (ms)\n",
    "    }\n",
    "    \n",
    "    BREAKPOINT {\n",
    "            SOLVE states METHOD cnexp\n",
    "            gna = gnabar*m*m*m*h\n",
    "        ina = gna*(v - ena)\n",
    "            gk = gkbar*n*n*n*n\n",
    "        ik = gk*(v - ek)      \n",
    "            il = gl*(v - el)\n",
    "    }\n",
    "\n",
    "\n",
    "    INITIAL {\n",
    "        rates(v)\n",
    "        m = minf\n",
    "        h = hinf\n",
    "        n = ninf\n",
    "    }\n",
    "    \n",
    "    DERIVATIVE states {  \n",
    "            rates(v)\n",
    "            m' =  (minf-m)/mtau\n",
    "            h' = (hinf-h)/htau\n",
    "            n' = (ninf-n)/ntau\n",
    "    }\n",
    "\n",
    "    :LOCAL q10\n",
    "\n",
    "    \n",
    "    PROCEDURE rates(v(mV)) {  :Computes rate and other constants at current v.\n",
    "                          :Call once from HOC to initialize inf at resting v.\n",
    "            LOCAL  alpha, beta, sum, q10\n",
    "            TABLE minf, mtau, hinf, htau, ninf, ntau DEPEND celsius FROM -100 TO 100 WITH 200\n",
    "\n",
    "    UNITSOFF\n",
    "            q10 = 3^((celsius - 6.3)/10)\n",
    "                    :\"m\" sodium activation system\n",
    "            alpha = .1 * vtrap(-(v+40),10)\n",
    "            beta =  4 * exp(-(v+65)/18)\n",
    "            sum = alpha + beta\n",
    "        mtau = 1/(q10*sum)\n",
    "            minf = alpha/sum\n",
    "                    :\"h\" sodium inactivation system\n",
    "            alpha = .07 * exp(-(v+65)/20)\n",
    "            beta = 1 / (exp(-(v+35)/10) + 1)\n",
    "            sum = alpha + beta\n",
    "        htau = 1/(q10*sum)\n",
    "            hinf = alpha/sum\n",
    "                    :\"n\" potassium activation system\n",
    "            alpha = .01*vtrap(-(v+55),10) \n",
    "            beta = .125*exp(-(v+65)/80)\n",
    "        sum = alpha + beta\n",
    "            ntau = 1/(q10*sum)\n",
    "            ninf = alpha/sum\n",
    "    }\n",
    "\n",
    "    FUNCTION vtrap(x,y) {  :Traps for 0 in denominator of rate eqns.\n",
    "            if (fabs(x/y) < 1e-6) {\n",
    "                    vtrap = y*(1 - x/y/2)\n",
    "            }else{\n",
    "                    vtrap = x/(exp(x/y) - 1)\n",
    "            }\n",
    "    }\n",
    "\n",
    "    UNITSON"
   ]
  },
  {
   "cell_type": "markdown",
   "metadata": {},
   "source": [
    "## 4. Inserting \"Hodgkin-Huxley\" ion channels into a NEURON model compartment\n",
    "\n",
    "### First we need a default NEURON section, which mimics Hodgkin-Huxley's conditions:"
   ]
  },
  {
   "cell_type": "code",
   "execution_count": null,
   "metadata": {},
   "outputs": [],
   "source": [
    "soma = h.Section()\n",
    "\n",
    "soma.insert('hh')\n",
    "\n",
    "t = h.Vector()\n",
    "soma_voltage = h.Vector()\n",
    "t.record(h._ref_t)  # record the time stamp\n",
    "soma_voltage.record(soma(0.5)._ref_v)  # record the voltage across the membrane in a segment\n",
    "\n",
    "step_current_stim = h.IClamp(soma(0.5))\n",
    "step_current_stim.amp = 10.  # amplitude in nanoAmps\n",
    "step_current_stim.dur = 200.  # duration in milliseconds\n",
    "step_current_stim.delay = 200.  # start time of current injection\n",
    "\n",
    "step_current_rec = h.Vector()\n",
    "step_current_rec.record(step_current_stim._ref_i)\n",
    "\n",
    "h.tstop = 600."
   ]
  },
  {
   "cell_type": "code",
   "execution_count": null,
   "metadata": {},
   "outputs": [],
   "source": [
    "soma.L, soma.diam"
   ]
  },
  {
   "cell_type": "markdown",
   "metadata": {},
   "source": [
    "This mechanism specifies 3 distinct ion channels in one!\n",
    " - Passive leak conductance\n",
    " - Hodkin-Huxley-style sodium conductance with voltage-dependent activation gate and voltage-dependent inactivation gate\n",
    " - Hodkin-Huxley-style delayed rectifier potassium conductance with voltage-dependent activation gate"
   ]
  },
  {
   "cell_type": "markdown",
   "metadata": {},
   "source": [
    "### Let's make sure it spikes when we inject current (and not when we do not)."
   ]
  },
  {
   "cell_type": "code",
   "execution_count": null,
   "metadata": {},
   "outputs": [],
   "source": [
    "plt.figure()\n",
    "for stim_amp in np.arange(0., 20., 5.):\n",
    "    step_current_stim.amp = stim_amp\n",
    "    h.run()\n",
    "    plt.plot(t, soma_voltage, label='%.1f nA' % stim_amp)\n",
    "plt.legend(loc='best', frameon=False)"
   ]
  },
  {
   "cell_type": "markdown",
   "metadata": {},
   "source": [
    "### We can also record the actual currents through the sodium and potassium channels during a spike:"
   ]
  },
  {
   "cell_type": "code",
   "execution_count": null,
   "metadata": {},
   "outputs": [],
   "source": [
    "soma_ina_rec = h.Vector()\n",
    "soma_ina_rec.record(soma(0.5)._ref_ina)\n",
    "\n",
    "soma_ik_rec = h.Vector()\n",
    "soma_ik_rec.record(soma(0.5)._ref_ik)\n",
    "\n",
    "step_current_stim.amp = 5.\n",
    "step_current_stim.delay = 10.\n",
    "step_current_stim.dur = 50.\n",
    "h.tstop = 60.\n",
    "h.run()\n",
    "\n",
    "fig, axes = plt.subplots(3, figsize=(5, 10), sharex=True)\n",
    "axes[0].plot(t, step_current_rec, c='r')\n",
    "axes[0].set_xlabel('Time (ms)')\n",
    "axes[0].set_ylabel('Current (nA)')\n",
    "axes[0].set_title('Injected current')\n",
    "axes[1].plot(t, soma_voltage, c='k')\n",
    "axes[1].set_xlabel('Time (ms)')\n",
    "axes[1].set_ylabel('Voltage (mV)')\n",
    "axes[1].set_title('Soma membrane potential')\n",
    "axes[2].plot(t, soma_ina_rec, label='I_Na')\n",
    "axes[2].plot(t, soma_ik_rec, label='I_K')\n",
    "axes[2].legend(loc='best', frameon=False)\n"
   ]
  },
  {
   "cell_type": "markdown",
   "metadata": {},
   "source": [
    "## 5. Plotting the voltage-dependence of the sodium and potassium channel \"gates\"\n",
    "\n",
    "From the hh.mod file:\n",
    "\n",
    "gna = gnabar * m * m * m * h\n",
    "\n",
    "gk = gkbar * n * n * n * n\n",
    "\n",
    "gnabar = maximum conductance of the na channel\n",
    "\n",
    "m = activation gate of the na channel\n",
    "\n",
    "h = inactivation gate of the na channel\n",
    "\n",
    "gkbar = maximum conductance of the k channel\n",
    "\n",
    "n = activation gate of the k channel"
   ]
  },
  {
   "cell_type": "code",
   "execution_count": null,
   "metadata": {},
   "outputs": [],
   "source": [
    "q10 = 1.  # For this purpose, temperature = 6.3 and the temperature sensitivity factor = 1.\n",
    "\n",
    "def vtrap(x, y):\n",
    "    if abs(x/y) < 1e-6:\n",
    "        return y * (1. - x / y / 2.)\n",
    "    else:\n",
    "        return x / (np.exp(x / y) - 1.)\n",
    "\n",
    "vtrap = np.vectorize(vtrap)\n",
    "    \n",
    "def mtau(v):\n",
    "    alpha = .1 * vtrap(-(v+40), 10)\n",
    "    beta =  4 * np.exp(-(v+65)/18)\n",
    "    this_sum = alpha + beta\n",
    "    return 1. / (q10 * this_sum)\n",
    "\n",
    "def minf(v):\n",
    "    alpha = .1 * vtrap(-(v+40), 10)\n",
    "    beta =  4 * np.exp(-(v+65)/18)\n",
    "    this_sum = alpha + beta\n",
    "    return alpha / this_sum\n",
    "\n",
    "def htau(v):\n",
    "    alpha = .07 * np.exp(-(v+65)/20)\n",
    "    beta = 1 / (np.exp(-(v+35)/10) + 1)\n",
    "    this_sum = alpha + beta\n",
    "    return 1 / (q10 * this_sum)\n",
    "\n",
    "def hinf(v):\n",
    "    alpha = .07 * np.exp(-(v+65)/20)\n",
    "    beta = 1 / (np.exp(-(v+35)/10) + 1)\n",
    "    this_sum = alpha + beta\n",
    "    return alpha / this_sum\n",
    "\n",
    "def ntau(v):\n",
    "    alpha = .01*vtrap(-(v+55),10) \n",
    "    beta = .125*np.exp(-(v+65)/80)\n",
    "    this_sum = alpha + beta\n",
    "    return 1. / (q10 * this_sum)\n",
    "\n",
    "def ninf(v):\n",
    "    alpha = .01*vtrap(-(v+55),10) \n",
    "    beta = .125*np.exp(-(v+65)/80)\n",
    "    this_sum = alpha + beta\n",
    "    return alpha / this_sum"
   ]
  },
  {
   "cell_type": "code",
   "execution_count": null,
   "metadata": {},
   "outputs": [],
   "source": [
    "v = np.linspace(-100., 100., 200)\n",
    "fig, axes = plt.subplots(3, 2, figsize=(8, 8))\n",
    "axes[0][0].plot(v, minf(v))\n",
    "axes[0][0].set_xlabel('Voltage (mV)')\n",
    "axes[0][0].set_ylabel('Activation')\n",
    "axes[0][0].set_title('Na channel \\'m\\' activation gate')\n",
    "axes[1][0].plot(v, hinf(v))\n",
    "axes[1][0].set_xlabel('Voltage (mV)')\n",
    "axes[1][0].set_ylabel('Inactivation')\n",
    "axes[1][0].set_title('Na channel \\'h\\' inactivation gate')\n",
    "axes[2][0].plot(v, ninf(v))\n",
    "axes[2][0].set_xlabel('Voltage (mV)')\n",
    "axes[2][0].set_ylabel('Activation')\n",
    "axes[2][0].set_title('K channel \\'n\\' activation gate')\n",
    "\n",
    "axes[0][1].plot(v, mtau(v))\n",
    "axes[0][1].set_xlabel('Voltage (mV)')\n",
    "axes[0][1].set_ylabel('Time constant (ms)')\n",
    "axes[0][1].set_title('Na channel \\'m\\' activation kinetics')\n",
    "axes[1][1].plot(v, htau(v))\n",
    "axes[1][1].set_xlabel('Voltage (mV)')\n",
    "axes[1][1].set_ylabel('Time constant (ms)')\n",
    "axes[1][1].set_title('Na channel \\'h\\' inactivation kinetics')\n",
    "axes[2][1].plot(v, ntau(v))\n",
    "axes[2][1].set_xlabel('Voltage (mV)')\n",
    "axes[2][1].set_ylabel('Time constant (ms)')\n",
    "axes[2][1].set_title('K channel \\'n\\' activation kinetics')\n",
    "fig.tight_layout()"
   ]
  },
  {
   "cell_type": "markdown",
   "metadata": {},
   "source": [
    "# Challenges for next week:\n",
    "\n",
    "## 6. Measure and plot an \"f-I curve\"\n",
    "\n",
    " - Run a series of simulations with different amplitudes of injected stimulus current\n",
    " - Compute the number of spikes - how do you find a spike from a voltage trace?\n",
    " - Plot the firing rate (f) (# of spikes / duration of time) versus input current (I)"
   ]
  },
  {
   "cell_type": "code",
   "execution_count": null,
   "metadata": {},
   "outputs": [],
   "source": []
  },
  {
   "cell_type": "code",
   "execution_count": null,
   "metadata": {},
   "outputs": [],
   "source": []
  },
  {
   "cell_type": "markdown",
   "metadata": {},
   "source": [
    "## Prelude to model optimization:\n",
    " - What value of gl (leak conductance) sets the input resistance of the HH soma to 150 MOhm?\n",
    " - What values of gnabar and gkbar produce a spike at 0.1 nA instead of 5 nA?"
   ]
  },
  {
   "cell_type": "code",
   "execution_count": null,
   "metadata": {},
   "outputs": [],
   "source": []
  },
  {
   "cell_type": "code",
   "execution_count": null,
   "metadata": {},
   "outputs": [],
   "source": []
  },
  {
   "cell_type": "markdown",
   "metadata": {},
   "source": [
    "# Some papers to read for next week:\n",
    "\n",
    " - Hoffman, Dax A., et al. \"K+ channel regulation of signal propagation in dendrites of hippocampal pyramidal neurons.\" Nature 387.6636 (1997): 869-875. https://www.nature.com/articles/43119\n",
    " - Migliore, M., Hoffman, D. A., Magee, J. C. & Johnston, D. Role of an A-type K+ conductance in the back-propagation of action potentials in the dendrites of hippocampal pyramidal neurons. J Comput Neurosci 7, 5–15 (1999). https://link.springer.com/article/10.1023/A:1008906225285\n",
    " - Johnston, D. et al. Dendritic potassium channels in hippocampal pyramidal neurons. J Physiology 525 Pt 1, 75–81 (2000). https://physoc.onlinelibrary.wiley.com/doi/10.1111/j.1469-7793.2000.00075.x"
   ]
  },
  {
   "cell_type": "code",
   "execution_count": null,
   "metadata": {},
   "outputs": [],
   "source": []
  }
 ],
 "metadata": {
  "kernelspec": {
   "display_name": "Python 3",
   "language": "python",
   "name": "python3"
  },
  "language_info": {
   "codemirror_mode": {
    "name": "ipython",
    "version": 3
   },
   "file_extension": ".py",
   "mimetype": "text/x-python",
   "name": "python",
   "nbconvert_exporter": "python",
   "pygments_lexer": "ipython3",
   "version": "3.7.6"
  }
 },
 "nbformat": 4,
 "nbformat_minor": 4
}
