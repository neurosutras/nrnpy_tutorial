{
 "cells": [
  {
   "cell_type": "code",
   "execution_count": null,
   "metadata": {},
   "outputs": [],
   "source": [
    "%matplotlib notebook\n",
    "from neuron_sim_utils import *\n",
    "from plot_utils import *\n",
    "from collections import defaultdict"
   ]
  },
  {
   "cell_type": "code",
   "execution_count": null,
   "metadata": {},
   "outputs": [],
   "source": [
    "cell = CA1_Pyr()"
   ]
  },
  {
   "cell_type": "code",
   "execution_count": null,
   "metadata": {
    "scrolled": false
   },
   "outputs": [],
   "source": [
    "plot_mech_param_distribution(cell, 'pas', 'g')"
   ]
  },
  {
   "cell_type": "code",
   "execution_count": null,
   "metadata": {},
   "outputs": [],
   "source": [
    "plot_sum_mech_param_distribution(cell, (('nax', 'gbar'), ('nas', 'gbar')))"
   ]
  },
  {
   "cell_type": "code",
   "execution_count": null,
   "metadata": {},
   "outputs": [],
   "source": [
    "plot_sum_mech_param_distribution(cell, (('kap', 'gkabar'), ('kad', 'gkabar')))"
   ]
  },
  {
   "cell_type": "code",
   "execution_count": null,
   "metadata": {},
   "outputs": [],
   "source": [
    "plot_mech_param_distribution(cell, 'h', 'ghbar')"
   ]
  },
  {
   "cell_type": "code",
   "execution_count": null,
   "metadata": {
    "scrolled": false
   },
   "outputs": [],
   "source": [
    "pprint.pprint(cell.mech_dict)"
   ]
  },
  {
   "cell_type": "code",
   "execution_count": null,
   "metadata": {},
   "outputs": [],
   "source": [
    "sim = QuickSim()\n",
    "sim.tstop = 250."
   ]
  },
  {
   "cell_type": "code",
   "execution_count": null,
   "metadata": {},
   "outputs": [],
   "source": [
    "help(sim.append_rec)"
   ]
  },
  {
   "cell_type": "code",
   "execution_count": null,
   "metadata": {},
   "outputs": [],
   "source": [
    "sim.append_rec(cell, cell.soma[0], loc=0.5, description='Soma Vm')"
   ]
  },
  {
   "cell_type": "code",
   "execution_count": null,
   "metadata": {},
   "outputs": [],
   "source": [
    "sim.run()\n",
    "sim.plot()"
   ]
  },
  {
   "cell_type": "code",
   "execution_count": null,
   "metadata": {},
   "outputs": [],
   "source": [
    "help(sim.append_stim)"
   ]
  },
  {
   "cell_type": "code",
   "execution_count": null,
   "metadata": {},
   "outputs": [],
   "source": [
    "sim.append_stim(cell, cell.soma[0], 0.5, 0.25, 250., 100., description='Soma Step Current')"
   ]
  },
  {
   "cell_type": "code",
   "execution_count": null,
   "metadata": {},
   "outputs": [],
   "source": [
    "spike_output_vec = h.Vector()\n",
    "cell.spike_detector.record(spike_output_vec)"
   ]
  },
  {
   "cell_type": "code",
   "execution_count": null,
   "metadata": {},
   "outputs": [],
   "source": [
    "sim.tstop = 400.\n",
    "sim.run()\n",
    "sim.plot()"
   ]
  },
  {
   "cell_type": "code",
   "execution_count": null,
   "metadata": {},
   "outputs": [],
   "source": [
    "spike_output_array = np.array(spike_output_vec)\n",
    "spike_output_rate = len(np.where((spike_output_array >= 250.) & (spike_output_array <= 350.))[0]) / (100. / 1000.)\n",
    "print('Output firing rate: %.1f Hz' % spike_output_rate)"
   ]
  },
  {
   "cell_type": "code",
   "execution_count": null,
   "metadata": {},
   "outputs": [],
   "source": [
    "trunk_bifurcation = [trunk for trunk in cell.trunk if cell.is_bifurcation(trunk, 'trunk')]\n",
    "if trunk_bifurcation:\n",
    "    trunk_branches = [branch for branch in trunk_bifurcation[0].children if branch.type == 'trunk']\n",
    "    # get where the thickest trunk branch gives rise to the tuft\n",
    "    trunk = max(trunk_branches, key=lambda node: node.sec(0.).diam)\n",
    "    trunk = next((node for node in cell.trunk if cell.node_in_subtree(trunk, node) and 'tuft' in (child.type\n",
    "                                                                                    for child in node.children)))\n",
    "else:\n",
    "    trunk_bifurcation = [node for node in cell.trunk if 'tuft' in (child.type for child in node.children)]\n",
    "    trunk = trunk_bifurcation[0]\n",
    "    \n",
    "sim.append_rec(cell, trunk, 1., description='Dendritic trunk')"
   ]
  },
  {
   "cell_type": "code",
   "execution_count": null,
   "metadata": {},
   "outputs": [],
   "source": [
    "help(cell.get_distance_to_node)"
   ]
  },
  {
   "cell_type": "code",
   "execution_count": null,
   "metadata": {},
   "outputs": [],
   "source": [
    "distance = cell.get_distance_to_node(cell.soma[0], trunk, 1.)\n",
    "print('Recording in dendritic trunk is %i um from the soma' % distance)"
   ]
  },
  {
   "cell_type": "code",
   "execution_count": null,
   "metadata": {},
   "outputs": [],
   "source": [
    "sim.run()\n",
    "sim.plot()\n",
    "spike_output_array = np.array(spike_output_vec)\n",
    "spike_output_rate = len(np.where((spike_output_array >= 250.) & (spike_output_array <= 350.))[0]) / (100. / 1000.)\n",
    "print('Output firing rate: %.1f Hz' % spike_output_rate)"
   ]
  },
  {
   "cell_type": "code",
   "execution_count": null,
   "metadata": {},
   "outputs": [],
   "source": [
    "rec_file_name = '20201020_CA1Sim_0.hdf5'\n",
    "if os.path.isfile(data_dir + '/' + rec_file_name):\n",
    "    os.remove(data_dir + '/' + rec_file_name)\n",
    "\n",
    "sim.export_to_file(rec_file_name)"
   ]
  },
  {
   "cell_type": "code",
   "execution_count": null,
   "metadata": {},
   "outputs": [],
   "source": [
    "help(sim.modify_stim)"
   ]
  },
  {
   "cell_type": "code",
   "execution_count": null,
   "metadata": {},
   "outputs": [],
   "source": [
    "sim.modify_stim(amp=0.6)\n",
    "sim.run()\n",
    "sim.plot()\n",
    "spike_output_array = np.array(spike_output_vec)\n",
    "spike_output_rate = len(np.where((spike_output_array >= 250.) & (spike_output_array <= 350.))[0]) / (100. / 1000.)\n",
    "print('Output firing rate: %.1f Hz' % spike_output_rate)"
   ]
  },
  {
   "cell_type": "code",
   "execution_count": null,
   "metadata": {},
   "outputs": [],
   "source": [
    "sim.export_to_file(rec_file_name)"
   ]
  },
  {
   "cell_type": "code",
   "execution_count": null,
   "metadata": {},
   "outputs": [],
   "source": [
    "plot_superimpose_conditions(rec_file_name)"
   ]
  },
  {
   "cell_type": "code",
   "execution_count": null,
   "metadata": {},
   "outputs": [],
   "source": [
    "AMPAR = 'AMPA_KIN'\n",
    "NMDAR = 'NMDA_KIN5'\n",
    "GABAR = 'GABA_A_KIN'\n",
    "help(cell.insert_synapses_at_marked_locs)"
   ]
  },
  {
   "cell_type": "code",
   "execution_count": null,
   "metadata": {},
   "outputs": [],
   "source": [
    "cell.insert_synapses_at_marked_locs('exc', [AMPAR, NMDAR], fraction=0.1)\n",
    "cell.insert_synapses_at_marked_locs('inh', [GABAR], fraction=1.)"
   ]
  },
  {
   "cell_type": "code",
   "execution_count": null,
   "metadata": {},
   "outputs": [],
   "source": [
    "exc_synapse_count = 0\n",
    "inh_synapse_count = 0\n",
    "for sec_type in cell.nodes:\n",
    "    for node in cell.nodes[sec_type]:\n",
    "        for syn in node.synapses:\n",
    "            if AMPAR in syn._syn:\n",
    "                exc_synapse_count += 1\n",
    "            elif GABAR in syn._syn:\n",
    "                inh_synapse_count += 1"
   ]
  },
  {
   "cell_type": "code",
   "execution_count": null,
   "metadata": {},
   "outputs": [],
   "source": [
    "print('Cell with id: %i contains %i excitatory and %i inhibitory synapses' % (cell.gid, exc_synapse_count, inh_synapse_count))"
   ]
  },
  {
   "cell_type": "code",
   "execution_count": null,
   "metadata": {},
   "outputs": [],
   "source": [
    "cell.init_synaptic_mechanisms()"
   ]
  },
  {
   "cell_type": "code",
   "execution_count": null,
   "metadata": {},
   "outputs": [],
   "source": [
    "help(plot_synaptic_param_distribution)"
   ]
  },
  {
   "cell_type": "code",
   "execution_count": null,
   "metadata": {},
   "outputs": [],
   "source": [
    "plot_synaptic_param_distribution(cell, AMPAR, 'gmax')"
   ]
  },
  {
   "cell_type": "code",
   "execution_count": null,
   "metadata": {},
   "outputs": [],
   "source": [
    "for syn in trunk.synapses:\n",
    "    if AMPAR in syn._syn:\n",
    "        example_exc_syn = syn\n",
    "        break"
   ]
  },
  {
   "cell_type": "code",
   "execution_count": null,
   "metadata": {},
   "outputs": [],
   "source": [
    "example_exc_syn_mechanism = example_exc_syn.target(AMPAR)"
   ]
  },
  {
   "cell_type": "code",
   "execution_count": null,
   "metadata": {},
   "outputs": [],
   "source": [
    "example_exc_syn_mechanism.gmax"
   ]
  },
  {
   "cell_type": "code",
   "execution_count": null,
   "metadata": {},
   "outputs": [],
   "source": [
    "example_exc_syn.source"
   ]
  },
  {
   "cell_type": "code",
   "execution_count": null,
   "metadata": {},
   "outputs": [],
   "source": [
    "example_exc_syn.netcon(AMPAR)"
   ]
  },
  {
   "cell_type": "code",
   "execution_count": null,
   "metadata": {},
   "outputs": [],
   "source": [
    "sim.modify_stim(amp=0.)"
   ]
  },
  {
   "cell_type": "code",
   "execution_count": null,
   "metadata": {},
   "outputs": [],
   "source": [
    "spike_train = [250.]"
   ]
  },
  {
   "cell_type": "code",
   "execution_count": null,
   "metadata": {},
   "outputs": [],
   "source": [
    "example_exc_syn.source.play(h.Vector(spike_train))\n",
    "sim.run()\n",
    "sim.plot()\n",
    "example_exc_syn.source.play(h.Vector())"
   ]
  },
  {
   "cell_type": "code",
   "execution_count": null,
   "metadata": {},
   "outputs": [],
   "source": [
    "target_firing_rate = 100.  # Hz\n",
    "random_spike_train = get_inhom_poisson_spike_times([target_firing_rate, target_firing_rate], [250., 350.], dt=sim.dt)\n",
    "pprint.pprint(random_spike_train)"
   ]
  },
  {
   "cell_type": "code",
   "execution_count": null,
   "metadata": {},
   "outputs": [],
   "source": [
    "example_exc_syn.source.play(h.Vector(random_spike_train))\n",
    "sim.run()\n",
    "sim.plot()\n",
    "example_exc_syn.source.play(h.Vector())"
   ]
  },
  {
   "cell_type": "code",
   "execution_count": null,
   "metadata": {},
   "outputs": [],
   "source": [
    "exc_synapse_dict = defaultdict(list)\n",
    "inh_synapse_dict = defaultdict(list)\n",
    "for sec_type in cell.nodes:\n",
    "    for node in cell.nodes[sec_type]:\n",
    "        if sec_type in ['soma', 'axon']:\n",
    "            category = 'perisomatic'\n",
    "        elif sec_type == 'basal':\n",
    "            category = 'proximal dendritic'\n",
    "        elif sec_type in ['trunk', 'apical']:\n",
    "            distance = cell.get_distance_to_node(cell.soma[0], node, 0.)\n",
    "            if distance <= 200.:\n",
    "                category = 'proximal dendritic'\n",
    "            else:\n",
    "                categroy = 'distal dendritic'\n",
    "        elif sec_type == 'tuft':\n",
    "            category = 'distal dendritic'\n",
    "        for syn in node.synapses:\n",
    "            if AMPAR in syn._syn:\n",
    "                exc_synapse_dict[category].append(syn)\n",
    "            elif GABAR in syn._syn:\n",
    "                inh_synapse_dict[category].append(syn)"
   ]
  },
  {
   "cell_type": "code",
   "execution_count": null,
   "metadata": {},
   "outputs": [],
   "source": [
    "for category in exc_synapse_dict:\n",
    "    print('Cell has %i %s excitatory synapses' % (len(exc_synapse_dict[category]), category))\n",
    "for category in inh_synapse_dict:\n",
    "    print('Cell has %i %s inhibitory synapses' % (len(inh_synapse_dict[category]), category))"
   ]
  },
  {
   "cell_type": "code",
   "execution_count": null,
   "metadata": {},
   "outputs": [],
   "source": [
    "stimulated_exc_syns = []\n",
    "for category in exc_synapse_dict:\n",
    "    stimulated_exc_syns.extend(exc_synapse_dict[category])\n",
    "\n",
    "stimulated_inh_syns = []"
   ]
  },
  {
   "cell_type": "code",
   "execution_count": null,
   "metadata": {},
   "outputs": [],
   "source": [
    "exc_target_firing_rate = 1.  # Hz\n",
    "exc_population_spike_count = 0\n",
    "inh_population_spike_count = 0\n",
    "for syn in stimulated_exc_syns:\n",
    "    spike_train = get_inhom_poisson_spike_times([exc_target_firing_rate, exc_target_firing_rate], [250., 350.], dt=sim.dt)\n",
    "    exc_population_spike_count += len(spike_train)\n",
    "    syn.source.play(h.Vector(spike_train))\n",
    "exc_population_spike_rate = exc_population_spike_count / (100. / 1000.)  # Hz\n",
    "inh_population_spike_rate = inh_population_spike_count / (100. / 1000.)  # Hz\n",
    "print('Input pattern: excitatory rate: %.1f kHz (%i synapses); inhibitory rate: %.1f kHz (%i synapses)' % \n",
    "      (exc_population_spike_rate / 1000., len(stimulated_exc_syns), inh_population_spike_rate / 1000., len(stimulated_inh_syns)))"
   ]
  },
  {
   "cell_type": "code",
   "execution_count": null,
   "metadata": {},
   "outputs": [],
   "source": [
    "sim.run()\n",
    "sim.plot()\n",
    "for syn in stimulated_exc_syns:\n",
    "    syn.source.play(h.Vector())\n",
    "spike_output_array = np.array(spike_output_vec)\n",
    "spike_output_rate = len(np.where((spike_output_array >= 250.) & (spike_output_array <= 350.))[0]) / (100. / 1000.)\n",
    "print('Output firing rate: %.1f Hz' % spike_output_rate)"
   ]
  },
  {
   "cell_type": "code",
   "execution_count": null,
   "metadata": {},
   "outputs": [],
   "source": [
    "exc_target_firing_rate = 1.8  # Hz\n",
    "exc_population_spike_count = 0\n",
    "inh_population_spike_count = 0\n",
    "for syn in stimulated_exc_syns:\n",
    "    spike_train = get_inhom_poisson_spike_times([exc_target_firing_rate, exc_target_firing_rate], [250., 350.], dt=sim.dt)\n",
    "    exc_population_spike_count += len(spike_train)\n",
    "    syn.source.play(h.Vector(spike_train))\n",
    "exc_population_spike_rate = exc_population_spike_count / (100. / 1000.)  # Hz\n",
    "inh_population_spike_rate = inh_population_spike_count / (100. / 1000.)  # Hz\n",
    "print('Input pattern: excitatory rate: %.1f kHz (%i synapses); inhibitory rate: %.1f kHz (%i synapses)' % \n",
    "      (exc_population_spike_rate / 1000., len(stimulated_exc_syns), inh_population_spike_rate / 1000., len(stimulated_inh_syns)))"
   ]
  },
  {
   "cell_type": "code",
   "execution_count": null,
   "metadata": {},
   "outputs": [],
   "source": [
    "sim.run()\n",
    "sim.plot()\n",
    "for syn in stimulated_exc_syns:\n",
    "    syn.source.play(h.Vector())\n",
    "spike_output_array = np.array(spike_output_vec)\n",
    "spike_output_rate = len(np.where((spike_output_array >= 250.) & (spike_output_array <= 350.))[0]) / (100. / 1000.)\n",
    "print('Output firing rate: %.1f Hz' % spike_output_rate)"
   ]
  },
  {
   "cell_type": "code",
   "execution_count": null,
   "metadata": {},
   "outputs": [],
   "source": [
    "stimulated_inh_syns = []\n",
    "for category in inh_synapse_dict:\n",
    "    stimulated_inh_syns.extend(inh_synapse_dict[category])"
   ]
  },
  {
   "cell_type": "code",
   "execution_count": null,
   "metadata": {},
   "outputs": [],
   "source": [
    "exc_target_firing_rate = 1.8  # Hz\n",
    "inh_target_firing_rate = 20.  # Hz\n",
    "exc_population_spike_count = 0\n",
    "inh_population_spike_count = 0\n",
    "for syn in stimulated_exc_syns:\n",
    "    spike_train = get_inhom_poisson_spike_times([exc_target_firing_rate, exc_target_firing_rate], [250., 350.], dt=sim.dt)\n",
    "    exc_population_spike_count += len(spike_train)\n",
    "    syn.source.play(h.Vector(spike_train))\n",
    "\n",
    "for syn in stimulated_inh_syns:\n",
    "    spike_train = get_inhom_poisson_spike_times([inh_target_firing_rate, inh_target_firing_rate], [250., 350.], dt=sim.dt)\n",
    "    inh_population_spike_count += len(spike_train)\n",
    "    syn.source.play(h.Vector(spike_train))\n",
    "\n",
    "exc_population_spike_rate = exc_population_spike_count / (100. / 1000.)  # Hz\n",
    "inh_population_spike_rate = inh_population_spike_count / (100. / 1000.)  # Hz\n",
    "print('Input pattern: excitatory rate: %.1f kHz (%i synapses); inhibitory rate: %.1f kHz (%i synapses)' % \n",
    "      (exc_population_spike_rate / 1000., len(stimulated_exc_syns), inh_population_spike_rate / 1000., len(stimulated_inh_syns)))"
   ]
  },
  {
   "cell_type": "code",
   "execution_count": null,
   "metadata": {},
   "outputs": [],
   "source": [
    "sim.run()\n",
    "sim.plot()\n",
    "for syn in stimulated_exc_syns:\n",
    "    syn.source.play(h.Vector())\n",
    "for syn in stimulated_inh_syns:\n",
    "    syn.source.play(h.Vector())\n",
    "spike_output_array = np.array(spike_output_vec)\n",
    "spike_output_rate = len(np.where((spike_output_array >= 250.) & (spike_output_array <= 350.))[0]) / (100. / 1000.)\n",
    "print('Output firing rate: %.1f Hz' % spike_output_rate)"
   ]
  },
  {
   "cell_type": "markdown",
   "metadata": {},
   "source": [
    "Exc input rate vs. output rate\n",
    "\n",
    "Conditions:\n",
    "1. All exc synapses + No inh synapses\n",
    "2. Proximal dendritic exc synapses + No inh synapses\n",
    "3. Distal dendritic exc synapses + No inh synapses\n",
    "4. All exc synapses + All inh synapses (20 Hz.)\n",
    "5. All exc synapses + Perisomatic + inh synapses (20 Hz.)\n",
    "6. All exc synapses + Proximal dendritic inh synapses (20 Hz.)\n",
    "7. All exc synapses + Distal dendritic inh synapses (20 Hz.)"
   ]
  },
  {
   "cell_type": "code",
   "execution_count": null,
   "metadata": {},
   "outputs": [],
   "source": []
  }
 ],
 "metadata": {
  "kernelspec": {
   "display_name": "Python 3",
   "language": "python",
   "name": "python3"
  },
  "language_info": {
   "codemirror_mode": {
    "name": "ipython",
    "version": 3
   },
   "file_extension": ".py",
   "mimetype": "text/x-python",
   "name": "python",
   "nbconvert_exporter": "python",
   "pygments_lexer": "ipython3",
   "version": "3.7.6"
  }
 },
 "nbformat": 4,
 "nbformat_minor": 4
}
