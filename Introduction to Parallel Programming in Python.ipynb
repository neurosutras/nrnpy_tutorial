{
 "cells": [
  {
   "cell_type": "markdown",
   "metadata": {},
   "source": [
    "# Introduction to Parallel Programming in Python"
   ]
  },
  {
   "cell_type": "markdown",
   "metadata": {},
   "source": [
    "## Tutorial goals:"
   ]
  },
  {
   "cell_type": "markdown",
   "metadata": {},
   "source": [
    "1. Use bash to check system configuration\n",
    "2. Git, Pycharm integration\n",
    "3. Python datatypes: list, dict, array, lambda, defaultdict\n",
    "4. Local and global variables: scope and namespaces\n",
    "5. click - a convenient module for providing arguments via command line\n",
    "6. ipyparallel - bulletin-board-style parallelism\n",
    "\n",
    "### Probably not until next week:\n",
    "7. mpi4py - collective parallelism\n",
    "8. mpi4py.futures - bulletin-board style parallelism\n",
    "9. Intro to nested.parallel"
   ]
  },
  {
   "cell_type": "markdown",
   "metadata": {},
   "source": [
    "## 1. Use bash to check system configuration"
   ]
  },
  {
   "cell_type": "markdown",
   "metadata": {},
   "source": [
    "`pwd`  # Print currently accessed directory "
   ]
  },
  {
   "cell_type": "markdown",
   "metadata": {},
   "source": [
    "`echo $HOME`  # print the contents of the bash variable `HOME`"
   ]
  },
  {
   "cell_type": "markdown",
   "metadata": {},
   "source": [
    "`cd $HOME`  # change to the directory `HOME`"
   ]
  },
  {
   "cell_type": "markdown",
   "metadata": {},
   "source": [
    "`echo $PATH`  # print the contents of the bash variable `PATH`"
   ]
  },
  {
   "cell_type": "markdown",
   "metadata": {},
   "source": [
    "`which -a python`  # print the directories in the `PATH` that contain a version of python"
   ]
  },
  {
   "cell_type": "markdown",
   "metadata": {},
   "source": [
    "`echo $PYTHONPATH`  # print the directories where python looks for modules to import"
   ]
  },
  {
   "cell_type": "markdown",
   "metadata": {},
   "source": [
    "`mkdir src`  # create a new directory to put source code for python modules  \n",
    "`export PYTHONPATH=$HOME/src:$PYTHONPATH`  # append this src directory to the `PYTHONPATH`"
   ]
  },
  {
   "cell_type": "markdown",
   "metadata": {},
   "source": [
    "`ls -a`  # list all contents of current directory, including hidden files"
   ]
  },
  {
   "cell_type": "markdown",
   "metadata": {},
   "source": [
    "`nano .zshrc`  # Use a simple text editor to view the configuration of the bash terminal (In Mac OSX Catalina, the default bash terminal is zsh)  \n",
    "Add the above `\"export\"` line to `.zshrc` to permanently configure `PYTHONPATH`"
   ]
  },
  {
   "cell_type": "markdown",
   "metadata": {},
   "source": [
    "## 2. Git, Pycharm integration"
   ]
  },
  {
   "cell_type": "markdown",
   "metadata": {},
   "source": [
    "### git commands: pull, stash, add, commit, merge, push\n",
    "\n",
    "- `git clone https://github.com/neurosutras/nrnpy_tutorial.git .` - download a code repository and put it in a new subdirectory with the repository name\n",
    "- `git pull origin master` - download any changes to the branch with the name \"master\" from the remote location named \"origin\" since you cloned the repository, or since the last time you \"pulled\"\n",
    "    - PyCharm will warn you if you have made local changes that would be over-written by the pull operation\n",
    "- `git stash` - if you want the remote changes to replace your local copy, you can \"stash\" the changes. On the next pull, your local changes will be over-written\n",
    "- `git add` - if you want a file that you created to be tracked by git, you can right-click on the filename and \"add\" it the list of tracked files\n",
    "- `git commit` - if you have made changes to one or more tracked files locally and you want to update the remote repository, you need to \"commit\" them to the record. This is just a local operation and does not yet change the upstream remote origin. You can add a message to describe the changes in this commit, and attribute yourself as the author of the changes.\n",
    "- `git pull` - if in your latest commits, you have made changes to the same lines of the same files as another collaborator, and you try to \"pull\" remote changes, PyCharm will detect the conflict and give you the opportunity to decide line-by-line which version you would like to use going forward. This is called a \"merge\" operation.\n",
    "- `git push` - Once you have merged, commit your changes again. Then you are ready to \"push\" those commits to the remote origin."
   ]
  },
  {
   "cell_type": "markdown",
   "metadata": {},
   "source": [
    "https://www.jetbrains.com/pycharm/download/#section=mac\n",
    "\n",
    "### In Pycharm:\n",
    "- Top Menu --> File --> New Project...\n",
    "- Set \"Location\" to directory containing nrnpy_tutorial repository\n",
    "- Set \"Python Interpreter\" to \"Existing Interpreter\" and point to python executable in anaconda bin directory\n",
    "- \"Create\"\n",
    "- \"Create from existing sources\"\n",
    "- Open project in \"New Window\"\n",
    "- Let PyCharm find importable python modules and do some indexing\n",
    "<br><br>\n",
    "- Top Menu --> PyCharm --> Preferences...\n",
    "- Project:nrnpy_tutorial --> Python Interpreter\n",
    "- Click settings gear on top right --> \"Show All\"\n",
    "- Click directory hierarchy icon on bottom \"Show paths for the selected interpreter\"\n",
    "- If not already in the list, make sure to \"Add\" the \"parent directory\" that contains the subdirectory with your cloned git repository\n",
    "- Back in the Preferences panel --> Tools --> Terminal\n",
    "- Make sure the \"Shell path\" points to your preferred bash executable (e.g. /bin/zsh)\n",
    "- Apply and close Preferences\n",
    "<br><br>\n",
    "- Click the \"Terminal\" tab on the bottom\n",
    "- `which python3` to make sure PyCharm Terminal agrees with the system terminal configuration\n",
    "<br><br>\n",
    "- Top Menu --> VCS --> Git --> Remotes\n",
    "- Make sure a remote location with the name \"origin\" points to the URL of the nrnpy_tutorial on GitHub"
   ]
  },
  {
   "cell_type": "markdown",
   "metadata": {},
   "source": [
    "## 3. Python datatypes: list, dict, array, lambda, defaultdict"
   ]
  },
  {
   "cell_type": "markdown",
   "metadata": {},
   "source": [
    "### list"
   ]
  },
  {
   "cell_type": "code",
   "execution_count": null,
   "metadata": {},
   "outputs": [],
   "source": [
    "this_list = []  # or list()"
   ]
  },
  {
   "cell_type": "code",
   "execution_count": null,
   "metadata": {},
   "outputs": [],
   "source": [
    "this_list.append(1)  # add an item to the end of a list"
   ]
  },
  {
   "cell_type": "code",
   "execution_count": null,
   "metadata": {},
   "outputs": [],
   "source": [
    "print(this_list)"
   ]
  },
  {
   "cell_type": "code",
   "execution_count": null,
   "metadata": {},
   "outputs": [],
   "source": [
    "this_list.append(2)"
   ]
  },
  {
   "cell_type": "code",
   "execution_count": null,
   "metadata": {},
   "outputs": [],
   "source": [
    "print(this_list)"
   ]
  },
  {
   "cell_type": "code",
   "execution_count": null,
   "metadata": {},
   "outputs": [],
   "source": [
    "# iterate over the values of the items in a list\n",
    "for item in this_list:\n",
    "    print(item)"
   ]
  },
  {
   "cell_type": "code",
   "execution_count": null,
   "metadata": {},
   "outputs": [],
   "source": [
    "# iterate over both the indexes and the values of the items in a list\n",
    "for index, item in enumerate(this_list):\n",
    "    print(index, item)"
   ]
  },
  {
   "cell_type": "code",
   "execution_count": null,
   "metadata": {},
   "outputs": [],
   "source": [
    "len(this_list)  # return the number of items in a list"
   ]
  },
  {
   "cell_type": "code",
   "execution_count": null,
   "metadata": {},
   "outputs": [],
   "source": [
    "this_list.remove(1)  # remove a specific item from a list"
   ]
  },
  {
   "cell_type": "code",
   "execution_count": null,
   "metadata": {},
   "outputs": [],
   "source": [
    "this_list.remove(3)  # what if the item is not in the list?"
   ]
  },
  {
   "cell_type": "code",
   "execution_count": null,
   "metadata": {},
   "outputs": [],
   "source": [
    "print(this_list)"
   ]
  },
  {
   "cell_type": "markdown",
   "metadata": {},
   "source": [
    "### dict"
   ]
  },
  {
   "cell_type": "code",
   "execution_count": null,
   "metadata": {},
   "outputs": [],
   "source": [
    "this_dict = {}  # or dict()"
   ]
  },
  {
   "cell_type": "code",
   "execution_count": null,
   "metadata": {},
   "outputs": [],
   "source": [
    "this_dict['key1'] = 'value1'  # associate a key with a value in a dictionary (keys can be instances of most types)"
   ]
  },
  {
   "cell_type": "code",
   "execution_count": null,
   "metadata": {},
   "outputs": [],
   "source": [
    "print(this_dict)"
   ]
  },
  {
   "cell_type": "code",
   "execution_count": null,
   "metadata": {},
   "outputs": [],
   "source": [
    "this_dict['key2'] = 'value2'"
   ]
  },
  {
   "cell_type": "code",
   "execution_count": null,
   "metadata": {},
   "outputs": [],
   "source": [
    "print(this_dict)"
   ]
  },
  {
   "cell_type": "code",
   "execution_count": null,
   "metadata": {},
   "outputs": [],
   "source": [
    "# by default iterating over a dict just returns the keys\n",
    "for key in this_dict:\n",
    "    print(key)"
   ]
  },
  {
   "cell_type": "code",
   "execution_count": null,
   "metadata": {},
   "outputs": [],
   "source": [
    "for key in this_dict.keys():\n",
    "    print(key)"
   ]
  },
  {
   "cell_type": "code",
   "execution_count": null,
   "metadata": {},
   "outputs": [],
   "source": [
    "type(this_dict.keys())  # the keys() method returns a \"view\" of the keys, not a list of the keys"
   ]
  },
  {
   "cell_type": "code",
   "execution_count": null,
   "metadata": {},
   "outputs": [],
   "source": [
    "print(this_dict.keys())"
   ]
  },
  {
   "cell_type": "code",
   "execution_count": null,
   "metadata": {},
   "outputs": [],
   "source": [
    "print(list(this_dict.keys()))  # you can convert a \"view\" into a list"
   ]
  },
  {
   "cell_type": "code",
   "execution_count": null,
   "metadata": {},
   "outputs": [],
   "source": [
    "# iterate over the values stored in a dictionary - may not be in the order you expect\n",
    "for value in this_dict.values():\n",
    "    print(value)"
   ]
  },
  {
   "cell_type": "code",
   "execution_count": null,
   "metadata": {},
   "outputs": [],
   "source": [
    "# iterate over both keys and values in a dictionary\n",
    "for key, value in this_dict.items():\n",
    "    print(key, value)"
   ]
  },
  {
   "cell_type": "code",
   "execution_count": null,
   "metadata": {},
   "outputs": [],
   "source": [
    "# iterate over both keys and values, as well as an index, or running count of the items in a dictionary\n",
    "for index, (key, value) in enumerate(this_dict.items()):\n",
    "    print(index, key, value)"
   ]
  },
  {
   "cell_type": "code",
   "execution_count": null,
   "metadata": {},
   "outputs": [],
   "source": [
    "this_dict.pop('key1')  # remove a specific key, value pair from a dictionary"
   ]
  },
  {
   "cell_type": "code",
   "execution_count": null,
   "metadata": {},
   "outputs": [],
   "source": [
    "print(this_dict)"
   ]
  },
  {
   "cell_type": "code",
   "execution_count": null,
   "metadata": {},
   "outputs": [],
   "source": [
    "this_dict.pop('key3')  # what if the key is not in the dictionary?"
   ]
  },
  {
   "cell_type": "markdown",
   "metadata": {},
   "source": [
    "### array"
   ]
  },
  {
   "cell_type": "code",
   "execution_count": null,
   "metadata": {},
   "outputs": [],
   "source": [
    "import numpy as np"
   ]
  },
  {
   "cell_type": "code",
   "execution_count": null,
   "metadata": {},
   "outputs": [],
   "source": [
    "this_array = np.array([0, 1, 2])"
   ]
  },
  {
   "cell_type": "code",
   "execution_count": null,
   "metadata": {},
   "outputs": [],
   "source": [
    "print(this_array)"
   ]
  },
  {
   "cell_type": "code",
   "execution_count": null,
   "metadata": {},
   "outputs": [],
   "source": [
    "type(this_array)"
   ]
  },
  {
   "cell_type": "code",
   "execution_count": null,
   "metadata": {},
   "outputs": [],
   "source": [
    "this_array.shape"
   ]
  },
  {
   "cell_type": "code",
   "execution_count": null,
   "metadata": {},
   "outputs": [],
   "source": [
    "len(this_array)"
   ]
  },
  {
   "cell_type": "code",
   "execution_count": null,
   "metadata": {},
   "outputs": [],
   "source": [
    "this_array = np.array(list(range(1, 4)))"
   ]
  },
  {
   "cell_type": "code",
   "execution_count": null,
   "metadata": {},
   "outputs": [],
   "source": [
    "print(this_array)"
   ]
  },
  {
   "cell_type": "code",
   "execution_count": null,
   "metadata": {},
   "outputs": [],
   "source": [
    "this_array = np.arange(1, 8, 2)"
   ]
  },
  {
   "cell_type": "code",
   "execution_count": null,
   "metadata": {},
   "outputs": [],
   "source": [
    "print(this_array)"
   ]
  },
  {
   "cell_type": "code",
   "execution_count": null,
   "metadata": {},
   "outputs": [],
   "source": [
    "for index, value in enumerate(this_array):\n",
    "    print(index, value)"
   ]
  },
  {
   "cell_type": "code",
   "execution_count": null,
   "metadata": {},
   "outputs": [],
   "source": [
    "print(this_array[::-1])  # print the items in an array in reverse order"
   ]
  },
  {
   "cell_type": "code",
   "execution_count": null,
   "metadata": {},
   "outputs": [],
   "source": [
    "print(this_array[:2])  # print the first 2 items in an array"
   ]
  },
  {
   "cell_type": "code",
   "execution_count": null,
   "metadata": {},
   "outputs": [],
   "source": [
    "print(this_array[::2])  # print every 2nd item in an array"
   ]
  },
  {
   "cell_type": "code",
   "execution_count": null,
   "metadata": {},
   "outputs": [],
   "source": [
    "this_array[3] = 2  # change the value of an item in an array by referring to its index"
   ]
  },
  {
   "cell_type": "code",
   "execution_count": null,
   "metadata": {},
   "outputs": [],
   "source": [
    "print(this_array)"
   ]
  },
  {
   "cell_type": "markdown",
   "metadata": {},
   "source": [
    "### lambda"
   ]
  },
  {
   "cell_type": "code",
   "execution_count": null,
   "metadata": {},
   "outputs": [],
   "source": [
    "# A standard way to define a callable function with input arguments is:\n",
    "def func_with_overhead(x):\n",
    "    return x ** 2.\n",
    "\n",
    "x = np.linspace(0., 10., 11)\n",
    "y = func_with_overhead(x)\n",
    "\n",
    "print('x:', x)\n",
    "print('y:', y)"
   ]
  },
  {
   "cell_type": "code",
   "execution_count": null,
   "metadata": {},
   "outputs": [],
   "source": [
    "# An alternative way to create simple callable is:\n",
    "func_light = lambda x: x ** 2.\n",
    "\n",
    "y = func_light(x)\n",
    "\n",
    "print('x:', x)\n",
    "print('y:', y)"
   ]
  },
  {
   "cell_type": "markdown",
   "metadata": {},
   "source": [
    "### defaultdict"
   ]
  },
  {
   "cell_type": "code",
   "execution_count": null,
   "metadata": {},
   "outputs": [],
   "source": [
    "from collections import defaultdict"
   ]
  },
  {
   "cell_type": "markdown",
   "metadata": {},
   "source": [
    "### Great for building data structures with nested dictionaries and lists"
   ]
  },
  {
   "cell_type": "code",
   "execution_count": null,
   "metadata": {},
   "outputs": [],
   "source": [
    "standard_dict = {}\n",
    "standard_dict['Aaron']['hair color'] = 'brown'"
   ]
  },
  {
   "cell_type": "code",
   "execution_count": null,
   "metadata": {},
   "outputs": [],
   "source": [
    "if 'Aaron' not in standard_dict:\n",
    "    standard_dict['Aaron'] = {}\n",
    "standard_dict['Aaron']['hair color'] = 'brown'\n",
    "\n",
    "print(standard_dict)"
   ]
  },
  {
   "cell_type": "code",
   "execution_count": null,
   "metadata": {},
   "outputs": [],
   "source": [
    "convenient_nested_dict = defaultdict(dict)\n",
    "convenient_nested_dict['Aaron']['hair color'] = 'brown'\n",
    "\n",
    "print(convenient_nested_dict)"
   ]
  },
  {
   "cell_type": "code",
   "execution_count": null,
   "metadata": {},
   "outputs": [],
   "source": [
    "convenient_dict_of_dict_of_list = defaultdict(lambda: defaultdict(list))  # defaultdicts have to be constructed with a callable"
   ]
  },
  {
   "cell_type": "code",
   "execution_count": null,
   "metadata": {},
   "outputs": [],
   "source": [
    "convenient_dict_of_dict_of_list['Aaron']['favorite foods'].extend(['sushi', 'steak', 'mujadara'])\n",
    "\n",
    "print(convenient_dict_of_dict_of_list)"
   ]
  },
  {
   "cell_type": "code",
   "execution_count": null,
   "metadata": {},
   "outputs": [],
   "source": [
    "print(convenient_dict_of_dict_of_list['Aaron']['favorite foods'])"
   ]
  },
  {
   "cell_type": "markdown",
   "metadata": {},
   "source": [
    "## 4. Local and global variables: scope and namespaces"
   ]
  },
  {
   "cell_type": "code",
   "execution_count": null,
   "metadata": {},
   "outputs": [],
   "source": [
    "a = 10\n",
    "\n",
    "def modify_a():\n",
    "    a = 20\n",
    "    print('inside modify_a: value of a: %i' % a)\n",
    "    \n",
    "print('outside modify_a: value of a before modify: %i' % a)\n",
    "\n",
    "modify_a()\n",
    "\n",
    "print('outside modify_a: value of a after modify: %i' % a)"
   ]
  },
  {
   "cell_type": "markdown",
   "metadata": {},
   "source": [
    "### globals() and locals() dictionaries"
   ]
  },
  {
   "cell_type": "code",
   "execution_count": null,
   "metadata": {},
   "outputs": [],
   "source": [
    "globals()"
   ]
  },
  {
   "cell_type": "code",
   "execution_count": null,
   "metadata": {},
   "outputs": [],
   "source": [
    "'a' in globals()"
   ]
  },
  {
   "cell_type": "code",
   "execution_count": null,
   "metadata": {},
   "outputs": [],
   "source": [
    "globals()['a']"
   ]
  },
  {
   "cell_type": "code",
   "execution_count": null,
   "metadata": {},
   "outputs": [],
   "source": [
    "locals()"
   ]
  },
  {
   "cell_type": "code",
   "execution_count": null,
   "metadata": {},
   "outputs": [],
   "source": [
    "a = 10\n",
    "\n",
    "def modify_a():\n",
    "    a = 20\n",
    "    print('inside modify_a: value of a: %i' % a)\n",
    "    print('locals():')\n",
    "    print(locals())\n",
    "    \n",
    "print('outside modify_a: value of a before modify: %i' % a)\n",
    "\n",
    "modify_a()\n",
    "\n",
    "print('outside modify_a: value of a after modify: %i' % a)"
   ]
  },
  {
   "cell_type": "code",
   "execution_count": null,
   "metadata": {},
   "outputs": [],
   "source": [
    "a = 10\n",
    "\n",
    "def modify_a():\n",
    "    global a\n",
    "    a = 20\n",
    "    print('inside modify_a: value of a: %i' % a)\n",
    "    print('locals():')\n",
    "    print(locals())\n",
    "    \n",
    "print('outside modify_a: value of a before modify: %i' % a)\n",
    "\n",
    "modify_a()\n",
    "\n",
    "print('outside modify_a: value of a after modify: %i' % a)"
   ]
  },
  {
   "cell_type": "code",
   "execution_count": null,
   "metadata": {},
   "outputs": [],
   "source": [
    "a = 10\n",
    "\n",
    "def modify_a(a):  # this is a required positional argument\n",
    "    a = 20\n",
    "    print('inside modify_a: value of a: %i' % a)\n",
    "    print('locals():')\n",
    "    print(locals())\n",
    "    \n",
    "print('outside modify_a: value of a before modify: %i' % a)\n",
    "\n",
    "modify_a(a)\n",
    "\n",
    "print('outside modify_a: value of a after modify: %i' % a)"
   ]
  },
  {
   "cell_type": "code",
   "execution_count": null,
   "metadata": {},
   "outputs": [],
   "source": [
    "a = 10\n",
    "\n",
    "def modify_a(a=15):  # this is an optional keyword argument with a default value\n",
    "    print('inside modify_a: value of a: %i' % a)\n",
    "    print('locals():')\n",
    "    print(locals())\n",
    "    \n",
    "print('outside modify_a: value of a before modify: %i' % a)\n",
    "\n",
    "modify_a()\n",
    "\n",
    "print('outside modify_a: value of a after modify: %i' % a)"
   ]
  },
  {
   "cell_type": "code",
   "execution_count": null,
   "metadata": {},
   "outputs": [],
   "source": [
    "a = 10\n",
    "\n",
    "def modify_a(a=15):  # this is an optional keyword argument with a default value\n",
    "    print('inside modify_a: value of a: %i' % a)\n",
    "    print('locals():')\n",
    "    print(locals())\n",
    "    \n",
    "print('outside modify_a: value of a before modify: %i' % a)\n",
    "\n",
    "modify_a(a)\n",
    "\n",
    "print('outside modify_a: value of a after modify: %i' % a)"
   ]
  },
  {
   "cell_type": "code",
   "execution_count": null,
   "metadata": {},
   "outputs": [],
   "source": [
    "a = 10\n",
    "\n",
    "def modify_a(a, verbose=False):  # this has both a required positional argument and an optional keyword argument with a default value\n",
    "    a = 20\n",
    "    if verbose:\n",
    "        print('inside modify_a: value of a: %i' % a)\n",
    "        print('locals():')\n",
    "        print(locals())\n",
    "    \n",
    "print('outside modify_a: value of a before modify: %i' % a)\n",
    "\n",
    "modify_a(verbose=True)\n",
    "\n",
    "print('outside modify_a: value of a after modify: %i' % a)"
   ]
  },
  {
   "cell_type": "code",
   "execution_count": null,
   "metadata": {},
   "outputs": [],
   "source": [
    "a = 10\n",
    "\n",
    "def modify_a(a, verbose=False):  # this has both a required positional argument and an optional keyword argument with a default value\n",
    "    a = 20\n",
    "    if verbose:\n",
    "        print('inside modify_a: value of a: %i' % a)\n",
    "        print('locals():')\n",
    "        print(locals())\n",
    "    \n",
    "print('outside modify_a: value of a before modify: %i' % a)\n",
    "\n",
    "modify_a(a, verbose=True)\n",
    "\n",
    "print('outside modify_a: value of a after modify: %i' % a)"
   ]
  },
  {
   "cell_type": "code",
   "execution_count": null,
   "metadata": {},
   "outputs": [],
   "source": [
    "a = 10\n",
    "\n",
    "def modify_a(*args, **kwargs):  # generic way to catch unknown arguments\n",
    "    print('args: ', args)\n",
    "    print('kwargs: ', kwargs)\n",
    "    if 'a' in kwargs:\n",
    "        a = kwargs['a']\n",
    "    else:\n",
    "        a = 20\n",
    "    if 'verbose' in kwargs and kwargs['verbose']:\n",
    "        print('inside modify_a: value of a: %i' % a)\n",
    "        print('locals():')\n",
    "        print(locals())\n",
    "    \n",
    "print('outside modify_a: value of a before modify: %i' % a)\n",
    "\n",
    "modify_a(a, verbose=True)\n",
    "\n",
    "print('outside modify_a: value of a after modify: %i' % a)"
   ]
  },
  {
   "cell_type": "code",
   "execution_count": null,
   "metadata": {},
   "outputs": [],
   "source": [
    "a = 10\n",
    "\n",
    "def modify_a(*args, **kwargs):  # generic way to catch unknown arguments\n",
    "    print('args: ', args)\n",
    "    print('kwargs: ', kwargs)\n",
    "    if 'a' in kwargs:\n",
    "        a = kwargs['a']\n",
    "    else:\n",
    "        a = 20\n",
    "    if 'verbose' in kwargs and kwargs['verbose']:\n",
    "        print('inside modify_a: value of a: %i' % a)\n",
    "        print('locals():')\n",
    "        print(locals())\n",
    "    \n",
    "print('outside modify_a: value of a before modify: %i' % a)\n",
    "\n",
    "modify_a(a=10, verbose=True)\n",
    "\n",
    "print('outside modify_a: value of a after modify: %i' % a)"
   ]
  },
  {
   "cell_type": "markdown",
   "metadata": {},
   "source": [
    "## 5. click - a convenient module for providing arguments via command line\n",
    "\n",
    "## 6. ipyparallel - bulletin-board-style parallelism"
   ]
  },
  {
   "cell_type": "markdown",
   "metadata": {},
   "source": [
    "### Switch to Pycharm - nrnpy_tutorial repository"
   ]
  },
  {
   "cell_type": "code",
   "execution_count": null,
   "metadata": {},
   "outputs": [],
   "source": []
  }
 ],
 "metadata": {
  "kernelspec": {
   "display_name": "Python 3",
   "language": "python",
   "name": "python3"
  },
  "language_info": {
   "codemirror_mode": {
    "name": "ipython",
    "version": 3
   },
   "file_extension": ".py",
   "mimetype": "text/x-python",
   "name": "python",
   "nbconvert_exporter": "python",
   "pygments_lexer": "ipython3",
   "version": "3.7.6"
  }
 },
 "nbformat": 4,
 "nbformat_minor": 4
}
