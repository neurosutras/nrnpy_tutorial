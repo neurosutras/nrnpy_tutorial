{
 "cells": [
  {
   "cell_type": "markdown",
   "metadata": {},
   "source": [
    "# Introduction to Parallel Programming in Python"
   ]
  },
  {
   "cell_type": "markdown",
   "metadata": {},
   "source": [
    "## Tutorial goals:"
   ]
  },
  {
   "cell_type": "markdown",
   "metadata": {},
   "source": [
    "1. Use bash to check system configuration\n",
    "2. Git, Pycharm integration\n",
    "3. Python datatypes: list, dict, array, lambda, defaultdict\n",
    "4. Local and global variables: scope and namespaces\n",
    "5. click - a convenient module for providing arguments via command line\n",
    "6. ipyparallel - bulletin-board-style parallelism\n",
    "\n",
    "### Probably not until next week:\n",
    "7. mpi4py - collective parallelism\n",
    "8. mpi4py.futures - bulletin-board style parallelism\n",
    "9. Intro to nested.parallel"
   ]
  },
  {
   "cell_type": "markdown",
   "metadata": {},
   "source": [
    "## 1. Use bash to check system configuration"
   ]
  },
  {
   "cell_type": "markdown",
   "metadata": {},
   "source": [
    "`pwd`  # Print currently accessed directory "
   ]
  },
  {
   "cell_type": "markdown",
   "metadata": {},
   "source": [
    "`echo $HOME`  # print the contents of the bash variable `HOME`"
   ]
  },
  {
   "cell_type": "markdown",
   "metadata": {},
   "source": [
    "`cd $HOME`  # change to the directory `HOME`"
   ]
  },
  {
   "cell_type": "markdown",
   "metadata": {},
   "source": [
    "`echo $PATH`  # print the contents of the bash variable `PATH`"
   ]
  },
  {
   "cell_type": "markdown",
   "metadata": {},
   "source": [
    "`which -a python`  # print the directories in the `PATH` that contain a version of python"
   ]
  },
  {
   "cell_type": "markdown",
   "metadata": {},
   "source": [
    "`echo $PYTHONPATH`  # print the directories where python looks for modules to import"
   ]
  },
  {
   "cell_type": "markdown",
   "metadata": {},
   "source": [
    "`mkdir src`  # create a new directory to put source code for python modules  \n",
    "`export PYTHONPATH=$HOME/src:$PYTHONPATH`  # append this src directory to the `PYTHONPATH`"
   ]
  },
  {
   "cell_type": "markdown",
   "metadata": {},
   "source": [
    "`ls -a`  # list all contents of current directory, including hidden files"
   ]
  },
  {
   "cell_type": "markdown",
   "metadata": {},
   "source": [
    "`nano .zshrc`  # Use a simple text editor to view the configuration of the bash terminal (In Mac OSX Catalina, the default bash terminal is zsh)  \n",
    "Add the above `\"export\"` line to `.zshrc` to permanently configure `PYTHONPATH`"
   ]
  },
  {
   "cell_type": "markdown",
   "metadata": {},
   "source": [
    "## 2. Git, Pycharm integration"
   ]
  },
  {
   "cell_type": "markdown",
   "metadata": {},
   "source": [
    "### git commands: pull, stash, add, commit, merge, push\n",
    "\n",
    "- `git clone https://github.com/neurosutras/nrnpy_tutorial.git .` - download a code repository and put it in a new subdirectory with the repository name\n",
    "- `git pull origin master` - download any changes to the branch with the name \"master\" from the remote location named \"origin\" since you cloned the repository, or since the last time you \"pulled\"\n",
    "    - PyCharm will warn you if you have made local changes that would be over-written by the pull operation\n",
    "- `git stash` - if you want the remote changes to replace your local copy, you can \"stash\" the changes. On the next pull, your local changes will be over-written\n",
    "- `git add` - if you want a file that you created to be tracked by git, you can right-click on the filename and \"add\" it the list of tracked files\n",
    "- `git commit` - if you have made changes to one or more tracked files locally and you want to update the remote repository, you need to \"commit\" them to the record. This is just a local operation and does not yet change the upstream remote origin. You can add a message to describe the changes in this commit, and attribute yourself as the author of the changes.\n",
    "- `git pull` - if in your latest commits, you have made changes to the same lines of the same files as another collaborator, and you try to \"pull\" remote changes, PyCharm will detect the conflict and give you the opportunity to decide line-by-line which version you would like to use going forward. This is called a \"merge\" operation.\n",
    "- `git push` - Once you have merged, commit your changes again. Then you are ready to \"push\" those commits to the remote origin."
   ]
  },
  {
   "cell_type": "markdown",
   "metadata": {},
   "source": [
    "https://www.jetbrains.com/pycharm/download/#section=mac\n",
    "\n",
    "### In Pycharm:\n",
    "- Top Menu --> File --> New Project...\n",
    "- Set \"Location\" to directory containing nrnpy_tutorial repository\n",
    "- Set \"Python Interpreter\" to \"Existing Interpreter\" and point to python executable in anaconda bin directory\n",
    "- \"Create\"\n",
    "- \"Create from existing sources\"\n",
    "- Open project in \"New Window\"\n",
    "- Let PyCharm find importable python modules and do some indexing\n",
    "<br><br>\n",
    "- Top Menu --> PyCharm --> Preferences...\n",
    "- Project:nrnpy_tutorial --> Python Interpreter\n",
    "- Click settings gear on top right --> \"Show All\"\n",
    "- Click directory hierarchy icon on bottom \"Show paths for the selected interpreter\"\n",
    "- If not already in the list, make sure to \"Add\" the \"parent directory\" that contains the subdirectory with your cloned git repository\n",
    "- Back in the Preferences panel --> Tools --> Terminal\n",
    "- Make sure the \"Shell path\" points to your preferred bash executable (e.g. /bin/zsh)\n",
    "- Apply and close Preferences\n",
    "<br><br>\n",
    "- Click the \"Terminal\" tab on the bottom\n",
    "- `which python3` to make sure PyCharm Terminal agrees with the system terminal configuration\n",
    "<br><br>\n",
    "- Top Menu --> VCS --> Git --> Remotes\n",
    "- Make sure a remote location with the name \"origin\" points to the URL of the nrnpy_tutorial on GitHub"
   ]
  },
  {
   "cell_type": "markdown",
   "metadata": {},
   "source": [
    "## 3. Python datatypes: list, dict, array, lambda, defaultdict"
   ]
  },
  {
   "cell_type": "markdown",
   "metadata": {},
   "source": [
    "### list"
   ]
  },
  {
   "cell_type": "code",
   "execution_count": 1,
   "metadata": {},
   "outputs": [],
   "source": [
    "this_list = []  # or list()"
   ]
  },
  {
   "cell_type": "code",
   "execution_count": 2,
   "metadata": {},
   "outputs": [],
   "source": [
    "this_list.append(1)  # add an item to the end of a list"
   ]
  },
  {
   "cell_type": "code",
   "execution_count": 3,
   "metadata": {},
   "outputs": [
    {
     "name": "stdout",
     "output_type": "stream",
     "text": [
      "[1]\n"
     ]
    }
   ],
   "source": [
    "print(this_list)"
   ]
  },
  {
   "cell_type": "code",
   "execution_count": 4,
   "metadata": {},
   "outputs": [],
   "source": [
    "this_list.append(2)"
   ]
  },
  {
   "cell_type": "code",
   "execution_count": 5,
   "metadata": {},
   "outputs": [
    {
     "name": "stdout",
     "output_type": "stream",
     "text": [
      "[1, 2]\n"
     ]
    }
   ],
   "source": [
    "print(this_list)"
   ]
  },
  {
   "cell_type": "code",
   "execution_count": 6,
   "metadata": {},
   "outputs": [
    {
     "name": "stdout",
     "output_type": "stream",
     "text": [
      "1\n",
      "2\n"
     ]
    }
   ],
   "source": [
    "# iterate over the values of the items in a list\n",
    "for item in this_list:\n",
    "    print(item)"
   ]
  },
  {
   "cell_type": "code",
   "execution_count": 7,
   "metadata": {},
   "outputs": [
    {
     "name": "stdout",
     "output_type": "stream",
     "text": [
      "0 1\n",
      "1 2\n"
     ]
    }
   ],
   "source": [
    "# iterate over both the indexes and the values of the items in a list\n",
    "for index, item in enumerate(this_list):\n",
    "    print(index, item)"
   ]
  },
  {
   "cell_type": "code",
   "execution_count": 8,
   "metadata": {},
   "outputs": [
    {
     "data": {
      "text/plain": [
       "2"
      ]
     },
     "execution_count": 8,
     "metadata": {},
     "output_type": "execute_result"
    }
   ],
   "source": [
    "len(this_list)  # return the number of items in a list"
   ]
  },
  {
   "cell_type": "code",
   "execution_count": 9,
   "metadata": {},
   "outputs": [],
   "source": [
    "this_list.remove(1)  # remove a specific item from a list"
   ]
  },
  {
   "cell_type": "code",
   "execution_count": 10,
   "metadata": {},
   "outputs": [
    {
     "ename": "ValueError",
     "evalue": "list.remove(x): x not in list",
     "output_type": "error",
     "traceback": [
      "\u001b[0;31m---------------------------------------------------------------------------\u001b[0m",
      "\u001b[0;31mValueError\u001b[0m                                Traceback (most recent call last)",
      "\u001b[0;32m<ipython-input-10-184665f32bdb>\u001b[0m in \u001b[0;36m<module>\u001b[0;34m\u001b[0m\n\u001b[0;32m----> 1\u001b[0;31m \u001b[0mthis_list\u001b[0m\u001b[0;34m.\u001b[0m\u001b[0mremove\u001b[0m\u001b[0;34m(\u001b[0m\u001b[0;36m3\u001b[0m\u001b[0;34m)\u001b[0m  \u001b[0;31m# what if the item is not in the list?\u001b[0m\u001b[0;34m\u001b[0m\u001b[0;34m\u001b[0m\u001b[0m\n\u001b[0m",
      "\u001b[0;31mValueError\u001b[0m: list.remove(x): x not in list"
     ]
    }
   ],
   "source": [
    "this_list.remove(3)  # what if the item is not in the list?"
   ]
  },
  {
   "cell_type": "code",
   "execution_count": 11,
   "metadata": {},
   "outputs": [
    {
     "name": "stdout",
     "output_type": "stream",
     "text": [
      "[2]\n"
     ]
    }
   ],
   "source": [
    "print(this_list)"
   ]
  },
  {
   "cell_type": "markdown",
   "metadata": {},
   "source": [
    "### dict"
   ]
  },
  {
   "cell_type": "code",
   "execution_count": 12,
   "metadata": {},
   "outputs": [],
   "source": [
    "this_dict = {}  # or dict()"
   ]
  },
  {
   "cell_type": "code",
   "execution_count": 13,
   "metadata": {},
   "outputs": [],
   "source": [
    "this_dict['key1'] = 'value1'  # associate a key with a value in a dictionary (keys can be instances of most types)"
   ]
  },
  {
   "cell_type": "code",
   "execution_count": 14,
   "metadata": {},
   "outputs": [
    {
     "name": "stdout",
     "output_type": "stream",
     "text": [
      "{'key1': 'value1'}\n"
     ]
    }
   ],
   "source": [
    "print(this_dict)"
   ]
  },
  {
   "cell_type": "code",
   "execution_count": 15,
   "metadata": {},
   "outputs": [],
   "source": [
    "this_dict['key2'] = 'value2'"
   ]
  },
  {
   "cell_type": "code",
   "execution_count": 16,
   "metadata": {},
   "outputs": [
    {
     "name": "stdout",
     "output_type": "stream",
     "text": [
      "{'key1': 'value1', 'key2': 'value2'}\n"
     ]
    }
   ],
   "source": [
    "print(this_dict)"
   ]
  },
  {
   "cell_type": "code",
   "execution_count": 17,
   "metadata": {},
   "outputs": [
    {
     "name": "stdout",
     "output_type": "stream",
     "text": [
      "key1\n",
      "key2\n"
     ]
    }
   ],
   "source": [
    "# by default iterating over a dict just returns the keys\n",
    "for key in this_dict:\n",
    "    print(key)"
   ]
  },
  {
   "cell_type": "code",
   "execution_count": 18,
   "metadata": {},
   "outputs": [
    {
     "name": "stdout",
     "output_type": "stream",
     "text": [
      "key1\n",
      "key2\n"
     ]
    }
   ],
   "source": [
    "for key in this_dict.keys():\n",
    "    print(key)"
   ]
  },
  {
   "cell_type": "code",
   "execution_count": 19,
   "metadata": {},
   "outputs": [
    {
     "data": {
      "text/plain": [
       "dict_keys"
      ]
     },
     "execution_count": 19,
     "metadata": {},
     "output_type": "execute_result"
    }
   ],
   "source": [
    "type(this_dict.keys())  # the keys() method returns a \"view\" of the keys, not a list of the keys"
   ]
  },
  {
   "cell_type": "code",
   "execution_count": 20,
   "metadata": {},
   "outputs": [
    {
     "name": "stdout",
     "output_type": "stream",
     "text": [
      "dict_keys(['key1', 'key2'])\n"
     ]
    }
   ],
   "source": [
    "print(this_dict.keys())"
   ]
  },
  {
   "cell_type": "code",
   "execution_count": 21,
   "metadata": {},
   "outputs": [
    {
     "name": "stdout",
     "output_type": "stream",
     "text": [
      "['key1', 'key2']\n"
     ]
    }
   ],
   "source": [
    "print(list(this_dict.keys()))  # you can convert a \"view\" into a list"
   ]
  },
  {
   "cell_type": "code",
   "execution_count": 22,
   "metadata": {},
   "outputs": [
    {
     "name": "stdout",
     "output_type": "stream",
     "text": [
      "value1\n",
      "value2\n"
     ]
    }
   ],
   "source": [
    "# iterate over the values stored in a dictionary - may not be in the order you expect\n",
    "for value in this_dict.values():\n",
    "    print(value)"
   ]
  },
  {
   "cell_type": "code",
   "execution_count": 23,
   "metadata": {},
   "outputs": [
    {
     "name": "stdout",
     "output_type": "stream",
     "text": [
      "key1 value1\n",
      "key2 value2\n"
     ]
    }
   ],
   "source": [
    "# iterate over both keys and values in a dictionary\n",
    "for key, value in this_dict.items():\n",
    "    print(key, value)"
   ]
  },
  {
   "cell_type": "code",
   "execution_count": 24,
   "metadata": {},
   "outputs": [
    {
     "name": "stdout",
     "output_type": "stream",
     "text": [
      "0 key1 value1\n",
      "1 key2 value2\n"
     ]
    }
   ],
   "source": [
    "# iterate over both keys and values, as well as an index, or running count of the items in a dictionary\n",
    "for index, (key, value) in enumerate(this_dict.items()):\n",
    "    print(index, key, value)"
   ]
  },
  {
   "cell_type": "code",
   "execution_count": 25,
   "metadata": {},
   "outputs": [
    {
     "data": {
      "text/plain": [
       "'value1'"
      ]
     },
     "execution_count": 25,
     "metadata": {},
     "output_type": "execute_result"
    }
   ],
   "source": [
    "this_dict.pop('key1')  # remove a specific key, value pair from a dictionary"
   ]
  },
  {
   "cell_type": "code",
   "execution_count": 26,
   "metadata": {},
   "outputs": [
    {
     "name": "stdout",
     "output_type": "stream",
     "text": [
      "{'key2': 'value2'}\n"
     ]
    }
   ],
   "source": [
    "print(this_dict)"
   ]
  },
  {
   "cell_type": "code",
   "execution_count": 27,
   "metadata": {},
   "outputs": [
    {
     "ename": "KeyError",
     "evalue": "'key3'",
     "output_type": "error",
     "traceback": [
      "\u001b[0;31m---------------------------------------------------------------------------\u001b[0m",
      "\u001b[0;31mKeyError\u001b[0m                                  Traceback (most recent call last)",
      "\u001b[0;32m<ipython-input-27-e8793ea3d488>\u001b[0m in \u001b[0;36m<module>\u001b[0;34m\u001b[0m\n\u001b[0;32m----> 1\u001b[0;31m \u001b[0mthis_dict\u001b[0m\u001b[0;34m.\u001b[0m\u001b[0mpop\u001b[0m\u001b[0;34m(\u001b[0m\u001b[0;34m'key3'\u001b[0m\u001b[0;34m)\u001b[0m  \u001b[0;31m# what if the key is not in the dictionary?\u001b[0m\u001b[0;34m\u001b[0m\u001b[0;34m\u001b[0m\u001b[0m\n\u001b[0m",
      "\u001b[0;31mKeyError\u001b[0m: 'key3'"
     ]
    }
   ],
   "source": [
    "this_dict.pop('key3')  # what if the key is not in the dictionary?"
   ]
  },
  {
   "cell_type": "markdown",
   "metadata": {},
   "source": [
    "### array"
   ]
  },
  {
   "cell_type": "code",
   "execution_count": 28,
   "metadata": {},
   "outputs": [],
   "source": [
    "import numpy as np"
   ]
  },
  {
   "cell_type": "code",
   "execution_count": 29,
   "metadata": {},
   "outputs": [],
   "source": [
    "this_array = np.array([0, 1, 2])"
   ]
  },
  {
   "cell_type": "code",
   "execution_count": 30,
   "metadata": {},
   "outputs": [
    {
     "name": "stdout",
     "output_type": "stream",
     "text": [
      "[0 1 2]\n"
     ]
    }
   ],
   "source": [
    "print(this_array)"
   ]
  },
  {
   "cell_type": "code",
   "execution_count": 31,
   "metadata": {},
   "outputs": [
    {
     "data": {
      "text/plain": [
       "numpy.ndarray"
      ]
     },
     "execution_count": 31,
     "metadata": {},
     "output_type": "execute_result"
    }
   ],
   "source": [
    "type(this_array)"
   ]
  },
  {
   "cell_type": "code",
   "execution_count": 32,
   "metadata": {},
   "outputs": [
    {
     "data": {
      "text/plain": [
       "(3,)"
      ]
     },
     "execution_count": 32,
     "metadata": {},
     "output_type": "execute_result"
    }
   ],
   "source": [
    "this_array.shape"
   ]
  },
  {
   "cell_type": "code",
   "execution_count": 33,
   "metadata": {},
   "outputs": [
    {
     "data": {
      "text/plain": [
       "3"
      ]
     },
     "execution_count": 33,
     "metadata": {},
     "output_type": "execute_result"
    }
   ],
   "source": [
    "len(this_array)"
   ]
  },
  {
   "cell_type": "code",
   "execution_count": 34,
   "metadata": {},
   "outputs": [],
   "source": [
    "this_array = np.array(list(range(1, 4)))"
   ]
  },
  {
   "cell_type": "code",
   "execution_count": 35,
   "metadata": {},
   "outputs": [
    {
     "name": "stdout",
     "output_type": "stream",
     "text": [
      "[1 2 3]\n"
     ]
    }
   ],
   "source": [
    "print(this_array)"
   ]
  },
  {
   "cell_type": "code",
   "execution_count": 36,
   "metadata": {},
   "outputs": [],
   "source": [
    "this_array = np.arange(1, 8, 2)"
   ]
  },
  {
   "cell_type": "code",
   "execution_count": 37,
   "metadata": {},
   "outputs": [
    {
     "name": "stdout",
     "output_type": "stream",
     "text": [
      "[1 3 5 7]\n"
     ]
    }
   ],
   "source": [
    "print(this_array)"
   ]
  },
  {
   "cell_type": "code",
   "execution_count": 38,
   "metadata": {},
   "outputs": [
    {
     "name": "stdout",
     "output_type": "stream",
     "text": [
      "0 1\n",
      "1 3\n",
      "2 5\n",
      "3 7\n"
     ]
    }
   ],
   "source": [
    "for index, value in enumerate(this_array):\n",
    "    print(index, value)"
   ]
  },
  {
   "cell_type": "code",
   "execution_count": 39,
   "metadata": {},
   "outputs": [
    {
     "name": "stdout",
     "output_type": "stream",
     "text": [
      "[7 5 3 1]\n"
     ]
    }
   ],
   "source": [
    "print(this_array[::-1])  # print the items in an array in reverse order"
   ]
  },
  {
   "cell_type": "code",
   "execution_count": 40,
   "metadata": {},
   "outputs": [
    {
     "name": "stdout",
     "output_type": "stream",
     "text": [
      "[1 3]\n"
     ]
    }
   ],
   "source": [
    "print(this_array[:2])  # print the first 2 items in an array"
   ]
  },
  {
   "cell_type": "code",
   "execution_count": 41,
   "metadata": {},
   "outputs": [
    {
     "name": "stdout",
     "output_type": "stream",
     "text": [
      "[1 5]\n"
     ]
    }
   ],
   "source": [
    "print(this_array[::2])  # print every 2nd item in an array"
   ]
  },
  {
   "cell_type": "code",
   "execution_count": 42,
   "metadata": {},
   "outputs": [],
   "source": [
    "this_array[3] = 2  # change the value of an item in an array by referring to its index"
   ]
  },
  {
   "cell_type": "code",
   "execution_count": 43,
   "metadata": {},
   "outputs": [
    {
     "name": "stdout",
     "output_type": "stream",
     "text": [
      "[1 3 5 2]\n"
     ]
    }
   ],
   "source": [
    "print(this_array)"
   ]
  },
  {
   "cell_type": "markdown",
   "metadata": {},
   "source": [
    "### lambda"
   ]
  },
  {
   "cell_type": "code",
   "execution_count": 44,
   "metadata": {},
   "outputs": [
    {
     "name": "stdout",
     "output_type": "stream",
     "text": [
      "x: [ 0.  1.  2.  3.  4.  5.  6.  7.  8.  9. 10.]\n",
      "y: [  0.   1.   4.   9.  16.  25.  36.  49.  64.  81. 100.]\n"
     ]
    }
   ],
   "source": [
    "# A standard way to define a callable function with input arguments is:\n",
    "def func_with_overhead(x):\n",
    "    return x ** 2.\n",
    "\n",
    "x = np.linspace(0., 10., 11)\n",
    "y = func_with_overhead(x)\n",
    "\n",
    "print('x:', x)\n",
    "print('y:', y)"
   ]
  },
  {
   "cell_type": "code",
   "execution_count": 45,
   "metadata": {},
   "outputs": [
    {
     "name": "stdout",
     "output_type": "stream",
     "text": [
      "x: [ 0.  1.  2.  3.  4.  5.  6.  7.  8.  9. 10.]\n",
      "y: [  0.   1.   4.   9.  16.  25.  36.  49.  64.  81. 100.]\n"
     ]
    }
   ],
   "source": [
    "# An alternative way to create simple callable is:\n",
    "func_light = lambda x: x ** 2.\n",
    "\n",
    "y = func_light(x)\n",
    "\n",
    "print('x:', x)\n",
    "print('y:', y)"
   ]
  },
  {
   "cell_type": "markdown",
   "metadata": {},
   "source": [
    "### defaultdict"
   ]
  },
  {
   "cell_type": "code",
   "execution_count": 46,
   "metadata": {},
   "outputs": [],
   "source": [
    "from collections import defaultdict"
   ]
  },
  {
   "cell_type": "markdown",
   "metadata": {},
   "source": [
    "### Great for building data structures with nested dictionaries and lists"
   ]
  },
  {
   "cell_type": "code",
   "execution_count": 47,
   "metadata": {},
   "outputs": [
    {
     "ename": "KeyError",
     "evalue": "'Aaron'",
     "output_type": "error",
     "traceback": [
      "\u001b[0;31m---------------------------------------------------------------------------\u001b[0m",
      "\u001b[0;31mKeyError\u001b[0m                                  Traceback (most recent call last)",
      "\u001b[0;32m<ipython-input-47-f772a19335f2>\u001b[0m in \u001b[0;36m<module>\u001b[0;34m\u001b[0m\n\u001b[1;32m      1\u001b[0m \u001b[0mstandard_dict\u001b[0m \u001b[0;34m=\u001b[0m \u001b[0;34m{\u001b[0m\u001b[0;34m}\u001b[0m\u001b[0;34m\u001b[0m\u001b[0;34m\u001b[0m\u001b[0m\n\u001b[0;32m----> 2\u001b[0;31m \u001b[0mstandard_dict\u001b[0m\u001b[0;34m[\u001b[0m\u001b[0;34m'Aaron'\u001b[0m\u001b[0;34m]\u001b[0m\u001b[0;34m[\u001b[0m\u001b[0;34m'hair color'\u001b[0m\u001b[0;34m]\u001b[0m \u001b[0;34m=\u001b[0m \u001b[0;34m'brown'\u001b[0m\u001b[0;34m\u001b[0m\u001b[0;34m\u001b[0m\u001b[0m\n\u001b[0m",
      "\u001b[0;31mKeyError\u001b[0m: 'Aaron'"
     ]
    }
   ],
   "source": [
    "standard_dict = {}\n",
    "standard_dict['Aaron']['hair color'] = 'brown'"
   ]
  },
  {
   "cell_type": "code",
   "execution_count": 48,
   "metadata": {},
   "outputs": [
    {
     "name": "stdout",
     "output_type": "stream",
     "text": [
      "{'Aaron': {'hair color': 'brown'}}\n"
     ]
    }
   ],
   "source": [
    "if 'Aaron' not in standard_dict:\n",
    "    standard_dict['Aaron'] = {}\n",
    "standard_dict['Aaron']['hair color'] = 'brown'\n",
    "\n",
    "print(standard_dict)"
   ]
  },
  {
   "cell_type": "code",
   "execution_count": 49,
   "metadata": {},
   "outputs": [
    {
     "name": "stdout",
     "output_type": "stream",
     "text": [
      "defaultdict(<class 'dict'>, {'Aaron': {'hair color': 'brown'}})\n"
     ]
    }
   ],
   "source": [
    "convenient_nested_dict = defaultdict(dict)\n",
    "convenient_nested_dict['Aaron']['hair color'] = 'brown'\n",
    "\n",
    "print(convenient_nested_dict)"
   ]
  },
  {
   "cell_type": "code",
   "execution_count": 51,
   "metadata": {},
   "outputs": [],
   "source": [
    "convenient_dict_of_dict_of_list = defaultdict(lambda: defaultdict(list))  # defaultdicts have to be constructed with a callable"
   ]
  },
  {
   "cell_type": "code",
   "execution_count": 52,
   "metadata": {},
   "outputs": [
    {
     "name": "stdout",
     "output_type": "stream",
     "text": [
      "defaultdict(<function <lambda> at 0x7f89581f5dd0>, {'Aaron': defaultdict(<class 'list'>, {'favorite foods': ['sushi', 'steak', 'mujadara']})})\n"
     ]
    }
   ],
   "source": [
    "convenient_dict_of_dict_of_list['Aaron']['favorite foods'].extend(['sushi', 'steak', 'mujadara'])\n",
    "\n",
    "print(convenient_dict_of_dict_of_list)"
   ]
  },
  {
   "cell_type": "code",
   "execution_count": 53,
   "metadata": {},
   "outputs": [
    {
     "name": "stdout",
     "output_type": "stream",
     "text": [
      "['sushi', 'steak', 'mujadara']\n"
     ]
    }
   ],
   "source": [
    "print(convenient_dict_of_dict_of_list['Aaron']['favorite foods'])"
   ]
  },
  {
   "cell_type": "markdown",
   "metadata": {},
   "source": [
    "## 4. Local and global variables: scope and namespaces"
   ]
  },
  {
   "cell_type": "code",
   "execution_count": 54,
   "metadata": {},
   "outputs": [
    {
     "name": "stdout",
     "output_type": "stream",
     "text": [
      "outside modify_a: value of a before modify: 10\n",
      "inside modify_a: value of a: 20\n",
      "outside modify_a: value of a after modify: 10\n"
     ]
    }
   ],
   "source": [
    "a = 10\n",
    "\n",
    "def modify_a():\n",
    "    a = 20\n",
    "    print('inside modify_a: value of a: %i' % a)\n",
    "    \n",
    "print('outside modify_a: value of a before modify: %i' % a)\n",
    "\n",
    "modify_a()\n",
    "\n",
    "print('outside modify_a: value of a after modify: %i' % a)"
   ]
  },
  {
   "cell_type": "markdown",
   "metadata": {},
   "source": [
    "### globals() and locals() dictionaries"
   ]
  },
  {
   "cell_type": "code",
   "execution_count": 55,
   "metadata": {},
   "outputs": [
    {
     "data": {
      "text/plain": [
       "{'__name__': '__main__',\n",
       " '__doc__': 'Automatically created module for IPython interactive environment',\n",
       " '__package__': None,\n",
       " '__loader__': None,\n",
       " '__spec__': None,\n",
       " '__builtin__': <module 'builtins' (built-in)>,\n",
       " '__builtins__': <module 'builtins' (built-in)>,\n",
       " '_ih': ['',\n",
       "  'this_list = []  # or list()',\n",
       "  'this_list.append(1)  # add an item to the end of a list',\n",
       "  'print(this_list)',\n",
       "  'this_list.append(2)',\n",
       "  'print(this_list)',\n",
       "  '# iterate over the values of the items in a list\\nfor item in this_list:\\n    print(item)',\n",
       "  '# iterate over both the indexes and the values of the items in a list\\nfor index, item in enumerate(this_list):\\n    print(index, item)',\n",
       "  'len(this_list)  # return the number of items in a list',\n",
       "  'this_list.remove(1)  # remove a specific item from a list',\n",
       "  'this_list.remove(3)  # what if the item is not in the list?',\n",
       "  'print(this_list)',\n",
       "  'this_dict = {}  # or dict()',\n",
       "  \"this_dict['key1'] = 'value1'  # associate a key with a value in a dictionary (keys can be instances of most types)\",\n",
       "  'print(this_dict)',\n",
       "  \"this_dict['key2'] = 'value2'\",\n",
       "  'print(this_dict)',\n",
       "  '# by default iterating over a dict just returns the keys\\nfor key in this_dict:\\n    print(key)',\n",
       "  'for key in this_dict.keys():\\n    print(key)',\n",
       "  'type(this_dict.keys())  # the keys() method returns a \"view\" of the keys, not a list of the keys',\n",
       "  'print(this_dict.keys())',\n",
       "  'print(list(this_dict.keys()))  # you can convert a \"view\" into a list',\n",
       "  '# iterate over the values stored in a dictionary - may not be in the order you expect\\nfor value in this_dict.values():\\n    print(value)',\n",
       "  '# iterate over both keys and values in a dictionary\\nfor key, value in this_dict.items():\\n    print(key, value)',\n",
       "  '# iterate over both keys and values, as well as an index, or running count of the items in a dictionary\\nfor index, (key, value) in enumerate(this_dict.items()):\\n    print(index, key, value)',\n",
       "  \"this_dict.pop('key1')  # remove a specific key, value pair from a dictionary\",\n",
       "  'print(this_dict)',\n",
       "  \"this_dict.pop('key3')  # what if the key is not in the dictionary?\",\n",
       "  'import numpy as np',\n",
       "  'this_array = np.array([0, 1, 2])',\n",
       "  'print(this_array)',\n",
       "  'type(this_array)',\n",
       "  'this_array.shape',\n",
       "  'len(this_array)',\n",
       "  'this_array = np.array(list(range(1, 4)))',\n",
       "  'print(this_array)',\n",
       "  'this_array = np.arange(1, 8, 2)',\n",
       "  'print(this_array)',\n",
       "  'for index, value in enumerate(this_array):\\n    print(index, value)',\n",
       "  'print(this_array[::-1])  # print the items in an array in reverse order',\n",
       "  'print(this_array[:2])  # print the first 2 items in an array',\n",
       "  'print(this_array[::2])  # print every 2nd item in an array',\n",
       "  'this_array[3] = 2  # change the value of an item in an array by referring to its index',\n",
       "  'print(this_array)',\n",
       "  \"# A standard way to define a callable function with input arguments is:\\ndef func_with_overhead(x):\\n    return x ** 2.\\n\\nx = np.linspace(0., 10., 11)\\ny = func_with_overhead(x)\\n\\nprint('x:', x)\\nprint('y:', y)\",\n",
       "  \"# An alternative way to create simple callable is:\\nfunc_light = lambda x: x ** 2.\\n\\ny = func_light(x)\\n\\nprint('x:', x)\\nprint('y:', y)\",\n",
       "  'from collections import defaultdict',\n",
       "  \"standard_dict = {}\\nstandard_dict['Aaron']['hair color'] = 'brown'\",\n",
       "  \"if 'Aaron' not in standard_dict:\\n    standard_dict['Aaron'] = {}\\nstandard_dict['Aaron']['hair color'] = 'brown'\\n\\nprint(standard_dict)\",\n",
       "  \"convenient_nested_dict = defaultdict(dict)\\nconvenient_nested_dict['Aaron']['hair color'] = 'brown'\\n\\nprint(convenient_nested_dict)\",\n",
       "  \"convenient_dict_of_dict_of_list['Aaron']['favorite foods'].extend(['sushi', 'steak', 'mujadara'])\\n\\nprint(convenient_dict_of_dict_of_list)\",\n",
       "  'convenient_dict_of_dict_of_list = defaultdict(lambda: defaultdict(list))  # defaultdicts have to be constructed with a callable',\n",
       "  \"convenient_dict_of_dict_of_list['Aaron']['favorite foods'].extend(['sushi', 'steak', 'mujadara'])\\n\\nprint(convenient_dict_of_dict_of_list)\",\n",
       "  \"print(convenient_dict_of_dict_of_list['Aaron']['favorite foods'])\",\n",
       "  \"a = 10\\n\\ndef modify_a():\\n    a = 20\\n    print('inside modify_a: value of a: %i' % a)\\n    \\nprint('outside modify_a: value of a before modify: %i' % a)\\n\\nmodify_a()\\n\\nprint('outside modify_a: value of a after modify: %i' % a)\",\n",
       "  'globals()'],\n",
       " '_oh': {8: 2,\n",
       "  19: dict_keys,\n",
       "  25: 'value1',\n",
       "  31: numpy.ndarray,\n",
       "  32: (3,),\n",
       "  33: 3},\n",
       " '_dh': ['/Users/aaronmil/src/nrnpy_tutorial'],\n",
       " 'In': ['',\n",
       "  'this_list = []  # or list()',\n",
       "  'this_list.append(1)  # add an item to the end of a list',\n",
       "  'print(this_list)',\n",
       "  'this_list.append(2)',\n",
       "  'print(this_list)',\n",
       "  '# iterate over the values of the items in a list\\nfor item in this_list:\\n    print(item)',\n",
       "  '# iterate over both the indexes and the values of the items in a list\\nfor index, item in enumerate(this_list):\\n    print(index, item)',\n",
       "  'len(this_list)  # return the number of items in a list',\n",
       "  'this_list.remove(1)  # remove a specific item from a list',\n",
       "  'this_list.remove(3)  # what if the item is not in the list?',\n",
       "  'print(this_list)',\n",
       "  'this_dict = {}  # or dict()',\n",
       "  \"this_dict['key1'] = 'value1'  # associate a key with a value in a dictionary (keys can be instances of most types)\",\n",
       "  'print(this_dict)',\n",
       "  \"this_dict['key2'] = 'value2'\",\n",
       "  'print(this_dict)',\n",
       "  '# by default iterating over a dict just returns the keys\\nfor key in this_dict:\\n    print(key)',\n",
       "  'for key in this_dict.keys():\\n    print(key)',\n",
       "  'type(this_dict.keys())  # the keys() method returns a \"view\" of the keys, not a list of the keys',\n",
       "  'print(this_dict.keys())',\n",
       "  'print(list(this_dict.keys()))  # you can convert a \"view\" into a list',\n",
       "  '# iterate over the values stored in a dictionary - may not be in the order you expect\\nfor value in this_dict.values():\\n    print(value)',\n",
       "  '# iterate over both keys and values in a dictionary\\nfor key, value in this_dict.items():\\n    print(key, value)',\n",
       "  '# iterate over both keys and values, as well as an index, or running count of the items in a dictionary\\nfor index, (key, value) in enumerate(this_dict.items()):\\n    print(index, key, value)',\n",
       "  \"this_dict.pop('key1')  # remove a specific key, value pair from a dictionary\",\n",
       "  'print(this_dict)',\n",
       "  \"this_dict.pop('key3')  # what if the key is not in the dictionary?\",\n",
       "  'import numpy as np',\n",
       "  'this_array = np.array([0, 1, 2])',\n",
       "  'print(this_array)',\n",
       "  'type(this_array)',\n",
       "  'this_array.shape',\n",
       "  'len(this_array)',\n",
       "  'this_array = np.array(list(range(1, 4)))',\n",
       "  'print(this_array)',\n",
       "  'this_array = np.arange(1, 8, 2)',\n",
       "  'print(this_array)',\n",
       "  'for index, value in enumerate(this_array):\\n    print(index, value)',\n",
       "  'print(this_array[::-1])  # print the items in an array in reverse order',\n",
       "  'print(this_array[:2])  # print the first 2 items in an array',\n",
       "  'print(this_array[::2])  # print every 2nd item in an array',\n",
       "  'this_array[3] = 2  # change the value of an item in an array by referring to its index',\n",
       "  'print(this_array)',\n",
       "  \"# A standard way to define a callable function with input arguments is:\\ndef func_with_overhead(x):\\n    return x ** 2.\\n\\nx = np.linspace(0., 10., 11)\\ny = func_with_overhead(x)\\n\\nprint('x:', x)\\nprint('y:', y)\",\n",
       "  \"# An alternative way to create simple callable is:\\nfunc_light = lambda x: x ** 2.\\n\\ny = func_light(x)\\n\\nprint('x:', x)\\nprint('y:', y)\",\n",
       "  'from collections import defaultdict',\n",
       "  \"standard_dict = {}\\nstandard_dict['Aaron']['hair color'] = 'brown'\",\n",
       "  \"if 'Aaron' not in standard_dict:\\n    standard_dict['Aaron'] = {}\\nstandard_dict['Aaron']['hair color'] = 'brown'\\n\\nprint(standard_dict)\",\n",
       "  \"convenient_nested_dict = defaultdict(dict)\\nconvenient_nested_dict['Aaron']['hair color'] = 'brown'\\n\\nprint(convenient_nested_dict)\",\n",
       "  \"convenient_dict_of_dict_of_list['Aaron']['favorite foods'].extend(['sushi', 'steak', 'mujadara'])\\n\\nprint(convenient_dict_of_dict_of_list)\",\n",
       "  'convenient_dict_of_dict_of_list = defaultdict(lambda: defaultdict(list))  # defaultdicts have to be constructed with a callable',\n",
       "  \"convenient_dict_of_dict_of_list['Aaron']['favorite foods'].extend(['sushi', 'steak', 'mujadara'])\\n\\nprint(convenient_dict_of_dict_of_list)\",\n",
       "  \"print(convenient_dict_of_dict_of_list['Aaron']['favorite foods'])\",\n",
       "  \"a = 10\\n\\ndef modify_a():\\n    a = 20\\n    print('inside modify_a: value of a: %i' % a)\\n    \\nprint('outside modify_a: value of a before modify: %i' % a)\\n\\nmodify_a()\\n\\nprint('outside modify_a: value of a after modify: %i' % a)\",\n",
       "  'globals()'],\n",
       " 'Out': {8: 2,\n",
       "  19: dict_keys,\n",
       "  25: 'value1',\n",
       "  31: numpy.ndarray,\n",
       "  32: (3,),\n",
       "  33: 3},\n",
       " 'get_ipython': <bound method InteractiveShell.get_ipython of <ipykernel.zmqshell.ZMQInteractiveShell object at 0x7f8978551f90>>,\n",
       " 'exit': <IPython.core.autocall.ZMQExitAutocall at 0x7f8978b687d0>,\n",
       " 'quit': <IPython.core.autocall.ZMQExitAutocall at 0x7f8978b687d0>,\n",
       " '_': 3,\n",
       " '__': (3,),\n",
       " '___': numpy.ndarray,\n",
       " '_i': \"a = 10\\n\\ndef modify_a():\\n    a = 20\\n    print('inside modify_a: value of a: %i' % a)\\n    \\nprint('outside modify_a: value of a before modify: %i' % a)\\n\\nmodify_a()\\n\\nprint('outside modify_a: value of a after modify: %i' % a)\",\n",
       " '_ii': \"print(convenient_dict_of_dict_of_list['Aaron']['favorite foods'])\",\n",
       " '_iii': \"convenient_dict_of_dict_of_list['Aaron']['favorite foods'].extend(['sushi', 'steak', 'mujadara'])\\n\\nprint(convenient_dict_of_dict_of_list)\",\n",
       " '_i1': 'this_list = []  # or list()',\n",
       " 'this_list': [2],\n",
       " '_i2': 'this_list.append(1)  # add an item to the end of a list',\n",
       " '_i3': 'print(this_list)',\n",
       " '_i4': 'this_list.append(2)',\n",
       " '_i5': 'print(this_list)',\n",
       " '_i6': '# iterate over the values of the items in a list\\nfor item in this_list:\\n    print(item)',\n",
       " 'item': 2,\n",
       " '_i7': '# iterate over both the indexes and the values of the items in a list\\nfor index, item in enumerate(this_list):\\n    print(index, item)',\n",
       " 'index': 3,\n",
       " '_i8': 'len(this_list)  # return the number of items in a list',\n",
       " '_8': 2,\n",
       " '_i9': 'this_list.remove(1)  # remove a specific item from a list',\n",
       " '_i10': 'this_list.remove(3)  # what if the item is not in the list?',\n",
       " '_i11': 'print(this_list)',\n",
       " '_i12': 'this_dict = {}  # or dict()',\n",
       " 'this_dict': {'key2': 'value2'},\n",
       " '_i13': \"this_dict['key1'] = 'value1'  # associate a key with a value in a dictionary (keys can be instances of most types)\",\n",
       " '_i14': 'print(this_dict)',\n",
       " '_i15': \"this_dict['key2'] = 'value2'\",\n",
       " '_i16': 'print(this_dict)',\n",
       " '_i17': '# by default iterating over a dict just returns the keys\\nfor key in this_dict:\\n    print(key)',\n",
       " 'key': 'key2',\n",
       " '_i18': 'for key in this_dict.keys():\\n    print(key)',\n",
       " '_i19': 'type(this_dict.keys())  # the keys() method returns a \"view\" of the keys, not a list of the keys',\n",
       " '_19': dict_keys,\n",
       " '_i20': 'print(this_dict.keys())',\n",
       " '_i21': 'print(list(this_dict.keys()))  # you can convert a \"view\" into a list',\n",
       " '_i22': '# iterate over the values stored in a dictionary - may not be in the order you expect\\nfor value in this_dict.values():\\n    print(value)',\n",
       " 'value': 7,\n",
       " '_i23': '# iterate over both keys and values in a dictionary\\nfor key, value in this_dict.items():\\n    print(key, value)',\n",
       " '_i24': '# iterate over both keys and values, as well as an index, or running count of the items in a dictionary\\nfor index, (key, value) in enumerate(this_dict.items()):\\n    print(index, key, value)',\n",
       " '_i25': \"this_dict.pop('key1')  # remove a specific key, value pair from a dictionary\",\n",
       " '_25': 'value1',\n",
       " '_i26': 'print(this_dict)',\n",
       " '_i27': \"this_dict.pop('key3')  # what if the key is not in the dictionary?\",\n",
       " '_i28': 'import numpy as np',\n",
       " 'np': <module 'numpy' from '/Users/aaronmil/anaconda3/lib/python3.7/site-packages/numpy/__init__.py'>,\n",
       " '_i29': 'this_array = np.array([0, 1, 2])',\n",
       " 'this_array': array([1, 3, 5, 2]),\n",
       " '_i30': 'print(this_array)',\n",
       " '_i31': 'type(this_array)',\n",
       " '_31': numpy.ndarray,\n",
       " '_i32': 'this_array.shape',\n",
       " '_32': (3,),\n",
       " '_i33': 'len(this_array)',\n",
       " '_33': 3,\n",
       " '_i34': 'this_array = np.array(list(range(1, 4)))',\n",
       " '_i35': 'print(this_array)',\n",
       " '_i36': 'this_array = np.arange(1, 8, 2)',\n",
       " '_i37': 'print(this_array)',\n",
       " '_i38': 'for index, value in enumerate(this_array):\\n    print(index, value)',\n",
       " '_i39': 'print(this_array[::-1])  # print the items in an array in reverse order',\n",
       " '_i40': 'print(this_array[:2])  # print the first 2 items in an array',\n",
       " '_i41': 'print(this_array[::2])  # print every 2nd item in an array',\n",
       " '_i42': 'this_array[3] = 2  # change the value of an item in an array by referring to its index',\n",
       " '_i43': 'print(this_array)',\n",
       " '_i44': \"# A standard way to define a callable function with input arguments is:\\ndef func_with_overhead(x):\\n    return x ** 2.\\n\\nx = np.linspace(0., 10., 11)\\ny = func_with_overhead(x)\\n\\nprint('x:', x)\\nprint('y:', y)\",\n",
       " 'func_with_overhead': <function __main__.func_with_overhead(x)>,\n",
       " 'x': array([ 0.,  1.,  2.,  3.,  4.,  5.,  6.,  7.,  8.,  9., 10.]),\n",
       " 'y': array([  0.,   1.,   4.,   9.,  16.,  25.,  36.,  49.,  64.,  81., 100.]),\n",
       " '_i45': \"# An alternative way to create simple callable is:\\nfunc_light = lambda x: x ** 2.\\n\\ny = func_light(x)\\n\\nprint('x:', x)\\nprint('y:', y)\",\n",
       " 'func_light': <function __main__.<lambda>(x)>,\n",
       " '_i46': 'from collections import defaultdict',\n",
       " 'defaultdict': collections.defaultdict,\n",
       " '_i47': \"standard_dict = {}\\nstandard_dict['Aaron']['hair color'] = 'brown'\",\n",
       " 'standard_dict': {'Aaron': {'hair color': 'brown'}},\n",
       " '_i48': \"if 'Aaron' not in standard_dict:\\n    standard_dict['Aaron'] = {}\\nstandard_dict['Aaron']['hair color'] = 'brown'\\n\\nprint(standard_dict)\",\n",
       " '_i49': \"convenient_nested_dict = defaultdict(dict)\\nconvenient_nested_dict['Aaron']['hair color'] = 'brown'\\n\\nprint(convenient_nested_dict)\",\n",
       " 'convenient_nested_dict': defaultdict(dict,\n",
       "             {'Aaron': {'hair color': 'brown'}}),\n",
       " '_i50': \"convenient_dict_of_dict_of_list['Aaron']['favorite foods'].extend(['sushi', 'steak', 'mujadara'])\\n\\nprint(convenient_dict_of_dict_of_list)\",\n",
       " '_i51': 'convenient_dict_of_dict_of_list = defaultdict(lambda: defaultdict(list))  # defaultdicts have to be constructed with a callable',\n",
       " 'convenient_dict_of_dict_of_list': defaultdict(<function __main__.<lambda>()>,\n",
       "             {'Aaron': defaultdict(list,\n",
       "                          {'favorite foods': ['sushi',\n",
       "                            'steak',\n",
       "                            'mujadara']})}),\n",
       " '_i52': \"convenient_dict_of_dict_of_list['Aaron']['favorite foods'].extend(['sushi', 'steak', 'mujadara'])\\n\\nprint(convenient_dict_of_dict_of_list)\",\n",
       " '_i53': \"print(convenient_dict_of_dict_of_list['Aaron']['favorite foods'])\",\n",
       " '_i54': \"a = 10\\n\\ndef modify_a():\\n    a = 20\\n    print('inside modify_a: value of a: %i' % a)\\n    \\nprint('outside modify_a: value of a before modify: %i' % a)\\n\\nmodify_a()\\n\\nprint('outside modify_a: value of a after modify: %i' % a)\",\n",
       " 'a': 10,\n",
       " 'modify_a': <function __main__.modify_a()>,\n",
       " '_i55': 'globals()'}"
      ]
     },
     "execution_count": 55,
     "metadata": {},
     "output_type": "execute_result"
    }
   ],
   "source": [
    "globals()"
   ]
  },
  {
   "cell_type": "code",
   "execution_count": 56,
   "metadata": {},
   "outputs": [
    {
     "data": {
      "text/plain": [
       "True"
      ]
     },
     "execution_count": 56,
     "metadata": {},
     "output_type": "execute_result"
    }
   ],
   "source": [
    "'a' in globals()"
   ]
  },
  {
   "cell_type": "code",
   "execution_count": 57,
   "metadata": {},
   "outputs": [
    {
     "data": {
      "text/plain": [
       "10"
      ]
     },
     "execution_count": 57,
     "metadata": {},
     "output_type": "execute_result"
    }
   ],
   "source": [
    "globals()['a']"
   ]
  },
  {
   "cell_type": "code",
   "execution_count": 58,
   "metadata": {},
   "outputs": [
    {
     "data": {
      "text/plain": [
       "{'__name__': '__main__',\n",
       " '__doc__': 'Automatically created module for IPython interactive environment',\n",
       " '__package__': None,\n",
       " '__loader__': None,\n",
       " '__spec__': None,\n",
       " '__builtin__': <module 'builtins' (built-in)>,\n",
       " '__builtins__': <module 'builtins' (built-in)>,\n",
       " '_ih': ['',\n",
       "  'this_list = []  # or list()',\n",
       "  'this_list.append(1)  # add an item to the end of a list',\n",
       "  'print(this_list)',\n",
       "  'this_list.append(2)',\n",
       "  'print(this_list)',\n",
       "  '# iterate over the values of the items in a list\\nfor item in this_list:\\n    print(item)',\n",
       "  '# iterate over both the indexes and the values of the items in a list\\nfor index, item in enumerate(this_list):\\n    print(index, item)',\n",
       "  'len(this_list)  # return the number of items in a list',\n",
       "  'this_list.remove(1)  # remove a specific item from a list',\n",
       "  'this_list.remove(3)  # what if the item is not in the list?',\n",
       "  'print(this_list)',\n",
       "  'this_dict = {}  # or dict()',\n",
       "  \"this_dict['key1'] = 'value1'  # associate a key with a value in a dictionary (keys can be instances of most types)\",\n",
       "  'print(this_dict)',\n",
       "  \"this_dict['key2'] = 'value2'\",\n",
       "  'print(this_dict)',\n",
       "  '# by default iterating over a dict just returns the keys\\nfor key in this_dict:\\n    print(key)',\n",
       "  'for key in this_dict.keys():\\n    print(key)',\n",
       "  'type(this_dict.keys())  # the keys() method returns a \"view\" of the keys, not a list of the keys',\n",
       "  'print(this_dict.keys())',\n",
       "  'print(list(this_dict.keys()))  # you can convert a \"view\" into a list',\n",
       "  '# iterate over the values stored in a dictionary - may not be in the order you expect\\nfor value in this_dict.values():\\n    print(value)',\n",
       "  '# iterate over both keys and values in a dictionary\\nfor key, value in this_dict.items():\\n    print(key, value)',\n",
       "  '# iterate over both keys and values, as well as an index, or running count of the items in a dictionary\\nfor index, (key, value) in enumerate(this_dict.items()):\\n    print(index, key, value)',\n",
       "  \"this_dict.pop('key1')  # remove a specific key, value pair from a dictionary\",\n",
       "  'print(this_dict)',\n",
       "  \"this_dict.pop('key3')  # what if the key is not in the dictionary?\",\n",
       "  'import numpy as np',\n",
       "  'this_array = np.array([0, 1, 2])',\n",
       "  'print(this_array)',\n",
       "  'type(this_array)',\n",
       "  'this_array.shape',\n",
       "  'len(this_array)',\n",
       "  'this_array = np.array(list(range(1, 4)))',\n",
       "  'print(this_array)',\n",
       "  'this_array = np.arange(1, 8, 2)',\n",
       "  'print(this_array)',\n",
       "  'for index, value in enumerate(this_array):\\n    print(index, value)',\n",
       "  'print(this_array[::-1])  # print the items in an array in reverse order',\n",
       "  'print(this_array[:2])  # print the first 2 items in an array',\n",
       "  'print(this_array[::2])  # print every 2nd item in an array',\n",
       "  'this_array[3] = 2  # change the value of an item in an array by referring to its index',\n",
       "  'print(this_array)',\n",
       "  \"# A standard way to define a callable function with input arguments is:\\ndef func_with_overhead(x):\\n    return x ** 2.\\n\\nx = np.linspace(0., 10., 11)\\ny = func_with_overhead(x)\\n\\nprint('x:', x)\\nprint('y:', y)\",\n",
       "  \"# An alternative way to create simple callable is:\\nfunc_light = lambda x: x ** 2.\\n\\ny = func_light(x)\\n\\nprint('x:', x)\\nprint('y:', y)\",\n",
       "  'from collections import defaultdict',\n",
       "  \"standard_dict = {}\\nstandard_dict['Aaron']['hair color'] = 'brown'\",\n",
       "  \"if 'Aaron' not in standard_dict:\\n    standard_dict['Aaron'] = {}\\nstandard_dict['Aaron']['hair color'] = 'brown'\\n\\nprint(standard_dict)\",\n",
       "  \"convenient_nested_dict = defaultdict(dict)\\nconvenient_nested_dict['Aaron']['hair color'] = 'brown'\\n\\nprint(convenient_nested_dict)\",\n",
       "  \"convenient_dict_of_dict_of_list['Aaron']['favorite foods'].extend(['sushi', 'steak', 'mujadara'])\\n\\nprint(convenient_dict_of_dict_of_list)\",\n",
       "  'convenient_dict_of_dict_of_list = defaultdict(lambda: defaultdict(list))  # defaultdicts have to be constructed with a callable',\n",
       "  \"convenient_dict_of_dict_of_list['Aaron']['favorite foods'].extend(['sushi', 'steak', 'mujadara'])\\n\\nprint(convenient_dict_of_dict_of_list)\",\n",
       "  \"print(convenient_dict_of_dict_of_list['Aaron']['favorite foods'])\",\n",
       "  \"a = 10\\n\\ndef modify_a():\\n    a = 20\\n    print('inside modify_a: value of a: %i' % a)\\n    \\nprint('outside modify_a: value of a before modify: %i' % a)\\n\\nmodify_a()\\n\\nprint('outside modify_a: value of a after modify: %i' % a)\",\n",
       "  'globals()',\n",
       "  \"'a' in globals()\",\n",
       "  \"globals()['a']\",\n",
       "  'locals()'],\n",
       " '_oh': {8: 2,\n",
       "  19: dict_keys,\n",
       "  25: 'value1',\n",
       "  31: numpy.ndarray,\n",
       "  32: (3,),\n",
       "  33: 3,\n",
       "  55: {...},\n",
       "  56: True,\n",
       "  57: 10},\n",
       " '_dh': ['/Users/aaronmil/src/nrnpy_tutorial'],\n",
       " 'In': ['',\n",
       "  'this_list = []  # or list()',\n",
       "  'this_list.append(1)  # add an item to the end of a list',\n",
       "  'print(this_list)',\n",
       "  'this_list.append(2)',\n",
       "  'print(this_list)',\n",
       "  '# iterate over the values of the items in a list\\nfor item in this_list:\\n    print(item)',\n",
       "  '# iterate over both the indexes and the values of the items in a list\\nfor index, item in enumerate(this_list):\\n    print(index, item)',\n",
       "  'len(this_list)  # return the number of items in a list',\n",
       "  'this_list.remove(1)  # remove a specific item from a list',\n",
       "  'this_list.remove(3)  # what if the item is not in the list?',\n",
       "  'print(this_list)',\n",
       "  'this_dict = {}  # or dict()',\n",
       "  \"this_dict['key1'] = 'value1'  # associate a key with a value in a dictionary (keys can be instances of most types)\",\n",
       "  'print(this_dict)',\n",
       "  \"this_dict['key2'] = 'value2'\",\n",
       "  'print(this_dict)',\n",
       "  '# by default iterating over a dict just returns the keys\\nfor key in this_dict:\\n    print(key)',\n",
       "  'for key in this_dict.keys():\\n    print(key)',\n",
       "  'type(this_dict.keys())  # the keys() method returns a \"view\" of the keys, not a list of the keys',\n",
       "  'print(this_dict.keys())',\n",
       "  'print(list(this_dict.keys()))  # you can convert a \"view\" into a list',\n",
       "  '# iterate over the values stored in a dictionary - may not be in the order you expect\\nfor value in this_dict.values():\\n    print(value)',\n",
       "  '# iterate over both keys and values in a dictionary\\nfor key, value in this_dict.items():\\n    print(key, value)',\n",
       "  '# iterate over both keys and values, as well as an index, or running count of the items in a dictionary\\nfor index, (key, value) in enumerate(this_dict.items()):\\n    print(index, key, value)',\n",
       "  \"this_dict.pop('key1')  # remove a specific key, value pair from a dictionary\",\n",
       "  'print(this_dict)',\n",
       "  \"this_dict.pop('key3')  # what if the key is not in the dictionary?\",\n",
       "  'import numpy as np',\n",
       "  'this_array = np.array([0, 1, 2])',\n",
       "  'print(this_array)',\n",
       "  'type(this_array)',\n",
       "  'this_array.shape',\n",
       "  'len(this_array)',\n",
       "  'this_array = np.array(list(range(1, 4)))',\n",
       "  'print(this_array)',\n",
       "  'this_array = np.arange(1, 8, 2)',\n",
       "  'print(this_array)',\n",
       "  'for index, value in enumerate(this_array):\\n    print(index, value)',\n",
       "  'print(this_array[::-1])  # print the items in an array in reverse order',\n",
       "  'print(this_array[:2])  # print the first 2 items in an array',\n",
       "  'print(this_array[::2])  # print every 2nd item in an array',\n",
       "  'this_array[3] = 2  # change the value of an item in an array by referring to its index',\n",
       "  'print(this_array)',\n",
       "  \"# A standard way to define a callable function with input arguments is:\\ndef func_with_overhead(x):\\n    return x ** 2.\\n\\nx = np.linspace(0., 10., 11)\\ny = func_with_overhead(x)\\n\\nprint('x:', x)\\nprint('y:', y)\",\n",
       "  \"# An alternative way to create simple callable is:\\nfunc_light = lambda x: x ** 2.\\n\\ny = func_light(x)\\n\\nprint('x:', x)\\nprint('y:', y)\",\n",
       "  'from collections import defaultdict',\n",
       "  \"standard_dict = {}\\nstandard_dict['Aaron']['hair color'] = 'brown'\",\n",
       "  \"if 'Aaron' not in standard_dict:\\n    standard_dict['Aaron'] = {}\\nstandard_dict['Aaron']['hair color'] = 'brown'\\n\\nprint(standard_dict)\",\n",
       "  \"convenient_nested_dict = defaultdict(dict)\\nconvenient_nested_dict['Aaron']['hair color'] = 'brown'\\n\\nprint(convenient_nested_dict)\",\n",
       "  \"convenient_dict_of_dict_of_list['Aaron']['favorite foods'].extend(['sushi', 'steak', 'mujadara'])\\n\\nprint(convenient_dict_of_dict_of_list)\",\n",
       "  'convenient_dict_of_dict_of_list = defaultdict(lambda: defaultdict(list))  # defaultdicts have to be constructed with a callable',\n",
       "  \"convenient_dict_of_dict_of_list['Aaron']['favorite foods'].extend(['sushi', 'steak', 'mujadara'])\\n\\nprint(convenient_dict_of_dict_of_list)\",\n",
       "  \"print(convenient_dict_of_dict_of_list['Aaron']['favorite foods'])\",\n",
       "  \"a = 10\\n\\ndef modify_a():\\n    a = 20\\n    print('inside modify_a: value of a: %i' % a)\\n    \\nprint('outside modify_a: value of a before modify: %i' % a)\\n\\nmodify_a()\\n\\nprint('outside modify_a: value of a after modify: %i' % a)\",\n",
       "  'globals()',\n",
       "  \"'a' in globals()\",\n",
       "  \"globals()['a']\",\n",
       "  'locals()'],\n",
       " 'Out': {8: 2,\n",
       "  19: dict_keys,\n",
       "  25: 'value1',\n",
       "  31: numpy.ndarray,\n",
       "  32: (3,),\n",
       "  33: 3,\n",
       "  55: {...},\n",
       "  56: True,\n",
       "  57: 10},\n",
       " 'get_ipython': <bound method InteractiveShell.get_ipython of <ipykernel.zmqshell.ZMQInteractiveShell object at 0x7f8978551f90>>,\n",
       " 'exit': <IPython.core.autocall.ZMQExitAutocall at 0x7f8978b687d0>,\n",
       " 'quit': <IPython.core.autocall.ZMQExitAutocall at 0x7f8978b687d0>,\n",
       " '_': 10,\n",
       " '__': True,\n",
       " '___': {...},\n",
       " '_i': \"globals()['a']\",\n",
       " '_ii': \"'a' in globals()\",\n",
       " '_iii': 'globals()',\n",
       " '_i1': 'this_list = []  # or list()',\n",
       " 'this_list': [2],\n",
       " '_i2': 'this_list.append(1)  # add an item to the end of a list',\n",
       " '_i3': 'print(this_list)',\n",
       " '_i4': 'this_list.append(2)',\n",
       " '_i5': 'print(this_list)',\n",
       " '_i6': '# iterate over the values of the items in a list\\nfor item in this_list:\\n    print(item)',\n",
       " 'item': 2,\n",
       " '_i7': '# iterate over both the indexes and the values of the items in a list\\nfor index, item in enumerate(this_list):\\n    print(index, item)',\n",
       " 'index': 3,\n",
       " '_i8': 'len(this_list)  # return the number of items in a list',\n",
       " '_8': 2,\n",
       " '_i9': 'this_list.remove(1)  # remove a specific item from a list',\n",
       " '_i10': 'this_list.remove(3)  # what if the item is not in the list?',\n",
       " '_i11': 'print(this_list)',\n",
       " '_i12': 'this_dict = {}  # or dict()',\n",
       " 'this_dict': {'key2': 'value2'},\n",
       " '_i13': \"this_dict['key1'] = 'value1'  # associate a key with a value in a dictionary (keys can be instances of most types)\",\n",
       " '_i14': 'print(this_dict)',\n",
       " '_i15': \"this_dict['key2'] = 'value2'\",\n",
       " '_i16': 'print(this_dict)',\n",
       " '_i17': '# by default iterating over a dict just returns the keys\\nfor key in this_dict:\\n    print(key)',\n",
       " 'key': 'key2',\n",
       " '_i18': 'for key in this_dict.keys():\\n    print(key)',\n",
       " '_i19': 'type(this_dict.keys())  # the keys() method returns a \"view\" of the keys, not a list of the keys',\n",
       " '_19': dict_keys,\n",
       " '_i20': 'print(this_dict.keys())',\n",
       " '_i21': 'print(list(this_dict.keys()))  # you can convert a \"view\" into a list',\n",
       " '_i22': '# iterate over the values stored in a dictionary - may not be in the order you expect\\nfor value in this_dict.values():\\n    print(value)',\n",
       " 'value': 7,\n",
       " '_i23': '# iterate over both keys and values in a dictionary\\nfor key, value in this_dict.items():\\n    print(key, value)',\n",
       " '_i24': '# iterate over both keys and values, as well as an index, or running count of the items in a dictionary\\nfor index, (key, value) in enumerate(this_dict.items()):\\n    print(index, key, value)',\n",
       " '_i25': \"this_dict.pop('key1')  # remove a specific key, value pair from a dictionary\",\n",
       " '_25': 'value1',\n",
       " '_i26': 'print(this_dict)',\n",
       " '_i27': \"this_dict.pop('key3')  # what if the key is not in the dictionary?\",\n",
       " '_i28': 'import numpy as np',\n",
       " 'np': <module 'numpy' from '/Users/aaronmil/anaconda3/lib/python3.7/site-packages/numpy/__init__.py'>,\n",
       " '_i29': 'this_array = np.array([0, 1, 2])',\n",
       " 'this_array': array([1, 3, 5, 2]),\n",
       " '_i30': 'print(this_array)',\n",
       " '_i31': 'type(this_array)',\n",
       " '_31': numpy.ndarray,\n",
       " '_i32': 'this_array.shape',\n",
       " '_32': (3,),\n",
       " '_i33': 'len(this_array)',\n",
       " '_33': 3,\n",
       " '_i34': 'this_array = np.array(list(range(1, 4)))',\n",
       " '_i35': 'print(this_array)',\n",
       " '_i36': 'this_array = np.arange(1, 8, 2)',\n",
       " '_i37': 'print(this_array)',\n",
       " '_i38': 'for index, value in enumerate(this_array):\\n    print(index, value)',\n",
       " '_i39': 'print(this_array[::-1])  # print the items in an array in reverse order',\n",
       " '_i40': 'print(this_array[:2])  # print the first 2 items in an array',\n",
       " '_i41': 'print(this_array[::2])  # print every 2nd item in an array',\n",
       " '_i42': 'this_array[3] = 2  # change the value of an item in an array by referring to its index',\n",
       " '_i43': 'print(this_array)',\n",
       " '_i44': \"# A standard way to define a callable function with input arguments is:\\ndef func_with_overhead(x):\\n    return x ** 2.\\n\\nx = np.linspace(0., 10., 11)\\ny = func_with_overhead(x)\\n\\nprint('x:', x)\\nprint('y:', y)\",\n",
       " 'func_with_overhead': <function __main__.func_with_overhead(x)>,\n",
       " 'x': array([ 0.,  1.,  2.,  3.,  4.,  5.,  6.,  7.,  8.,  9., 10.]),\n",
       " 'y': array([  0.,   1.,   4.,   9.,  16.,  25.,  36.,  49.,  64.,  81., 100.]),\n",
       " '_i45': \"# An alternative way to create simple callable is:\\nfunc_light = lambda x: x ** 2.\\n\\ny = func_light(x)\\n\\nprint('x:', x)\\nprint('y:', y)\",\n",
       " 'func_light': <function __main__.<lambda>(x)>,\n",
       " '_i46': 'from collections import defaultdict',\n",
       " 'defaultdict': collections.defaultdict,\n",
       " '_i47': \"standard_dict = {}\\nstandard_dict['Aaron']['hair color'] = 'brown'\",\n",
       " 'standard_dict': {'Aaron': {'hair color': 'brown'}},\n",
       " '_i48': \"if 'Aaron' not in standard_dict:\\n    standard_dict['Aaron'] = {}\\nstandard_dict['Aaron']['hair color'] = 'brown'\\n\\nprint(standard_dict)\",\n",
       " '_i49': \"convenient_nested_dict = defaultdict(dict)\\nconvenient_nested_dict['Aaron']['hair color'] = 'brown'\\n\\nprint(convenient_nested_dict)\",\n",
       " 'convenient_nested_dict': defaultdict(dict,\n",
       "             {'Aaron': {'hair color': 'brown'}}),\n",
       " '_i50': \"convenient_dict_of_dict_of_list['Aaron']['favorite foods'].extend(['sushi', 'steak', 'mujadara'])\\n\\nprint(convenient_dict_of_dict_of_list)\",\n",
       " '_i51': 'convenient_dict_of_dict_of_list = defaultdict(lambda: defaultdict(list))  # defaultdicts have to be constructed with a callable',\n",
       " 'convenient_dict_of_dict_of_list': defaultdict(<function __main__.<lambda>()>,\n",
       "             {'Aaron': defaultdict(list,\n",
       "                          {'favorite foods': ['sushi',\n",
       "                            'steak',\n",
       "                            'mujadara']})}),\n",
       " '_i52': \"convenient_dict_of_dict_of_list['Aaron']['favorite foods'].extend(['sushi', 'steak', 'mujadara'])\\n\\nprint(convenient_dict_of_dict_of_list)\",\n",
       " '_i53': \"print(convenient_dict_of_dict_of_list['Aaron']['favorite foods'])\",\n",
       " '_i54': \"a = 10\\n\\ndef modify_a():\\n    a = 20\\n    print('inside modify_a: value of a: %i' % a)\\n    \\nprint('outside modify_a: value of a before modify: %i' % a)\\n\\nmodify_a()\\n\\nprint('outside modify_a: value of a after modify: %i' % a)\",\n",
       " 'a': 10,\n",
       " 'modify_a': <function __main__.modify_a()>,\n",
       " '_i55': 'globals()',\n",
       " '_55': {...},\n",
       " '_i56': \"'a' in globals()\",\n",
       " '_56': True,\n",
       " '_i57': \"globals()['a']\",\n",
       " '_57': 10,\n",
       " '_i58': 'locals()'}"
      ]
     },
     "execution_count": 58,
     "metadata": {},
     "output_type": "execute_result"
    }
   ],
   "source": [
    "locals()"
   ]
  },
  {
   "cell_type": "code",
   "execution_count": 59,
   "metadata": {},
   "outputs": [
    {
     "name": "stdout",
     "output_type": "stream",
     "text": [
      "outside modify_a: value of a before modify: 10\n",
      "inside modify_a: value of a: 20\n",
      "locals():\n",
      "{'a': 20}\n",
      "outside modify_a: value of a after modify: 10\n"
     ]
    }
   ],
   "source": [
    "a = 10\n",
    "\n",
    "def modify_a():\n",
    "    a = 20\n",
    "    print('inside modify_a: value of a: %i' % a)\n",
    "    print('locals():')\n",
    "    print(locals())\n",
    "    \n",
    "print('outside modify_a: value of a before modify: %i' % a)\n",
    "\n",
    "modify_a()\n",
    "\n",
    "print('outside modify_a: value of a after modify: %i' % a)"
   ]
  },
  {
   "cell_type": "code",
   "execution_count": 60,
   "metadata": {},
   "outputs": [
    {
     "name": "stdout",
     "output_type": "stream",
     "text": [
      "outside modify_a: value of a before modify: 10\n",
      "inside modify_a: value of a: 20\n",
      "locals():\n",
      "{}\n",
      "outside modify_a: value of a after modify: 20\n"
     ]
    }
   ],
   "source": [
    "a = 10\n",
    "\n",
    "def modify_a():\n",
    "    global a\n",
    "    a = 20\n",
    "    print('inside modify_a: value of a: %i' % a)\n",
    "    print('locals():')\n",
    "    print(locals())\n",
    "    \n",
    "print('outside modify_a: value of a before modify: %i' % a)\n",
    "\n",
    "modify_a()\n",
    "\n",
    "print('outside modify_a: value of a after modify: %i' % a)"
   ]
  },
  {
   "cell_type": "code",
   "execution_count": 61,
   "metadata": {},
   "outputs": [
    {
     "name": "stdout",
     "output_type": "stream",
     "text": [
      "outside modify_a: value of a before modify: 10\n",
      "inside modify_a: value of a: 20\n",
      "locals():\n",
      "{'a': 20}\n",
      "outside modify_a: value of a after modify: 10\n"
     ]
    }
   ],
   "source": [
    "a = 10\n",
    "\n",
    "def modify_a(a):  # this is a required positional argument\n",
    "    a = 20\n",
    "    print('inside modify_a: value of a: %i' % a)\n",
    "    print('locals():')\n",
    "    print(locals())\n",
    "    \n",
    "print('outside modify_a: value of a before modify: %i' % a)\n",
    "\n",
    "modify_a(a)\n",
    "\n",
    "print('outside modify_a: value of a after modify: %i' % a)"
   ]
  },
  {
   "cell_type": "code",
   "execution_count": null,
   "metadata": {},
   "outputs": [],
   "source": []
  },
  {
   "cell_type": "code",
   "execution_count": 62,
   "metadata": {},
   "outputs": [
    {
     "name": "stdout",
     "output_type": "stream",
     "text": [
      "outside modify_a: value of a before modify: 10\n",
      "inside modify_a: value of a: 15\n",
      "locals():\n",
      "{'a': 15}\n",
      "outside modify_a: value of a after modify: 10\n"
     ]
    }
   ],
   "source": [
    "a = 10\n",
    "\n",
    "def modify_a(a=15):  # this is an optional keyword argument with a default value\n",
    "    print('inside modify_a: value of a: %i' % a)\n",
    "    print('locals():')\n",
    "    print(locals())\n",
    "    \n",
    "print('outside modify_a: value of a before modify: %i' % a)\n",
    "\n",
    "modify_a()\n",
    "\n",
    "print('outside modify_a: value of a after modify: %i' % a)"
   ]
  },
  {
   "cell_type": "code",
   "execution_count": 63,
   "metadata": {},
   "outputs": [
    {
     "name": "stdout",
     "output_type": "stream",
     "text": [
      "outside modify_a: value of a before modify: 10\n",
      "inside modify_a: value of a: 10\n",
      "locals():\n",
      "{'a': 10}\n",
      "outside modify_a: value of a after modify: 10\n"
     ]
    }
   ],
   "source": [
    "a = 10\n",
    "\n",
    "def modify_a(a=15):  # this is an optional keyword argument with a default value\n",
    "    print('inside modify_a: value of a: %i' % a)\n",
    "    print('locals():')\n",
    "    print(locals())\n",
    "    \n",
    "print('outside modify_a: value of a before modify: %i' % a)\n",
    "\n",
    "modify_a(a)\n",
    "\n",
    "print('outside modify_a: value of a after modify: %i' % a)"
   ]
  },
  {
   "cell_type": "code",
   "execution_count": 64,
   "metadata": {},
   "outputs": [
    {
     "name": "stdout",
     "output_type": "stream",
     "text": [
      "outside modify_a: value of a before modify: 10\n"
     ]
    },
    {
     "ename": "TypeError",
     "evalue": "modify_a() missing 1 required positional argument: 'a'",
     "output_type": "error",
     "traceback": [
      "\u001b[0;31m---------------------------------------------------------------------------\u001b[0m",
      "\u001b[0;31mTypeError\u001b[0m                                 Traceback (most recent call last)",
      "\u001b[0;32m<ipython-input-64-f533b0a65a26>\u001b[0m in \u001b[0;36m<module>\u001b[0;34m\u001b[0m\n\u001b[1;32m     10\u001b[0m \u001b[0mprint\u001b[0m\u001b[0;34m(\u001b[0m\u001b[0;34m'outside modify_a: value of a before modify: %i'\u001b[0m \u001b[0;34m%\u001b[0m \u001b[0ma\u001b[0m\u001b[0;34m)\u001b[0m\u001b[0;34m\u001b[0m\u001b[0;34m\u001b[0m\u001b[0m\n\u001b[1;32m     11\u001b[0m \u001b[0;34m\u001b[0m\u001b[0m\n\u001b[0;32m---> 12\u001b[0;31m \u001b[0mmodify_a\u001b[0m\u001b[0;34m(\u001b[0m\u001b[0mverbose\u001b[0m\u001b[0;34m=\u001b[0m\u001b[0;32mTrue\u001b[0m\u001b[0;34m)\u001b[0m\u001b[0;34m\u001b[0m\u001b[0;34m\u001b[0m\u001b[0m\n\u001b[0m\u001b[1;32m     13\u001b[0m \u001b[0;34m\u001b[0m\u001b[0m\n\u001b[1;32m     14\u001b[0m \u001b[0mprint\u001b[0m\u001b[0;34m(\u001b[0m\u001b[0;34m'outside modify_a: value of a after modify: %i'\u001b[0m \u001b[0;34m%\u001b[0m \u001b[0ma\u001b[0m\u001b[0;34m)\u001b[0m\u001b[0;34m\u001b[0m\u001b[0;34m\u001b[0m\u001b[0m\n",
      "\u001b[0;31mTypeError\u001b[0m: modify_a() missing 1 required positional argument: 'a'"
     ]
    }
   ],
   "source": [
    "a = 10\n",
    "\n",
    "def modify_a(a, verbose=False):  # this has both a required positional argument and an optional keyword argument with a default value\n",
    "    a = 20\n",
    "    if verbose:\n",
    "        print('inside modify_a: value of a: %i' % a)\n",
    "        print('locals():')\n",
    "        print(locals())\n",
    "    \n",
    "print('outside modify_a: value of a before modify: %i' % a)\n",
    "\n",
    "modify_a(verbose=True)\n",
    "\n",
    "print('outside modify_a: value of a after modify: %i' % a)"
   ]
  },
  {
   "cell_type": "code",
   "execution_count": 66,
   "metadata": {},
   "outputs": [
    {
     "name": "stdout",
     "output_type": "stream",
     "text": [
      "outside modify_a: value of a before modify: 10\n",
      "inside modify_a: value of a: 20\n",
      "locals():\n",
      "{'a': 20, 'verbose': True}\n",
      "outside modify_a: value of a after modify: 10\n"
     ]
    }
   ],
   "source": [
    "a = 10\n",
    "\n",
    "def modify_a(a, verbose=False):  # this has both a required positional argument and an optional keyword argument with a default value\n",
    "    a = 20\n",
    "    if verbose:\n",
    "        print('inside modify_a: value of a: %i' % a)\n",
    "        print('locals():')\n",
    "        print(locals())\n",
    "    \n",
    "print('outside modify_a: value of a before modify: %i' % a)\n",
    "\n",
    "# modify_a(a, verbose=True)\n",
    "modify_a(a, **{'verbose': True})\n",
    "\n",
    "print('outside modify_a: value of a after modify: %i' % a)"
   ]
  },
  {
   "cell_type": "code",
   "execution_count": 67,
   "metadata": {},
   "outputs": [
    {
     "name": "stdout",
     "output_type": "stream",
     "text": [
      "outside modify_a: value of a before modify: 10\n",
      "args:  (10,)\n",
      "kwargs:  {'verbose': True}\n",
      "inside modify_a: value of a: 20\n",
      "locals():\n",
      "{'args': (10,), 'kwargs': {'verbose': True}, 'a': 20}\n",
      "outside modify_a: value of a after modify: 10\n"
     ]
    }
   ],
   "source": [
    "a = 10\n",
    "\n",
    "def modify_a(*args, **kwargs):  # generic way to catch unknown arguments\n",
    "    print('args: ', args)\n",
    "    print('kwargs: ', kwargs)\n",
    "    if 'a' in kwargs:\n",
    "        a = kwargs['a']\n",
    "    else:\n",
    "        a = 20\n",
    "    if 'verbose' in kwargs and kwargs['verbose']:\n",
    "        print('inside modify_a: value of a: %i' % a)\n",
    "        print('locals():')\n",
    "        print(locals())\n",
    "    \n",
    "print('outside modify_a: value of a before modify: %i' % a)\n",
    "\n",
    "modify_a(a, verbose=True)\n",
    "\n",
    "print('outside modify_a: value of a after modify: %i' % a)"
   ]
  },
  {
   "cell_type": "code",
   "execution_count": 68,
   "metadata": {},
   "outputs": [
    {
     "name": "stdout",
     "output_type": "stream",
     "text": [
      "outside modify_a: value of a before modify: 10\n",
      "args:  ()\n",
      "kwargs:  {'a': 10, 'verbose': True}\n",
      "inside modify_a: value of a: 10\n",
      "locals():\n",
      "{'args': (), 'kwargs': {'a': 10, 'verbose': True}, 'a': 10}\n",
      "outside modify_a: value of a after modify: 10\n"
     ]
    }
   ],
   "source": [
    "a = 10\n",
    "\n",
    "def modify_a(*args, **kwargs):  # generic way to catch unknown arguments\n",
    "    print('args: ', args)\n",
    "    print('kwargs: ', kwargs)\n",
    "    if 'a' in kwargs:\n",
    "        a = kwargs['a']\n",
    "    else:\n",
    "        a = 20\n",
    "    if 'verbose' in kwargs and kwargs['verbose']:\n",
    "        print('inside modify_a: value of a: %i' % a)\n",
    "        print('locals():')\n",
    "        print(locals())\n",
    "    \n",
    "print('outside modify_a: value of a before modify: %i' % a)\n",
    "\n",
    "modify_a(a=10, verbose=True)\n",
    "\n",
    "print('outside modify_a: value of a after modify: %i' % a)"
   ]
  },
  {
   "cell_type": "markdown",
   "metadata": {},
   "source": [
    "## 5. click - a convenient module for providing arguments via command line\n",
    "\n",
    "## 6. ipyparallel - bulletin-board-style parallelism"
   ]
  },
  {
   "cell_type": "markdown",
   "metadata": {},
   "source": [
    "### Switch to Pycharm - nrnpy_tutorial repository"
   ]
  },
  {
   "cell_type": "code",
   "execution_count": null,
   "metadata": {},
   "outputs": [],
   "source": []
  }
 ],
 "metadata": {
  "kernelspec": {
   "display_name": "Python 3",
   "language": "python",
   "name": "python3"
  },
  "language_info": {
   "codemirror_mode": {
    "name": "ipython",
    "version": 3
   },
   "file_extension": ".py",
   "mimetype": "text/x-python",
   "name": "python",
   "nbconvert_exporter": "python",
   "pygments_lexer": "ipython3",
   "version": "3.7.6"
  }
 },
 "nbformat": 4,
 "nbformat_minor": 4
}
