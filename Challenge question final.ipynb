{
 "cells": [
  {
   "cell_type": "code",
   "execution_count": 1,
   "metadata": {},
   "outputs": [],
   "source": [
    "'''solution should involve creating a neuron compartment and actually running simulations \n",
    "   and calculating R_inp from the simulation output.\n",
    "   Also, you should store the intermediates so that after optimization \n",
    "   you can plot tested parameters vs. tested R_inp, \n",
    "   and also tested parameters vs. tested objective error!'''\n",
    "%matplotlib notebook\n",
    "import scipy.optimize as opt\n",
    "from scipy.optimize import minimize\n",
    "import matplotlib.pyplot as plt\n",
    "from neuron import h\n",
    "from neuron.units import ms, mV\n",
    "import numpy as np\n",
    "#from pylab import *; ion(); "
   ]
  },
  {
   "cell_type": "code",
   "execution_count": 2,
   "metadata": {},
   "outputs": [],
   "source": [
    "#set cell size, time vector, and soma Voltage vector ; add a leak channel \n",
    "soma = h.Section()\n",
    "soma.L , soma.diam = 20. , 20.\n",
    "seg = soma(0.5)\n",
    "h.load_file('stdrun.hoc')\n",
    "t = h.Vector()\n",
    "soma_voltage = h.Vector()\n",
    "t.record(h._ref_t, h.dt)  # record the time base\n",
    "soma_voltage.record(soma(0.5)._ref_v, h.dt)\n",
    "h.tstop = 600.\n",
    "h.v_init = -65. \n",
    "#Insert a leak channel mechanism\n",
    "soma.insert('pas')\n",
    "leak_mechanism = soma(0.5).pas\n",
    "pas_e0 = -70.\n",
    "leak_mechanism.e = pas_e0\n",
    "#leak_current_rec = h.Vector()\n",
    "#leak_current_rec.record(soma(0.5).pas._ref_i, h.dt)"
   ]
  },
  {
   "cell_type": "code",
   "execution_count": 3,
   "metadata": {},
   "outputs": [
    {
     "data": {
      "text/plain": [
       "0.0"
      ]
     },
     "execution_count": 3,
     "metadata": {},
     "output_type": "execute_result"
    }
   ],
   "source": [
    "#Inject current through Patch Clamp and vectorize\n",
    "step_current_stim = h.IClamp(soma(0.5))\n",
    "step_current_stim.amp, step_current_stim.dur, step_current_stim.delay\n",
    "step_current_stim.amp = 0.1  # amplitude in nanoAmps\n",
    "step_current_stim.dur = 200.  # duration in milliseconds\n",
    "step_current_stim.delay = 200.  # start time of current injection \n",
    "step_current_rec = h.Vector()\n",
    "step_current_rec.record(step_current_stim._ref_i, h.dt)\n",
    "h.run()"
   ]
  },
  {
   "cell_type": "code",
   "execution_count": 41,
   "metadata": {},
   "outputs": [],
   "source": [
    "R_inp_list = []\n",
    "pas_g0_list = []\n",
    "\n",
    "#pas_g0 = [np.linspace(1e-12, 0.1, 30)]\n",
    "pas_g0 = [0.00053]\n",
    "#leak_mechanism.g = pas_g0\n",
    "x = pas_g0\n",
    "#h.run()\n",
    "def R_inp_calc(x):\n",
    "    soma(0.5).pas.g = x[0] \n",
    "    h.run()\n",
    "    leak_current_rec = h.Vector()\n",
    "    #leak_current_rec.record(soma(0.5).pas._ref_i, h.dt)\n",
    "    soma_voltage_array = np.array(soma_voltage)\n",
    "    t_array = np.array(t)\n",
    "    step_current_amp = step_current_stim.amp\n",
    "    baseline_eq_indexes = np.where((195. <= t_array) & (t_array < 200.))\n",
    "    step_eq_indexes = np.where((395. <= t_array) & (t_array < 400.))\n",
    "    baseline_eq_Vm  = np.mean(soma_voltage_array[baseline_eq_indexes])\n",
    "    step_eq_Vm = np.mean(soma_voltage_array[step_eq_indexes])\n",
    "    #print(baseline_eq_Vm, step_eq_Vm)\n",
    "    delta_Vm = abs(baseline_eq_Vm - step_eq_Vm)\n",
    "    R_inp = (delta_Vm / 1000.) / (abs(step_current_amp) / 1e9) / 1e6 # convert mV to V, nA to A, and Ohm to MegaOhm\n",
    "    #print(R_inp)\n",
    "    R_inp_list.append(R_inp)\n",
    "    pas_g0_list.append(pas_g0) \n",
    "    return R_inp\n"
   ]
  },
  {
   "cell_type": "code",
   "execution_count": 42,
   "metadata": {},
   "outputs": [
    {
     "data": {
      "text/plain": [
       "150.14617272819473"
      ]
     },
     "execution_count": 42,
     "metadata": {},
     "output_type": "execute_result"
    }
   ],
   "source": [
    "#for trial in range(20):\n",
    "R_inp_calc(x)"
   ]
  },
  {
   "cell_type": "code",
   "execution_count": 43,
   "metadata": {},
   "outputs": [
    {
     "data": {
      "text/plain": [
       "[150.14617272819473]"
      ]
     },
     "execution_count": 43,
     "metadata": {},
     "output_type": "execute_result"
    }
   ],
   "source": [
    "R_inp_list"
   ]
  },
  {
   "cell_type": "code",
   "execution_count": 44,
   "metadata": {},
   "outputs": [
    {
     "data": {
      "text/plain": [
       "[[0.00053]]"
      ]
     },
     "execution_count": 44,
     "metadata": {},
     "output_type": "execute_result"
    }
   ],
   "source": [
    "pas_g0_list"
   ]
  },
  {
   "cell_type": "code",
   "execution_count": 71,
   "metadata": {},
   "outputs": [],
   "source": [
    "def f(x):\n",
    "    return  abs(150 - R_inp_calc(x)) "
   ]
  },
  {
   "cell_type": "code",
   "execution_count": 72,
   "metadata": {},
   "outputs": [
    {
     "data": {
      "text/plain": [
       "'def objective(x):\\n    return -R_inp_calc(x) '"
      ]
     },
     "execution_count": 72,
     "metadata": {},
     "output_type": "execute_result"
    }
   ],
   "source": [
    "'''def objective(x):\n",
    "    return -R_inp_calc(x) '''"
   ]
  },
  {
   "cell_type": "code",
   "execution_count": 73,
   "metadata": {},
   "outputs": [
    {
     "data": {
      "text/plain": [
       "'def constraint(x):\\n    return  150 - R_inp_calc(x) '"
      ]
     },
     "execution_count": 73,
     "metadata": {},
     "output_type": "execute_result"
    }
   ],
   "source": [
    "'''def constraint(x):\n",
    "    return  150 - R_inp_calc(x) '''"
   ]
  },
  {
   "cell_type": "code",
   "execution_count": 74,
   "metadata": {},
   "outputs": [],
   "source": [
    "#cons = ({'type': 'ineq', 'fun': constraint})"
   ]
  },
  {
   "cell_type": "code",
   "execution_count": 75,
   "metadata": {},
   "outputs": [],
   "source": [
    "#xguess, xguess2, xguess3 = 0.0005 , 0.005 , 0.00053"
   ]
  },
  {
   "cell_type": "code",
   "execution_count": 76,
   "metadata": {},
   "outputs": [],
   "source": [
    "#x0 = np.array([xguess, xguess2, xguess3])"
   ]
  },
  {
   "cell_type": "code",
   "execution_count": 77,
   "metadata": {},
   "outputs": [],
   "source": [
    "#sol = opt.minimize(objective,x0,method = 'SLSQP', constraints = cons, options ={'disp' : True})"
   ]
  },
  {
   "cell_type": "code",
   "execution_count": 78,
   "metadata": {},
   "outputs": [],
   "source": [
    "#xOpt = sol.x"
   ]
  },
  {
   "cell_type": "code",
   "execution_count": 79,
   "metadata": {},
   "outputs": [],
   "source": [
    "#xFun = sol.fun"
   ]
  },
  {
   "cell_type": "code",
   "execution_count": 80,
   "metadata": {},
   "outputs": [],
   "source": [
    "#xOpt"
   ]
  },
  {
   "cell_type": "code",
   "execution_count": 81,
   "metadata": {},
   "outputs": [],
   "source": [
    "#fun = R_inp_calc(xOpt) \n",
    "#fun"
   ]
  },
  {
   "cell_type": "code",
   "execution_count": 82,
   "metadata": {},
   "outputs": [],
   "source": [
    "#x = np.linspace(1e-12, 0.01, 30)\n",
    "#x"
   ]
  },
  {
   "cell_type": "code",
   "execution_count": 83,
   "metadata": {},
   "outputs": [],
   "source": [
    "#y = f(x)\n",
    "#for x in range(20):\n",
    "    #print(y)y\n",
    "#y"
   ]
  },
  {
   "cell_type": "code",
   "execution_count": null,
   "metadata": {},
   "outputs": [],
   "source": []
  },
  {
   "cell_type": "code",
   "execution_count": 84,
   "metadata": {},
   "outputs": [],
   "source": [
    "[xopt , fopt , info] = opt.fmin_l_bfgs_b(f, x0=[pas_g0], bounds = ((1e-12, 0.1),), \n",
    "                                         maxiter = 2500, maxfun = 2500, approx_grad=True, disp=True)"
   ]
  },
  {
   "cell_type": "code",
   "execution_count": 85,
   "metadata": {},
   "outputs": [
    {
     "name": "stdout",
     "output_type": "stream",
     "text": [
      "{'grad': array([185807.13553717]), 'task': b'ABNORMAL_TERMINATION_IN_LNSRCH', 'funcalls': 120, 'nit': 2, 'warnflag': 2}\n"
     ]
    }
   ],
   "source": [
    "print(info)"
   ]
  },
  {
   "cell_type": "code",
   "execution_count": 86,
   "metadata": {},
   "outputs": [],
   "source": [
    "#[xopt , fopt , gopt , Bopt, func_calls, grad_calls , warnflag] = opt.fmin_bfgs(f, x0=[pas_g0], maxiter = 100, full_output = True)"
   ]
  },
  {
   "cell_type": "code",
   "execution_count": 87,
   "metadata": {},
   "outputs": [
    {
     "data": {
      "text/plain": [
       "array([0.00053051])"
      ]
     },
     "execution_count": 87,
     "metadata": {},
     "output_type": "execute_result"
    }
   ],
   "source": [
    "xopt"
   ]
  },
  {
   "cell_type": "code",
   "execution_count": 88,
   "metadata": {},
   "outputs": [
    {
     "data": {
      "text/plain": [
       "0.0004846635044088998"
      ]
     },
     "execution_count": 88,
     "metadata": {},
     "output_type": "execute_result"
    }
   ],
   "source": [
    "fopt"
   ]
  },
  {
   "cell_type": "code",
   "execution_count": 89,
   "metadata": {},
   "outputs": [],
   "source": [
    "#xopt = opt.fsolve(f, x0)\n",
    "#xopt"
   ]
  },
  {
   "cell_type": "code",
   "execution_count": 90,
   "metadata": {},
   "outputs": [
    {
     "data": {
      "text/plain": [
       "array([185807.13553717])"
      ]
     },
     "execution_count": 90,
     "metadata": {},
     "output_type": "execute_result"
    }
   ],
   "source": [
    "info['grad']"
   ]
  },
  {
   "cell_type": "code",
   "execution_count": 91,
   "metadata": {},
   "outputs": [
    {
     "data": {
      "text/plain": [
       "120"
      ]
     },
     "execution_count": 91,
     "metadata": {},
     "output_type": "execute_result"
    }
   ],
   "source": [
    "info['funcalls']"
   ]
  },
  {
   "cell_type": "code",
   "execution_count": 92,
   "metadata": {},
   "outputs": [
    {
     "data": {
      "text/plain": [
       "2"
      ]
     },
     "execution_count": 92,
     "metadata": {},
     "output_type": "execute_result"
    }
   ],
   "source": [
    "info['warnflag']"
   ]
  },
  {
   "cell_type": "code",
   "execution_count": 93,
   "metadata": {},
   "outputs": [
    {
     "data": {
      "text/plain": [
       "b'ABNORMAL_TERMINATION_IN_LNSRCH'"
      ]
     },
     "execution_count": 93,
     "metadata": {},
     "output_type": "execute_result"
    }
   ],
   "source": [
    "info['task']"
   ]
  },
  {
   "cell_type": "code",
   "execution_count": null,
   "metadata": {},
   "outputs": [],
   "source": []
  }
 ],
 "metadata": {
  "kernelspec": {
   "display_name": "Python 3",
   "language": "python",
   "name": "python3"
  },
  "language_info": {
   "codemirror_mode": {
    "name": "ipython",
    "version": 3
   },
   "file_extension": ".py",
   "mimetype": "text/x-python",
   "name": "python",
   "nbconvert_exporter": "python",
   "pygments_lexer": "ipython3",
   "version": "3.7.4"
  }
 },
 "nbformat": 4,
 "nbformat_minor": 2
}
