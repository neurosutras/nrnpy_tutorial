{
 "cells": [
  {
   "cell_type": "markdown",
   "metadata": {},
   "source": [
    "# Lesson 4: Introduction to dendrites"
   ]
  },
  {
   "cell_type": "markdown",
   "metadata": {},
   "source": [
    "## Lesson goals:"
   ]
  },
  {
   "cell_type": "markdown",
   "metadata": {},
   "source": [
    "1. Discuss papers from last week focusing on spatial and temporal summation of synaptic input\n",
    "2. Explore steady-state signal propagation from soma to dendrite\n",
    "3. Explore action potential backpropagation from soma to dendrite\n",
    "4. Inject synaptic current-shaped waveforms to explore transient signal propagation from dendrite to soma\n",
    "5. Challenge - what happens to spike backpropagation in the distal dendrite if an EPSP precedes the spike by ~5 ms?\n",
    "6. Papers for next week: the role of NMDA-type glutamate receptors in spatial and temporal input summation"
   ]
  },
  {
   "cell_type": "markdown",
   "metadata": {},
   "source": [
    "## 1. Discuss papers from last week focusing on spatial and temporal summation of synaptic input"
   ]
  },
  {
   "cell_type": "markdown",
   "metadata": {},
   "source": [
    "- Magee, J., Cook, E. (2000). Somatic EPSP amplitude is independent of synapse location in hippocampal pyramidal neurons Nature Neuroscience  3(9), 895-903. https://dx.doi.org/10.1038/78800\n",
    "- Magee, J. Dendritic Ih normalizes temporal summation in hippocampal CA1 neurons. Nat Neurosci 2, 508–514 (1999). https://doi.org/10.1038/9158\n",
    "- Bianchi, D., Marasco, A., Limongiello, A., Marchetti, C., Marie, H., Tirozzi, B., Migliore, M. (2012). On the mechanisms underlying the depolarization block in the spiking dynamics of CA1 pyramidal neurons Journal of Computational Neuroscience  33(2), 207-225. https://dx.doi.org/10.1007/s10827-012-0383-y"
   ]
  },
  {
   "cell_type": "markdown",
   "metadata": {},
   "source": [
    "## 2. Explore steady-state signal propagation from soma to dendrite"
   ]
  },
  {
   "cell_type": "code",
   "execution_count": null,
   "metadata": {},
   "outputs": [],
   "source": [
    "%matplotlib notebook\n",
    "import numpy as np\n",
    "import matplotlib.pyplot as plt\n",
    "from scipy.stats import linregress\n",
    "from collections import defaultdict\n",
    "import math\n",
    "from neuron import h\n",
    "h.load_file('stdrun.hoc')"
   ]
  },
  {
   "cell_type": "markdown",
   "metadata": {},
   "source": [
    "### Let's start with our optimized single compartment neuron from last week:"
   ]
  },
  {
   "cell_type": "code",
   "execution_count": null,
   "metadata": {},
   "outputs": [],
   "source": [
    "sim_history = defaultdict(lambda: defaultdict(dict))\n",
    "\n",
    "# obtained via coarse search with basinhopping followed by local polishing with simplex\n",
    "best_x = soma_gnabar, soma_gkdrbar, soma_gkabar, soma_gl = [0.09389553, 0.02495658, 0.0331321,  0.00052055]  \n",
    "bounds = [(0.1*xi, 10.*xi) for xi in best_x]\n",
    "\n",
    "target = {}\n",
    "target['f_I_slope'] = 200.  # Hz / nA\n",
    "target['soma_R_inp'] = 150.  # MOhm\n",
    "\n",
    "\n",
    "fit_line = lambda x, slope, intercept: x * slope + intercept\n",
    "\n",
    "\n",
    "def simulate_f_I(stim_params):\n",
    "    sim_summary_list = []\n",
    "    step_current_stim.delay = stim_params['f_I']['delay']  # start time of current injection\n",
    "    step_current_stim.dur = stim_params['f_I']['dur']  # duration in milliseconds\n",
    "    for stim_amp in stim_params['f_I']['amp_list']:\n",
    "        this_sim_summary = {}\n",
    "        step_current_stim.amp = stim_amp\n",
    "        this_sim_summary['stim_amp'] = stim_amp\n",
    "        this_sim_summary['stim_delay'] = stim_params['f_I']['delay']\n",
    "        this_sim_summary['stim_dur'] = stim_params['f_I']['dur']\n",
    "        h.run()\n",
    "        this_sim_summary['t'] = np.array(t)\n",
    "        this_sim_summary['soma_voltage'] = np.array(soma_voltage)\n",
    "        this_spike_times = np.array(spike_times)\n",
    "        this_sim_summary['spike_times'] = this_spike_times\n",
    "        \n",
    "        # take only spike times occurring inside the current injection\n",
    "        valid_spike_indexes = np.where((this_spike_times > f_I_stim_delay) & (this_spike_times <= f_I_stim_delay + f_I_stim_dur))[0]\n",
    "        this_sim_summary['spike_count'] = len(valid_spike_indexes)\n",
    "        this_sim_summary['spike_rate'] = len(valid_spike_indexes) / (f_I_stim_dur / 1000.)  # convert ms to s\n",
    "        sim_summary_list.append(this_sim_summary)\n",
    "    \n",
    "    return sim_summary_list\n",
    "\n",
    "\n",
    "def fit_f_I_curve(stim_amp, spike_rate):\n",
    "    stim_amp_array = np.array(stim_amp)\n",
    "    spike_rate_array = np.array(spike_rate)\n",
    "    valid_stim_indexes = np.where(spike_rate_array > 0.)[0]\n",
    "    if len(valid_stim_indexes) < 2:\n",
    "        return 0., 0.\n",
    "    slope, intercept, r_value, p_value, std_err = linregress(stim_amp_array[valid_stim_indexes], spike_rate_array[valid_stim_indexes])\n",
    "    \n",
    "    return slope, intercept\n",
    "\n",
    "\n",
    "def get_f_I_slope_error(x, target, bounds, sim_history, stim_params):\n",
    "    # enforce bounds:\n",
    "    for xi, bi in zip(x, bounds):\n",
    "        if not bi[0] <= xi <= bi[1]:\n",
    "            return 1e9\n",
    "    \n",
    "    update_model(x)\n",
    "    \n",
    "    # simulate f_I and retrieve the data\n",
    "    this_f_I_sim_summary_list = simulate_f_I(stim_params)\n",
    "    \n",
    "    # calculate the f_I slope\n",
    "    this_spike_rate_list = [this_f_I_sim_summary['spike_rate'] for this_f_I_sim_summary in this_f_I_sim_summary_list]\n",
    "    this_stim_amp_list = stim_params['f_I']['amp_list']\n",
    "    this_f_I_slope, this_f_I_intercept = fit_f_I_curve(this_stim_amp_list, this_spike_rate_list)\n",
    "    \n",
    "    # calculate the squared error\n",
    "    this_f_I_error = (this_f_I_slope - target['f_I_slope']) ** 2.\n",
    "    \n",
    "    sim_history[tuple(x)]['f_I']['data'] = this_f_I_sim_summary_list\n",
    "    sim_history[tuple(x)]['f_I']['slope'] = this_f_I_slope\n",
    "    sim_history[tuple(x)]['f_I']['intercept'] = this_f_I_intercept\n",
    "    sim_history[tuple(x)]['f_I']['error'] = this_f_I_error\n",
    "    \n",
    "    return this_f_I_error\n",
    "\n",
    "\n",
    "def calculate_R_inp(t, v, i_amp, baseline_window=(195., 200.),  measurement_window=(395., 400.)):\n",
    "    baseline_indexes = np.where((baseline_window[0] <= t) & (t < baseline_window[1]))\n",
    "    measurement_indexes = np.where((measurement_window[0] <= t) & (t < measurement_window[1]))\n",
    "    baseline_v = np.mean(v[baseline_indexes])\n",
    "    measurement_v = np.mean(v[measurement_indexes])\n",
    "    delta_v = abs(baseline_v - measurement_v)\n",
    "    R_inp = (delta_v / 1000.) / (abs(i_amp) / 1e9) / 1e6 # convert mV to V, nA to A, and Ohm to MegaOhm\n",
    "    return R_inp\n",
    "\n",
    "\n",
    "def simulate_soma_R_inp(stim_params):\n",
    "    step_current_stim.delay = stim_params['R_inp']['delay']\n",
    "    step_current_stim.dur = stim_params['R_inp']['dur']\n",
    "    step_current_stim.amp = stim_params['R_inp']['amp']\n",
    "    this_sim_summary = {}\n",
    "    this_sim_summary['stim_delay'] = stim_params['R_inp']['delay']\n",
    "    this_sim_summary['stim_dur'] = stim_params['R_inp']['dur']\n",
    "    this_sim_summary['stim_amp'] = stim_params['R_inp']['amp']\n",
    "    \n",
    "    h.run()\n",
    "    t_array = np.array(t)\n",
    "    v_array = np.array(soma_voltage)\n",
    "    soma_R_inp = calculate_R_inp(t_array, v_array, stim_params['R_inp']['amp'])\n",
    "    \n",
    "    this_sim_summary['t'] = t_array\n",
    "    this_sim_summary['soma_voltage'] = v_array\n",
    "    this_sim_summary['soma_R_inp'] = soma_R_inp\n",
    "    \n",
    "    return [this_sim_summary]  # for consistency with f_I functions, return a list of simulation summary dictionaries\n",
    "\n",
    "\n",
    "def get_soma_R_inp_error(x, target, bounds, sim_history, stim_params):\n",
    "    # enforce bounds\n",
    "    for xi, bi in zip(x, bounds):\n",
    "        if not bi[0] <= xi <= bi[1]:\n",
    "            return 1e9\n",
    "        \n",
    "    update_model(x)\n",
    "    \n",
    "    this_R_inp_sim_summary_list = simulate_soma_R_inp(stim_params)\n",
    "    this_soma_R_inp = this_R_inp_sim_summary_list[0]['soma_R_inp']\n",
    "    \n",
    "    # calculate the squared error\n",
    "    this_R_inp_error = (this_soma_R_inp - target['soma_R_inp']) ** 2.\n",
    "    \n",
    "    sim_history[tuple(x)]['R_inp']['data'] = this_R_inp_sim_summary_list\n",
    "    sim_history[tuple(x)]['R_inp']['soma_R_inp'] = this_soma_R_inp\n",
    "    sim_history[tuple(x)]['R_inp']['error'] = this_R_inp_error\n",
    "    \n",
    "    return this_R_inp_error\n",
    "\n",
    "\n",
    "def update_model(x):\n",
    "    # parse the input parameters\n",
    "    gnabar, gkdrbar, gkabar, gl = x\n",
    "    \n",
    "    soma(0.5).nax.gbar = gnabar\n",
    "    soma(0.5).kdr.gkdrbar = gkdrbar\n",
    "    soma(0.5).kap.gkabar = gkabar\n",
    "    soma(0.5).pas.g = gl\n",
    "    \n",
    "\n",
    "def get_excitability_error(x, target, bounds, sim_history, stim_params):\n",
    "    this_R_inp_error = get_soma_R_inp_error(x, target, bounds, sim_history, stim_params)\n",
    "    this_f_I_slope_error = get_f_I_slope_error(x, target, bounds, sim_history, stim_params)\n",
    "    \n",
    "    return this_R_inp_error + this_f_I_slope_error"
   ]
  },
  {
   "cell_type": "markdown",
   "metadata": {},
   "source": [
    "### ATTENTION: We forgot to set the axial resistivity to a physiological value last week!"
   ]
  },
  {
   "cell_type": "code",
   "execution_count": null,
   "metadata": {},
   "outputs": [],
   "source": [
    "soma = h.Section()\n",
    "\n",
    "# Set Ra to a physiological value\n",
    "Ra0 = 150.  # Ohm-cm\n",
    "soma.Ra = Ra0\n",
    "soma.L = 20.\n",
    "soma.diam = 20.\n",
    "soma.insert('pas')  # leak\n",
    "soma.insert('kdr')  # delayed-rectifier K+ channel\n",
    "soma.insert('kap')  # A-type K+ channel\n",
    "soma.insert('nax')  # Na+ channel\n",
    "\n",
    "h.celsius = 35.  # These mechanisms are meant to work at (closer to) physiological temperature\n",
    "h.tstop = 600.\n",
    "v_init = -65.\n",
    "h.v_init = v_init\n",
    "\n",
    "t = h.Vector()\n",
    "soma_voltage = h.Vector()\n",
    "t.record(h._ref_t, h.dt)  # record the time base\n",
    "soma_voltage.record(soma(0.5)._ref_v, h.dt)  # record the voltage across the membrane in a segment\n",
    "\n",
    "step_current_stim = h.IClamp(soma(0.5))\n",
    "f_I_stim_dur = 200.\n",
    "f_I_stim_delay = 200.\n",
    "f_I_stim_amp_list = [0.05 * i for i in range(10)]\n",
    "\n",
    "R_inp_stim_dur = 200.\n",
    "R_inp_stim_delay = 200.\n",
    "R_inp_stim_amp = -0.1\n",
    "\n",
    "stim_params = {\n",
    "    'f_I': {'delay': f_I_stim_delay, 'dur': f_I_stim_dur, 'amp_list': f_I_stim_amp_list},\n",
    "    'R_inp': {'delay': R_inp_stim_delay, 'dur': R_inp_stim_dur, 'amp': R_inp_stim_amp}\n",
    "              }\n",
    "\n",
    "soma(0.5).pas.e = -65.\n",
    "gl0 = soma(0.5).pas.g\n",
    "gkdrbar0 = soma(0.5).kdr.gkdrbar\n",
    "gkabar0 = soma(0.5).kap.gkabar\n",
    "gnabar0 = soma(0.5).nax.gbar\n",
    "\n",
    "spike_times = h.Vector()\n",
    "spike_detector = h.NetCon(soma(0.5)._ref_v, None, sec=soma)\n",
    "spike_detector.delay = 0.  # ms\n",
    "spike_detector.threshold = -10.  # mV\n",
    "spike_detector.record(spike_times)\n",
    "\n",
    "update_model(best_x)"
   ]
  },
  {
   "cell_type": "code",
   "execution_count": null,
   "metadata": {},
   "outputs": [],
   "source": [
    "sim_history = defaultdict(lambda: defaultdict(dict))\n",
    "\n",
    "error = get_excitability_error(best_x, target, bounds, sim_history, stim_params)\n",
    "print('x:', best_x, 'error:', error)"
   ]
  },
  {
   "cell_type": "code",
   "execution_count": null,
   "metadata": {
    "scrolled": true
   },
   "outputs": [],
   "source": [
    "fig, axis = plt.subplots()\n",
    "for i, sim_summary in enumerate(sim_history[tuple(best_x)]['R_inp']['data']):\n",
    "    axis.plot(sim_summary['t'], sim_summary['soma_voltage'])\n",
    "    axis.set_ylabel('Voltage (mV)')\n",
    "    axis.set_xlabel('Time (ms)')\n",
    "fig.tight_layout()\n",
    "\n",
    "print('soma_R_inp:', sim_history[tuple(best_x)]['R_inp']['soma_R_inp'], 'Error:', sim_history[tuple(best_x)]['R_inp']['error'])\n",
    "\n",
    "fig, axes = plt.subplots(3, 4, figsize=(12., 8.))\n",
    "for i, sim_summary in enumerate(sim_history[tuple(best_x)]['f_I']['data']):\n",
    "    axes.flat[i].plot(sim_summary['t'], sim_summary['soma_voltage'])\n",
    "    axes.flat[i].set_ylabel('Voltage (mV)')\n",
    "    axes.flat[i].set_xlabel('Time (ms)')\n",
    "fig.tight_layout()\n",
    "\n",
    "this_slope = sim_history[tuple(best_x)]['f_I']['slope']\n",
    "this_intercept = sim_history[tuple(best_x)]['f_I']['intercept']\n",
    "stim_amp_array = np.array([sim_summary['stim_amp'] for sim_summary in sim_history[tuple(best_x)]['f_I']['data']])\n",
    "spike_rate_array = np.array([sim_summary['spike_rate'] for sim_summary in sim_history[tuple(best_x)]['f_I']['data']])\n",
    "valid_stim_indexes = np.where(spike_rate_array > 0.)[0]\n",
    "\n",
    "plt.figure()\n",
    "plt.scatter(stim_amp_array, spike_rate_array)\n",
    "plt.plot(stim_amp_array[valid_stim_indexes], fit_line(stim_amp_array[valid_stim_indexes], this_slope, this_intercept))\n",
    "plt.ylabel('Firing rate (Hz)')\n",
    "plt.xlabel('Current amplitude (nA)')\n",
    "plt.show()\n",
    "\n",
    "print('f-I slope:', sim_history[tuple(best_x)]['f_I']['slope'], 'Error:', sim_history[tuple(best_x)]['f_I']['error'])"
   ]
  },
  {
   "cell_type": "markdown",
   "metadata": {
    "scrolled": false
   },
   "source": [
    "### Create a cylindrical dendrite section and connect it to the soma"
   ]
  },
  {
   "cell_type": "code",
   "execution_count": null,
   "metadata": {},
   "outputs": [],
   "source": [
    "dend = h.Section()\n",
    "dend.L = 300.\n",
    "dend.diam = 2.\n",
    "# Set Ra to the same value as the soma, it's a property of the cytoplasm\n",
    "dend.Ra = Ra0\n",
    "\n",
    "# parent section, parent location, child location\n",
    "dend.connect(soma, 1., 0.)"
   ]
  },
  {
   "cell_type": "markdown",
   "metadata": {},
   "source": [
    "### How many segments should we divide the section into?"
   ]
  },
  {
   "cell_type": "markdown",
   "metadata": {},
   "source": [
    "### The \"lambda\" rule takes a desired signal frequency, and the dimensions of the compartment, and determines the \"length constant\":\n",
    " - https://en.wikipedia.org/wiki/Length_constant"
   ]
  },
  {
   "cell_type": "code",
   "execution_count": null,
   "metadata": {},
   "outputs": [],
   "source": [
    "def lambda_f(sec, f=100.):\n",
    "    \"\"\"\n",
    "    Calculates the AC length constant for the given section at the frequency f.\n",
    "    :param sec: :class:'h.Section'\n",
    "    :param f: float (Hz)\n",
    "    :return: float (um)\n",
    "    \"\"\"\n",
    "    diam = np.mean([seg.diam for seg in sec])\n",
    "    Ra = sec.Ra\n",
    "    cm = np.mean([seg.cm for seg in sec])\n",
    "    return 1e5 * math.sqrt(diam / (4. * math.pi * f * Ra * cm))\n",
    "\n",
    "\n",
    "dend_length_constant = lambda_f(dend)\n",
    "print('dend length constant: %.3f' % dend_length_constant)"
   ]
  },
  {
   "cell_type": "code",
   "execution_count": null,
   "metadata": {},
   "outputs": [],
   "source": [
    "def get_lambda_nseg(sec, lam=0.1, f=100.):\n",
    "    \"\"\"\n",
    "    Used to determine the number of segments per hoc section to achieve the desired spatial and temporal resolution.\n",
    "    Calculates the AC length constant for the given section at the frequency f.\n",
    "    Assures that no segment will be larger than a fraction of the length_constant, specified by the proportion lam.\n",
    "    :param sec : :class:'h.Section'\n",
    "    :param lam : float: no segment will be larger than lam, a fraction of the section's length constant \n",
    "    :param f: float (Hz)\n",
    "    :return : int\n",
    "    \"\"\"\n",
    "    length_constant = lambda_f(sec, f)\n",
    "    return int(((sec.L / (lam * length_constant)) + 0.9) / 2) * 2 + 1\n",
    "\n",
    "dend_nseg = get_lambda_nseg(dend)\n",
    "print('dend sec should have nseg=%i' % dend_nseg)"
   ]
  },
  {
   "cell_type": "code",
   "execution_count": null,
   "metadata": {},
   "outputs": [],
   "source": [
    "dend.nseg = dend_nseg"
   ]
  },
  {
   "cell_type": "markdown",
   "metadata": {},
   "source": [
    "### Let's set up a series of dendritic recording locations, one in every segment:"
   ]
  },
  {
   "cell_type": "code",
   "execution_count": null,
   "metadata": {},
   "outputs": [],
   "source": [
    "dend_voltage_recs = []\n",
    "dend_distances = []\n",
    "for seg in dend:\n",
    "    dend_voltage = h.Vector()\n",
    "    loc = seg.x\n",
    "    distance = loc * dend.L\n",
    "    dend_voltage.record(dend(loc)._ref_v, h.dt)\n",
    "    dend_voltage_recs.append(dend_voltage)\n",
    "    dend_distances.append(distance)\n",
    "    print('Recording from dendrite %.2f from soma' % distance)"
   ]
  },
  {
   "cell_type": "markdown",
   "metadata": {},
   "source": [
    "### Let's inject current into the soma, and plot the recordings."
   ]
  },
  {
   "cell_type": "code",
   "execution_count": null,
   "metadata": {},
   "outputs": [],
   "source": [
    "step_current_stim.delay = R_inp_stim_delay\n",
    "step_current_stim.dur = R_inp_stim_dur\n",
    "step_current_stim.amp = R_inp_stim_amp\n",
    "h.run()\n",
    "\n",
    "fig, axis = plt.subplots()\n",
    "axis.plot(t, soma_voltage, label='soma')\n",
    "for i, dend_voltage in enumerate(dend_voltage_recs):\n",
    "    distance = dend_distances[i]\n",
    "    axis.plot(t, dend_voltage, label='dend (%.2f um)' % distance)\n",
    "axis.legend(loc='best', frameon=False, framealpha=0.5)\n",
    "axis.set_ylabel('Voltage (mV)')\n",
    "axis.set_xlabel('Time (ms)')\n",
    "fig.tight_layout()"
   ]
  },
  {
   "cell_type": "markdown",
   "metadata": {},
   "source": [
    "### Why is there no attenutation from soma to dendrite?"
   ]
  },
  {
   "cell_type": "code",
   "execution_count": null,
   "metadata": {},
   "outputs": [],
   "source": [
    "dend.insert('pas')\n",
    "for seg in dend:\n",
    "    seg.pas.g = soma_gl"
   ]
  },
  {
   "cell_type": "markdown",
   "metadata": {},
   "source": [
    "### Let's try again with uniform leak throughout soma and dendrite:"
   ]
  },
  {
   "cell_type": "code",
   "execution_count": null,
   "metadata": {},
   "outputs": [],
   "source": [
    "h.run()\n",
    "\n",
    "fig, axis = plt.subplots()\n",
    "axis.plot(t, soma_voltage, label='soma')\n",
    "for i, dend_voltage in enumerate(dend_voltage_recs):\n",
    "    distance = dend_distances[i]\n",
    "    axis.plot(t, dend_voltage, label='dend (%.2f um)' % distance)\n",
    "axis.legend(loc='best', frameon=False, framealpha=0.5)\n",
    "axis.set_ylabel('Voltage (mV)')\n",
    "axis.set_xlabel('Time (ms)')\n",
    "fig.tight_layout()"
   ]
  },
  {
   "cell_type": "markdown",
   "metadata": {},
   "source": [
    "### Let's plot the steady-state signal attenuation from soma to dendrite:"
   ]
  },
  {
   "cell_type": "code",
   "execution_count": null,
   "metadata": {},
   "outputs": [],
   "source": [
    "def get_delta_v(t, v, baseline_window=(195., 200.),  measurement_window=(395., 400.)):\n",
    "    baseline_indexes = np.where((baseline_window[0] <= t) & (t < baseline_window[1]))\n",
    "    measurement_indexes = np.where((measurement_window[0] <= t) & (t < measurement_window[1]))\n",
    "    baseline_v = np.mean(v[baseline_indexes])\n",
    "    measurement_v = np.mean(v[measurement_indexes])\n",
    "    delta_v = measurement_v - baseline_v\n",
    "    return delta_v\n",
    "\n",
    "\n",
    "t_array = np.array(t)\n",
    "soma_v_array = np.array(soma_voltage)\n",
    "soma_delta_v = get_delta_v(t_array, soma_v_array)\n",
    "\n",
    "dend_attentuation = []\n",
    "for i, dend_voltage in enumerate(dend_voltage_recs):\n",
    "    this_delta_v = get_delta_v(t_array, np.array(dend_voltage))\n",
    "    dend_attentuation.append(this_delta_v / soma_delta_v)\n",
    "    \n",
    "fig, axis = plt.subplots()\n",
    "axis.plot(dend_distances, dend_attentuation)\n",
    "axis.set_ylabel('Voltage attenuation (soma -> dend)')\n",
    "axis.set_xlabel('Distance to soma (um)')\n",
    "fig.tight_layout()"
   ]
  },
  {
   "cell_type": "markdown",
   "metadata": {},
   "source": [
    "### What is the effect of changing dendritic leak conductance (input resistance)?"
   ]
  },
  {
   "cell_type": "markdown",
   "metadata": {},
   "source": [
    "### Here's another strategy for saving and labeling simulations:"
   ]
  },
  {
   "cell_type": "code",
   "execution_count": null,
   "metadata": {},
   "outputs": [],
   "source": [
    "sim_history_data = []\n",
    "sim_history_labels = []\n",
    "\n",
    "\n",
    "def run_sim(label):\n",
    "    h.run()\n",
    "    sim_summary = {}\n",
    "    sim_summary['t'] = np.array(t)\n",
    "    sim_summary['soma_voltage'] = np.array(soma_voltage)\n",
    "    dend_voltage_list = []\n",
    "    for dend_voltage_rec in dend_voltage_recs:\n",
    "        dend_voltage_list.append(np.array(dend_voltage_rec))\n",
    "    sim_summary['dend_voltage_list'] = dend_voltage_list\n",
    "    sim_history_labels.append(label)\n",
    "    sim_history_data.append(sim_summary)"
   ]
  },
  {
   "cell_type": "code",
   "execution_count": null,
   "metadata": {},
   "outputs": [],
   "source": [
    "run_sim('default dend leak')"
   ]
  },
  {
   "cell_type": "code",
   "execution_count": null,
   "metadata": {},
   "outputs": [],
   "source": [
    "for seg in dend:\n",
    "    seg.pas.g = 0.5 * soma_gl\n",
    "run_sim('0.5x dend leak')"
   ]
  },
  {
   "cell_type": "code",
   "execution_count": null,
   "metadata": {},
   "outputs": [],
   "source": [
    "for seg in dend:\n",
    "    seg.pas.g = 2. * soma_gl\n",
    "run_sim('2x dend leak')"
   ]
  },
  {
   "cell_type": "code",
   "execution_count": null,
   "metadata": {},
   "outputs": [],
   "source": [
    "fig, axis = plt.subplots()\n",
    "for label, data in zip(sim_history_labels, sim_history_data):\n",
    "    soma_delta_v = get_delta_v(data['t'], data['soma_voltage'])\n",
    "    dend_attentuation = []\n",
    "    for i, dend_voltage in enumerate(data['dend_voltage_list']):\n",
    "        this_delta_v = get_delta_v(data['t'], dend_voltage)\n",
    "        dend_attentuation.append(this_delta_v / soma_delta_v)\n",
    "    axis.plot(dend_distances, dend_attentuation, label=label)\n",
    "axis.legend(loc='best', frameon=False, framealpha=0.5)\n",
    "axis.set_ylabel('Voltage attenuation (soma -> dend)')\n",
    "axis.set_xlabel('Distance to soma (um)')\n",
    "fig.tight_layout()"
   ]
  },
  {
   "cell_type": "markdown",
   "metadata": {},
   "source": [
    "### We want closer to 50% attenuation at ~300 um from the soma:"
   ]
  },
  {
   "cell_type": "code",
   "execution_count": null,
   "metadata": {},
   "outputs": [],
   "source": [
    "for seg in dend:\n",
    "    seg.pas.g = 1.5 * soma_gl\n",
    "run_sim('1.5x dend leak')"
   ]
  },
  {
   "cell_type": "code",
   "execution_count": null,
   "metadata": {},
   "outputs": [],
   "source": [
    "fig, axis = plt.subplots()\n",
    "for label, data in zip(sim_history_labels, sim_history_data):\n",
    "    soma_delta_v = get_delta_v(data['t'], data['soma_voltage'])\n",
    "    dend_attentuation = []\n",
    "    for i, dend_voltage in enumerate(data['dend_voltage_list']):\n",
    "        this_delta_v = get_delta_v(data['t'], dend_voltage)\n",
    "        dend_attentuation.append(this_delta_v / soma_delta_v)\n",
    "    axis.plot(dend_distances, dend_attentuation, label=label)\n",
    "axis.legend(loc='best', frameon=False, framealpha=0.5)\n",
    "axis.set_ylabel('Voltage attenuation (soma -> dend)')\n",
    "axis.set_xlabel('Distance to soma (um)')\n",
    "fig.tight_layout()"
   ]
  },
  {
   "cell_type": "markdown",
   "metadata": {},
   "source": [
    "## 3. Explore action potential backpropagation from soma to dendrite"
   ]
  },
  {
   "cell_type": "markdown",
   "metadata": {},
   "source": [
    "### Let's inject a brief, large current to get one spike:"
   ]
  },
  {
   "cell_type": "code",
   "execution_count": null,
   "metadata": {},
   "outputs": [],
   "source": [
    "step_current_stim.dur = 1.\n",
    "step_current_stim.amp = 1.\n",
    "h.run()\n",
    "\n",
    "fig, axis = plt.subplots()\n",
    "axis.plot(t, soma_voltage, label='soma')\n",
    "for i, dend_voltage in enumerate(dend_voltage_recs):\n",
    "    distance = dend_distances[i]\n",
    "    axis.plot(t, dend_voltage, label='dend (%.2f um)' % distance)\n",
    "axis.legend(loc='best', frameon=False, framealpha=0.5)\n",
    "axis.set_ylabel('Voltage (mV)')\n",
    "axis.set_xlabel('Time (ms)')\n",
    "axis.set_xlim((195., 210.))\n",
    "fig.tight_layout()"
   ]
  },
  {
   "cell_type": "markdown",
   "metadata": {},
   "source": [
    "### Let's quantify the spike height:"
   ]
  },
  {
   "cell_type": "code",
   "execution_count": null,
   "metadata": {},
   "outputs": [],
   "source": [
    "def get_event_peak_amp(t, v, baseline_window=(195., 200.),  measurement_window=(200., 205.), direction=1.):\n",
    "    baseline_indexes = np.where((baseline_window[0] <= t) & (t < baseline_window[1]))\n",
    "    measurement_indexes = np.where((measurement_window[0] <= t) & (t < measurement_window[1]))\n",
    "    baseline_v = np.mean(v[baseline_indexes])\n",
    "    if direction > 0.:\n",
    "        measurement_v = np.max(v[measurement_indexes])\n",
    "    else:\n",
    "        measurement_v = np.min(v[measurement_indexes])\n",
    "    delta_v = measurement_v - baseline_v\n",
    "    return delta_v"
   ]
  },
  {
   "cell_type": "code",
   "execution_count": null,
   "metadata": {},
   "outputs": [],
   "source": [
    "fig, axis = plt.subplots()\n",
    "\n",
    "spike_height = []\n",
    "these_distances = []\n",
    "t_array = np.array(t)\n",
    "spike_height.append(get_event_peak_amp(t_array, np.array(soma_voltage)))\n",
    "these_distances.append(0.)\n",
    "for i, dend_voltage in enumerate(dend_voltage_recs):\n",
    "    distance = dend_distances[i]\n",
    "    these_distances.append(distance)\n",
    "    this_spike_height = get_event_peak_amp(t_array, np.array(dend_voltage))\n",
    "    spike_height.append(this_spike_height)\n",
    "axis.plot(these_distances, spike_height)\n",
    "axis.legend(loc='best', frameon=False, framealpha=0.5)\n",
    "axis.set_ylabel('Spike amplitude (mV)')\n",
    "axis.set_xlabel('Distance to soma (um)')\n",
    "fig.tight_layout()"
   ]
  },
  {
   "cell_type": "markdown",
   "metadata": {},
   "source": [
    "### What if dendrites are endowed with the same active channels that drive spiking in the soma?"
   ]
  },
  {
   "cell_type": "code",
   "execution_count": null,
   "metadata": {},
   "outputs": [],
   "source": [
    "# save a record of a simulation with passive dendrites first\n",
    "sim_history_data = []\n",
    "sim_history_labels = []\n",
    "\n",
    "run_sim('passive dend')"
   ]
  },
  {
   "cell_type": "code",
   "execution_count": null,
   "metadata": {},
   "outputs": [],
   "source": [
    "dend.insert('nax')\n",
    "dend.insert('kdr')\n",
    "for seg in dend:\n",
    "    seg.nax.gbar = 0.1 * soma_gnabar\n",
    "    seg.kdr.gkdrbar = soma_gkdrbar"
   ]
  },
  {
   "cell_type": "code",
   "execution_count": null,
   "metadata": {},
   "outputs": [],
   "source": [
    "run_sim('active dend (no ka)')"
   ]
  },
  {
   "cell_type": "markdown",
   "metadata": {},
   "source": [
    "### First let's look at the traces:"
   ]
  },
  {
   "cell_type": "code",
   "execution_count": null,
   "metadata": {},
   "outputs": [],
   "source": [
    "fig, axis = plt.subplots()\n",
    "axis.plot(t, soma_voltage, label='soma')\n",
    "for i, dend_voltage in enumerate(dend_voltage_recs):\n",
    "    distance = dend_distances[i]\n",
    "    axis.plot(t, dend_voltage, label='dend (%.2f um)' % distance)\n",
    "axis.legend(loc='best', frameon=False, framealpha=0.5)\n",
    "axis.set_ylabel('Voltage (mV)')\n",
    "axis.set_xlabel('Time (ms)')\n",
    "axis.set_xlim((195., 210.))\n",
    "fig.tight_layout()"
   ]
  },
  {
   "cell_type": "code",
   "execution_count": null,
   "metadata": {},
   "outputs": [],
   "source": [
    "fig, axis = plt.subplots()\n",
    "for label, data in zip(sim_history_labels, sim_history_data):\n",
    "    spike_height = []\n",
    "    these_distances = []\n",
    "    spike_height.append(get_event_peak_amp(data['t'], data['soma_voltage']))\n",
    "    these_distances.append(0.)\n",
    "    for i, dend_voltage in enumerate(data['dend_voltage_list']):\n",
    "        distance = dend_distances[i]\n",
    "        these_distances.append(distance)\n",
    "        this_spike_height = get_event_peak_amp(data['t'], dend_voltage)\n",
    "        spike_height.append(this_spike_height)\n",
    "    axis.plot(these_distances, spike_height, label=label)\n",
    "axis.legend(loc='best', frameon=False, framealpha=0.5)\n",
    "axis.set_ylabel('Spike amplitude (mV)')\n",
    "axis.set_xlabel('Distance to soma (um)')\n",
    "fig.tight_layout()"
   ]
  },
  {
   "cell_type": "markdown",
   "metadata": {},
   "source": [
    "### This resembles the Hoffman et al., 1997 result in the presence of 4-AP to block A-type K+ channels\n",
    "\n",
    "So what happens if we insert Ka?"
   ]
  },
  {
   "cell_type": "code",
   "execution_count": null,
   "metadata": {},
   "outputs": [],
   "source": [
    "dend.insert('kap')\n",
    "for seg in dend:\n",
    "    seg.kap.gkabar = soma_gkabar"
   ]
  },
  {
   "cell_type": "code",
   "execution_count": null,
   "metadata": {},
   "outputs": [],
   "source": [
    "run_sim('active dend (uniform ka)')"
   ]
  },
  {
   "cell_type": "code",
   "execution_count": null,
   "metadata": {},
   "outputs": [],
   "source": [
    "fig, axis = plt.subplots()\n",
    "axis.plot(t, soma_voltage, label='soma')\n",
    "for i, dend_voltage in enumerate(dend_voltage_recs):\n",
    "    distance = dend_distances[i]\n",
    "    axis.plot(t, dend_voltage, label='dend (%.2f um)' % distance)\n",
    "axis.legend(loc='best', frameon=False, framealpha=0.5)\n",
    "axis.set_ylabel('Voltage (mV)')\n",
    "axis.set_xlabel('Time (ms)')\n",
    "axis.set_xlim((195., 210.))\n",
    "fig.tight_layout()"
   ]
  },
  {
   "cell_type": "code",
   "execution_count": null,
   "metadata": {},
   "outputs": [],
   "source": [
    "fig, axis = plt.subplots()\n",
    "for label, data in zip(sim_history_labels, sim_history_data):\n",
    "    spike_height = []\n",
    "    these_distances = []\n",
    "    spike_height.append(get_event_peak_amp(data['t'], data['soma_voltage']))\n",
    "    these_distances.append(0.)\n",
    "    for i, dend_voltage in enumerate(data['dend_voltage_list']):\n",
    "        distance = dend_distances[i]\n",
    "        these_distances.append(distance)\n",
    "        this_spike_height = get_event_peak_amp(data['t'], dend_voltage)\n",
    "        spike_height.append(this_spike_height)\n",
    "    axis.plot(these_distances, spike_height, label=label)\n",
    "axis.legend(loc='best', frameon=False, framealpha=0.5)\n",
    "axis.set_ylabel('Spike amplitude (mV)')\n",
    "axis.set_xlabel('Distance to soma (um)')\n",
    "fig.tight_layout()"
   ]
  },
  {
   "cell_type": "markdown",
   "metadata": {},
   "source": [
    "### Should we increase Ka?"
   ]
  },
  {
   "cell_type": "code",
   "execution_count": null,
   "metadata": {},
   "outputs": [],
   "source": [
    "for seg in dend:\n",
    "    seg.kap.gkabar = 2. * soma_gkabar"
   ]
  },
  {
   "cell_type": "code",
   "execution_count": null,
   "metadata": {},
   "outputs": [],
   "source": [
    "run_sim('active dend (2x ka in dend)')"
   ]
  },
  {
   "cell_type": "code",
   "execution_count": null,
   "metadata": {},
   "outputs": [],
   "source": [
    "fig, axis = plt.subplots()\n",
    "for label, data in zip(sim_history_labels, sim_history_data):\n",
    "    spike_height = []\n",
    "    these_distances = []\n",
    "    spike_height.append(get_event_peak_amp(data['t'], data['soma_voltage']))\n",
    "    these_distances.append(0.)\n",
    "    for i, dend_voltage in enumerate(data['dend_voltage_list']):\n",
    "        distance = dend_distances[i]\n",
    "        these_distances.append(distance)\n",
    "        this_spike_height = get_event_peak_amp(data['t'], dend_voltage)\n",
    "        spike_height.append(this_spike_height)\n",
    "    axis.plot(these_distances, spike_height, label=label)\n",
    "axis.legend(loc='best', frameon=False, framealpha=0.5)\n",
    "axis.set_ylabel('Spike amplitude (mV)')\n",
    "axis.set_xlabel('Distance to soma (um)')\n",
    "fig.tight_layout()"
   ]
  },
  {
   "cell_type": "markdown",
   "metadata": {},
   "source": [
    "### More?"
   ]
  },
  {
   "cell_type": "code",
   "execution_count": null,
   "metadata": {},
   "outputs": [],
   "source": [
    "for seg in dend:\n",
    "    seg.kap.gkabar = 10. * soma_gkabar"
   ]
  },
  {
   "cell_type": "code",
   "execution_count": null,
   "metadata": {},
   "outputs": [],
   "source": [
    "run_sim('active dend (10x ka in dend)')"
   ]
  },
  {
   "cell_type": "code",
   "execution_count": null,
   "metadata": {},
   "outputs": [],
   "source": [
    "fig, axis = plt.subplots()\n",
    "for label, data in zip(sim_history_labels, sim_history_data):\n",
    "    spike_height = []\n",
    "    these_distances = []\n",
    "    spike_height.append(get_event_peak_amp(data['t'], data['soma_voltage']))\n",
    "    these_distances.append(0.)\n",
    "    for i, dend_voltage in enumerate(data['dend_voltage_list']):\n",
    "        distance = dend_distances[i]\n",
    "        these_distances.append(distance)\n",
    "        this_spike_height = get_event_peak_amp(data['t'], dend_voltage)\n",
    "        spike_height.append(this_spike_height)\n",
    "    axis.plot(these_distances, spike_height, label=label)\n",
    "axis.legend(loc='best', frameon=False, framealpha=0.5)\n",
    "axis.set_ylabel('Spike amplitude (mV)')\n",
    "axis.set_xlabel('Distance to soma (um)')\n",
    "fig.tight_layout()"
   ]
  },
  {
   "cell_type": "markdown",
   "metadata": {},
   "source": [
    "### What if Ka is expressed in a linear gradient into dendrites?"
   ]
  },
  {
   "cell_type": "code",
   "execution_count": null,
   "metadata": {},
   "outputs": [],
   "source": [
    "ka_gradient = lambda distance, slope: soma_gkabar + slope * distance\n",
    "\n",
    "slope = 1.5 * soma_gkabar / 100.  # double the somatic conductance density in 100 um\n",
    "\n",
    "for seg in dend:\n",
    "    distance = seg.x * dend.L\n",
    "    seg.kap.gkabar = ka_gradient(distance, slope)"
   ]
  },
  {
   "cell_type": "code",
   "execution_count": null,
   "metadata": {},
   "outputs": [],
   "source": [
    "run_sim('active dend (linear ka gradient in dend)')"
   ]
  },
  {
   "cell_type": "code",
   "execution_count": null,
   "metadata": {},
   "outputs": [],
   "source": [
    "fig, axis = plt.subplots()\n",
    "for label, data in zip(sim_history_labels, sim_history_data):\n",
    "    spike_height = []\n",
    "    these_distances = []\n",
    "    spike_height.append(get_event_peak_amp(data['t'], data['soma_voltage']))\n",
    "    these_distances.append(0.)\n",
    "    for i, dend_voltage in enumerate(data['dend_voltage_list']):\n",
    "        distance = dend_distances[i]\n",
    "        these_distances.append(distance)\n",
    "        this_spike_height = get_event_peak_amp(data['t'], dend_voltage)\n",
    "        spike_height.append(this_spike_height)\n",
    "    axis.plot(these_distances, spike_height, label=label)\n",
    "axis.legend(loc='best', frameon=False, framealpha=0.5)\n",
    "axis.set_ylabel('Spike amplitude (mV)')\n",
    "axis.set_xlabel('Distance to soma (um)')\n",
    "fig.tight_layout()"
   ]
  },
  {
   "cell_type": "markdown",
   "metadata": {},
   "source": [
    "## 4. Inject synaptic current-shaped waveforms to explore transient signal propagation from dendrite to soma"
   ]
  },
  {
   "cell_type": "markdown",
   "metadata": {},
   "source": [
    "### Let's turn off our somatic current injection and add one to the middle of the dendrite:"
   ]
  },
  {
   "cell_type": "code",
   "execution_count": null,
   "metadata": {},
   "outputs": [],
   "source": [
    "step_current_stim.amp = 0.\n",
    "\n",
    "dend_current_stim = h.IClamp(dend(0.5))"
   ]
  },
  {
   "cell_type": "markdown",
   "metadata": {},
   "source": [
    "### But instead of injecting a square step current, let's construct a waveform to inject:"
   ]
  },
  {
   "cell_type": "code",
   "execution_count": null,
   "metadata": {},
   "outputs": [],
   "source": [
    "rise_and_decay = np.exp(-(t_array - 200.) / 10.) - np.exp(-(t_array - 200.) / 0.5)\n",
    "rise_and_decay[np.where(t_array < 200.)[0]] = 0.\n",
    "rise_and_decay /= np.max(rise_and_decay)\n",
    "plt.figure()\n",
    "plt.plot(t_array, rise_and_decay)"
   ]
  },
  {
   "cell_type": "code",
   "execution_count": null,
   "metadata": {},
   "outputs": [],
   "source": [
    "dend_current_stim.dur = 1e9  # the waveform will determine the duration\n",
    "dend_current_stim.delay = 0.  # the baseline is now built in to the waveform\n",
    "\n",
    "dend_stim_waveform_amp = 0.05 # nA\n",
    "dend_stim_amp_vector = h.Vector(dend_stim_waveform_amp * rise_and_decay)\n",
    "dend_stim_t_vector = h.Vector(t_array) \n",
    "dend_stim_amp_vector.play(dend_current_stim._ref_amp, dend_stim_t_vector)"
   ]
  },
  {
   "cell_type": "code",
   "execution_count": null,
   "metadata": {},
   "outputs": [],
   "source": [
    "h.run()\n",
    "\n",
    "fig, axis = plt.subplots()\n",
    "axis.plot(t, soma_voltage, label='soma')\n",
    "for i, dend_voltage in enumerate(dend_voltage_recs):\n",
    "    distance = dend_distances[i]\n",
    "    axis.plot(t, dend_voltage, label='dend (%.2f um)' % distance)\n",
    "axis.legend(loc='best', frameon=False, framealpha=0.5)\n",
    "axis.set_ylabel('Voltage (mV)')\n",
    "axis.set_xlabel('Time (ms)')\n",
    "axis.set_xlim((190., 300.))\n",
    "fig.tight_layout()"
   ]
  },
  {
   "cell_type": "markdown",
   "metadata": {},
   "source": [
    "### Let's quantify the amplitude and duration (full width at half max) at each recording location:"
   ]
  },
  {
   "cell_type": "code",
   "execution_count": null,
   "metadata": {},
   "outputs": [],
   "source": [
    "def get_event_shape(t, v, baseline_window=(195., 200.),  measurement_window=(200., 300.), direction=1.):\n",
    "    baseline_indexes = np.where((baseline_window[0] <= t) & (t < baseline_window[1]))\n",
    "    measurement_indexes = np.where((measurement_window[0] <= t) & (t < measurement_window[1]))\n",
    "    baseline_v = np.mean(v[baseline_indexes])\n",
    "    subtracted_v = v - baseline_v\n",
    "    if direction > 0.:\n",
    "        amp = np.max(subtracted_v[measurement_indexes])\n",
    "    else:\n",
    "        amp = np.min(subtracted_v[measurement_indexes])\n",
    "    rise_loc = np.where(subtracted_v[measurement_indexes] >= 0.5 * amp)[0][0]  # the first index that crosses 50% amplitude\n",
    "    decay_loc = np.where(subtracted_v[measurement_indexes] >= 0.5 * amp)[0][-1]  # the last index that crosses 50% amplitude\n",
    "    FWHM = t[measurement_indexes][decay_loc] - t[measurement_indexes][rise_loc]\n",
    "    return amp, FWHM"
   ]
  },
  {
   "cell_type": "code",
   "execution_count": null,
   "metadata": {},
   "outputs": [],
   "source": [
    "event_amp = []\n",
    "these_distances = []\n",
    "FWHM = []\n",
    "t_array = np.array(t)\n",
    "soma_amp, soma_FWHM = get_event_shape(t_array, np.array(soma_voltage))\n",
    "event_amp.append(soma_amp)\n",
    "FWHM.append(soma_FWHM)\n",
    "these_distances.append(0.)\n",
    "\n",
    "for i, dend_voltage_rec in enumerate(dend_voltage_recs):\n",
    "    this_amp, this_FWHM = get_event_shape(t_array, np.array(dend_voltage_rec))\n",
    "    event_amp.append(this_amp)\n",
    "    FWHM.append(this_FWHM)\n",
    "    these_distances.append(dend_distances[i])\n",
    "    \n",
    "fig, axes = plt.subplots(1, 2)\n",
    "axes[0].plot(these_distances, event_amp)\n",
    "axes[1].plot(these_distances, FWHM)\n",
    "axes[0].set_title('EPSP amplitude')\n",
    "axes[1].set_title('EPSP duration')\n",
    "axes[0].legend(loc='best', frameon=False, framealpha=0.5)\n",
    "axes[0].set_ylabel('Amplitude (mV)')\n",
    "axes[1].set_ylabel('Duration (ms)')\n",
    "axes[0].set_xlabel('Distance to soma (um)')\n",
    "axes[1].set_xlabel('Distance to soma (um)')\n",
    "fig.tight_layout()"
   ]
  },
  {
   "cell_type": "markdown",
   "metadata": {},
   "source": [
    "### Here's an example of using just one dendritic recording and stimulus to sequentially sample all locations:"
   ]
  },
  {
   "cell_type": "code",
   "execution_count": null,
   "metadata": {},
   "outputs": [],
   "source": [
    "soma_amp_list = []\n",
    "soma_FWHM_list = []\n",
    "local_amp_list = []\n",
    "local_FWHM_list = []\n",
    "\n",
    "fig, axes = plt.subplots(2, 2, figsize=(10., 8.))\n",
    "for i, seg in enumerate(dend):\n",
    "    loc = seg.x\n",
    "    this_dend_voltage_rec = h.Vector()\n",
    "    this_dend_voltage_rec.record(dend(loc)._ref_v, h.dt)\n",
    "    dend_current_stim = h.IClamp(dend(loc))\n",
    "    dend_current_stim.dur = 1e9\n",
    "    dend_current_stim.delay = 0.\n",
    "    dend_stim_amp_vector.play(dend_current_stim._ref_amp, dend_stim_t_vector)\n",
    "    h.run()\n",
    "    t_array = np.array(t)\n",
    "    soma_voltage_array = np.array(soma_voltage)\n",
    "    this_soma_amp, this_soma_FWHM = get_event_shape(t_array, soma_voltage_array)\n",
    "    soma_amp_list.append(this_soma_amp)\n",
    "    soma_FWHM_list.append(this_soma_FWHM)\n",
    "    dend_voltage_array = np.array(this_dend_voltage_rec)\n",
    "    this_dend_amp, this_dend_FWHM = get_event_shape(t_array, dend_voltage_array)\n",
    "    local_amp_list.append(this_dend_amp)\n",
    "    local_FWHM_list.append(this_dend_FWHM)\n",
    "    axes[0][0].plot(t_array, soma_voltage_array, label='Stim loc: %.2f um' % dend_distances[i])\n",
    "    axes[0][1].plot(t_array, dend_voltage_array)\n",
    "axes[0][0].set_ylabel('Voltage (mV)')\n",
    "axes[0][1].set_ylabel('Voltage (mV)')\n",
    "axes[0][0].set_xlabel('Time (ms)')\n",
    "axes[0][1].set_xlabel('Time (ms)')\n",
    "axes[0][0].set_xlim((190., 300.))\n",
    "axes[0][1].set_xlim((190., 300.))\n",
    "axes[0][0].set_title('Soma Vm')\n",
    "axes[0][1].set_title('Local dend Vm')\n",
    "axes[0][0].legend(loc='best', frameon=False, framealpha=0.5)\n",
    "axes[1][0].plot(dend_distances, soma_amp_list, label='Soma')\n",
    "axes[1][0].plot(dend_distances, local_amp_list, label='Dend')\n",
    "axes[1][1].plot(dend_distances, soma_FWHM_list)\n",
    "axes[1][1].plot(dend_distances, local_FWHM_list)\n",
    "axes[1][0].set_title('EPSP amplitude')\n",
    "axes[1][0].set_ylabel('Amplitude (mV)')\n",
    "axes[1][0].set_xlabel('Distance to soma (um)')\n",
    "axes[1][0].legend(loc='best', frameon=False, framealpha=0.5)\n",
    "axes[1][1].set_title('EPSP duration')\n",
    "axes[1][1].set_ylabel('Duration (ms)')\n",
    "axes[1][1].set_xlabel('Distance to soma (um)')\n",
    "fig.tight_layout()\n",
    "fig.show()"
   ]
  },
  {
   "cell_type": "markdown",
   "metadata": {},
   "source": [
    "## 5. Challenge - what happens to spike backpropagation in the distal dendrite if an EPSP precedes the spike by ~5 ms?"
   ]
  },
  {
   "cell_type": "code",
   "execution_count": null,
   "metadata": {},
   "outputs": [],
   "source": []
  },
  {
   "cell_type": "markdown",
   "metadata": {},
   "source": [
    "## 6. Papers for next week: the role of NMDA-type glutamate receptors in spatial and temporal input summation"
   ]
  },
  {
   "cell_type": "markdown",
   "metadata": {},
   "source": [
    "- Losonczy, A., Magee, J. (2006). Integrative Properties of Radial Oblique Dendrites in Hippocampal CA1 Pyramidal Neurons Neuron  50(2), 291-307. https://dx.doi.org/10.1016/j.neuron.2006.03.016\n",
    "- Popescu, G., Robert, A., Howe, J., Auerbach, A. (2004). Reaction mechanism determines NMDA receptor response to repetitive stimulation Nature  430(7001), 790-793. https://dx.doi.org/10.1038/nature02775"
   ]
  },
  {
   "cell_type": "code",
   "execution_count": null,
   "metadata": {},
   "outputs": [],
   "source": []
  }
 ],
 "metadata": {
  "kernelspec": {
   "display_name": "Python 3",
   "language": "python",
   "name": "python3"
  },
  "language_info": {
   "codemirror_mode": {
    "name": "ipython",
    "version": 3
   },
   "file_extension": ".py",
   "mimetype": "text/x-python",
   "name": "python",
   "nbconvert_exporter": "python",
   "pygments_lexer": "ipython3",
   "version": "3.7.6"
  }
 },
 "nbformat": 4,
 "nbformat_minor": 4
}
