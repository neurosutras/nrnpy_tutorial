{
 "cells": [
  {
   "cell_type": "markdown",
   "metadata": {},
   "source": [
    "# Lesson 4: Introduction to dendrites"
   ]
  },
  {
   "cell_type": "markdown",
   "metadata": {},
   "source": [
    "## Lesson goals:"
   ]
  },
  {
   "cell_type": "markdown",
   "metadata": {},
   "source": [
    "1. Discuss challenge from Lesson 3:\n",
    " - Devise an objective function for optimization of rheobase.\n",
    "2. Discuss papers from last week focusing on filtering of synaptic signals from dendrites to soma\n",
    "3. Explore attenuation of signals from dendrite to soma.\n",
    "4. Challenge - Reproduce Figures 2b, 3a, and 3c from Magee & Cook"
   ]
  },
  {
   "cell_type": "markdown",
   "metadata": {},
   "source": [
    "## 1. Discuss challenge from Lesson 3:"
   ]
  },
  {
   "cell_type": "markdown",
   "metadata": {},
   "source": [
    "### Devise an objective function for optimization of rheobase."
   ]
  },
  {
   "cell_type": "code",
   "execution_count": null,
   "metadata": {},
   "outputs": [],
   "source": [
    "%matplotlib notebook\n",
    "import numpy as np\n",
    "import matplotlib.pyplot as plt\n",
    "from neuron import h\n",
    "h.load_file('stdrun.hoc')"
   ]
  },
  {
   "cell_type": "markdown",
   "metadata": {},
   "source": [
    "These last two weeks we used the default compartment size, which models the Hodgkin-Huxley squid axon compartment. But we were only able to tune the input resistance to be ~10 MOhm, and the rheobase to be ~0.5 nA.\n",
    "\n",
    "Let's change the dimensions of the compartment to resemble a rodent pyramidal neuron, and attempt to tune the input resistance to be ~100 MOhm, and the rheobase to be 0.1 nA."
   ]
  },
  {
   "cell_type": "code",
   "execution_count": null,
   "metadata": {},
   "outputs": [],
   "source": [
    "soma = h.Section()\n",
    "soma.L = 20.  # um\n",
    "soma.diam = 20.  # um\n",
    "soma.Ra = 100.  # MOhm\n",
    "\n",
    "soma.insert('hh')\n",
    "\n",
    "t = h.Vector()\n",
    "soma_voltage = h.Vector()\n",
    "t.record(h._ref_t)  # record the time stamp\n",
    "soma_voltage.record(soma(0.5)._ref_v)  # record the voltage across the membrane in a segment\n",
    "\n",
    "step_current_stim = h.IClamp(soma(0.5))\n",
    "step_current_stim.amp = -0.1  # amplitude in nanoAmps\n",
    "step_current_stim.dur = 200.  # duration in milliseconds\n",
    "step_current_stim.delay = 200.  # start time of current injection\n",
    "\n",
    "step_current_rec = h.Vector()\n",
    "step_current_rec.record(step_current_stim._ref_i)\n",
    "\n",
    "h.tstop = 600."
   ]
  },
  {
   "cell_type": "markdown",
   "metadata": {},
   "source": [
    "Let's store the initial values of each of the ion channel conductances:"
   ]
  },
  {
   "cell_type": "code",
   "execution_count": null,
   "metadata": {},
   "outputs": [],
   "source": [
    "gl_init = soma(0.5).hh.gl\n",
    "gnabar_init = soma(0.5).hh.gnabar\n",
    "gkbar_init = soma(0.5).hh.gkbar\n",
    "\n",
    "print('Initial leak condutance is %.5f S/cm^2' % gl_init)\n",
    "print('Initial Na condutance is %.5f S/cm^2' % gnabar_init)\n",
    "print('Initial K condutance is %.5f S/cm^2' % gkbar_init)"
   ]
  },
  {
   "cell_type": "markdown",
   "metadata": {},
   "source": [
    "First let's optimize the leak conductance to hit a target input resistance of 100 MOhm."
   ]
  },
  {
   "cell_type": "markdown",
   "metadata": {},
   "source": [
    "We can re-use some functions from last week:"
   ]
  },
  {
   "cell_type": "code",
   "execution_count": null,
   "metadata": {},
   "outputs": [],
   "source": [
    "def get_input_resistance(t, vm, i, start, stop, window_dur):\n",
    "    \n",
    "    baseline_start_index = np.where(t >= start - window_dur)[0][0]\n",
    "    baseline_end_index = np.where(t >= start)[0][0]\n",
    "    equil_start_index = np.where(t >= stop - window_dur)[0][0]\n",
    "    equil_end_index = np.where(t >= stop)[0][0]\n",
    "    delta_vm = np.abs(np.mean(vm[equil_start_index:equil_end_index]) - np.mean(vm[baseline_start_index:baseline_end_index]))\n",
    "    delta_i = np.abs(np.mean(i[equil_start_index:equil_end_index]) - np.mean(i[baseline_start_index:baseline_end_index]))\n",
    "    \n",
    "    # Ohms = Volts / Amps; MegaOhms = milliVolts / nanoAmps\n",
    "    input_res = delta_vm / delta_i\n",
    "    return input_res\n",
    "\n",
    "\n",
    "def simulate_model_test_input_resistance(plot=False):\n",
    "    sim_record = {}\n",
    "    sim_record['stim_amp'] = step_current_stim.amp\n",
    "    sim_record['gl'] = soma(0.5).hh.gl\n",
    "    \n",
    "    sim_record['description'] = 'gl: %.2E S/cm^s' % soma(0.5).hh.gl\n",
    "    h.run()\n",
    "    sim_record['soma_voltage'] = np.array(soma_voltage)\n",
    "    sim_record['t'] = np.array(t)\n",
    "    sim_record['step_current_rec'] = np.array(step_current_rec)\n",
    "    \n",
    "    input_resistance = get_input_resistance(sim_record['t'], sim_record['soma_voltage'], sim_record['step_current_rec'], \n",
    "                                            start=step_current_stim.delay, stop=step_current_stim.delay + step_current_stim.dur, \n",
    "                                            window_dur=10.)\n",
    "    sim_record['input_resistance'] = input_resistance\n",
    "    \n",
    "    if plot:\n",
    "        fig, axes = plt.subplots(1, 2, figsize=(8, 3))\n",
    "        axes[0].plot(sim_record['t'], sim_record['step_current_rec'], label='%.3f nA' % (sim_record['stim_amp']))\n",
    "        axes[0].set_xlabel('Time (ms)')\n",
    "        axes[0].set_ylabel('Current (nA)')\n",
    "        axes[0].set_title('Injected current')\n",
    "        axes[1].plot(sim_record['t'], sim_record['soma_voltage'], label='R_inp: %.3f MOhm' % sim_record['input_resistance'])\n",
    "        axes[1].set_xlabel('Time (ms)')\n",
    "        axes[1].set_ylabel('Voltage (mV)')\n",
    "        axes[1].set_title('Soma membrane potential')\n",
    "        axes[0].legend(loc='best', frameon=False)\n",
    "        axes[1].legend(loc='best', frameon=False)\n",
    "        fig.suptitle(sim_record['description'])\n",
    "        fig.tight_layout(w_pad=0.9)\n",
    "    \n",
    "    return sim_record"
   ]
  },
  {
   "cell_type": "markdown",
   "metadata": {},
   "source": [
    "There is one change that I like to make to the objective error function. We can enforce bound constrains on the parameters. Some optimization algorithms never choose parameters outside specified bounds. If this is not the case, we can manually exclude bad parameters by simply returning a very large error value."
   ]
  },
  {
   "cell_type": "code",
   "execution_count": null,
   "metadata": {},
   "outputs": [],
   "source": [
    "def get_input_resistance_objective_error(x, target, tolerance, bounds=None, sim_history=None, plot=False):\n",
    "    \n",
    "    # expect x to be an array of length 1. The single element is a value of gl to test.\n",
    "    gl = x[0]\n",
    "    \n",
    "    if bounds is not None:\n",
    "        for i, (xmin, xmax) in enumerate(bounds):\n",
    "            if not (xmin <= x[i] <= xmax):\n",
    "                return 1e9\n",
    "    \n",
    "    soma(0.5).hh.gl = gl\n",
    "    \n",
    "    sim_record = simulate_model_test_input_resistance(plot=plot)\n",
    "    sim_record['x'] = np.copy(x)\n",
    "    \n",
    "    input_resistance = sim_record['input_resistance']\n",
    "    error = ((target - input_resistance) / tolerance) ** 2.\n",
    "    sim_record['input_resistance_error'] = error\n",
    "    \n",
    "    if sim_history is not None:\n",
    "        sim_history.append(sim_record)\n",
    "    \n",
    "    return error"
   ]
  },
  {
   "cell_type": "markdown",
   "metadata": {},
   "source": [
    "Let's make sure our functions work at the initial conditions:"
   ]
  },
  {
   "cell_type": "code",
   "execution_count": null,
   "metadata": {},
   "outputs": [],
   "source": [
    "bounds=[(gl_init / 100., gl_init * 100.)]\n",
    "target = 100.  # Input resistance in MOhm\n",
    "tolerance = 1.  # Tolerance in MOhm\n",
    "x0 = [gl_init]\n",
    "\n",
    "get_input_resistance_objective_error(x0, target, tolerance, bounds, plot=True)"
   ]
  },
  {
   "cell_type": "markdown",
   "metadata": {},
   "source": [
    "First we will try a gradient-based algorithm:"
   ]
  },
  {
   "cell_type": "code",
   "execution_count": null,
   "metadata": {},
   "outputs": [],
   "source": [
    "from scipy.optimize import minimize\n",
    "sim_history = []\n",
    "\n",
    "result = minimize(get_input_resistance_objective_error, x0, method='L-BFGS-B', bounds=bounds, options={'disp': True}, \n",
    "                  args=(target, tolerance, bounds, sim_history))"
   ]
  },
  {
   "cell_type": "code",
   "execution_count": null,
   "metadata": {},
   "outputs": [],
   "source": [
    "print(result)"
   ]
  },
  {
   "cell_type": "markdown",
   "metadata": {},
   "source": [
    "Let's look at the simulation results using this optimized parameter value:"
   ]
  },
  {
   "cell_type": "code",
   "execution_count": null,
   "metadata": {},
   "outputs": [],
   "source": [
    "get_input_resistance_objective_error(result.x, target, tolerance, bounds, plot=True)"
   ]
  },
  {
   "cell_type": "markdown",
   "metadata": {},
   "source": [
    "Let's visualize the values of conductance, input resistance, and objective error sampled during optimization:"
   ]
  },
  {
   "cell_type": "code",
   "execution_count": null,
   "metadata": {},
   "outputs": [],
   "source": [
    "x_history = []\n",
    "input_resistance_history = []\n",
    "error_history = []\n",
    "for sim_record in sim_history:\n",
    "    x_history.append(sim_record['x'][0])\n",
    "    input_resistance_history.append(sim_record['input_resistance'])\n",
    "    error_history.append(sim_record['input_resistance_error'])\n",
    "\n",
    "fig, axes = plt.subplots(1, 2)\n",
    "axes[0].scatter(x_history, input_resistance_history)\n",
    "axes[0].set_xlabel('Leak conductance (S/cm^2)')\n",
    "axes[0].set_ylabel('Input resistance (MOhm)')\n",
    "\n",
    "axes[1].scatter(x_history, error_history)\n",
    "axes[1].set_xlabel('Leak conductance (S/cm^2)')\n",
    "axes[1].set_ylabel('Input resistance objective error')\n",
    "fig.tight_layout()"
   ]
  },
  {
   "cell_type": "markdown",
   "metadata": {},
   "source": [
    "Let's store and set this new value of leak conductance and move on to tune the Na and K channel conductances to fit spiking objectives."
   ]
  },
  {
   "cell_type": "code",
   "execution_count": null,
   "metadata": {},
   "outputs": [],
   "source": [
    "gl_new = result.x[0]\n",
    "soma(0.5).hh.gl = gl_new"
   ]
  },
  {
   "cell_type": "markdown",
   "metadata": {},
   "source": [
    "Let's re-use our convenience functions for finding spike times from last week:"
   ]
  },
  {
   "cell_type": "code",
   "execution_count": null,
   "metadata": {},
   "outputs": [],
   "source": [
    "def get_spike_times(t, vm, vm_threshold=0.):\n",
    "    spike_times = []\n",
    "    i = 0\n",
    "    while i < len(t):\n",
    "        if vm[i] >= vm_threshold:\n",
    "            spike_times.append(t[i])\n",
    "            i += 1\n",
    "            while i < len(t) and vm[i] >= vm_threshold:\n",
    "                i += 1\n",
    "        else:\n",
    "            i += 1\n",
    "    return np.array(spike_times)"
   ]
  },
  {
   "cell_type": "markdown",
   "metadata": {},
   "source": [
    "It was also convenient to define a function to simulate the model and return a simulation summary object:"
   ]
  },
  {
   "cell_type": "code",
   "execution_count": null,
   "metadata": {},
   "outputs": [],
   "source": [
    "def simulate_model_test_rheobase(plot=False):\n",
    "    sim_record = {}\n",
    "    sim_record['stim_amp'] = step_current_stim.amp\n",
    "    sim_record['gl'] = soma(0.5).hh.gl\n",
    "    sim_record['gnabar'] = soma(0.5).hh.gnabar\n",
    "    sim_record['gkbar'] = soma(0.5).hh.gkbar\n",
    "    \n",
    "    sim_record['description'] = 'gna: %.2E S/cm^s; gk: %.2E S/cm^2' % (soma(0.5).hh.gnabar, soma(0.5).hh.gkbar)\n",
    "    h.run()\n",
    "    sim_record['soma_voltage'] = np.array(soma_voltage)\n",
    "    sim_record['t'] = np.array(t)\n",
    "    sim_record['step_current_rec'] = np.array(step_current_rec)\n",
    "    \n",
    "    spike_times = get_spike_times(sim_record['t'], sim_record['soma_voltage'], vm_threshold=-10.)\n",
    "    sim_record['spike_times'] = spike_times\n",
    "    \n",
    "    if plot:\n",
    "        fig, axes = plt.subplots(1, 2, figsize=(8, 3))\n",
    "        axes[0].plot(sim_record['t'], sim_record['step_current_rec'], label='%.3f nA' % sim_record['stim_amp'])\n",
    "        axes[0].set_xlabel('Time (ms)')\n",
    "        axes[0].set_ylabel('Current (nA)')\n",
    "        axes[0].set_title('Injected current')\n",
    "        axes[1].plot(sim_record['t'], sim_record['soma_voltage'], label='%i spikes' % len(sim_record['spike_times']))\n",
    "        axes[1].set_xlabel('Time (ms)')\n",
    "        axes[1].set_ylabel('Voltage (mV)')\n",
    "        axes[1].set_title('Soma membrane potential')\n",
    "        axes[0].legend(loc='best', frameon=False)\n",
    "        axes[1].legend(loc='best', frameon=False)\n",
    "        fig.suptitle(sim_record['description'])\n",
    "        fig.tight_layout(w_pad=0.9)\n",
    "    \n",
    "    return sim_record"
   ]
  },
  {
   "cell_type": "markdown",
   "metadata": {},
   "source": [
    "Let's make sure our function works:"
   ]
  },
  {
   "cell_type": "code",
   "execution_count": null,
   "metadata": {},
   "outputs": [],
   "source": [
    "step_current_stim.amp = 0.1\n",
    "sim_record = simulate_model_test_rheobase(plot=True)"
   ]
  },
  {
   "cell_type": "markdown",
   "metadata": {},
   "source": [
    "Now we want an objective function that will vary gna and gk, measure rheobase, and compute an objective based on how far away the measured rheobase is from a specified target value.\n",
    "\n",
    "We also want to penalize spontaneous spiking that occurs outside the duration of the current injection."
   ]
  },
  {
   "cell_type": "code",
   "execution_count": null,
   "metadata": {},
   "outputs": [],
   "source": [
    "def get_rheobase_objective_error(x, targets, tolerances, bounds=None, sim_history=None, plot=False):\n",
    "    \n",
    "    # expect x to be an array of length 2, containing both a value of gna and a value of gk to test.\n",
    "    # expect targets and tolerances to be dictionaries containing values for both 'rheobase' and 'spontaneous_spike_count'\n",
    "    \n",
    "    gnabar = x[0]\n",
    "    gkbar = x[1]\n",
    "    \n",
    "    if bounds is not None:\n",
    "        for i, (xmin, xmax) in enumerate(bounds):\n",
    "            if not (xmin <= x[i] <= xmax):\n",
    "                return 1e9\n",
    "    \n",
    "    soma(0.5).hh.gnabar = gnabar\n",
    "    soma(0.5).hh.gkbar = gkbar\n",
    "    \n",
    "    # iterate over values of current injection until at least 1 spike occurs:\n",
    "    for stim_amp in np.arange(0.025, 0.225, 0.025):\n",
    "        step_current_stim.amp = stim_amp\n",
    "        sim_record = simulate_model_test_rheobase(plot=plot)\n",
    "        spike_times = sim_record['spike_times']\n",
    "        if len(spike_times) > 0:\n",
    "            break\n",
    "    sim_record['rheobase'] = stim_amp\n",
    "    sim_record['x'] = np.copy(x)\n",
    "    \n",
    "    # first construct a squared error term based on distance of stim_amp from the rheobase target:\n",
    "    error = ((targets['rheobase'] - sim_record['rheobase']) / tolerances['rheobase']) ** 2.\n",
    "    \n",
    "    # now add an additional error based on spontaneous firing outside the duration of the step current injection:\n",
    "    if len(spike_times) < 1:\n",
    "        sim_record['spontaneous_spike_count'] = 0.\n",
    "    else:\n",
    "        # '&' is like 'and' for elemarrays, and '|' is like 'or' for arrays\n",
    "        spont_spike_times = np.where((spike_times < step_current_stim.delay) | (spike_times > step_current_stim.delay + step_current_stim.dur))[0]\n",
    "        sim_record['spontaneous_spike_count'] = len(spont_spike_times)\n",
    "    \n",
    "    error += ((targets['spontaneous_spike_count'] - sim_record['spontaneous_spike_count']) / tolerances['spontaneous_spike_count']) ** 2.\n",
    "    \n",
    "    sim_record['rheobase_error'] = error\n",
    "    \n",
    "    if sim_history is not None:\n",
    "        sim_history.append(sim_record)\n",
    "    \n",
    "    return error"
   ]
  },
  {
   "cell_type": "markdown",
   "metadata": {},
   "source": [
    "Let's make sure our objective function works. \n",
    "\n",
    "Now we need to define our targets and tolerances dictionaries, too."
   ]
  },
  {
   "cell_type": "code",
   "execution_count": null,
   "metadata": {
    "scrolled": false
   },
   "outputs": [],
   "source": [
    "targets = {'rheobase': 0.1, 'spontaneous_spike_count': 0.}\n",
    "tolerances = {'rheobase': 0.001, 'spontaneous_spike_count': 0.01}\n",
    "bounds = [(gnabar_init / 100., gnabar_init * 10.), (gkbar_init / 100., gkbar_init * 10.)]\n",
    "x0 = [gnabar_init, gkbar_init]\n",
    "\n",
    "get_rheobase_objective_error(x0, targets, tolerances, bounds, plot=True)"
   ]
  },
  {
   "cell_type": "markdown",
   "metadata": {},
   "source": [
    "Let's intentionally pass in values that are out of bounds to test our implementation of bound constraints:"
   ]
  },
  {
   "cell_type": "code",
   "execution_count": null,
   "metadata": {
    "scrolled": false
   },
   "outputs": [],
   "source": [
    "bounds = [(gnabar_init / 100., gnabar_init * 20.), (gkbar_init / 100., gkbar_init * 20.)]\n",
    "\n",
    "get_rheobase_objective_error([gnabar_init * 100., gkbar_init * 100.], targets, tolerances, bounds)"
   ]
  },
  {
   "cell_type": "markdown",
   "metadata": {},
   "source": [
    "Let's test it out with scipy.optimize.minimize!\n",
    "\n",
    "First we will use the same gradient-based algorithm used above for optimization of input resistance."
   ]
  },
  {
   "cell_type": "code",
   "execution_count": null,
   "metadata": {},
   "outputs": [],
   "source": [
    "sim_history = []\n",
    "x0 = [gnabar_init, gkbar_init]\n",
    "result = minimize(get_rheobase_objective_error, x0, method='L-BFGS-B', bounds=bounds, options={'disp': True}, args=(targets, tolerances, bounds, sim_history))"
   ]
  },
  {
   "cell_type": "code",
   "execution_count": null,
   "metadata": {},
   "outputs": [],
   "source": [
    "print(result)"
   ]
  },
  {
   "cell_type": "markdown",
   "metadata": {},
   "source": [
    "Uh oh. It looks like it's still stuck at the initial conditions.\n",
    "\n",
    "Let's look at the values that it explored:"
   ]
  },
  {
   "cell_type": "code",
   "execution_count": null,
   "metadata": {},
   "outputs": [],
   "source": [
    "rheobase_history = []\n",
    "spont_spike_count_history = []\n",
    "gna_history = []\n",
    "gk_history = []\n",
    "error_history = []\n",
    "\n",
    "for sim_record in sim_history:\n",
    "    rheobase_history.append(sim_record['rheobase'])\n",
    "    spont_spike_count_history.append(sim_record['spontaneous_spike_count'])\n",
    "    gna_history.append(sim_record['x'][0])\n",
    "    gk_history.append(sim_record['x'][1])\n",
    "    error_history.append(sim_record['rheobase_error'])\n",
    "\n",
    "fig, axes = plt.subplots(3, 2)\n",
    "axes[0][0].scatter(gna_history, rheobase_history)\n",
    "axes[0][0].set_xlabel('Na channel conductance (S/cm^2)')\n",
    "axes[0][0].set_ylabel('Rheobase (nA)')\n",
    "\n",
    "axes[0][1].scatter(gk_history, rheobase_history)\n",
    "axes[0][1].set_xlabel('K channel conductance (S/cm^2)')\n",
    "axes[0][1].set_ylabel('Rheobase (nA)')\n",
    "\n",
    "axes[1][0].scatter(gna_history, spont_spike_count_history)\n",
    "axes[1][0].set_xlabel('Na channel conductance (S/cm^2)')\n",
    "axes[1][0].set_ylabel('Spontaneous spike count')\n",
    "\n",
    "axes[1][1].scatter(gk_history, spont_spike_count_history)\n",
    "axes[1][1].set_xlabel('K channel conductance (S/cm^2)')\n",
    "axes[1][1].set_ylabel('Spontaneous spike count')\n",
    "\n",
    "axes[2][0].scatter(gna_history, error_history)\n",
    "axes[2][0].set_xlabel('Na channel conductance (S/cm^2)')\n",
    "axes[2][0].set_ylabel('Rheobase objective error')\n",
    "\n",
    "axes[2][1].scatter(gk_history, error_history)\n",
    "axes[2][1].set_xlabel('K channel conductance (S/cm^2)')\n",
    "axes[2][1].set_ylabel('Rheobase objective error')\n",
    "\n",
    "fig.tight_layout()"
   ]
  },
  {
   "cell_type": "markdown",
   "metadata": {},
   "source": [
    "Last week we had success using another local search method that does not rely on gradient computation - the simplex algorithm. Let's see if that can help here:"
   ]
  },
  {
   "cell_type": "code",
   "execution_count": null,
   "metadata": {},
   "outputs": [],
   "source": [
    "sim_history = []\n",
    "x0 = [gnabar_init, gkbar_init]\n",
    "result = minimize(get_rheobase_objective_error, x0, method='Nelder-Mead', options={'disp': True}, args=(targets, tolerances, bounds, sim_history))"
   ]
  },
  {
   "cell_type": "code",
   "execution_count": null,
   "metadata": {},
   "outputs": [],
   "source": [
    "print(result)"
   ]
  },
  {
   "cell_type": "code",
   "execution_count": null,
   "metadata": {},
   "outputs": [],
   "source": [
    "rheobase_history = []\n",
    "spont_spike_count_history = []\n",
    "gna_history = []\n",
    "gk_history = []\n",
    "error_history = []\n",
    "\n",
    "for sim_record in sim_history:\n",
    "    rheobase_history.append(sim_record['rheobase'])\n",
    "    spont_spike_count_history.append(sim_record['spontaneous_spike_count'])\n",
    "    gna_history.append(sim_record['x'][0])\n",
    "    gk_history.append(sim_record['x'][1])\n",
    "    error_history.append(sim_record['rheobase_error'])\n",
    "\n",
    "fig, axes = plt.subplots(3, 2)\n",
    "axes[0][0].scatter(gna_history, rheobase_history)\n",
    "axes[0][0].set_xlabel('Na channel conductance (S/cm^2)')\n",
    "axes[0][0].set_ylabel('Rheobase (nA)')\n",
    "\n",
    "axes[0][1].scatter(gk_history, rheobase_history)\n",
    "axes[0][1].set_xlabel('K channel conductance (S/cm^2)')\n",
    "axes[0][1].set_ylabel('Rheobase (nA)')\n",
    "\n",
    "axes[1][0].scatter(gna_history, spont_spike_count_history)\n",
    "axes[1][0].set_xlabel('Na channel conductance (S/cm^2)')\n",
    "axes[1][0].set_ylabel('Spontaneous spike count')\n",
    "\n",
    "axes[1][1].scatter(gk_history, spont_spike_count_history)\n",
    "axes[1][1].set_xlabel('K channel conductance (S/cm^2)')\n",
    "axes[1][1].set_ylabel('Spontaneous spike count')\n",
    "\n",
    "axes[2][0].scatter(gna_history, error_history)\n",
    "axes[2][0].set_xlabel('Na channel conductance (S/cm^2)')\n",
    "axes[2][0].set_ylabel('Rheobase objective error')\n",
    "\n",
    "axes[2][1].scatter(gk_history, error_history)\n",
    "axes[2][1].set_xlabel('K channel conductance (S/cm^2)')\n",
    "axes[2][1].set_ylabel('Rheobase objective error')\n",
    "\n",
    "fig.tight_layout()"
   ]
  },
  {
   "cell_type": "markdown",
   "metadata": {},
   "source": [
    "Despite testing more parameter values, the simplex algorithm performed a very local search. It never encountered any nearby parameters that altered the error landscape.\n",
    "\n",
    "Let's try another algorithm, called \"simulated annealing\" that samples more widely within bounds:\n",
    "\n",
    "https://docs.scipy.org/doc/scipy/reference/generated/scipy.optimize.dual_annealing.html#scipy.optimize.dual_annealing"
   ]
  },
  {
   "cell_type": "code",
   "execution_count": null,
   "metadata": {
    "scrolled": false
   },
   "outputs": [],
   "source": [
    "from scipy.optimize import dual_annealing\n",
    "\n",
    "sim_history = []\n",
    "x0 = [gnabar_init, gkbar_init]\n",
    "result = dual_annealing(get_rheobase_objective_error, x0=x0, no_local_search=True, seed=0, bounds=bounds, maxiter=100,\n",
    "                      args=(targets, tolerances, bounds, sim_history))"
   ]
  },
  {
   "cell_type": "code",
   "execution_count": null,
   "metadata": {},
   "outputs": [],
   "source": [
    "print(result)"
   ]
  },
  {
   "cell_type": "markdown",
   "metadata": {},
   "source": [
    "This algorithm found a solution. Let's see how it explored the parameter space:"
   ]
  },
  {
   "cell_type": "code",
   "execution_count": null,
   "metadata": {},
   "outputs": [],
   "source": [
    "rheobase_history = []\n",
    "spont_spike_count_history = []\n",
    "gna_history = []\n",
    "gk_history = []\n",
    "error_history = []\n",
    "\n",
    "for sim_record in sim_history:\n",
    "    rheobase_history.append(sim_record['rheobase'])\n",
    "    spont_spike_count_history.append(sim_record['spontaneous_spike_count'])\n",
    "    gna_history.append(sim_record['x'][0])\n",
    "    gk_history.append(sim_record['x'][1])\n",
    "    error_history.append(sim_record['rheobase_error'])\n",
    "\n",
    "fig, axes = plt.subplots(3, 2)\n",
    "axes[0][0].scatter(gna_history, rheobase_history)\n",
    "axes[0][0].set_xlabel('Na channel conductance (S/cm^2)')\n",
    "axes[0][0].set_ylabel('Rheobase (nA)')\n",
    "\n",
    "axes[0][1].scatter(gk_history, rheobase_history)\n",
    "axes[0][1].set_xlabel('K channel conductance (S/cm^2)')\n",
    "axes[0][1].set_ylabel('Rheobase (nA)')\n",
    "\n",
    "axes[1][0].scatter(gna_history, spont_spike_count_history)\n",
    "axes[1][0].set_xlabel('Na channel conductance (S/cm^2)')\n",
    "axes[1][0].set_ylabel('Spontaneous spike count')\n",
    "\n",
    "axes[1][1].scatter(gk_history, spont_spike_count_history)\n",
    "axes[1][1].set_xlabel('K channel conductance (S/cm^2)')\n",
    "axes[1][1].set_ylabel('Spontaneous spike count')\n",
    "\n",
    "axes[2][0].scatter(gna_history, error_history)\n",
    "axes[2][0].set_xlabel('Na channel conductance (S/cm^2)')\n",
    "axes[2][0].set_ylabel('Rheobase objective error')\n",
    "\n",
    "axes[2][1].scatter(gk_history, error_history)\n",
    "axes[2][1].set_xlabel('K channel conductance (S/cm^2)')\n",
    "axes[2][1].set_ylabel('Rheobase objective error')\n",
    "\n",
    "fig.tight_layout()"
   ]
  },
  {
   "cell_type": "markdown",
   "metadata": {},
   "source": [
    "Let's look at the traces:"
   ]
  },
  {
   "cell_type": "code",
   "execution_count": null,
   "metadata": {
    "scrolled": false
   },
   "outputs": [],
   "source": [
    "get_rheobase_objective_error(result.x, targets, tolerances, bounds, plot=True)"
   ]
  },
  {
   "cell_type": "markdown",
   "metadata": {},
   "source": [
    "Now, ideally increasing the amount of injected current would increase the number of output spikes. Let's check:"
   ]
  },
  {
   "cell_type": "code",
   "execution_count": null,
   "metadata": {},
   "outputs": [],
   "source": [
    "gnabar_new = result.x[0]\n",
    "gkbar_new = result.x[1]\n",
    "\n",
    "soma(0.5).hh.gnabar = gnabar_new\n",
    "soma(0.5).hh.gkbar = gkbar_new"
   ]
  },
  {
   "cell_type": "markdown",
   "metadata": {},
   "source": [
    "We can re-use our get_firing_rate function from last week:"
   ]
  },
  {
   "cell_type": "code",
   "execution_count": null,
   "metadata": {},
   "outputs": [],
   "source": [
    "def get_firing_rate(spike_times, start, stop):\n",
    "    duration = (stop - start) / 1000.  # convert to seconds\n",
    "    spike_count = len(np.where((spike_times >= start) & (spike_times < stop))[0])\n",
    "    return spike_count / duration  # in Hz"
   ]
  },
  {
   "cell_type": "code",
   "execution_count": null,
   "metadata": {},
   "outputs": [],
   "source": [
    "fig, axes = plt.subplots(1, 2, figsize=(8, 3))\n",
    "\n",
    "for stim_amp in np.arange(0.1, 0.6, 0.1):\n",
    "    sim_record = {}\n",
    "    step_current_stim.amp = stim_amp\n",
    "    sim_record['stim_amp'] = stim_amp\n",
    "    sim_record['gl'] = soma(0.5).hh.gl\n",
    "    sim_record['gnabar'] = soma(0.5).hh.gnabar\n",
    "    sim_record['gkbar'] = soma(0.5).hh.gkbar\n",
    "    \n",
    "    sim_record['description'] = '%.3f nA' % stim_amp\n",
    "    h.run()\n",
    "    sim_record['soma_voltage'] = np.array(soma_voltage)\n",
    "    sim_record['t'] = np.array(t)\n",
    "    sim_record['step_current_rec'] = np.array(step_current_rec)\n",
    "    \n",
    "    spike_times = get_spike_times(sim_record['t'], sim_record['soma_voltage'])\n",
    "    firing_rate = get_firing_rate(spike_times, step_current_stim.delay, step_current_stim.delay + step_current_stim.dur)\n",
    "    sim_record['firing_rate'] = firing_rate\n",
    "    \n",
    "    axes[0].plot(sim_record['t'], sim_record['step_current_rec'], label=sim_record['description'])\n",
    "    axes[0].set_xlabel('Time (ms)')\n",
    "    axes[0].set_ylabel('Current (nA)')\n",
    "    axes[0].set_title('Injected current')\n",
    "    axes[1].plot(sim_record['t'], sim_record['soma_voltage'], label='Firing rate: %.1f Hz' % sim_record['firing_rate'])\n",
    "    axes[1].set_xlabel('Time (ms)')\n",
    "    axes[1].set_ylabel('Voltage (mV)')\n",
    "    axes[1].set_title('Soma membrane potential')\n",
    "axes[0].legend(loc='best', frameon=False)\n",
    "axes[1].legend(loc='best', frameon=False)\n",
    "fig.tight_layout(w_pad=0.2)"
   ]
  },
  {
   "cell_type": "markdown",
   "metadata": {},
   "source": [
    "Hmm - this cell is still not very excitable. We optimized rheobase, but we did not attempt to optimize the slope of the f-I curve."
   ]
  },
  {
   "cell_type": "markdown",
   "metadata": {},
   "source": [
    "Let's attempt to add this additional constraint:"
   ]
  },
  {
   "cell_type": "code",
   "execution_count": null,
   "metadata": {},
   "outputs": [],
   "source": [
    "targets = {'rheobase': 0.1, 'spontaneous_spike_count': 0., 'f_I_slope': 50.}  # f_I_slope units are Hz/nA\n",
    "tolerances = {'rheobase': 0.001, 'spontaneous_spike_count': 0.01, 'f_I_slope': 1.}\n",
    "bounds = [(gnabar_init / 100., gnabar_init * 20.), (gkbar_init / 100., gkbar_init * 20.)]"
   ]
  },
  {
   "cell_type": "code",
   "execution_count": null,
   "metadata": {},
   "outputs": [],
   "source": [
    "def get_rheobase_objective_error_2(x, targets, tolerances, bounds=None, sim_history=None, plot=False):\n",
    "    \n",
    "    # expect x to be an array of length 2, containing both a value of gna and a value of gk to test.\n",
    "    # expect targets and tolerances to be dictionaries containing values for 'rheobase', 'spontaneous_spike_count', and 'f_I_slope'\n",
    "    \n",
    "    gnabar = x[0]\n",
    "    gkbar = x[1]\n",
    "    \n",
    "    if bounds is not None:\n",
    "        for i, (xmin, xmax) in enumerate(bounds):\n",
    "            if not (xmin <= x[i] <= xmax):\n",
    "                return 1e9\n",
    "    \n",
    "    soma(0.5).hh.gnabar = gnabar\n",
    "    soma(0.5).hh.gkbar = gkbar\n",
    "    \n",
    "    # iterate over values of current injection until at least 1 spike occurs:\n",
    "    for stim_amp in np.arange(0.025, 0.225, 0.025):\n",
    "        step_current_stim.amp = stim_amp\n",
    "        sim_record = simulate_model_test_rheobase(plot=plot)\n",
    "        spike_times = sim_record['spike_times']\n",
    "        if len(spike_times) > 0:\n",
    "            break\n",
    "    sim_record['rheobase'] = stim_amp\n",
    "    sim_record['x'] = np.copy(x)\n",
    "    \n",
    "    # first construct a squared error term based on distance of stim_amp from the rheobase target:\n",
    "    error = ((targets['rheobase'] - sim_record['rheobase']) / tolerances['rheobase']) ** 2.\n",
    "    \n",
    "    # now add an additional error based on spontaneous firing outside the duration of the step current injection:\n",
    "    start = step_current_stim.delay\n",
    "    stop = step_current_stim.delay + step_current_stim.dur\n",
    "    if len(spike_times) < 1:\n",
    "        sim_record['spontaneous_spike_count'] = 0.\n",
    "    else:\n",
    "        # '&' is like 'and' for elemarrays, and '|' is like 'or' for arrays\n",
    "        spont_spike_times = np.where((spike_times < start) | (spike_times > stop))[0]\n",
    "        sim_record['spontaneous_spike_count'] = len(spont_spike_times)\n",
    "    \n",
    "    error += ((targets['spontaneous_spike_count'] - sim_record['spontaneous_spike_count']) / tolerances['spontaneous_spike_count']) ** 2.\n",
    "    \n",
    "    # now add an additional error that based on the slope of the f-I curve:\n",
    "    sim_record['firing_rate_at_rheobase'] = get_firing_rate(spike_times, start, stop)\n",
    "    delta_stim_amp = 0.3\n",
    "    step_current_stim.amp = stim_amp + delta_stim_amp\n",
    "    sim_record_2 = simulate_model_test_rheobase(plot=plot)\n",
    "    spike_times_2 = sim_record_2['spike_times']\n",
    "    firing_rate_2 = get_firing_rate(spike_times_2, start, stop)\n",
    "    delta_firing_rate = firing_rate_2 - sim_record['firing_rate_at_rheobase']\n",
    "    sim_record['f_I_slope'] = delta_firing_rate / delta_stim_amp\n",
    "    \n",
    "    error += ((targets['f_I_slope'] - sim_record['f_I_slope']) / tolerances['f_I_slope']) ** 2.\n",
    "    \n",
    "    sim_record['rheobase_error'] = error\n",
    "    \n",
    "    if sim_history is not None:\n",
    "        sim_history.append(sim_record)\n",
    "    \n",
    "    return error"
   ]
  },
  {
   "cell_type": "markdown",
   "metadata": {},
   "source": [
    "Let's make sure our new objective function works:"
   ]
  },
  {
   "cell_type": "code",
   "execution_count": null,
   "metadata": {
    "scrolled": false
   },
   "outputs": [],
   "source": [
    "x0 = [gnabar_new, gkbar_new]\n",
    "get_rheobase_objective_error_2(x0, targets, tolerances, bounds, plot=True)"
   ]
  },
  {
   "cell_type": "markdown",
   "metadata": {},
   "source": [
    "Now let's try the simulated annealing algorithm on this new objective function:"
   ]
  },
  {
   "cell_type": "code",
   "execution_count": null,
   "metadata": {},
   "outputs": [],
   "source": [
    "sim_history = []\n",
    "x0 = [gnabar_init, gkbar_init]\n",
    "result = dual_annealing(get_rheobase_objective_error_2, x0=x0, local_search_options={'method': 'Nelder-Mead'}, \n",
    "                        seed=1, bounds=bounds, maxiter=200, args=(targets, tolerances, bounds, sim_history))"
   ]
  },
  {
   "cell_type": "code",
   "execution_count": null,
   "metadata": {},
   "outputs": [],
   "source": [
    "print(result)"
   ]
  },
  {
   "cell_type": "code",
   "execution_count": null,
   "metadata": {
    "scrolled": false
   },
   "outputs": [],
   "source": [
    "get_rheobase_objective_error_2(result.x, targets, tolerances, bounds, plot=True)"
   ]
  },
  {
   "cell_type": "code",
   "execution_count": null,
   "metadata": {},
   "outputs": [],
   "source": [
    "gnabar_new = result.x[0]\n",
    "gkbar_new = result.x[1]\n",
    "\n",
    "soma(0.5).hh.gnabar = gnabar_new\n",
    "soma(0.5).hh.gkbar = gkbar_new"
   ]
  },
  {
   "cell_type": "code",
   "execution_count": null,
   "metadata": {},
   "outputs": [],
   "source": [
    "rheobase_history = []\n",
    "spont_spike_count_history = []\n",
    "gna_history = []\n",
    "gk_history = []\n",
    "error_history = []\n",
    "f_I_slope_history = []\n",
    "\n",
    "for sim_record in sim_history:\n",
    "    rheobase_history.append(sim_record['rheobase'])\n",
    "    spont_spike_count_history.append(sim_record['spontaneous_spike_count'])\n",
    "    gna_history.append(sim_record['x'][0])\n",
    "    gk_history.append(sim_record['x'][1])\n",
    "    f_I_slope_history.append(sim_record['f_I_slope'])\n",
    "    error_history.append(sim_record['rheobase_error'])\n",
    "\n",
    "fig, axes = plt.subplots(4, 2, figsize=(8, 10))\n",
    "axes[0][0].scatter(gna_history, rheobase_history)\n",
    "axes[0][0].set_xlabel('Na channel conductance (S/cm^2)')\n",
    "axes[0][0].set_ylabel('Rheobase (nA)')\n",
    "\n",
    "axes[0][1].scatter(gk_history, rheobase_history)\n",
    "axes[0][1].set_xlabel('K channel conductance (S/cm^2)')\n",
    "axes[0][1].set_ylabel('Rheobase (nA)')\n",
    "\n",
    "axes[1][0].scatter(gna_history, spont_spike_count_history)\n",
    "axes[1][0].set_xlabel('Na channel conductance (S/cm^2)')\n",
    "axes[1][0].set_ylabel('Spontaneous spike count')\n",
    "\n",
    "axes[1][1].scatter(gk_history, spont_spike_count_history)\n",
    "axes[1][1].set_xlabel('K channel conductance (S/cm^2)')\n",
    "axes[1][1].set_ylabel('Spontaneous spike count')\n",
    "\n",
    "axes[2][0].scatter(gna_history, f_I_slope_history)\n",
    "axes[2][0].set_xlabel('Na channel conductance (S/cm^2)')\n",
    "axes[2][0].set_ylabel('f-I slope (Hz/nA)')\n",
    "\n",
    "axes[2][1].scatter(gk_history, f_I_slope_history)\n",
    "axes[2][1].set_xlabel('K channel conductance (S/cm^2)')\n",
    "axes[2][1].set_ylabel('f-I slope (Hz/nA)')\n",
    "\n",
    "axes[3][0].scatter(gna_history, error_history)\n",
    "axes[3][0].set_xlabel('Na channel conductance (S/cm^2)')\n",
    "axes[3][0].set_ylabel('Rheobase objective error')\n",
    "\n",
    "axes[3][1].scatter(gk_history, error_history)\n",
    "axes[3][1].set_xlabel('K channel conductance (S/cm^2)')\n",
    "axes[3][1].set_ylabel('Rheobase objective error')\n",
    "\n",
    "fig.tight_layout()"
   ]
  },
  {
   "cell_type": "markdown",
   "metadata": {},
   "source": [
    "## 2. Discuss papers from last week focusing on filtering of synaptic signals from dendrites to soma"
   ]
  },
  {
   "cell_type": "markdown",
   "metadata": {},
   "source": [
    "- Magee, J., Cook, E. (2000). Somatic EPSP amplitude is independent of synapse location in hippocampal pyramidal neurons Nature Neuroscience  3(9), 895-903. https://dx.doi.org/10.1038/78800\n",
    "- Magee, J. Dendritic Ih normalizes temporal summation in hippocampal CA1 neurons. Nat Neurosci 2, 508–514 (1999). https://doi.org/10.1038/9158"
   ]
  },
  {
   "cell_type": "markdown",
   "metadata": {},
   "source": [
    "## 3. Explore attenuation of signals from dendrite to soma"
   ]
  },
  {
   "cell_type": "markdown",
   "metadata": {},
   "source": [
    "### We are ready to create a dendritic section and connect it to the soma compartment!"
   ]
  },
  {
   "cell_type": "code",
   "execution_count": null,
   "metadata": {},
   "outputs": [],
   "source": [
    "dend = h.Section()\n",
    "dend.L = 300.\n",
    "dend.diam = 1.5\n",
    "dend.nseg = 9  # Split it into 9 parts to increase the spatial resolution of the simulation\n",
    "dend.Ra = 100.\n",
    "\n",
    "# parent section, parent location, child location\n",
    "dend.connect(soma, 1., 0.)\n",
    "\n",
    "dend.insert('hh')\n",
    "\n",
    "# Let's just simulate passive dendrites without Na or K channels for today.\n",
    "# Here is syntax for setting a membrane density parameter for all segments of a section at once:\n",
    "dend.gnabar_hh = 0.\n",
    "dend.gkbar_hh = 0.\n",
    "dend.gl_hh = gl_new"
   ]
  },
  {
   "cell_type": "markdown",
   "metadata": {},
   "source": [
    "Let's set up multiple voltage recordings from the dendritic section:"
   ]
  },
  {
   "cell_type": "code",
   "execution_count": null,
   "metadata": {},
   "outputs": [],
   "source": [
    "dend_voltage_rec_list = []\n",
    "for seg in dend:\n",
    "    dend_rec = h.Vector()\n",
    "    dend_rec.record(seg._ref_v)  # record the voltage across the membrane in a segment\n",
    "    dend_voltage_rec_list.append(dend_rec)"
   ]
  },
  {
   "cell_type": "markdown",
   "metadata": {},
   "source": [
    "Let's make sure our recordings work with a step current injection into the soma:"
   ]
  },
  {
   "cell_type": "code",
   "execution_count": null,
   "metadata": {},
   "outputs": [],
   "source": [
    "step_current_stim.amp = -0.1\n",
    "h.run()\n",
    "\n",
    "plt.figure()\n",
    "plt.plot(t, soma_voltage, label='Soma')\n",
    "for dend_rec, seg in zip(dend_voltage_rec_list, dend):\n",
    "    distance = dend.L * seg.x\n",
    "    plt.plot(t, dend_rec, label='Dend: %.1f um' % distance)\n",
    "plt.xlabel('Time (ms)')\n",
    "plt.ylabel('Voltage (mV)')\n",
    "plt.legend(loc='best', frameon=False)"
   ]
  },
  {
   "cell_type": "markdown",
   "metadata": {},
   "source": [
    "BTW, what has adding a dendrite done to somatic input resistance?"
   ]
  },
  {
   "cell_type": "code",
   "execution_count": null,
   "metadata": {},
   "outputs": [],
   "source": [
    "# Let's forget about spiking conductances for now:\n",
    "soma(0.5).hh.gnabar = 0.\n",
    "soma(0.5).hh.gkbar = 0.\n",
    "step_current_stim.amp = -0.1\n",
    "sim_record = simulate_model_test_input_resistance(plot=True)"
   ]
  },
  {
   "cell_type": "markdown",
   "metadata": {},
   "source": [
    "Let's try compensating by modifying somatic and dendritic leak conductance. Input resistance is typically higher in dendrites due to the lower diameter and reduced surface area."
   ]
  },
  {
   "cell_type": "code",
   "execution_count": null,
   "metadata": {},
   "outputs": [],
   "source": [
    "soma(0.5).hh.gl = gl_new * 1.06\n",
    "dend.gl_hh = soma(0.5).hh.gl\n",
    "sim_record = simulate_model_test_input_resistance(plot=True)\n",
    "print('Somatic gl: %.3E; dendritic gl: %.3E' % (soma(0.5).hh.gl, dend.gl_hh))"
   ]
  },
  {
   "cell_type": "markdown",
   "metadata": {},
   "source": [
    "What about excitability?"
   ]
  },
  {
   "cell_type": "code",
   "execution_count": null,
   "metadata": {
    "scrolled": false
   },
   "outputs": [],
   "source": [
    "get_rheobase_objective_error_2([gnabar_new, gkbar_new], targets, tolerances, plot=True)"
   ]
  },
  {
   "cell_type": "markdown",
   "metadata": {},
   "source": [
    "### Clearly, extra membrane and extra conductances in a dendritic compartment change the excitability of the soma. \n",
    "\n",
    "Properties like input resistance and f-I slope would have to be tuned with the full morphology pre-constructed.\n",
    "\n",
    "Let's turn off the Na and K channels for now to look at the passive filtering properties of the dendritic cable."
   ]
  },
  {
   "cell_type": "code",
   "execution_count": null,
   "metadata": {},
   "outputs": [],
   "source": [
    "soma(0.5).hh.gnabar = 0.\n",
    "soma(0.5).hh.gkbar = 0."
   ]
  },
  {
   "cell_type": "markdown",
   "metadata": {},
   "source": [
    "### Let's turn off our somatic current injection and add one to the end of the dendrite:"
   ]
  },
  {
   "cell_type": "code",
   "execution_count": null,
   "metadata": {},
   "outputs": [],
   "source": [
    "step_current_stim.amp = 0.\n",
    "\n",
    "dend_current_stim = h.IClamp(dend(1.))"
   ]
  },
  {
   "cell_type": "markdown",
   "metadata": {},
   "source": [
    "### But instead of injecting a square step current, let's construct a waveform to inject:"
   ]
  },
  {
   "cell_type": "code",
   "execution_count": null,
   "metadata": {},
   "outputs": [],
   "source": [
    "t_array = np.array(t)\n",
    "rise_and_decay = np.exp(-(t_array - 200.) / 10.) - np.exp(-(t_array - 200.) / 0.5)\n",
    "rise_and_decay[np.where(t_array < 200.)[0]] = 0.\n",
    "rise_and_decay /= np.max(rise_and_decay)\n",
    "plt.figure()\n",
    "plt.plot(t_array, rise_and_decay)"
   ]
  },
  {
   "cell_type": "code",
   "execution_count": null,
   "metadata": {},
   "outputs": [],
   "source": [
    "step_current_stim.amp = 0.\n",
    "dend_current_stim.dur = 1e9  # the waveform will determine the duration\n",
    "dend_current_stim.delay = 0.  # the baseline is now built in to the waveform\n",
    "\n",
    "dend_stim_waveform_amp = 0.02 # nA\n",
    "dend_stim_amp_vector = h.Vector(dend_stim_waveform_amp * rise_and_decay)\n",
    "dend_stim_t_vector = h.Vector(t_array)\n",
    "dend_stim_amp_vector.play(dend_current_stim._ref_amp, dend_stim_t_vector)"
   ]
  },
  {
   "cell_type": "markdown",
   "metadata": {},
   "source": [
    "### Let's look at the amplitude and kinetics of the response, to compare to the Magee papers."
   ]
  },
  {
   "cell_type": "code",
   "execution_count": null,
   "metadata": {},
   "outputs": [],
   "source": [
    "h.run()\n",
    "\n",
    "fig, axes = plt.subplots(1, 2, sharex=True)\n",
    "t_array = np.array(t)\n",
    "soma_voltage_array = np.array(soma_voltage)\n",
    "baseline_indexes = np.where((t_array >= 190.) & (t_array < 200.))[0]\n",
    "EPSP_indexes = np.where((t_array >= 200.) & (t_array < 250.))[0]\n",
    "baseline = np.mean(soma_voltage_array[baseline_indexes])\n",
    "soma_voltage_array -= baseline\n",
    "axes[0].plot(t, soma_voltage_array, label='Soma')\n",
    "axes[1].plot(t, soma_voltage_array / np.max(soma_voltage_array[EPSP_indexes]))\n",
    "\n",
    "for dend_voltage, seg in zip(dend_voltage_rec_list, dend):\n",
    "    distance = dend.L * seg.x\n",
    "    dend_voltage_array = np.array(dend_voltage)\n",
    "    baseline = np.mean(dend_voltage_array[baseline_indexes])\n",
    "    dend_voltage_array -= baseline\n",
    "    axes[0].plot(t, dend_voltage_array, label='Dend (%.2f um)' % distance)\n",
    "    axes[1].plot(t, dend_voltage_array / np.max(dend_voltage_array[EPSP_indexes]))\n",
    "\n",
    "axes[0].legend(loc='best', frameon=False, framealpha=0.5)\n",
    "axes[0].set_ylabel('Amplitude (mV)')\n",
    "axes[0].set_xlabel('Time (ms)')\n",
    "axes[1].set_ylabel('Normalized amplitude (mV)')\n",
    "axes[0].set_xlim((190., 250.))\n",
    "axes[0].set_ylim((-0.5, axes[0].get_ylim()[1]))\n",
    "axes[1].set_ylim((-0.5, axes[1].get_ylim()[1]))\n",
    "\n",
    "fig.tight_layout()"
   ]
  },
  {
   "cell_type": "markdown",
   "metadata": {},
   "source": [
    "## 4. Challenge - Reproduce Figures 2b, 3a, and 3c from Magee & Cook"
   ]
  },
  {
   "cell_type": "markdown",
   "metadata": {},
   "source": [
    " - Iterate over dendritic segments.\n",
    " - Move the dendritic stimulus to the new site.\n",
    " - Record local dendritic and remote somatic voltage.\n",
    " - Save the data into a sim_history data structure.\n",
    " - Plot EPSP amplitude vs. distance of stimulation site from soma for both recordings from soma and dendrite.\n",
    " - Plot EPSP rise time vs. distance of stimulation site from soma for both recordings from soma and dendrite."
   ]
  },
  {
   "cell_type": "code",
   "execution_count": null,
   "metadata": {},
   "outputs": [],
   "source": []
  }
 ],
 "metadata": {
  "kernelspec": {
   "display_name": "Python 3",
   "language": "python",
   "name": "python3"
  },
  "language_info": {
   "codemirror_mode": {
    "name": "ipython",
    "version": 3
   },
   "file_extension": ".py",
   "mimetype": "text/x-python",
   "name": "python",
   "nbconvert_exporter": "python",
   "pygments_lexer": "ipython3",
   "version": "3.7.6"
  }
 },
 "nbformat": 4,
 "nbformat_minor": 4
}
